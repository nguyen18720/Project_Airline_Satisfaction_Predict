{
 "cells": [
  {
   "cell_type": "markdown",
   "id": "c1b6bb0a",
   "metadata": {
    "id": "a1796f4c"
   },
   "source": [
    "# Import Library"
   ]
  },
  {
   "cell_type": "code",
   "execution_count": 1,
   "id": "b9d80a8b",
   "metadata": {
    "id": "7e448f23"
   },
   "outputs": [],
   "source": [
    "import numpy as np\n",
    "import pandas as pd\n",
    "import matplotlib.pyplot as plt\n",
    "import seaborn as sns\n",
    "from IPython.display import Markdown, display"
   ]
  },
  {
   "cell_type": "code",
   "execution_count": 2,
   "id": "12205fa4",
   "metadata": {
    "id": "59358370"
   },
   "outputs": [],
   "source": [
    "from sklearn.model_selection import StratifiedShuffleSplit\n",
    "from sklearn.pipeline import Pipeline\n",
    "from sklearn.preprocessing import MinMaxScaler\n",
    "from sklearn.impute import SimpleImputer"
   ]
  },
  {
   "cell_type": "code",
   "execution_count": 3,
   "id": "4734b86c",
   "metadata": {
    "id": "6eb95b1b"
   },
   "outputs": [],
   "source": [
    "from sklearn.compose import ColumnTransformer\n",
    "from sklearn.preprocessing import OneHotEncoder\n",
    "from sklearn.preprocessing import LabelEncoder\n",
    "from sklearn.preprocessing import OrdinalEncoder"
   ]
  },
  {
   "cell_type": "code",
   "execution_count": 4,
   "id": "27f00f56",
   "metadata": {},
   "outputs": [],
   "source": [
    "from sklearn.linear_model import LogisticRegression\n",
    "from sklearn.ensemble import RandomForestClassifier\n",
    "from sklearn import tree\n",
    "from sklearn.model_selection import GridSearchCV"
   ]
  },
  {
   "cell_type": "code",
   "execution_count": 149,
   "id": "09934f33",
   "metadata": {},
   "outputs": [],
   "source": [
    "from sklearn.metrics import classification_report\n",
    "from sklearn.metrics import confusion_matrix\n",
    "from sklearn.metrics import roc_curve\n",
    "from sklearn.metrics import accuracy_score\n",
    "from sklearn.metrics import roc_auc_score\n",
    "from sklearn.metrics import RocCurveDisplay\n",
    "from sklearn import metrics"
   ]
  },
  {
   "cell_type": "markdown",
   "id": "794a9f96",
   "metadata": {
    "id": "918c1077"
   },
   "source": [
    "# I. Data Prepare"
   ]
  },
  {
   "cell_type": "markdown",
   "id": "0ee91679",
   "metadata": {
    "id": "eeeaa494"
   },
   "source": [
    "## 1. Import dataset and see dataset quickly"
   ]
  },
  {
   "cell_type": "code",
   "execution_count": 6,
   "id": "62ebf425",
   "metadata": {
    "id": "195ec833"
   },
   "outputs": [],
   "source": [
    "df = pd.read_csv(\"Invistico_Airline.csv\")"
   ]
  },
  {
   "cell_type": "code",
   "execution_count": 7,
   "id": "b78c9c5f",
   "metadata": {
    "colab": {
     "base_uri": "https://localhost:8080/"
    },
    "id": "85b9a68d",
    "outputId": "d66e4bc6-6307-4c48-80f6-5315d0cbe124",
    "scrolled": true
   },
   "outputs": [
    {
     "name": "stdout",
     "output_type": "stream",
     "text": [
      "<class 'pandas.core.frame.DataFrame'>\n",
      "RangeIndex: 129880 entries, 0 to 129879\n",
      "Data columns (total 23 columns):\n",
      " #   Column                             Non-Null Count   Dtype  \n",
      "---  ------                             --------------   -----  \n",
      " 0   satisfaction                       129880 non-null  object \n",
      " 1   Gender                             129880 non-null  object \n",
      " 2   Customer Type                      129880 non-null  object \n",
      " 3   Age                                129880 non-null  int64  \n",
      " 4   Type of Travel                     129880 non-null  object \n",
      " 5   Class                              129880 non-null  object \n",
      " 6   Flight Distance                    129880 non-null  int64  \n",
      " 7   Seat comfort                       129880 non-null  int64  \n",
      " 8   Departure/Arrival time convenient  129880 non-null  int64  \n",
      " 9   Food and drink                     129880 non-null  int64  \n",
      " 10  Gate location                      129880 non-null  int64  \n",
      " 11  Inflight wifi service              129880 non-null  int64  \n",
      " 12  Inflight entertainment             129880 non-null  int64  \n",
      " 13  Online support                     129880 non-null  int64  \n",
      " 14  Ease of Online booking             129880 non-null  int64  \n",
      " 15  On-board service                   129880 non-null  int64  \n",
      " 16  Leg room service                   129880 non-null  int64  \n",
      " 17  Baggage handling                   129880 non-null  int64  \n",
      " 18  Checkin service                    129880 non-null  int64  \n",
      " 19  Cleanliness                        129880 non-null  int64  \n",
      " 20  Online boarding                    129880 non-null  int64  \n",
      " 21  Departure Delay in Minutes         129880 non-null  int64  \n",
      " 22  Arrival Delay in Minutes           129487 non-null  float64\n",
      "dtypes: float64(1), int64(17), object(5)\n",
      "memory usage: 22.8+ MB\n"
     ]
    }
   ],
   "source": [
    "df.info()"
   ]
  },
  {
   "cell_type": "code",
   "execution_count": 8,
   "id": "642cc314",
   "metadata": {
    "colab": {
     "base_uri": "https://localhost:8080/",
     "height": 438
    },
    "id": "74d230ec",
    "outputId": "2fa0e7d5-4abe-4645-db19-8d9de85527fc",
    "scrolled": false
   },
   "outputs": [
    {
     "data": {
      "text/html": [
       "<div>\n",
       "<style scoped>\n",
       "    .dataframe tbody tr th:only-of-type {\n",
       "        vertical-align: middle;\n",
       "    }\n",
       "\n",
       "    .dataframe tbody tr th {\n",
       "        vertical-align: top;\n",
       "    }\n",
       "\n",
       "    .dataframe thead th {\n",
       "        text-align: right;\n",
       "    }\n",
       "</style>\n",
       "<table border=\"1\" class=\"dataframe\">\n",
       "  <thead>\n",
       "    <tr style=\"text-align: right;\">\n",
       "      <th></th>\n",
       "      <th>satisfaction</th>\n",
       "      <th>Gender</th>\n",
       "      <th>Customer Type</th>\n",
       "      <th>Age</th>\n",
       "      <th>Type of Travel</th>\n",
       "      <th>Class</th>\n",
       "      <th>Flight Distance</th>\n",
       "      <th>Seat comfort</th>\n",
       "      <th>Departure/Arrival time convenient</th>\n",
       "      <th>Food and drink</th>\n",
       "      <th>...</th>\n",
       "      <th>Online support</th>\n",
       "      <th>Ease of Online booking</th>\n",
       "      <th>On-board service</th>\n",
       "      <th>Leg room service</th>\n",
       "      <th>Baggage handling</th>\n",
       "      <th>Checkin service</th>\n",
       "      <th>Cleanliness</th>\n",
       "      <th>Online boarding</th>\n",
       "      <th>Departure Delay in Minutes</th>\n",
       "      <th>Arrival Delay in Minutes</th>\n",
       "    </tr>\n",
       "  </thead>\n",
       "  <tbody>\n",
       "    <tr>\n",
       "      <th>0</th>\n",
       "      <td>satisfied</td>\n",
       "      <td>Female</td>\n",
       "      <td>Loyal Customer</td>\n",
       "      <td>65</td>\n",
       "      <td>Personal Travel</td>\n",
       "      <td>Eco</td>\n",
       "      <td>265</td>\n",
       "      <td>0</td>\n",
       "      <td>0</td>\n",
       "      <td>0</td>\n",
       "      <td>...</td>\n",
       "      <td>2</td>\n",
       "      <td>3</td>\n",
       "      <td>3</td>\n",
       "      <td>0</td>\n",
       "      <td>3</td>\n",
       "      <td>5</td>\n",
       "      <td>3</td>\n",
       "      <td>2</td>\n",
       "      <td>0</td>\n",
       "      <td>0.0</td>\n",
       "    </tr>\n",
       "    <tr>\n",
       "      <th>1</th>\n",
       "      <td>satisfied</td>\n",
       "      <td>Male</td>\n",
       "      <td>Loyal Customer</td>\n",
       "      <td>47</td>\n",
       "      <td>Personal Travel</td>\n",
       "      <td>Business</td>\n",
       "      <td>2464</td>\n",
       "      <td>0</td>\n",
       "      <td>0</td>\n",
       "      <td>0</td>\n",
       "      <td>...</td>\n",
       "      <td>2</td>\n",
       "      <td>3</td>\n",
       "      <td>4</td>\n",
       "      <td>4</td>\n",
       "      <td>4</td>\n",
       "      <td>2</td>\n",
       "      <td>3</td>\n",
       "      <td>2</td>\n",
       "      <td>310</td>\n",
       "      <td>305.0</td>\n",
       "    </tr>\n",
       "    <tr>\n",
       "      <th>2</th>\n",
       "      <td>satisfied</td>\n",
       "      <td>Female</td>\n",
       "      <td>Loyal Customer</td>\n",
       "      <td>15</td>\n",
       "      <td>Personal Travel</td>\n",
       "      <td>Eco</td>\n",
       "      <td>2138</td>\n",
       "      <td>0</td>\n",
       "      <td>0</td>\n",
       "      <td>0</td>\n",
       "      <td>...</td>\n",
       "      <td>2</td>\n",
       "      <td>2</td>\n",
       "      <td>3</td>\n",
       "      <td>3</td>\n",
       "      <td>4</td>\n",
       "      <td>4</td>\n",
       "      <td>4</td>\n",
       "      <td>2</td>\n",
       "      <td>0</td>\n",
       "      <td>0.0</td>\n",
       "    </tr>\n",
       "    <tr>\n",
       "      <th>3</th>\n",
       "      <td>satisfied</td>\n",
       "      <td>Female</td>\n",
       "      <td>Loyal Customer</td>\n",
       "      <td>60</td>\n",
       "      <td>Personal Travel</td>\n",
       "      <td>Eco</td>\n",
       "      <td>623</td>\n",
       "      <td>0</td>\n",
       "      <td>0</td>\n",
       "      <td>0</td>\n",
       "      <td>...</td>\n",
       "      <td>3</td>\n",
       "      <td>1</td>\n",
       "      <td>1</td>\n",
       "      <td>0</td>\n",
       "      <td>1</td>\n",
       "      <td>4</td>\n",
       "      <td>1</td>\n",
       "      <td>3</td>\n",
       "      <td>0</td>\n",
       "      <td>0.0</td>\n",
       "    </tr>\n",
       "    <tr>\n",
       "      <th>4</th>\n",
       "      <td>satisfied</td>\n",
       "      <td>Female</td>\n",
       "      <td>Loyal Customer</td>\n",
       "      <td>70</td>\n",
       "      <td>Personal Travel</td>\n",
       "      <td>Eco</td>\n",
       "      <td>354</td>\n",
       "      <td>0</td>\n",
       "      <td>0</td>\n",
       "      <td>0</td>\n",
       "      <td>...</td>\n",
       "      <td>4</td>\n",
       "      <td>2</td>\n",
       "      <td>2</td>\n",
       "      <td>0</td>\n",
       "      <td>2</td>\n",
       "      <td>4</td>\n",
       "      <td>2</td>\n",
       "      <td>5</td>\n",
       "      <td>0</td>\n",
       "      <td>0.0</td>\n",
       "    </tr>\n",
       "  </tbody>\n",
       "</table>\n",
       "<p>5 rows × 23 columns</p>\n",
       "</div>"
      ],
      "text/plain": [
       "  satisfaction  Gender   Customer Type  Age   Type of Travel     Class  \\\n",
       "0    satisfied  Female  Loyal Customer   65  Personal Travel       Eco   \n",
       "1    satisfied    Male  Loyal Customer   47  Personal Travel  Business   \n",
       "2    satisfied  Female  Loyal Customer   15  Personal Travel       Eco   \n",
       "3    satisfied  Female  Loyal Customer   60  Personal Travel       Eco   \n",
       "4    satisfied  Female  Loyal Customer   70  Personal Travel       Eco   \n",
       "\n",
       "   Flight Distance  Seat comfort  Departure/Arrival time convenient  \\\n",
       "0              265             0                                  0   \n",
       "1             2464             0                                  0   \n",
       "2             2138             0                                  0   \n",
       "3              623             0                                  0   \n",
       "4              354             0                                  0   \n",
       "\n",
       "   Food and drink  ...  Online support  Ease of Online booking  \\\n",
       "0               0  ...               2                       3   \n",
       "1               0  ...               2                       3   \n",
       "2               0  ...               2                       2   \n",
       "3               0  ...               3                       1   \n",
       "4               0  ...               4                       2   \n",
       "\n",
       "   On-board service  Leg room service  Baggage handling  Checkin service  \\\n",
       "0                 3                 0                 3                5   \n",
       "1                 4                 4                 4                2   \n",
       "2                 3                 3                 4                4   \n",
       "3                 1                 0                 1                4   \n",
       "4                 2                 0                 2                4   \n",
       "\n",
       "   Cleanliness  Online boarding  Departure Delay in Minutes  \\\n",
       "0            3                2                           0   \n",
       "1            3                2                         310   \n",
       "2            4                2                           0   \n",
       "3            1                3                           0   \n",
       "4            2                5                           0   \n",
       "\n",
       "   Arrival Delay in Minutes  \n",
       "0                       0.0  \n",
       "1                     305.0  \n",
       "2                       0.0  \n",
       "3                       0.0  \n",
       "4                       0.0  \n",
       "\n",
       "[5 rows x 23 columns]"
      ]
     },
     "execution_count": 8,
     "metadata": {},
     "output_type": "execute_result"
    }
   ],
   "source": [
    "df.head()"
   ]
  },
  {
   "cell_type": "markdown",
   "id": "ba13a4d0",
   "metadata": {
    "id": "df6016b1"
   },
   "source": [
    "We can see this Data Set has customer's properties (Age, Gender,...), flight information (Class, Inflight wifi service, ...), user rating (Seat comfort, Food and drink, ...). "
   ]
  },
  {
   "cell_type": "markdown",
   "id": "7dd875bd",
   "metadata": {
    "id": "85019779"
   },
   "source": [
    "- Customer's properties: Object \n",
    "- Flight information: Interger and Object \n",
    "- User raring: Interger (1->5) \n",
    "-> Final evaluate: Binary (0, 1) "
   ]
  },
  {
   "cell_type": "code",
   "execution_count": 9,
   "id": "b80d6787",
   "metadata": {
    "colab": {
     "base_uri": "https://localhost:8080/"
    },
    "id": "ba7ddc71",
    "outputId": "6736a081-5108-4cbe-9cd2-8e500b2bc54e"
   },
   "outputs": [
    {
     "data": {
      "text/plain": [
       "Index(['satisfaction', 'Gender', 'Customer Type', 'Age', 'Type of Travel',\n",
       "       'Class', 'Flight Distance', 'Seat comfort',\n",
       "       'Departure/Arrival time convenient', 'Food and drink', 'Gate location',\n",
       "       'Inflight wifi service', 'Inflight entertainment', 'Online support',\n",
       "       'Ease of Online booking', 'On-board service', 'Leg room service',\n",
       "       'Baggage handling', 'Checkin service', 'Cleanliness', 'Online boarding',\n",
       "       'Departure Delay in Minutes', 'Arrival Delay in Minutes'],\n",
       "      dtype='object')"
      ]
     },
     "execution_count": 9,
     "metadata": {},
     "output_type": "execute_result"
    }
   ],
   "source": [
    "df.columns"
   ]
  },
  {
   "cell_type": "code",
   "execution_count": 10,
   "id": "d8284a3c",
   "metadata": {
    "colab": {
     "base_uri": "https://localhost:8080/",
     "height": 399
    },
    "id": "e18fe491",
    "outputId": "c28d0458-e976-4bcb-b423-4ee0af038612",
    "scrolled": false
   },
   "outputs": [
    {
     "data": {
      "text/html": [
       "<div>\n",
       "<style scoped>\n",
       "    .dataframe tbody tr th:only-of-type {\n",
       "        vertical-align: middle;\n",
       "    }\n",
       "\n",
       "    .dataframe tbody tr th {\n",
       "        vertical-align: top;\n",
       "    }\n",
       "\n",
       "    .dataframe thead th {\n",
       "        text-align: right;\n",
       "    }\n",
       "</style>\n",
       "<table border=\"1\" class=\"dataframe\">\n",
       "  <thead>\n",
       "    <tr style=\"text-align: right;\">\n",
       "      <th></th>\n",
       "      <th>Age</th>\n",
       "      <th>Flight Distance</th>\n",
       "      <th>Seat comfort</th>\n",
       "      <th>Departure/Arrival time convenient</th>\n",
       "      <th>Food and drink</th>\n",
       "      <th>Gate location</th>\n",
       "      <th>Inflight wifi service</th>\n",
       "      <th>Inflight entertainment</th>\n",
       "      <th>Online support</th>\n",
       "      <th>Ease of Online booking</th>\n",
       "      <th>On-board service</th>\n",
       "      <th>Leg room service</th>\n",
       "      <th>Baggage handling</th>\n",
       "      <th>Checkin service</th>\n",
       "      <th>Cleanliness</th>\n",
       "      <th>Online boarding</th>\n",
       "      <th>Departure Delay in Minutes</th>\n",
       "      <th>Arrival Delay in Minutes</th>\n",
       "    </tr>\n",
       "  </thead>\n",
       "  <tbody>\n",
       "    <tr>\n",
       "      <th>count</th>\n",
       "      <td>129880.000000</td>\n",
       "      <td>129880.000000</td>\n",
       "      <td>129880.000000</td>\n",
       "      <td>129880.000000</td>\n",
       "      <td>129880.000000</td>\n",
       "      <td>129880.000000</td>\n",
       "      <td>129880.000000</td>\n",
       "      <td>129880.000000</td>\n",
       "      <td>129880.000000</td>\n",
       "      <td>129880.000000</td>\n",
       "      <td>129880.000000</td>\n",
       "      <td>129880.000000</td>\n",
       "      <td>129880.000000</td>\n",
       "      <td>129880.000000</td>\n",
       "      <td>129880.000000</td>\n",
       "      <td>129880.000000</td>\n",
       "      <td>129880.000000</td>\n",
       "      <td>129487.000000</td>\n",
       "    </tr>\n",
       "    <tr>\n",
       "      <th>mean</th>\n",
       "      <td>39.427957</td>\n",
       "      <td>1981.409055</td>\n",
       "      <td>2.838597</td>\n",
       "      <td>2.990645</td>\n",
       "      <td>2.851994</td>\n",
       "      <td>2.990422</td>\n",
       "      <td>3.249130</td>\n",
       "      <td>3.383477</td>\n",
       "      <td>3.519703</td>\n",
       "      <td>3.472105</td>\n",
       "      <td>3.465075</td>\n",
       "      <td>3.485902</td>\n",
       "      <td>3.695673</td>\n",
       "      <td>3.340807</td>\n",
       "      <td>3.705759</td>\n",
       "      <td>3.352587</td>\n",
       "      <td>14.713713</td>\n",
       "      <td>15.091129</td>\n",
       "    </tr>\n",
       "    <tr>\n",
       "      <th>std</th>\n",
       "      <td>15.119360</td>\n",
       "      <td>1027.115606</td>\n",
       "      <td>1.392983</td>\n",
       "      <td>1.527224</td>\n",
       "      <td>1.443729</td>\n",
       "      <td>1.305970</td>\n",
       "      <td>1.318818</td>\n",
       "      <td>1.346059</td>\n",
       "      <td>1.306511</td>\n",
       "      <td>1.305560</td>\n",
       "      <td>1.270836</td>\n",
       "      <td>1.292226</td>\n",
       "      <td>1.156483</td>\n",
       "      <td>1.260582</td>\n",
       "      <td>1.151774</td>\n",
       "      <td>1.298715</td>\n",
       "      <td>38.071126</td>\n",
       "      <td>38.465650</td>\n",
       "    </tr>\n",
       "    <tr>\n",
       "      <th>min</th>\n",
       "      <td>7.000000</td>\n",
       "      <td>50.000000</td>\n",
       "      <td>0.000000</td>\n",
       "      <td>0.000000</td>\n",
       "      <td>0.000000</td>\n",
       "      <td>0.000000</td>\n",
       "      <td>0.000000</td>\n",
       "      <td>0.000000</td>\n",
       "      <td>0.000000</td>\n",
       "      <td>0.000000</td>\n",
       "      <td>0.000000</td>\n",
       "      <td>0.000000</td>\n",
       "      <td>1.000000</td>\n",
       "      <td>0.000000</td>\n",
       "      <td>0.000000</td>\n",
       "      <td>0.000000</td>\n",
       "      <td>0.000000</td>\n",
       "      <td>0.000000</td>\n",
       "    </tr>\n",
       "    <tr>\n",
       "      <th>25%</th>\n",
       "      <td>27.000000</td>\n",
       "      <td>1359.000000</td>\n",
       "      <td>2.000000</td>\n",
       "      <td>2.000000</td>\n",
       "      <td>2.000000</td>\n",
       "      <td>2.000000</td>\n",
       "      <td>2.000000</td>\n",
       "      <td>2.000000</td>\n",
       "      <td>3.000000</td>\n",
       "      <td>2.000000</td>\n",
       "      <td>3.000000</td>\n",
       "      <td>2.000000</td>\n",
       "      <td>3.000000</td>\n",
       "      <td>3.000000</td>\n",
       "      <td>3.000000</td>\n",
       "      <td>2.000000</td>\n",
       "      <td>0.000000</td>\n",
       "      <td>0.000000</td>\n",
       "    </tr>\n",
       "    <tr>\n",
       "      <th>50%</th>\n",
       "      <td>40.000000</td>\n",
       "      <td>1925.000000</td>\n",
       "      <td>3.000000</td>\n",
       "      <td>3.000000</td>\n",
       "      <td>3.000000</td>\n",
       "      <td>3.000000</td>\n",
       "      <td>3.000000</td>\n",
       "      <td>4.000000</td>\n",
       "      <td>4.000000</td>\n",
       "      <td>4.000000</td>\n",
       "      <td>4.000000</td>\n",
       "      <td>4.000000</td>\n",
       "      <td>4.000000</td>\n",
       "      <td>3.000000</td>\n",
       "      <td>4.000000</td>\n",
       "      <td>4.000000</td>\n",
       "      <td>0.000000</td>\n",
       "      <td>0.000000</td>\n",
       "    </tr>\n",
       "    <tr>\n",
       "      <th>75%</th>\n",
       "      <td>51.000000</td>\n",
       "      <td>2544.000000</td>\n",
       "      <td>4.000000</td>\n",
       "      <td>4.000000</td>\n",
       "      <td>4.000000</td>\n",
       "      <td>4.000000</td>\n",
       "      <td>4.000000</td>\n",
       "      <td>4.000000</td>\n",
       "      <td>5.000000</td>\n",
       "      <td>5.000000</td>\n",
       "      <td>4.000000</td>\n",
       "      <td>5.000000</td>\n",
       "      <td>5.000000</td>\n",
       "      <td>4.000000</td>\n",
       "      <td>5.000000</td>\n",
       "      <td>4.000000</td>\n",
       "      <td>12.000000</td>\n",
       "      <td>13.000000</td>\n",
       "    </tr>\n",
       "    <tr>\n",
       "      <th>max</th>\n",
       "      <td>85.000000</td>\n",
       "      <td>6951.000000</td>\n",
       "      <td>5.000000</td>\n",
       "      <td>5.000000</td>\n",
       "      <td>5.000000</td>\n",
       "      <td>5.000000</td>\n",
       "      <td>5.000000</td>\n",
       "      <td>5.000000</td>\n",
       "      <td>5.000000</td>\n",
       "      <td>5.000000</td>\n",
       "      <td>5.000000</td>\n",
       "      <td>5.000000</td>\n",
       "      <td>5.000000</td>\n",
       "      <td>5.000000</td>\n",
       "      <td>5.000000</td>\n",
       "      <td>5.000000</td>\n",
       "      <td>1592.000000</td>\n",
       "      <td>1584.000000</td>\n",
       "    </tr>\n",
       "  </tbody>\n",
       "</table>\n",
       "</div>"
      ],
      "text/plain": [
       "                 Age  Flight Distance   Seat comfort  \\\n",
       "count  129880.000000    129880.000000  129880.000000   \n",
       "mean       39.427957      1981.409055       2.838597   \n",
       "std        15.119360      1027.115606       1.392983   \n",
       "min         7.000000        50.000000       0.000000   \n",
       "25%        27.000000      1359.000000       2.000000   \n",
       "50%        40.000000      1925.000000       3.000000   \n",
       "75%        51.000000      2544.000000       4.000000   \n",
       "max        85.000000      6951.000000       5.000000   \n",
       "\n",
       "       Departure/Arrival time convenient  Food and drink  Gate location  \\\n",
       "count                      129880.000000   129880.000000  129880.000000   \n",
       "mean                            2.990645        2.851994       2.990422   \n",
       "std                             1.527224        1.443729       1.305970   \n",
       "min                             0.000000        0.000000       0.000000   \n",
       "25%                             2.000000        2.000000       2.000000   \n",
       "50%                             3.000000        3.000000       3.000000   \n",
       "75%                             4.000000        4.000000       4.000000   \n",
       "max                             5.000000        5.000000       5.000000   \n",
       "\n",
       "       Inflight wifi service  Inflight entertainment  Online support  \\\n",
       "count          129880.000000           129880.000000   129880.000000   \n",
       "mean                3.249130                3.383477        3.519703   \n",
       "std                 1.318818                1.346059        1.306511   \n",
       "min                 0.000000                0.000000        0.000000   \n",
       "25%                 2.000000                2.000000        3.000000   \n",
       "50%                 3.000000                4.000000        4.000000   \n",
       "75%                 4.000000                4.000000        5.000000   \n",
       "max                 5.000000                5.000000        5.000000   \n",
       "\n",
       "       Ease of Online booking  On-board service  Leg room service  \\\n",
       "count           129880.000000     129880.000000     129880.000000   \n",
       "mean                 3.472105          3.465075          3.485902   \n",
       "std                  1.305560          1.270836          1.292226   \n",
       "min                  0.000000          0.000000          0.000000   \n",
       "25%                  2.000000          3.000000          2.000000   \n",
       "50%                  4.000000          4.000000          4.000000   \n",
       "75%                  5.000000          4.000000          5.000000   \n",
       "max                  5.000000          5.000000          5.000000   \n",
       "\n",
       "       Baggage handling  Checkin service    Cleanliness  Online boarding  \\\n",
       "count     129880.000000    129880.000000  129880.000000    129880.000000   \n",
       "mean           3.695673         3.340807       3.705759         3.352587   \n",
       "std            1.156483         1.260582       1.151774         1.298715   \n",
       "min            1.000000         0.000000       0.000000         0.000000   \n",
       "25%            3.000000         3.000000       3.000000         2.000000   \n",
       "50%            4.000000         3.000000       4.000000         4.000000   \n",
       "75%            5.000000         4.000000       5.000000         4.000000   \n",
       "max            5.000000         5.000000       5.000000         5.000000   \n",
       "\n",
       "       Departure Delay in Minutes  Arrival Delay in Minutes  \n",
       "count               129880.000000             129487.000000  \n",
       "mean                    14.713713                 15.091129  \n",
       "std                     38.071126                 38.465650  \n",
       "min                      0.000000                  0.000000  \n",
       "25%                      0.000000                  0.000000  \n",
       "50%                      0.000000                  0.000000  \n",
       "75%                     12.000000                 13.000000  \n",
       "max                   1592.000000               1584.000000  "
      ]
     },
     "execution_count": 10,
     "metadata": {},
     "output_type": "execute_result"
    }
   ],
   "source": [
    "df.describe()"
   ]
  },
  {
   "cell_type": "markdown",
   "id": "39778be4",
   "metadata": {
    "id": "32e9f53b"
   },
   "source": [
    "Distribution of dataset's values"
   ]
  },
  {
   "cell_type": "code",
   "execution_count": 11,
   "id": "06871354",
   "metadata": {
    "id": "0b1f43ee"
   },
   "outputs": [],
   "source": [
    "#function to see values in each column\n",
    "def list_values_column(df,num_value):\n",
    "    display(Markdown('**RESULT:'))\n",
    "    print('DataFrame has {} column '.format(len(df.columns)))\n",
    "    for col in df.columns:\n",
    "        if df[col].nunique() <= num_value:\n",
    "            print('Column {} has :'.format(col)+ str(df[col].unique().tolist()),)\n",
    "    "
   ]
  },
  {
   "cell_type": "code",
   "execution_count": 12,
   "id": "3788b4a4",
   "metadata": {
    "colab": {
     "base_uri": "https://localhost:8080/"
    },
    "id": "99291f9b",
    "outputId": "9f7622a2-9400-4850-af70-6e9e79b6044c",
    "scrolled": true
   },
   "outputs": [
    {
     "data": {
      "text/plain": [
       "[['satisfaction', array(['satisfied', 'dissatisfied'], dtype=object)],\n",
       " ['Gender', array(['Female', 'Male'], dtype=object)],\n",
       " ['Customer Type',\n",
       "  array(['Loyal Customer', 'disloyal Customer'], dtype=object)],\n",
       " ['Type of Travel',\n",
       "  array(['Personal Travel', 'Business travel'], dtype=object)],\n",
       " ['Class', array(['Eco', 'Business', 'Eco Plus'], dtype=object)],\n",
       " ['Baggage handling', array([3, 4, 1, 2, 5], dtype=int64)]]"
      ]
     },
     "execution_count": 12,
     "metadata": {},
     "output_type": "execute_result"
    }
   ],
   "source": [
    "[[j, df[j].unique()] for j in [i for i in df.columns] if df[j].nunique() <= 5]"
   ]
  },
  {
   "cell_type": "code",
   "execution_count": 13,
   "id": "e303f1cd",
   "metadata": {
    "colab": {
     "base_uri": "https://localhost:8080/",
     "height": 394
    },
    "id": "b74ef8e0",
    "outputId": "60d15fa4-d9b7-44ee-82d9-aff8d86e3d95"
   },
   "outputs": [
    {
     "data": {
      "text/markdown": [
       "**RESULT:"
      ],
      "text/plain": [
       "<IPython.core.display.Markdown object>"
      ]
     },
     "metadata": {},
     "output_type": "display_data"
    },
    {
     "name": "stdout",
     "output_type": "stream",
     "text": [
      "DataFrame has 23 column \n",
      "Column satisfaction has :['satisfied', 'dissatisfied']\n",
      "Column Gender has :['Female', 'Male']\n",
      "Column Customer Type has :['Loyal Customer', 'disloyal Customer']\n",
      "Column Type of Travel has :['Personal Travel', 'Business travel']\n",
      "Column Class has :['Eco', 'Business', 'Eco Plus']\n",
      "Column Seat comfort has :[0, 1, 4, 5, 2, 3]\n",
      "Column Departure/Arrival time convenient has :[0, 1, 2, 3, 4, 5]\n",
      "Column Food and drink has :[0, 1, 2, 3, 4, 5]\n",
      "Column Gate location has :[2, 3, 4, 1, 5, 0]\n",
      "Column Inflight wifi service has :[2, 0, 3, 4, 5, 1]\n",
      "Column Inflight entertainment has :[4, 2, 0, 3, 5, 1]\n",
      "Column Online support has :[2, 3, 4, 5, 1, 0]\n",
      "Column Ease of Online booking has :[3, 2, 1, 5, 4, 0]\n",
      "Column On-board service has :[3, 4, 1, 2, 5, 0]\n",
      "Column Leg room service has :[0, 4, 3, 2, 5, 1]\n",
      "Column Baggage handling has :[3, 4, 1, 2, 5]\n",
      "Column Checkin service has :[5, 2, 4, 3, 1, 0]\n",
      "Column Cleanliness has :[3, 4, 1, 2, 5, 0]\n",
      "Column Online boarding has :[2, 3, 5, 4, 1, 0]\n"
     ]
    }
   ],
   "source": [
    "list_values_column(df,6)"
   ]
  },
  {
   "cell_type": "code",
   "execution_count": 14,
   "id": "4eefa54c",
   "metadata": {
    "id": "ebc477d1"
   },
   "outputs": [],
   "source": [
    "#function to see ratio of values in each columns\n",
    "def values_count_column(df,num_value):\n",
    "    display(Markdown('**RESULT:'))\n",
    "    for col in df.columns:\n",
    "        if df[col].nunique() <= num_value:\n",
    "            print( 'Column ',col,':')\n",
    "            print(df[col].value_counts()/len(df))"
   ]
  },
  {
   "cell_type": "code",
   "execution_count": 15,
   "id": "8f40b92a",
   "metadata": {
    "colab": {
     "base_uri": "https://localhost:8080/",
     "height": 411
    },
    "id": "1f2e7abf",
    "outputId": "4b1392e2-91fa-4e98-89f8-798c03ad3507"
   },
   "outputs": [
    {
     "data": {
      "text/markdown": [
       "**RESULT:"
      ],
      "text/plain": [
       "<IPython.core.display.Markdown object>"
      ]
     },
     "metadata": {},
     "output_type": "display_data"
    },
    {
     "name": "stdout",
     "output_type": "stream",
     "text": [
      "Column  satisfaction :\n",
      "satisfied       0.547328\n",
      "dissatisfied    0.452672\n",
      "Name: satisfaction, dtype: float64\n",
      "Column  Gender :\n",
      "Female    0.507384\n",
      "Male      0.492616\n",
      "Name: Gender, dtype: float64\n",
      "Column  Customer Type :\n",
      "Loyal Customer       0.816908\n",
      "disloyal Customer    0.183092\n",
      "Name: Customer Type, dtype: float64\n",
      "Column  Type of Travel :\n",
      "Business travel    0.690584\n",
      "Personal Travel    0.309416\n",
      "Name: Type of Travel, dtype: float64\n",
      "Column  Class :\n",
      "Business    0.478596\n",
      "Eco         0.448945\n",
      "Eco Plus    0.072459\n",
      "Name: Class, dtype: float64\n"
     ]
    }
   ],
   "source": [
    "values_count_column(df,3)"
   ]
  },
  {
   "cell_type": "code",
   "execution_count": 16,
   "id": "a4c7f180",
   "metadata": {
    "colab": {
     "base_uri": "https://localhost:8080/"
    },
    "id": "6347e435",
    "outputId": "31601f69-f423-4615-ceb8-ceec0fa67d50"
   },
   "outputs": [
    {
     "data": {
      "text/plain": [
       "[satisfied       0.547328\n",
       " dissatisfied    0.452672\n",
       " Name: satisfaction, dtype: float64,\n",
       " Female    0.507384\n",
       " Male      0.492616\n",
       " Name: Gender, dtype: float64,\n",
       " Loyal Customer       0.816908\n",
       " disloyal Customer    0.183092\n",
       " Name: Customer Type, dtype: float64,\n",
       " Business travel    0.690584\n",
       " Personal Travel    0.309416\n",
       " Name: Type of Travel, dtype: float64,\n",
       " Business    0.478596\n",
       " Eco         0.448945\n",
       " Eco Plus    0.072459\n",
       " Name: Class, dtype: float64,\n",
       " 4    0.371420\n",
       " 5    0.275239\n",
       " 3    0.188520\n",
       " 2    0.103419\n",
       " 1    0.061403\n",
       " Name: Baggage handling, dtype: float64]"
      ]
     },
     "execution_count": 16,
     "metadata": {},
     "output_type": "execute_result"
    }
   ],
   "source": [
    "[df[j].value_counts()/len(df[j]) for j in [i for i in df.columns] if df[j].nunique() <= 5]"
   ]
  },
  {
   "cell_type": "markdown",
   "id": "7d00c878",
   "metadata": {
    "id": "247bc8f2"
   },
   "source": [
    "### Rename columns"
   ]
  },
  {
   "cell_type": "code",
   "execution_count": 17,
   "id": "694d1e0a",
   "metadata": {
    "id": "b94fe9ff"
   },
   "outputs": [],
   "source": [
    "def rename_column(df,from_c,to_c = '_'):\n",
    "    display(Markdown('**RESULT:**'))\n",
    "    print('Columns changed from {} to _'.format(from_c))\n",
    "    print(df.columns[df.columns.str.contains(from_c)])\n",
    "    df.columns = [label.replace(from_c, to_c ) for label in df.columns]"
   ]
  },
  {
   "cell_type": "code",
   "execution_count": 18,
   "id": "e037d431",
   "metadata": {
    "colab": {
     "base_uri": "https://localhost:8080/",
     "height": 0
    },
    "id": "373e50c6",
    "outputId": "66a5b915-2a6d-4fa2-8d61-afcdca932e8b"
   },
   "outputs": [
    {
     "data": {
      "text/markdown": [
       "**RESULT:**"
      ],
      "text/plain": [
       "<IPython.core.display.Markdown object>"
      ]
     },
     "metadata": {},
     "output_type": "display_data"
    },
    {
     "name": "stdout",
     "output_type": "stream",
     "text": [
      "Columns changed from   to _\n",
      "Index(['Customer Type', 'Type of Travel', 'Flight Distance', 'Seat comfort',\n",
      "       'Departure/Arrival time convenient', 'Food and drink', 'Gate location',\n",
      "       'Inflight wifi service', 'Inflight entertainment', 'Online support',\n",
      "       'Ease of Online booking', 'On-board service', 'Leg room service',\n",
      "       'Baggage handling', 'Checkin service', 'Online boarding',\n",
      "       'Departure Delay in Minutes', 'Arrival Delay in Minutes'],\n",
      "      dtype='object')\n"
     ]
    },
    {
     "data": {
      "text/markdown": [
       "**RESULT:**"
      ],
      "text/plain": [
       "<IPython.core.display.Markdown object>"
      ]
     },
     "metadata": {},
     "output_type": "display_data"
    },
    {
     "name": "stdout",
     "output_type": "stream",
     "text": [
      "Columns changed from - to _\n",
      "Index(['On-board_service'], dtype='object')\n"
     ]
    }
   ],
   "source": [
    "rename_column(df,' ')\n",
    "rename_column(df,'-')\n",
    "#"
   ]
  },
  {
   "cell_type": "markdown",
   "id": "86338840",
   "metadata": {
    "id": "da13dc94"
   },
   "source": [
    "### Discover missing value"
   ]
  },
  {
   "cell_type": "code",
   "execution_count": 19,
   "id": "0c52e045",
   "metadata": {
    "colab": {
     "base_uri": "https://localhost:8080/"
    },
    "id": "5f206e01",
    "outputId": "16bac7d3-ea4f-45da-f3b5-95ff375c5fc1"
   },
   "outputs": [
    {
     "data": {
      "text/plain": [
       "satisfaction                           0\n",
       "Gender                                 0\n",
       "Customer_Type                          0\n",
       "Age                                    0\n",
       "Type_of_Travel                         0\n",
       "Class                                  0\n",
       "Flight_Distance                        0\n",
       "Seat_comfort                           0\n",
       "Departure/Arrival_time_convenient      0\n",
       "Food_and_drink                         0\n",
       "Gate_location                          0\n",
       "Inflight_wifi_service                  0\n",
       "Inflight_entertainment                 0\n",
       "Online_support                         0\n",
       "Ease_of_Online_booking                 0\n",
       "On_board_service                       0\n",
       "Leg_room_service                       0\n",
       "Baggage_handling                       0\n",
       "Checkin_service                        0\n",
       "Cleanliness                            0\n",
       "Online_boarding                        0\n",
       "Departure_Delay_in_Minutes             0\n",
       "Arrival_Delay_in_Minutes             393\n",
       "dtype: int64"
      ]
     },
     "execution_count": 19,
     "metadata": {},
     "output_type": "execute_result"
    }
   ],
   "source": [
    "total = df.isna().sum()\n",
    "total"
   ]
  },
  {
   "cell_type": "markdown",
   "id": "36dd7058",
   "metadata": {
    "id": "554590fd"
   },
   "source": [
    "##### Arrival Delay in Minutes has 393 missing values"
   ]
  },
  {
   "cell_type": "code",
   "execution_count": 20,
   "id": "a6bbc291",
   "metadata": {
    "id": "8656dfc3"
   },
   "outputs": [],
   "source": [
    "def Missing_table(df):    \n",
    "    sum_na = df.isna().sum()\n",
    "    miss_percent = sum_na/len(df)\n",
    "    Na_table = pd.concat([sum_na,miss_percent],axis = 1)\n",
    "    Na_table = Na_table.rename(columns = {0:'Sum_of_na',1:'Percent_na'})\n",
    "    Na_table = Na_table[Na_table.iloc[:,1]!=0]\n",
    "    Na_table\n",
    "    return Na_table"
   ]
  },
  {
   "cell_type": "code",
   "execution_count": 21,
   "id": "9e2cf800",
   "metadata": {
    "colab": {
     "base_uri": "https://localhost:8080/",
     "height": 0
    },
    "id": "7f041ab9",
    "outputId": "0d6efd28-784e-4c14-cfb7-02e499d2cbf9"
   },
   "outputs": [
    {
     "data": {
      "text/html": [
       "<div>\n",
       "<style scoped>\n",
       "    .dataframe tbody tr th:only-of-type {\n",
       "        vertical-align: middle;\n",
       "    }\n",
       "\n",
       "    .dataframe tbody tr th {\n",
       "        vertical-align: top;\n",
       "    }\n",
       "\n",
       "    .dataframe thead th {\n",
       "        text-align: right;\n",
       "    }\n",
       "</style>\n",
       "<table border=\"1\" class=\"dataframe\">\n",
       "  <thead>\n",
       "    <tr style=\"text-align: right;\">\n",
       "      <th></th>\n",
       "      <th>Sum_of_na</th>\n",
       "      <th>Percent_na</th>\n",
       "    </tr>\n",
       "  </thead>\n",
       "  <tbody>\n",
       "    <tr>\n",
       "      <th>Arrival_Delay_in_Minutes</th>\n",
       "      <td>393</td>\n",
       "      <td>0.003026</td>\n",
       "    </tr>\n",
       "  </tbody>\n",
       "</table>\n",
       "</div>"
      ],
      "text/plain": [
       "                          Sum_of_na  Percent_na\n",
       "Arrival_Delay_in_Minutes        393    0.003026"
      ]
     },
     "execution_count": 21,
     "metadata": {},
     "output_type": "execute_result"
    }
   ],
   "source": [
    "Missing_table(df)"
   ]
  },
  {
   "cell_type": "code",
   "execution_count": 22,
   "id": "e93144c4",
   "metadata": {
    "colab": {
     "base_uri": "https://localhost:8080/",
     "height": 0
    },
    "id": "76c8d68d",
    "outputId": "69eccb35-81c2-4110-ed0c-4f1b155f626b"
   },
   "outputs": [
    {
     "data": {
      "text/plain": [
       "<AxesSubplot:>"
      ]
     },
     "execution_count": 22,
     "metadata": {},
     "output_type": "execute_result"
    },
    {
     "data": {
      "image/png": "[encoded data removed]",
      "text/plain": [
       "<Figure size 432x288 with 2 Axes>"
      ]
     },
     "metadata": {
      "needs_background": "light"
     },
     "output_type": "display_data"
    }
   ],
   "source": [
    "# \n",
    "sns.heatmap(df.isna(),cmap=\"Blues\")"
   ]
  },
  {
   "cell_type": "markdown",
   "id": "5c75d44d",
   "metadata": {
    "id": "fed19fa4"
   },
   "source": [
    "### Encode dependent variable"
   ]
  },
  {
   "cell_type": "code",
   "execution_count": 23,
   "id": "567cf0d6",
   "metadata": {
    "id": "cddaa43d"
   },
   "outputs": [],
   "source": [
    "en = LabelEncoder()\n",
    "df['satisfaction'] = en.fit_transform(df['satisfaction'])"
   ]
  },
  {
   "cell_type": "code",
   "execution_count": 24,
   "id": "2b678fdc",
   "metadata": {
    "colab": {
     "base_uri": "https://localhost:8080/",
     "height": 0
    },
    "id": "b313b9e4",
    "outputId": "9f7da7f9-2922-4f9e-92c7-f430fd11804d"
   },
   "outputs": [
    {
     "data": {
      "text/html": [
       "<div>\n",
       "<style scoped>\n",
       "    .dataframe tbody tr th:only-of-type {\n",
       "        vertical-align: middle;\n",
       "    }\n",
       "\n",
       "    .dataframe tbody tr th {\n",
       "        vertical-align: top;\n",
       "    }\n",
       "\n",
       "    .dataframe thead th {\n",
       "        text-align: right;\n",
       "    }\n",
       "</style>\n",
       "<table border=\"1\" class=\"dataframe\">\n",
       "  <thead>\n",
       "    <tr style=\"text-align: right;\">\n",
       "      <th></th>\n",
       "      <th>satisfaction</th>\n",
       "      <th>Gender</th>\n",
       "      <th>Customer_Type</th>\n",
       "      <th>Age</th>\n",
       "      <th>Type_of_Travel</th>\n",
       "      <th>Class</th>\n",
       "      <th>Flight_Distance</th>\n",
       "      <th>Seat_comfort</th>\n",
       "      <th>Departure/Arrival_time_convenient</th>\n",
       "      <th>Food_and_drink</th>\n",
       "      <th>...</th>\n",
       "      <th>Online_support</th>\n",
       "      <th>Ease_of_Online_booking</th>\n",
       "      <th>On_board_service</th>\n",
       "      <th>Leg_room_service</th>\n",
       "      <th>Baggage_handling</th>\n",
       "      <th>Checkin_service</th>\n",
       "      <th>Cleanliness</th>\n",
       "      <th>Online_boarding</th>\n",
       "      <th>Departure_Delay_in_Minutes</th>\n",
       "      <th>Arrival_Delay_in_Minutes</th>\n",
       "    </tr>\n",
       "  </thead>\n",
       "  <tbody>\n",
       "    <tr>\n",
       "      <th>0</th>\n",
       "      <td>1</td>\n",
       "      <td>Female</td>\n",
       "      <td>Loyal Customer</td>\n",
       "      <td>65</td>\n",
       "      <td>Personal Travel</td>\n",
       "      <td>Eco</td>\n",
       "      <td>265</td>\n",
       "      <td>0</td>\n",
       "      <td>0</td>\n",
       "      <td>0</td>\n",
       "      <td>...</td>\n",
       "      <td>2</td>\n",
       "      <td>3</td>\n",
       "      <td>3</td>\n",
       "      <td>0</td>\n",
       "      <td>3</td>\n",
       "      <td>5</td>\n",
       "      <td>3</td>\n",
       "      <td>2</td>\n",
       "      <td>0</td>\n",
       "      <td>0.0</td>\n",
       "    </tr>\n",
       "    <tr>\n",
       "      <th>1</th>\n",
       "      <td>1</td>\n",
       "      <td>Male</td>\n",
       "      <td>Loyal Customer</td>\n",
       "      <td>47</td>\n",
       "      <td>Personal Travel</td>\n",
       "      <td>Business</td>\n",
       "      <td>2464</td>\n",
       "      <td>0</td>\n",
       "      <td>0</td>\n",
       "      <td>0</td>\n",
       "      <td>...</td>\n",
       "      <td>2</td>\n",
       "      <td>3</td>\n",
       "      <td>4</td>\n",
       "      <td>4</td>\n",
       "      <td>4</td>\n",
       "      <td>2</td>\n",
       "      <td>3</td>\n",
       "      <td>2</td>\n",
       "      <td>310</td>\n",
       "      <td>305.0</td>\n",
       "    </tr>\n",
       "    <tr>\n",
       "      <th>2</th>\n",
       "      <td>1</td>\n",
       "      <td>Female</td>\n",
       "      <td>Loyal Customer</td>\n",
       "      <td>15</td>\n",
       "      <td>Personal Travel</td>\n",
       "      <td>Eco</td>\n",
       "      <td>2138</td>\n",
       "      <td>0</td>\n",
       "      <td>0</td>\n",
       "      <td>0</td>\n",
       "      <td>...</td>\n",
       "      <td>2</td>\n",
       "      <td>2</td>\n",
       "      <td>3</td>\n",
       "      <td>3</td>\n",
       "      <td>4</td>\n",
       "      <td>4</td>\n",
       "      <td>4</td>\n",
       "      <td>2</td>\n",
       "      <td>0</td>\n",
       "      <td>0.0</td>\n",
       "    </tr>\n",
       "    <tr>\n",
       "      <th>3</th>\n",
       "      <td>1</td>\n",
       "      <td>Female</td>\n",
       "      <td>Loyal Customer</td>\n",
       "      <td>60</td>\n",
       "      <td>Personal Travel</td>\n",
       "      <td>Eco</td>\n",
       "      <td>623</td>\n",
       "      <td>0</td>\n",
       "      <td>0</td>\n",
       "      <td>0</td>\n",
       "      <td>...</td>\n",
       "      <td>3</td>\n",
       "      <td>1</td>\n",
       "      <td>1</td>\n",
       "      <td>0</td>\n",
       "      <td>1</td>\n",
       "      <td>4</td>\n",
       "      <td>1</td>\n",
       "      <td>3</td>\n",
       "      <td>0</td>\n",
       "      <td>0.0</td>\n",
       "    </tr>\n",
       "    <tr>\n",
       "      <th>4</th>\n",
       "      <td>1</td>\n",
       "      <td>Female</td>\n",
       "      <td>Loyal Customer</td>\n",
       "      <td>70</td>\n",
       "      <td>Personal Travel</td>\n",
       "      <td>Eco</td>\n",
       "      <td>354</td>\n",
       "      <td>0</td>\n",
       "      <td>0</td>\n",
       "      <td>0</td>\n",
       "      <td>...</td>\n",
       "      <td>4</td>\n",
       "      <td>2</td>\n",
       "      <td>2</td>\n",
       "      <td>0</td>\n",
       "      <td>2</td>\n",
       "      <td>4</td>\n",
       "      <td>2</td>\n",
       "      <td>5</td>\n",
       "      <td>0</td>\n",
       "      <td>0.0</td>\n",
       "    </tr>\n",
       "    <tr>\n",
       "      <th>...</th>\n",
       "      <td>...</td>\n",
       "      <td>...</td>\n",
       "      <td>...</td>\n",
       "      <td>...</td>\n",
       "      <td>...</td>\n",
       "      <td>...</td>\n",
       "      <td>...</td>\n",
       "      <td>...</td>\n",
       "      <td>...</td>\n",
       "      <td>...</td>\n",
       "      <td>...</td>\n",
       "      <td>...</td>\n",
       "      <td>...</td>\n",
       "      <td>...</td>\n",
       "      <td>...</td>\n",
       "      <td>...</td>\n",
       "      <td>...</td>\n",
       "      <td>...</td>\n",
       "      <td>...</td>\n",
       "      <td>...</td>\n",
       "      <td>...</td>\n",
       "    </tr>\n",
       "    <tr>\n",
       "      <th>129875</th>\n",
       "      <td>1</td>\n",
       "      <td>Female</td>\n",
       "      <td>disloyal Customer</td>\n",
       "      <td>29</td>\n",
       "      <td>Personal Travel</td>\n",
       "      <td>Eco</td>\n",
       "      <td>1731</td>\n",
       "      <td>5</td>\n",
       "      <td>5</td>\n",
       "      <td>5</td>\n",
       "      <td>...</td>\n",
       "      <td>2</td>\n",
       "      <td>2</td>\n",
       "      <td>3</td>\n",
       "      <td>3</td>\n",
       "      <td>4</td>\n",
       "      <td>4</td>\n",
       "      <td>4</td>\n",
       "      <td>2</td>\n",
       "      <td>0</td>\n",
       "      <td>0.0</td>\n",
       "    </tr>\n",
       "    <tr>\n",
       "      <th>129876</th>\n",
       "      <td>0</td>\n",
       "      <td>Male</td>\n",
       "      <td>disloyal Customer</td>\n",
       "      <td>63</td>\n",
       "      <td>Personal Travel</td>\n",
       "      <td>Business</td>\n",
       "      <td>2087</td>\n",
       "      <td>2</td>\n",
       "      <td>3</td>\n",
       "      <td>2</td>\n",
       "      <td>...</td>\n",
       "      <td>1</td>\n",
       "      <td>3</td>\n",
       "      <td>2</td>\n",
       "      <td>3</td>\n",
       "      <td>3</td>\n",
       "      <td>1</td>\n",
       "      <td>2</td>\n",
       "      <td>1</td>\n",
       "      <td>174</td>\n",
       "      <td>172.0</td>\n",
       "    </tr>\n",
       "    <tr>\n",
       "      <th>129877</th>\n",
       "      <td>0</td>\n",
       "      <td>Male</td>\n",
       "      <td>disloyal Customer</td>\n",
       "      <td>69</td>\n",
       "      <td>Personal Travel</td>\n",
       "      <td>Eco</td>\n",
       "      <td>2320</td>\n",
       "      <td>3</td>\n",
       "      <td>0</td>\n",
       "      <td>3</td>\n",
       "      <td>...</td>\n",
       "      <td>2</td>\n",
       "      <td>4</td>\n",
       "      <td>4</td>\n",
       "      <td>3</td>\n",
       "      <td>4</td>\n",
       "      <td>2</td>\n",
       "      <td>3</td>\n",
       "      <td>2</td>\n",
       "      <td>155</td>\n",
       "      <td>163.0</td>\n",
       "    </tr>\n",
       "    <tr>\n",
       "      <th>129878</th>\n",
       "      <td>0</td>\n",
       "      <td>Male</td>\n",
       "      <td>disloyal Customer</td>\n",
       "      <td>66</td>\n",
       "      <td>Personal Travel</td>\n",
       "      <td>Eco</td>\n",
       "      <td>2450</td>\n",
       "      <td>3</td>\n",
       "      <td>2</td>\n",
       "      <td>3</td>\n",
       "      <td>...</td>\n",
       "      <td>2</td>\n",
       "      <td>3</td>\n",
       "      <td>3</td>\n",
       "      <td>2</td>\n",
       "      <td>3</td>\n",
       "      <td>2</td>\n",
       "      <td>1</td>\n",
       "      <td>2</td>\n",
       "      <td>193</td>\n",
       "      <td>205.0</td>\n",
       "    </tr>\n",
       "    <tr>\n",
       "      <th>129879</th>\n",
       "      <td>0</td>\n",
       "      <td>Female</td>\n",
       "      <td>disloyal Customer</td>\n",
       "      <td>38</td>\n",
       "      <td>Personal Travel</td>\n",
       "      <td>Eco</td>\n",
       "      <td>4307</td>\n",
       "      <td>3</td>\n",
       "      <td>4</td>\n",
       "      <td>3</td>\n",
       "      <td>...</td>\n",
       "      <td>3</td>\n",
       "      <td>4</td>\n",
       "      <td>5</td>\n",
       "      <td>5</td>\n",
       "      <td>5</td>\n",
       "      <td>3</td>\n",
       "      <td>3</td>\n",
       "      <td>3</td>\n",
       "      <td>185</td>\n",
       "      <td>186.0</td>\n",
       "    </tr>\n",
       "  </tbody>\n",
       "</table>\n",
       "<p>129880 rows × 23 columns</p>\n",
       "</div>"
      ],
      "text/plain": [
       "        satisfaction  Gender      Customer_Type  Age   Type_of_Travel  \\\n",
       "0                  1  Female     Loyal Customer   65  Personal Travel   \n",
       "1                  1    Male     Loyal Customer   47  Personal Travel   \n",
       "2                  1  Female     Loyal Customer   15  Personal Travel   \n",
       "3                  1  Female     Loyal Customer   60  Personal Travel   \n",
       "4                  1  Female     Loyal Customer   70  Personal Travel   \n",
       "...              ...     ...                ...  ...              ...   \n",
       "129875             1  Female  disloyal Customer   29  Personal Travel   \n",
       "129876             0    Male  disloyal Customer   63  Personal Travel   \n",
       "129877             0    Male  disloyal Customer   69  Personal Travel   \n",
       "129878             0    Male  disloyal Customer   66  Personal Travel   \n",
       "129879             0  Female  disloyal Customer   38  Personal Travel   \n",
       "\n",
       "           Class  Flight_Distance  Seat_comfort  \\\n",
       "0            Eco              265             0   \n",
       "1       Business             2464             0   \n",
       "2            Eco             2138             0   \n",
       "3            Eco              623             0   \n",
       "4            Eco              354             0   \n",
       "...          ...              ...           ...   \n",
       "129875       Eco             1731             5   \n",
       "129876  Business             2087             2   \n",
       "129877       Eco             2320             3   \n",
       "129878       Eco             2450             3   \n",
       "129879       Eco             4307             3   \n",
       "\n",
       "        Departure/Arrival_time_convenient  Food_and_drink  ...  \\\n",
       "0                                       0               0  ...   \n",
       "1                                       0               0  ...   \n",
       "2                                       0               0  ...   \n",
       "3                                       0               0  ...   \n",
       "4                                       0               0  ...   \n",
       "...                                   ...             ...  ...   \n",
       "129875                                  5               5  ...   \n",
       "129876                                  3               2  ...   \n",
       "129877                                  0               3  ...   \n",
       "129878                                  2               3  ...   \n",
       "129879                                  4               3  ...   \n",
       "\n",
       "        Online_support  Ease_of_Online_booking  On_board_service  \\\n",
       "0                    2                       3                 3   \n",
       "1                    2                       3                 4   \n",
       "2                    2                       2                 3   \n",
       "3                    3                       1                 1   \n",
       "4                    4                       2                 2   \n",
       "...                ...                     ...               ...   \n",
       "129875               2                       2                 3   \n",
       "129876               1                       3                 2   \n",
       "129877               2                       4                 4   \n",
       "129878               2                       3                 3   \n",
       "129879               3                       4                 5   \n",
       "\n",
       "        Leg_room_service  Baggage_handling  Checkin_service  Cleanliness  \\\n",
       "0                      0                 3                5            3   \n",
       "1                      4                 4                2            3   \n",
       "2                      3                 4                4            4   \n",
       "3                      0                 1                4            1   \n",
       "4                      0                 2                4            2   \n",
       "...                  ...               ...              ...          ...   \n",
       "129875                 3                 4                4            4   \n",
       "129876                 3                 3                1            2   \n",
       "129877                 3                 4                2            3   \n",
       "129878                 2                 3                2            1   \n",
       "129879                 5                 5                3            3   \n",
       "\n",
       "        Online_boarding  Departure_Delay_in_Minutes  Arrival_Delay_in_Minutes  \n",
       "0                     2                           0                       0.0  \n",
       "1                     2                         310                     305.0  \n",
       "2                     2                           0                       0.0  \n",
       "3                     3                           0                       0.0  \n",
       "4                     5                           0                       0.0  \n",
       "...                 ...                         ...                       ...  \n",
       "129875                2                           0                       0.0  \n",
       "129876                1                         174                     172.0  \n",
       "129877                2                         155                     163.0  \n",
       "129878                2                         193                     205.0  \n",
       "129879                3                         185                     186.0  \n",
       "\n",
       "[129880 rows x 23 columns]"
      ]
     },
     "execution_count": 24,
     "metadata": {},
     "output_type": "execute_result"
    }
   ],
   "source": [
    "df"
   ]
  },
  {
   "cell_type": "markdown",
   "id": "0e559830",
   "metadata": {
    "id": "fb9028c4"
   },
   "source": [
    "# II. Discover and visualize data to gain insights"
   ]
  },
  {
   "cell_type": "markdown",
   "id": "69cdac3d",
   "metadata": {
    "id": "ef1e5f74"
   },
   "source": [
    "### Plot satisfaction feature"
   ]
  },
  {
   "cell_type": "code",
   "execution_count": 25,
   "id": "d286d41e",
   "metadata": {
    "id": "371d9cd1",
    "scrolled": false
   },
   "outputs": [],
   "source": [
    "def plot_target_column (df, target):\n",
    "    ax = sns.countplot(x=target, data=df)\n",
    "    plt.title('Distribution of ' + target + ' column')\n",
    "    plt.xlabel('Frequency')\n",
    "    ax.set_xticklabels(ax.get_xticklabels(),rotation=0)\n",
    "    total = len(df[target])\n",
    "    for p in ax.patches:\n",
    "            percentage = '{:.1f}%'.format(100 * p.get_height()/total)\n",
    "            x = p.get_x() + p.get_width() + 0.02\n",
    "            y = p.get_y() + p.get_height()/2\n",
    "            ax.annotate(percentage, (x, y))\n",
    "            ax.text(p.get_x()+p.get_width()/2., p.get_height() + 0.2, p.get_height(),ha=\"center\")\n",
    "    plt.show()"
   ]
  },
  {
   "cell_type": "code",
   "execution_count": 26,
   "id": "4bf92079",
   "metadata": {
    "colab": {
     "base_uri": "https://localhost:8080/",
     "height": 0
    },
    "id": "7c325cce",
    "outputId": "9b9dc3c2-f374-45f4-99e7-d23040f008cf"
   },
   "outputs": [
    {
     "data": {
      "image/png": "[encoded data removed]",
      "text/plain": [
       "<Figure size 576x360 with 1 Axes>"
      ]
     },
     "metadata": {
      "needs_background": "light"
     },
     "output_type": "display_data"
    }
   ],
   "source": [
    "plt.figure(figsize= (8,5))\n",
    "plot_target_column(df, \"satisfaction\")"
   ]
  },
  {
   "cell_type": "markdown",
   "id": "803c29ae",
   "metadata": {
    "id": "227d112f"
   },
   "source": [
    "### Visualize Customer's properties"
   ]
  },
  {
   "cell_type": "markdown",
   "id": "b6263c5d",
   "metadata": {
    "id": "8d1cf617"
   },
   "source": [
    "- Select customer's properties columns"
   ]
  },
  {
   "cell_type": "code",
   "execution_count": 27,
   "id": "c2b8edaa",
   "metadata": {
    "id": "f6f66a2b"
   },
   "outputs": [],
   "source": [
    "df[\"Age_cat\"] = pd.cut(df[\"Age\"], bins= [0, 27, 57, 77, np.inf]\n",
    "        , labels= [\"7-27\", \"27-57\", \"57-77\", \"77-85\"])"
   ]
  },
  {
   "cell_type": "markdown",
   "id": "9240d3ce",
   "metadata": {
    "id": "6d0b16f0"
   },
   "source": [
    "- Separate customers into 4 groups according to Age  "
   ]
  },
  {
   "cell_type": "code",
   "execution_count": 28,
   "id": "622acd43",
   "metadata": {
    "id": "543dca27"
   },
   "outputs": [],
   "source": [
    "bin_user_prop = [i for i in df.loc[:,\"satisfaction\":\"Class\"].columns if i not in ('Age', 'Type_of_Travel', 'Class')]"
   ]
  },
  {
   "cell_type": "code",
   "execution_count": 29,
   "id": "cb67cf65",
   "metadata": {},
   "outputs": [],
   "source": [
    "bin_user_prop.append(\"Age_cat\")"
   ]
  },
  {
   "cell_type": "code",
   "execution_count": 30,
   "id": "ac74a672",
   "metadata": {},
   "outputs": [
    {
     "data": {
      "text/plain": [
       "['satisfaction', 'Gender', 'Customer_Type', 'Age_cat']"
      ]
     },
     "execution_count": 30,
     "metadata": {},
     "output_type": "execute_result"
    }
   ],
   "source": [
    "bin_user_prop"
   ]
  },
  {
   "cell_type": "code",
   "execution_count": 31,
   "id": "4dc91431",
   "metadata": {
    "colab": {
     "base_uri": "https://localhost:8080/",
     "height": 0
    },
    "id": "fec795f6",
    "outputId": "efe0592b-9639-4b76-f55d-cd833ff36f41",
    "scrolled": false
   },
   "outputs": [
    {
     "data": {
      "text/html": [
       "<div>\n",
       "<style scoped>\n",
       "    .dataframe tbody tr th:only-of-type {\n",
       "        vertical-align: middle;\n",
       "    }\n",
       "\n",
       "    .dataframe tbody tr th {\n",
       "        vertical-align: top;\n",
       "    }\n",
       "\n",
       "    .dataframe thead th {\n",
       "        text-align: right;\n",
       "    }\n",
       "</style>\n",
       "<table border=\"1\" class=\"dataframe\">\n",
       "  <thead>\n",
       "    <tr style=\"text-align: right;\">\n",
       "      <th></th>\n",
       "      <th>satisfaction</th>\n",
       "      <th>Gender</th>\n",
       "      <th>Customer_Type</th>\n",
       "      <th>Age_cat</th>\n",
       "    </tr>\n",
       "  </thead>\n",
       "  <tbody>\n",
       "    <tr>\n",
       "      <th>0</th>\n",
       "      <td>1</td>\n",
       "      <td>Female</td>\n",
       "      <td>Loyal Customer</td>\n",
       "      <td>57-77</td>\n",
       "    </tr>\n",
       "    <tr>\n",
       "      <th>1</th>\n",
       "      <td>1</td>\n",
       "      <td>Male</td>\n",
       "      <td>Loyal Customer</td>\n",
       "      <td>27-57</td>\n",
       "    </tr>\n",
       "    <tr>\n",
       "      <th>2</th>\n",
       "      <td>1</td>\n",
       "      <td>Female</td>\n",
       "      <td>Loyal Customer</td>\n",
       "      <td>7-27</td>\n",
       "    </tr>\n",
       "    <tr>\n",
       "      <th>3</th>\n",
       "      <td>1</td>\n",
       "      <td>Female</td>\n",
       "      <td>Loyal Customer</td>\n",
       "      <td>57-77</td>\n",
       "    </tr>\n",
       "    <tr>\n",
       "      <th>4</th>\n",
       "      <td>1</td>\n",
       "      <td>Female</td>\n",
       "      <td>Loyal Customer</td>\n",
       "      <td>57-77</td>\n",
       "    </tr>\n",
       "    <tr>\n",
       "      <th>...</th>\n",
       "      <td>...</td>\n",
       "      <td>...</td>\n",
       "      <td>...</td>\n",
       "      <td>...</td>\n",
       "    </tr>\n",
       "    <tr>\n",
       "      <th>129875</th>\n",
       "      <td>1</td>\n",
       "      <td>Female</td>\n",
       "      <td>disloyal Customer</td>\n",
       "      <td>27-57</td>\n",
       "    </tr>\n",
       "    <tr>\n",
       "      <th>129876</th>\n",
       "      <td>0</td>\n",
       "      <td>Male</td>\n",
       "      <td>disloyal Customer</td>\n",
       "      <td>57-77</td>\n",
       "    </tr>\n",
       "    <tr>\n",
       "      <th>129877</th>\n",
       "      <td>0</td>\n",
       "      <td>Male</td>\n",
       "      <td>disloyal Customer</td>\n",
       "      <td>57-77</td>\n",
       "    </tr>\n",
       "    <tr>\n",
       "      <th>129878</th>\n",
       "      <td>0</td>\n",
       "      <td>Male</td>\n",
       "      <td>disloyal Customer</td>\n",
       "      <td>57-77</td>\n",
       "    </tr>\n",
       "    <tr>\n",
       "      <th>129879</th>\n",
       "      <td>0</td>\n",
       "      <td>Female</td>\n",
       "      <td>disloyal Customer</td>\n",
       "      <td>27-57</td>\n",
       "    </tr>\n",
       "  </tbody>\n",
       "</table>\n",
       "<p>129880 rows × 4 columns</p>\n",
       "</div>"
      ],
      "text/plain": [
       "        satisfaction  Gender      Customer_Type Age_cat\n",
       "0                  1  Female     Loyal Customer   57-77\n",
       "1                  1    Male     Loyal Customer   27-57\n",
       "2                  1  Female     Loyal Customer    7-27\n",
       "3                  1  Female     Loyal Customer   57-77\n",
       "4                  1  Female     Loyal Customer   57-77\n",
       "...              ...     ...                ...     ...\n",
       "129875             1  Female  disloyal Customer   27-57\n",
       "129876             0    Male  disloyal Customer   57-77\n",
       "129877             0    Male  disloyal Customer   57-77\n",
       "129878             0    Male  disloyal Customer   57-77\n",
       "129879             0  Female  disloyal Customer   27-57\n",
       "\n",
       "[129880 rows x 4 columns]"
      ]
     },
     "execution_count": 31,
     "metadata": {},
     "output_type": "execute_result"
    }
   ],
   "source": [
    "df[bin_user_prop]"
   ]
  },
  {
   "cell_type": "markdown",
   "id": "cc81d3ab",
   "metadata": {
    "id": "16710ce8"
   },
   "source": [
    "- Using countplot to visualize customer's properties along with satisfaction"
   ]
  },
  {
   "cell_type": "code",
   "execution_count": 32,
   "id": "581ee6a6",
   "metadata": {
    "colab": {
     "base_uri": "https://localhost:8080/",
     "height": 0
    },
    "id": "568b2c76",
    "outputId": "49f1e12a-6f82-46e0-b5bc-c3b6a8717cf1",
    "scrolled": false
   },
   "outputs": [
    {
     "data": {
      "image/png": "[encoded data removed]",
      "text/plain": [
       "<Figure size 2400x800 with 3 Axes>"
      ]
     },
     "metadata": {
      "needs_background": "light"
     },
     "output_type": "display_data"
    }
   ],
   "source": [
    "fig, axes = plt.subplots(nrows=1,ncols=3,figsize=(12,4), dpi= 200)\n",
    "for i in range(0,3):\n",
    "        sns.countplot(data= df[bin_user_prop], x= bin_user_prop[i + 1], hue= \"satisfaction\", ax= axes[i])\n",
    "        axes[i].legend(loc= (1.01, 0.87))\n",
    "        axes[i].set_xlabel(\"\")\n",
    "        axes[i].set_ylabel(\"\")\n",
    "        axes[i].set(title= bin_user_prop[i + 1])\n",
    "\n",
    "plt.tight_layout()\n",
    "plt.show()"
   ]
  },
  {
   "cell_type": "markdown",
   "id": "4e9c2e75",
   "metadata": {
    "id": "ae805bb4"
   },
   "source": [
    "Look like an easygoing female like a male\n",
    "...\n"
   ]
  },
  {
   "cell_type": "markdown",
   "id": "fdfa323f",
   "metadata": {
    "id": "5b5d03ec"
   },
   "source": [
    "### Flight information"
   ]
  },
  {
   "cell_type": "code",
   "execution_count": 33,
   "id": "d49cc159",
   "metadata": {
    "colab": {
     "base_uri": "https://localhost:8080/",
     "height": 0
    },
    "id": "d3b27e1d",
    "outputId": "fe0af2e7-463a-486c-acb9-bb29ee312c77",
    "scrolled": true
   },
   "outputs": [
    {
     "data": {
      "text/plain": [
       "<Figure size 2400x1000 with 0 Axes>"
      ]
     },
     "metadata": {},
     "output_type": "display_data"
    },
    {
     "data": {
      "image/png": "[encoded data removed]",
      "text/plain": [
       "<Figure size 1145.75x360 with 3 Axes>"
      ]
     },
     "metadata": {
      "needs_background": "light"
     },
     "output_type": "display_data"
    }
   ],
   "source": [
    "plt.figure(figsize= (12, 5), dpi= 200)\n",
    "sns.catplot(data= df, x= 'Flight_Distance', y= 'Type_of_Travel', hue= 'satisfaction', col= 'Class', kind= 'bar')\n",
    "plt.show();"
   ]
  },
  {
   "cell_type": "markdown",
   "id": "d3b4d907",
   "metadata": {
    "id": "e57a7041"
   },
   "source": [
    "Nhận xét: \n",
    "    Trong lớp class business loại Business travel hài lòng cao hơn so với loại personal travel khi bay với khoảng cách xa.\n",
    "     Những kết hợp còn lại khá trung lập với hài lòng và không hài lòng"
   ]
  },
  {
   "cell_type": "markdown",
   "id": "05c18e59",
   "metadata": {
    "id": "98629415"
   },
   "source": [
    "##### Plot feature have values {0,1,2,3,4,5}"
   ]
  },
  {
   "cell_type": "code",
   "execution_count": 34,
   "id": "a8add09e",
   "metadata": {
    "colab": {
     "base_uri": "https://localhost:8080/"
    },
    "id": "738e5463",
    "outputId": "fa570497-e573-403b-e62d-3f54fb316bba",
    "scrolled": true
   },
   "outputs": [
    {
     "data": {
      "text/plain": [
       "satisfaction                         1.000000\n",
       "Inflight_entertainment               0.523496\n",
       "Ease_of_Online_booking               0.431772\n",
       "Online_support                       0.390143\n",
       "On_board_service                     0.352047\n",
       "Online_boarding                      0.338147\n",
       "Leg_room_service                     0.304928\n",
       "Checkin_service                      0.266179\n",
       "Baggage_handling                     0.260347\n",
       "Cleanliness                          0.259330\n",
       "Seat_comfort                         0.242384\n",
       "Inflight_wifi_service                0.227062\n",
       "Food_and_drink                       0.120677\n",
       "Age                                  0.117971\n",
       "Gate_location                       -0.012071\n",
       "Departure/Arrival_time_convenient   -0.015507\n",
       "Flight_Distance                     -0.039224\n",
       "Departure_Delay_in_Minutes          -0.073909\n",
       "Arrival_Delay_in_Minutes            -0.080691\n",
       "Name: satisfaction, dtype: float64"
      ]
     },
     "execution_count": 34,
     "metadata": {},
     "output_type": "execute_result"
    }
   ],
   "source": [
    "corr_matrix = df.corr()\n",
    "corr_matrix['satisfaction'].sort_values(ascending = False)"
   ]
  },
  {
   "cell_type": "code",
   "execution_count": 35,
   "id": "12eca295",
   "metadata": {
    "colab": {
     "base_uri": "https://localhost:8080/",
     "height": 0
    },
    "id": "de23a10f",
    "outputId": "8bcc7eca-f809-4db0-8e05-2317641476a0"
   },
   "outputs": [
    {
     "data": {
      "text/plain": [
       "<AxesSubplot:xlabel='Ease_of_Online_booking', ylabel='satisfaction'>"
      ]
     },
     "execution_count": 35,
     "metadata": {},
     "output_type": "execute_result"
    },
    {
     "data": {
      "image/png": "[encoded data removed]",
      "text/plain": [
       "<Figure size 1008x576 with 8 Axes>"
      ]
     },
     "metadata": {
      "needs_background": "light"
     },
     "output_type": "display_data"
    }
   ],
   "source": [
    "#vẽ biểu đồ heatmap với những cột có điểm corr tương đối cao\n",
    "fig, axarr = plt.subplots(2, 2, figsize=(14, 8))\n",
    "\n",
    "table1 = pd.crosstab(df['satisfaction'], df['Inflight_entertainment'])\n",
    "sns.heatmap(table1, cmap='PuRd',ax = axarr[0][0])\n",
    "table2 = pd.crosstab(df['satisfaction'], df['Seat_comfort'])\n",
    "sns.heatmap(table2, cmap='Reds',ax = axarr[0][1])\n",
    "table3 = pd.crosstab(df['satisfaction'], df['Online_support'])\n",
    "sns.heatmap(table3, cmap='Greens',ax = axarr[1][0])\n",
    "table4 = pd.crosstab(df['satisfaction'], df['Ease_of_Online_booking'])\n",
    "sns.heatmap(table4, cmap='PuBu',ax = axarr[1][1])"
   ]
  },
  {
   "cell_type": "markdown",
   "id": "1ee9e727",
   "metadata": {
    "id": "f1c538f3"
   },
   "source": [
    "Có sự tương quan rõ rệt với satisfaction.\n",
    " Rất nhiều đánh giá 4,5 được xếp vào loại hài lòng\n",
    " Ngược lại, rất nhiều đánh giá 1-3 thì xếp vào loại không hài lòng. \n",
    "##### Cho thấy những feature này có tác động lớn vào đánh giá độ hài lòng của khách hàng"
   ]
  },
  {
   "cell_type": "code",
   "execution_count": 36,
   "id": "3f84bec4",
   "metadata": {
    "colab": {
     "base_uri": "https://localhost:8080/",
     "height": 0
    },
    "id": "532850f1",
    "outputId": "8973ef45-e42f-4229-b7a9-4be170b6afe7"
   },
   "outputs": [
    {
     "data": {
      "text/plain": [
       "<AxesSubplot:xlabel='Gate_location', ylabel='satisfaction'>"
      ]
     },
     "execution_count": 36,
     "metadata": {},
     "output_type": "execute_result"
    },
    {
     "data": {
      "image/png": "[encoded data removed]",
      "text/plain": [
       "<Figure size 1296x360 with 4 Axes>"
      ]
     },
     "metadata": {
      "needs_background": "light"
     },
     "output_type": "display_data"
    }
   ],
   "source": [
    "#biểu đồ heatmap với những cột có hệ số tương quan cực thấp \n",
    "#Gate_location                       -0.012071\n",
    "#Departure/Arrival_time_convenient   -0.015507 \n",
    "fig, axarr = plt.subplots(1, 2, figsize=(18, 5))\n",
    "\n",
    "table1 = pd.crosstab(df['satisfaction'], df['Departure/Arrival_time_convenient'])\n",
    "sns.heatmap(table1, cmap='PuRd',ax = axarr[0])\n",
    "table2 = pd.crosstab(df['satisfaction'], df['Gate_location'])\n",
    "sns.heatmap(table2, cmap='PuBu',ax = axarr[1])\n"
   ]
  },
  {
   "cell_type": "markdown",
   "id": "b5b4dc6e",
   "metadata": {
    "id": "16da76c1"
   },
   "source": [
    "Cả 2 biều đồ trên đều không cho thấy sự tương quan. Những đánh giá 1,2,3 không khác biệt so với 4,5 sao về đánh giá độ hài lòng khách hàng. \n",
    "##### Ta kết luận đươc rằng 2 feature trên không ảnh hưởng nhiều đến mức độ hài lòng khách hàng"
   ]
  },
  {
   "cell_type": "code",
   "execution_count": 37,
   "id": "693874ec",
   "metadata": {
    "colab": {
     "base_uri": "https://localhost:8080/",
     "height": 0
    },
    "id": "003a74ab",
    "outputId": "7e2e062b-dbd4-4e1d-e1f8-353a6062657d"
   },
   "outputs": [
    {
     "data": {
      "text/plain": [
       "<AxesSubplot:xlabel='Food_and_drink', ylabel='satisfaction'>"
      ]
     },
     "execution_count": 37,
     "metadata": {},
     "output_type": "execute_result"
    },
    {
     "data": {
      "image/png": "[encoded data removed]",
      "text/plain": [
       "<Figure size 1296x360 with 4 Axes>"
      ]
     },
     "metadata": {
      "needs_background": "light"
     },
     "output_type": "display_data"
    }
   ],
   "source": [
    "#biểu đồ heatmap với những cột có hệ số tương quan so với satisfaction không cao \n",
    "\n",
    "fig, axarr = plt.subplots(1, 2, figsize=(18, 5))\n",
    "\n",
    "table = pd.crosstab(df['satisfaction'], df['Inflight_wifi_service'])\n",
    "sns.heatmap(table, cmap='PuRd',ax = axarr[0])\n",
    "table1 = pd.crosstab(df['satisfaction'], df['Food_and_drink'])\n",
    "sns.heatmap(table1, cmap='Greens',ax = axarr[1])"
   ]
  },
  {
   "cell_type": "markdown",
   "id": "487b47b3",
   "metadata": {
    "id": "b64f8f9a"
   },
   "source": [
    "Vẫn có sự tương quan giữa những feature có chỉ số corr không cao"
   ]
  },
  {
   "cell_type": "markdown",
   "id": "902f5390",
   "metadata": {
    "id": "e9b79875"
   },
   "source": [
    "### Find Correlation"
   ]
  },
  {
   "cell_type": "code",
   "execution_count": 38,
   "id": "56fbcdca",
   "metadata": {
    "colab": {
     "base_uri": "https://localhost:8080/",
     "height": 0
    },
    "id": "506a1757",
    "outputId": "5e450863-e4d5-4c82-90af-5059fd0883dd"
   },
   "outputs": [
    {
     "data": {
      "text/plain": [
       "<AxesSubplot:>"
      ]
     },
     "execution_count": 38,
     "metadata": {},
     "output_type": "execute_result"
    },
    {
     "data": {
      "image/png": "[encoded data removed]",
      "text/plain": [
       "<Figure size 1440x1440 with 2 Axes>"
      ]
     },
     "metadata": {
      "needs_background": "light"
     },
     "output_type": "display_data"
    }
   ],
   "source": [
    "corr = df.corr()\n",
    "mask = np.triu(np.ones_like(corr, dtype=bool))\n",
    "f, ax = plt.subplots(figsize=(20, 20))\n",
    "cmap = sns.diverging_palette(1000, 200, as_cmap=True)\n",
    "sns.heatmap(corr, mask=mask, cmap=cmap, vmax=None, center=0,square=True, annot=True, linewidths=.5, cbar_kws={\"shrink\": .10})"
   ]
  },
  {
   "cell_type": "markdown",
   "id": "6b64f144",
   "metadata": {
    "id": "48a9d295"
   },
   "source": [
    "\n",
    "Seat_comfort is highly correlated with Food_and_drink.\n",
    "\n",
    "Online_support is highly correlated with Online_boarding,Ease_of_Online_booking.\n",
    "\n",
    "Inflight_wifi_service is highly correlated with Online_support,Ease_of_Online_booking.\n",
    "\n",
    "Departure_Delay_in_Minutes is highly correlated with Arrival_Delay_in_Minutes with 0.97 ~ 1\n",
    "##### Conclusion: remove Arrival_Delay_in_minutes"
   ]
  },
  {
   "cell_type": "code",
   "execution_count": 39,
   "id": "a432ad9e",
   "metadata": {
    "colab": {
     "base_uri": "https://localhost:8080/",
     "height": 0
    },
    "id": "2507fb40",
    "outputId": "84c69d4f-cd53-4076-8847-b55031633541"
   },
   "outputs": [
    {
     "data": {
      "text/html": [
       "<div>\n",
       "<style scoped>\n",
       "    .dataframe tbody tr th:only-of-type {\n",
       "        vertical-align: middle;\n",
       "    }\n",
       "\n",
       "    .dataframe tbody tr th {\n",
       "        vertical-align: top;\n",
       "    }\n",
       "\n",
       "    .dataframe thead th {\n",
       "        text-align: right;\n",
       "    }\n",
       "</style>\n",
       "<table border=\"1\" class=\"dataframe\">\n",
       "  <thead>\n",
       "    <tr style=\"text-align: right;\">\n",
       "      <th></th>\n",
       "      <th>satisfaction</th>\n",
       "      <th>Gender</th>\n",
       "      <th>Customer_Type</th>\n",
       "      <th>Age</th>\n",
       "      <th>Type_of_Travel</th>\n",
       "      <th>Class</th>\n",
       "      <th>Flight_Distance</th>\n",
       "      <th>Seat_comfort</th>\n",
       "      <th>Departure/Arrival_time_convenient</th>\n",
       "      <th>Food_and_drink</th>\n",
       "      <th>...</th>\n",
       "      <th>Ease_of_Online_booking</th>\n",
       "      <th>On_board_service</th>\n",
       "      <th>Leg_room_service</th>\n",
       "      <th>Baggage_handling</th>\n",
       "      <th>Checkin_service</th>\n",
       "      <th>Cleanliness</th>\n",
       "      <th>Online_boarding</th>\n",
       "      <th>Departure_Delay_in_Minutes</th>\n",
       "      <th>Arrival_Delay_in_Minutes</th>\n",
       "      <th>Age_cat</th>\n",
       "    </tr>\n",
       "  </thead>\n",
       "  <tbody>\n",
       "    <tr>\n",
       "      <th>0</th>\n",
       "      <td>1</td>\n",
       "      <td>Female</td>\n",
       "      <td>Loyal Customer</td>\n",
       "      <td>65</td>\n",
       "      <td>Personal Travel</td>\n",
       "      <td>Eco</td>\n",
       "      <td>265</td>\n",
       "      <td>0</td>\n",
       "      <td>0</td>\n",
       "      <td>0</td>\n",
       "      <td>...</td>\n",
       "      <td>3</td>\n",
       "      <td>3</td>\n",
       "      <td>0</td>\n",
       "      <td>3</td>\n",
       "      <td>5</td>\n",
       "      <td>3</td>\n",
       "      <td>2</td>\n",
       "      <td>0</td>\n",
       "      <td>0.0</td>\n",
       "      <td>57-77</td>\n",
       "    </tr>\n",
       "    <tr>\n",
       "      <th>1</th>\n",
       "      <td>1</td>\n",
       "      <td>Male</td>\n",
       "      <td>Loyal Customer</td>\n",
       "      <td>47</td>\n",
       "      <td>Personal Travel</td>\n",
       "      <td>Business</td>\n",
       "      <td>2464</td>\n",
       "      <td>0</td>\n",
       "      <td>0</td>\n",
       "      <td>0</td>\n",
       "      <td>...</td>\n",
       "      <td>3</td>\n",
       "      <td>4</td>\n",
       "      <td>4</td>\n",
       "      <td>4</td>\n",
       "      <td>2</td>\n",
       "      <td>3</td>\n",
       "      <td>2</td>\n",
       "      <td>310</td>\n",
       "      <td>305.0</td>\n",
       "      <td>27-57</td>\n",
       "    </tr>\n",
       "    <tr>\n",
       "      <th>2</th>\n",
       "      <td>1</td>\n",
       "      <td>Female</td>\n",
       "      <td>Loyal Customer</td>\n",
       "      <td>15</td>\n",
       "      <td>Personal Travel</td>\n",
       "      <td>Eco</td>\n",
       "      <td>2138</td>\n",
       "      <td>0</td>\n",
       "      <td>0</td>\n",
       "      <td>0</td>\n",
       "      <td>...</td>\n",
       "      <td>2</td>\n",
       "      <td>3</td>\n",
       "      <td>3</td>\n",
       "      <td>4</td>\n",
       "      <td>4</td>\n",
       "      <td>4</td>\n",
       "      <td>2</td>\n",
       "      <td>0</td>\n",
       "      <td>0.0</td>\n",
       "      <td>7-27</td>\n",
       "    </tr>\n",
       "    <tr>\n",
       "      <th>3</th>\n",
       "      <td>1</td>\n",
       "      <td>Female</td>\n",
       "      <td>Loyal Customer</td>\n",
       "      <td>60</td>\n",
       "      <td>Personal Travel</td>\n",
       "      <td>Eco</td>\n",
       "      <td>623</td>\n",
       "      <td>0</td>\n",
       "      <td>0</td>\n",
       "      <td>0</td>\n",
       "      <td>...</td>\n",
       "      <td>1</td>\n",
       "      <td>1</td>\n",
       "      <td>0</td>\n",
       "      <td>1</td>\n",
       "      <td>4</td>\n",
       "      <td>1</td>\n",
       "      <td>3</td>\n",
       "      <td>0</td>\n",
       "      <td>0.0</td>\n",
       "      <td>57-77</td>\n",
       "    </tr>\n",
       "    <tr>\n",
       "      <th>4</th>\n",
       "      <td>1</td>\n",
       "      <td>Female</td>\n",
       "      <td>Loyal Customer</td>\n",
       "      <td>70</td>\n",
       "      <td>Personal Travel</td>\n",
       "      <td>Eco</td>\n",
       "      <td>354</td>\n",
       "      <td>0</td>\n",
       "      <td>0</td>\n",
       "      <td>0</td>\n",
       "      <td>...</td>\n",
       "      <td>2</td>\n",
       "      <td>2</td>\n",
       "      <td>0</td>\n",
       "      <td>2</td>\n",
       "      <td>4</td>\n",
       "      <td>2</td>\n",
       "      <td>5</td>\n",
       "      <td>0</td>\n",
       "      <td>0.0</td>\n",
       "      <td>57-77</td>\n",
       "    </tr>\n",
       "    <tr>\n",
       "      <th>...</th>\n",
       "      <td>...</td>\n",
       "      <td>...</td>\n",
       "      <td>...</td>\n",
       "      <td>...</td>\n",
       "      <td>...</td>\n",
       "      <td>...</td>\n",
       "      <td>...</td>\n",
       "      <td>...</td>\n",
       "      <td>...</td>\n",
       "      <td>...</td>\n",
       "      <td>...</td>\n",
       "      <td>...</td>\n",
       "      <td>...</td>\n",
       "      <td>...</td>\n",
       "      <td>...</td>\n",
       "      <td>...</td>\n",
       "      <td>...</td>\n",
       "      <td>...</td>\n",
       "      <td>...</td>\n",
       "      <td>...</td>\n",
       "      <td>...</td>\n",
       "    </tr>\n",
       "    <tr>\n",
       "      <th>129875</th>\n",
       "      <td>1</td>\n",
       "      <td>Female</td>\n",
       "      <td>disloyal Customer</td>\n",
       "      <td>29</td>\n",
       "      <td>Personal Travel</td>\n",
       "      <td>Eco</td>\n",
       "      <td>1731</td>\n",
       "      <td>5</td>\n",
       "      <td>5</td>\n",
       "      <td>5</td>\n",
       "      <td>...</td>\n",
       "      <td>2</td>\n",
       "      <td>3</td>\n",
       "      <td>3</td>\n",
       "      <td>4</td>\n",
       "      <td>4</td>\n",
       "      <td>4</td>\n",
       "      <td>2</td>\n",
       "      <td>0</td>\n",
       "      <td>0.0</td>\n",
       "      <td>27-57</td>\n",
       "    </tr>\n",
       "    <tr>\n",
       "      <th>129876</th>\n",
       "      <td>0</td>\n",
       "      <td>Male</td>\n",
       "      <td>disloyal Customer</td>\n",
       "      <td>63</td>\n",
       "      <td>Personal Travel</td>\n",
       "      <td>Business</td>\n",
       "      <td>2087</td>\n",
       "      <td>2</td>\n",
       "      <td>3</td>\n",
       "      <td>2</td>\n",
       "      <td>...</td>\n",
       "      <td>3</td>\n",
       "      <td>2</td>\n",
       "      <td>3</td>\n",
       "      <td>3</td>\n",
       "      <td>1</td>\n",
       "      <td>2</td>\n",
       "      <td>1</td>\n",
       "      <td>174</td>\n",
       "      <td>172.0</td>\n",
       "      <td>57-77</td>\n",
       "    </tr>\n",
       "    <tr>\n",
       "      <th>129877</th>\n",
       "      <td>0</td>\n",
       "      <td>Male</td>\n",
       "      <td>disloyal Customer</td>\n",
       "      <td>69</td>\n",
       "      <td>Personal Travel</td>\n",
       "      <td>Eco</td>\n",
       "      <td>2320</td>\n",
       "      <td>3</td>\n",
       "      <td>0</td>\n",
       "      <td>3</td>\n",
       "      <td>...</td>\n",
       "      <td>4</td>\n",
       "      <td>4</td>\n",
       "      <td>3</td>\n",
       "      <td>4</td>\n",
       "      <td>2</td>\n",
       "      <td>3</td>\n",
       "      <td>2</td>\n",
       "      <td>155</td>\n",
       "      <td>163.0</td>\n",
       "      <td>57-77</td>\n",
       "    </tr>\n",
       "    <tr>\n",
       "      <th>129878</th>\n",
       "      <td>0</td>\n",
       "      <td>Male</td>\n",
       "      <td>disloyal Customer</td>\n",
       "      <td>66</td>\n",
       "      <td>Personal Travel</td>\n",
       "      <td>Eco</td>\n",
       "      <td>2450</td>\n",
       "      <td>3</td>\n",
       "      <td>2</td>\n",
       "      <td>3</td>\n",
       "      <td>...</td>\n",
       "      <td>3</td>\n",
       "      <td>3</td>\n",
       "      <td>2</td>\n",
       "      <td>3</td>\n",
       "      <td>2</td>\n",
       "      <td>1</td>\n",
       "      <td>2</td>\n",
       "      <td>193</td>\n",
       "      <td>205.0</td>\n",
       "      <td>57-77</td>\n",
       "    </tr>\n",
       "    <tr>\n",
       "      <th>129879</th>\n",
       "      <td>0</td>\n",
       "      <td>Female</td>\n",
       "      <td>disloyal Customer</td>\n",
       "      <td>38</td>\n",
       "      <td>Personal Travel</td>\n",
       "      <td>Eco</td>\n",
       "      <td>4307</td>\n",
       "      <td>3</td>\n",
       "      <td>4</td>\n",
       "      <td>3</td>\n",
       "      <td>...</td>\n",
       "      <td>4</td>\n",
       "      <td>5</td>\n",
       "      <td>5</td>\n",
       "      <td>5</td>\n",
       "      <td>3</td>\n",
       "      <td>3</td>\n",
       "      <td>3</td>\n",
       "      <td>185</td>\n",
       "      <td>186.0</td>\n",
       "      <td>27-57</td>\n",
       "    </tr>\n",
       "  </tbody>\n",
       "</table>\n",
       "<p>129880 rows × 24 columns</p>\n",
       "</div>"
      ],
      "text/plain": [
       "        satisfaction  Gender      Customer_Type  Age   Type_of_Travel  \\\n",
       "0                  1  Female     Loyal Customer   65  Personal Travel   \n",
       "1                  1    Male     Loyal Customer   47  Personal Travel   \n",
       "2                  1  Female     Loyal Customer   15  Personal Travel   \n",
       "3                  1  Female     Loyal Customer   60  Personal Travel   \n",
       "4                  1  Female     Loyal Customer   70  Personal Travel   \n",
       "...              ...     ...                ...  ...              ...   \n",
       "129875             1  Female  disloyal Customer   29  Personal Travel   \n",
       "129876             0    Male  disloyal Customer   63  Personal Travel   \n",
       "129877             0    Male  disloyal Customer   69  Personal Travel   \n",
       "129878             0    Male  disloyal Customer   66  Personal Travel   \n",
       "129879             0  Female  disloyal Customer   38  Personal Travel   \n",
       "\n",
       "           Class  Flight_Distance  Seat_comfort  \\\n",
       "0            Eco              265             0   \n",
       "1       Business             2464             0   \n",
       "2            Eco             2138             0   \n",
       "3            Eco              623             0   \n",
       "4            Eco              354             0   \n",
       "...          ...              ...           ...   \n",
       "129875       Eco             1731             5   \n",
       "129876  Business             2087             2   \n",
       "129877       Eco             2320             3   \n",
       "129878       Eco             2450             3   \n",
       "129879       Eco             4307             3   \n",
       "\n",
       "        Departure/Arrival_time_convenient  Food_and_drink  ...  \\\n",
       "0                                       0               0  ...   \n",
       "1                                       0               0  ...   \n",
       "2                                       0               0  ...   \n",
       "3                                       0               0  ...   \n",
       "4                                       0               0  ...   \n",
       "...                                   ...             ...  ...   \n",
       "129875                                  5               5  ...   \n",
       "129876                                  3               2  ...   \n",
       "129877                                  0               3  ...   \n",
       "129878                                  2               3  ...   \n",
       "129879                                  4               3  ...   \n",
       "\n",
       "        Ease_of_Online_booking  On_board_service  Leg_room_service  \\\n",
       "0                            3                 3                 0   \n",
       "1                            3                 4                 4   \n",
       "2                            2                 3                 3   \n",
       "3                            1                 1                 0   \n",
       "4                            2                 2                 0   \n",
       "...                        ...               ...               ...   \n",
       "129875                       2                 3                 3   \n",
       "129876                       3                 2                 3   \n",
       "129877                       4                 4                 3   \n",
       "129878                       3                 3                 2   \n",
       "129879                       4                 5                 5   \n",
       "\n",
       "        Baggage_handling  Checkin_service  Cleanliness  Online_boarding  \\\n",
       "0                      3                5            3                2   \n",
       "1                      4                2            3                2   \n",
       "2                      4                4            4                2   \n",
       "3                      1                4            1                3   \n",
       "4                      2                4            2                5   \n",
       "...                  ...              ...          ...              ...   \n",
       "129875                 4                4            4                2   \n",
       "129876                 3                1            2                1   \n",
       "129877                 4                2            3                2   \n",
       "129878                 3                2            1                2   \n",
       "129879                 5                3            3                3   \n",
       "\n",
       "        Departure_Delay_in_Minutes  Arrival_Delay_in_Minutes  Age_cat  \n",
       "0                                0                       0.0    57-77  \n",
       "1                              310                     305.0    27-57  \n",
       "2                                0                       0.0     7-27  \n",
       "3                                0                       0.0    57-77  \n",
       "4                                0                       0.0    57-77  \n",
       "...                            ...                       ...      ...  \n",
       "129875                           0                       0.0    27-57  \n",
       "129876                         174                     172.0    57-77  \n",
       "129877                         155                     163.0    57-77  \n",
       "129878                         193                     205.0    57-77  \n",
       "129879                         185                     186.0    27-57  \n",
       "\n",
       "[129880 rows x 24 columns]"
      ]
     },
     "execution_count": 39,
     "metadata": {},
     "output_type": "execute_result"
    }
   ],
   "source": [
    "df"
   ]
  },
  {
   "cell_type": "markdown",
   "id": "6eed9e0e",
   "metadata": {
    "id": "b12278bd"
   },
   "source": [
    "### Preprocessing\n"
   ]
  },
  {
   "cell_type": "code",
   "execution_count": 40,
   "id": "c5a540e3",
   "metadata": {},
   "outputs": [],
   "source": [
    "df['Delay_in_Minutes'] = df['Arrival_Delay_in_Minutes'] + df['Departure_Delay_in_Minutes']\n",
    "df.drop(['Arrival_Delay_in_Minutes','Departure_Delay_in_Minutes'],axis = 1, inplace=True)"
   ]
  },
  {
   "cell_type": "markdown",
   "id": "f357ced9",
   "metadata": {
    "id": "0beb35b3"
   },
   "source": [
    "#### Split train set & test set "
   ]
  },
  {
   "cell_type": "code",
   "execution_count": 41,
   "id": "22d6ea2e",
   "metadata": {
    "id": "kAzfv12fq7rV"
   },
   "outputs": [],
   "source": [
    "df['Age_cat'] = df['Age_cat'].astype('object')"
   ]
  },
  {
   "cell_type": "markdown",
   "id": "b0627684",
   "metadata": {
    "id": "1148e0a9"
   },
   "source": [
    "#### Using sklearn \n"
   ]
  },
  {
   "cell_type": "code",
   "execution_count": 42,
   "id": "df590bc0",
   "metadata": {
    "id": "d6169717"
   },
   "outputs": [],
   "source": [
    "# stratified sampling by Age_cat\n",
    "split = StratifiedShuffleSplit(n_splits=1, test_size=0.2, random_state=101)\n",
    "for train_index, group_index in split.split(df, df[\"Age_cat\"]):\n",
    "    strat_train_set = df.loc[train_index]\n",
    "    strat_group_set = df.loc[group_index]\n",
    "# test size = 0.2\n",
    "split_2 = StratifiedShuffleSplit(n_splits=1, test_size=0.5, random_state=101)\n",
    "for dev_index, test_index in split_2.split(strat_group_set, strat_group_set[\"Age_cat\"]):\n",
    "    strat_dev_set = strat_group_set.iloc[dev_index]\n",
    "    strat_test_set = strat_group_set.iloc[test_index]"
   ]
  },
  {
   "cell_type": "code",
   "execution_count": 43,
   "id": "15d4efac",
   "metadata": {},
   "outputs": [
    {
     "data": {
      "text/html": [
       "<div>\n",
       "<style scoped>\n",
       "    .dataframe tbody tr th:only-of-type {\n",
       "        vertical-align: middle;\n",
       "    }\n",
       "\n",
       "    .dataframe tbody tr th {\n",
       "        vertical-align: top;\n",
       "    }\n",
       "\n",
       "    .dataframe thead th {\n",
       "        text-align: right;\n",
       "    }\n",
       "</style>\n",
       "<table border=\"1\" class=\"dataframe\">\n",
       "  <thead>\n",
       "    <tr style=\"text-align: right;\">\n",
       "      <th></th>\n",
       "      <th>satisfaction</th>\n",
       "      <th>Gender</th>\n",
       "      <th>Customer_Type</th>\n",
       "      <th>Age</th>\n",
       "      <th>Type_of_Travel</th>\n",
       "      <th>Class</th>\n",
       "      <th>Flight_Distance</th>\n",
       "      <th>Seat_comfort</th>\n",
       "      <th>Departure/Arrival_time_convenient</th>\n",
       "      <th>Food_and_drink</th>\n",
       "      <th>...</th>\n",
       "      <th>Inflight_entertainment</th>\n",
       "      <th>Online_support</th>\n",
       "      <th>Ease_of_Online_booking</th>\n",
       "      <th>On_board_service</th>\n",
       "      <th>Leg_room_service</th>\n",
       "      <th>Baggage_handling</th>\n",
       "      <th>Checkin_service</th>\n",
       "      <th>Cleanliness</th>\n",
       "      <th>Online_boarding</th>\n",
       "      <th>Delay_in_Minutes</th>\n",
       "    </tr>\n",
       "  </thead>\n",
       "  <tbody>\n",
       "    <tr>\n",
       "      <th>43812</th>\n",
       "      <td>0</td>\n",
       "      <td>Male</td>\n",
       "      <td>disloyal Customer</td>\n",
       "      <td>38</td>\n",
       "      <td>Business travel</td>\n",
       "      <td>Business</td>\n",
       "      <td>1309</td>\n",
       "      <td>1</td>\n",
       "      <td>2</td>\n",
       "      <td>2</td>\n",
       "      <td>...</td>\n",
       "      <td>2</td>\n",
       "      <td>1</td>\n",
       "      <td>1</td>\n",
       "      <td>2</td>\n",
       "      <td>4</td>\n",
       "      <td>4</td>\n",
       "      <td>2</td>\n",
       "      <td>3</td>\n",
       "      <td>1</td>\n",
       "      <td>0.0</td>\n",
       "    </tr>\n",
       "    <tr>\n",
       "      <th>111243</th>\n",
       "      <td>1</td>\n",
       "      <td>Male</td>\n",
       "      <td>Loyal Customer</td>\n",
       "      <td>35</td>\n",
       "      <td>Business travel</td>\n",
       "      <td>Business</td>\n",
       "      <td>2617</td>\n",
       "      <td>1</td>\n",
       "      <td>1</td>\n",
       "      <td>1</td>\n",
       "      <td>...</td>\n",
       "      <td>2</td>\n",
       "      <td>4</td>\n",
       "      <td>5</td>\n",
       "      <td>5</td>\n",
       "      <td>5</td>\n",
       "      <td>3</td>\n",
       "      <td>3</td>\n",
       "      <td>5</td>\n",
       "      <td>5</td>\n",
       "      <td>1.0</td>\n",
       "    </tr>\n",
       "    <tr>\n",
       "      <th>82528</th>\n",
       "      <td>0</td>\n",
       "      <td>Female</td>\n",
       "      <td>Loyal Customer</td>\n",
       "      <td>62</td>\n",
       "      <td>Business travel</td>\n",
       "      <td>Business</td>\n",
       "      <td>732</td>\n",
       "      <td>3</td>\n",
       "      <td>5</td>\n",
       "      <td>5</td>\n",
       "      <td>...</td>\n",
       "      <td>2</td>\n",
       "      <td>3</td>\n",
       "      <td>3</td>\n",
       "      <td>3</td>\n",
       "      <td>3</td>\n",
       "      <td>3</td>\n",
       "      <td>2</td>\n",
       "      <td>3</td>\n",
       "      <td>1</td>\n",
       "      <td>86.0</td>\n",
       "    </tr>\n",
       "    <tr>\n",
       "      <th>97836</th>\n",
       "      <td>1</td>\n",
       "      <td>Male</td>\n",
       "      <td>Loyal Customer</td>\n",
       "      <td>47</td>\n",
       "      <td>Business travel</td>\n",
       "      <td>Business</td>\n",
       "      <td>2215</td>\n",
       "      <td>2</td>\n",
       "      <td>2</td>\n",
       "      <td>2</td>\n",
       "      <td>...</td>\n",
       "      <td>3</td>\n",
       "      <td>1</td>\n",
       "      <td>4</td>\n",
       "      <td>4</td>\n",
       "      <td>4</td>\n",
       "      <td>4</td>\n",
       "      <td>1</td>\n",
       "      <td>4</td>\n",
       "      <td>1</td>\n",
       "      <td>0.0</td>\n",
       "    </tr>\n",
       "    <tr>\n",
       "      <th>11710</th>\n",
       "      <td>1</td>\n",
       "      <td>Female</td>\n",
       "      <td>Loyal Customer</td>\n",
       "      <td>27</td>\n",
       "      <td>Personal Travel</td>\n",
       "      <td>Eco</td>\n",
       "      <td>1333</td>\n",
       "      <td>4</td>\n",
       "      <td>3</td>\n",
       "      <td>3</td>\n",
       "      <td>...</td>\n",
       "      <td>4</td>\n",
       "      <td>4</td>\n",
       "      <td>4</td>\n",
       "      <td>5</td>\n",
       "      <td>2</td>\n",
       "      <td>2</td>\n",
       "      <td>5</td>\n",
       "      <td>2</td>\n",
       "      <td>4</td>\n",
       "      <td>11.0</td>\n",
       "    </tr>\n",
       "    <tr>\n",
       "      <th>...</th>\n",
       "      <td>...</td>\n",
       "      <td>...</td>\n",
       "      <td>...</td>\n",
       "      <td>...</td>\n",
       "      <td>...</td>\n",
       "      <td>...</td>\n",
       "      <td>...</td>\n",
       "      <td>...</td>\n",
       "      <td>...</td>\n",
       "      <td>...</td>\n",
       "      <td>...</td>\n",
       "      <td>...</td>\n",
       "      <td>...</td>\n",
       "      <td>...</td>\n",
       "      <td>...</td>\n",
       "      <td>...</td>\n",
       "      <td>...</td>\n",
       "      <td>...</td>\n",
       "      <td>...</td>\n",
       "      <td>...</td>\n",
       "      <td>...</td>\n",
       "    </tr>\n",
       "    <tr>\n",
       "      <th>34452</th>\n",
       "      <td>0</td>\n",
       "      <td>Female</td>\n",
       "      <td>Loyal Customer</td>\n",
       "      <td>45</td>\n",
       "      <td>Personal Travel</td>\n",
       "      <td>Eco</td>\n",
       "      <td>740</td>\n",
       "      <td>4</td>\n",
       "      <td>4</td>\n",
       "      <td>4</td>\n",
       "      <td>...</td>\n",
       "      <td>5</td>\n",
       "      <td>1</td>\n",
       "      <td>3</td>\n",
       "      <td>3</td>\n",
       "      <td>4</td>\n",
       "      <td>4</td>\n",
       "      <td>2</td>\n",
       "      <td>3</td>\n",
       "      <td>4</td>\n",
       "      <td>0.0</td>\n",
       "    </tr>\n",
       "    <tr>\n",
       "      <th>6560</th>\n",
       "      <td>1</td>\n",
       "      <td>Female</td>\n",
       "      <td>Loyal Customer</td>\n",
       "      <td>61</td>\n",
       "      <td>Personal Travel</td>\n",
       "      <td>Eco</td>\n",
       "      <td>519</td>\n",
       "      <td>3</td>\n",
       "      <td>3</td>\n",
       "      <td>3</td>\n",
       "      <td>...</td>\n",
       "      <td>4</td>\n",
       "      <td>4</td>\n",
       "      <td>3</td>\n",
       "      <td>3</td>\n",
       "      <td>3</td>\n",
       "      <td>3</td>\n",
       "      <td>3</td>\n",
       "      <td>3</td>\n",
       "      <td>3</td>\n",
       "      <td>4.0</td>\n",
       "    </tr>\n",
       "    <tr>\n",
       "      <th>123858</th>\n",
       "      <td>1</td>\n",
       "      <td>Male</td>\n",
       "      <td>Loyal Customer</td>\n",
       "      <td>53</td>\n",
       "      <td>Business travel</td>\n",
       "      <td>Business</td>\n",
       "      <td>334</td>\n",
       "      <td>2</td>\n",
       "      <td>2</td>\n",
       "      <td>2</td>\n",
       "      <td>...</td>\n",
       "      <td>5</td>\n",
       "      <td>4</td>\n",
       "      <td>5</td>\n",
       "      <td>5</td>\n",
       "      <td>5</td>\n",
       "      <td>5</td>\n",
       "      <td>5</td>\n",
       "      <td>5</td>\n",
       "      <td>4</td>\n",
       "      <td>1.0</td>\n",
       "    </tr>\n",
       "    <tr>\n",
       "      <th>112293</th>\n",
       "      <td>1</td>\n",
       "      <td>Female</td>\n",
       "      <td>Loyal Customer</td>\n",
       "      <td>48</td>\n",
       "      <td>Business travel</td>\n",
       "      <td>Business</td>\n",
       "      <td>2135</td>\n",
       "      <td>2</td>\n",
       "      <td>2</td>\n",
       "      <td>2</td>\n",
       "      <td>...</td>\n",
       "      <td>5</td>\n",
       "      <td>5</td>\n",
       "      <td>4</td>\n",
       "      <td>4</td>\n",
       "      <td>5</td>\n",
       "      <td>4</td>\n",
       "      <td>3</td>\n",
       "      <td>4</td>\n",
       "      <td>5</td>\n",
       "      <td>0.0</td>\n",
       "    </tr>\n",
       "    <tr>\n",
       "      <th>104552</th>\n",
       "      <td>0</td>\n",
       "      <td>Female</td>\n",
       "      <td>Loyal Customer</td>\n",
       "      <td>45</td>\n",
       "      <td>Business travel</td>\n",
       "      <td>Eco</td>\n",
       "      <td>738</td>\n",
       "      <td>4</td>\n",
       "      <td>2</td>\n",
       "      <td>2</td>\n",
       "      <td>...</td>\n",
       "      <td>4</td>\n",
       "      <td>4</td>\n",
       "      <td>4</td>\n",
       "      <td>4</td>\n",
       "      <td>4</td>\n",
       "      <td>4</td>\n",
       "      <td>1</td>\n",
       "      <td>4</td>\n",
       "      <td>3</td>\n",
       "      <td>6.0</td>\n",
       "    </tr>\n",
       "  </tbody>\n",
       "</table>\n",
       "<p>12988 rows × 22 columns</p>\n",
       "</div>"
      ],
      "text/plain": [
       "        satisfaction  Gender      Customer_Type  Age   Type_of_Travel  \\\n",
       "43812              0    Male  disloyal Customer   38  Business travel   \n",
       "111243             1    Male     Loyal Customer   35  Business travel   \n",
       "82528              0  Female     Loyal Customer   62  Business travel   \n",
       "97836              1    Male     Loyal Customer   47  Business travel   \n",
       "11710              1  Female     Loyal Customer   27  Personal Travel   \n",
       "...              ...     ...                ...  ...              ...   \n",
       "34452              0  Female     Loyal Customer   45  Personal Travel   \n",
       "6560               1  Female     Loyal Customer   61  Personal Travel   \n",
       "123858             1    Male     Loyal Customer   53  Business travel   \n",
       "112293             1  Female     Loyal Customer   48  Business travel   \n",
       "104552             0  Female     Loyal Customer   45  Business travel   \n",
       "\n",
       "           Class  Flight_Distance  Seat_comfort  \\\n",
       "43812   Business             1309             1   \n",
       "111243  Business             2617             1   \n",
       "82528   Business              732             3   \n",
       "97836   Business             2215             2   \n",
       "11710        Eco             1333             4   \n",
       "...          ...              ...           ...   \n",
       "34452        Eco              740             4   \n",
       "6560         Eco              519             3   \n",
       "123858  Business              334             2   \n",
       "112293  Business             2135             2   \n",
       "104552       Eco              738             4   \n",
       "\n",
       "        Departure/Arrival_time_convenient  Food_and_drink  ...  \\\n",
       "43812                                   2               2  ...   \n",
       "111243                                  1               1  ...   \n",
       "82528                                   5               5  ...   \n",
       "97836                                   2               2  ...   \n",
       "11710                                   3               3  ...   \n",
       "...                                   ...             ...  ...   \n",
       "34452                                   4               4  ...   \n",
       "6560                                    3               3  ...   \n",
       "123858                                  2               2  ...   \n",
       "112293                                  2               2  ...   \n",
       "104552                                  2               2  ...   \n",
       "\n",
       "        Inflight_entertainment  Online_support  Ease_of_Online_booking  \\\n",
       "43812                        2               1                       1   \n",
       "111243                       2               4                       5   \n",
       "82528                        2               3                       3   \n",
       "97836                        3               1                       4   \n",
       "11710                        4               4                       4   \n",
       "...                        ...             ...                     ...   \n",
       "34452                        5               1                       3   \n",
       "6560                         4               4                       3   \n",
       "123858                       5               4                       5   \n",
       "112293                       5               5                       4   \n",
       "104552                       4               4                       4   \n",
       "\n",
       "        On_board_service  Leg_room_service  Baggage_handling  Checkin_service  \\\n",
       "43812                  2                 4                 4                2   \n",
       "111243                 5                 5                 3                3   \n",
       "82528                  3                 3                 3                2   \n",
       "97836                  4                 4                 4                1   \n",
       "11710                  5                 2                 2                5   \n",
       "...                  ...               ...               ...              ...   \n",
       "34452                  3                 4                 4                2   \n",
       "6560                   3                 3                 3                3   \n",
       "123858                 5                 5                 5                5   \n",
       "112293                 4                 5                 4                3   \n",
       "104552                 4                 4                 4                1   \n",
       "\n",
       "        Cleanliness  Online_boarding  Delay_in_Minutes  \n",
       "43812             3                1               0.0  \n",
       "111243            5                5               1.0  \n",
       "82528             3                1              86.0  \n",
       "97836             4                1               0.0  \n",
       "11710             2                4              11.0  \n",
       "...             ...              ...               ...  \n",
       "34452             3                4               0.0  \n",
       "6560              3                3               4.0  \n",
       "123858            5                4               1.0  \n",
       "112293            4                5               0.0  \n",
       "104552            4                3               6.0  \n",
       "\n",
       "[12988 rows x 22 columns]"
      ]
     },
     "execution_count": 43,
     "metadata": {},
     "output_type": "execute_result"
    }
   ],
   "source": [
    "strat_train_set.drop(\"Age_cat\", axis= 1)\n",
    "strat_dev_set.drop(\"Age_cat\", axis= 1)\n",
    "strat_test_set.drop(\"Age_cat\", axis= 1)"
   ]
  },
  {
   "cell_type": "markdown",
   "id": "66e91eaf",
   "metadata": {
    "id": "86342136"
   },
   "source": [
    "##### Split label"
   ]
  },
  {
   "cell_type": "code",
   "execution_count": 44,
   "id": "cec1985b",
   "metadata": {
    "id": "83946ccc"
   },
   "outputs": [],
   "source": [
    "# For train set\n",
    "y_train = strat_train_set['satisfaction']\n",
    "X_train = strat_train_set.drop(\"satisfaction\",axis =1 )"
   ]
  },
  {
   "cell_type": "code",
   "execution_count": 45,
   "id": "6a0bbec4",
   "metadata": {
    "id": "7ff6388f"
   },
   "outputs": [],
   "source": [
    "#For dev set\n",
    "y_dev = strat_dev_set['satisfaction']\n",
    "X_dev = strat_dev_set.drop(\"satisfaction\",axis = 1)"
   ]
  },
  {
   "cell_type": "code",
   "execution_count": 46,
   "id": "d2a9519e",
   "metadata": {
    "id": "RpcI9szcpcT1"
   },
   "outputs": [],
   "source": [
    "#For test set\n",
    "y_test = strat_test_set['satisfaction']\n",
    "X_test = strat_test_set.drop(\"satisfaction\",axis = 1)"
   ]
  },
  {
   "cell_type": "markdown",
   "id": "2e76a9b7",
   "metadata": {
    "id": "88e37239"
   },
   "source": [
    "##### Feature selection"
   ]
  },
  {
   "cell_type": "code",
   "execution_count": null,
   "id": "88879dfc",
   "metadata": {
    "id": "48cb08ae"
   },
   "outputs": [],
   "source": []
  },
  {
   "cell_type": "markdown",
   "id": "2aaab9d4",
   "metadata": {
    "id": "acc462b9"
   },
   "source": [
    "##### Build Pipeline to Preprocessing"
   ]
  },
  {
   "cell_type": "code",
   "execution_count": 47,
   "id": "16112001",
   "metadata": {
    "id": "5b977b34"
   },
   "outputs": [],
   "source": [
    "#split numberic columns and categorical columns to preprocessing \n",
    "col_cat = X_train.columns[X_train.dtypes==object]\n",
    "col_num = X_train.columns[X_train.dtypes!=object]"
   ]
  },
  {
   "cell_type": "code",
   "execution_count": 48,
   "id": "c54ae556",
   "metadata": {
    "colab": {
     "base_uri": "https://localhost:8080/"
    },
    "id": "3729a5d2",
    "outputId": "7cd54434-80d8-46b8-f872-4e9a231922b8",
    "scrolled": true
   },
   "outputs": [],
   "source": [
    "onehot_col = ['Gender','Customer_Type','Class']\n",
    "ordi_col = col_cat.drop(['Gender','Customer_Type','Class'])"
   ]
  },
  {
   "cell_type": "code",
   "execution_count": 49,
   "id": "969d6e63",
   "metadata": {
    "id": "f5c238c3"
   },
   "outputs": [],
   "source": [
    "#strat_train_set = strat_train_set[~((data_train_num < Q1-1.5*IQR)|(data_train_num > Q3+1.5*IQR)).any(axis = 1)]"
   ]
  },
  {
   "cell_type": "markdown",
   "id": "ea94634e",
   "metadata": {
    "id": "0adbbed3"
   },
   "source": [
    "#####  Pipeline handle numeric"
   ]
  },
  {
   "cell_type": "code",
   "execution_count": 50,
   "id": "1d18ac01",
   "metadata": {
    "id": "b0ec7ef3"
   },
   "outputs": [],
   "source": [
    "#pipeline handle missing values and scaling feature\n",
    "num_pipeline = Pipeline([\n",
    " ('imputer', SimpleImputer(strategy=\"mean\")),\n",
    " ('std_scaler', MinMaxScaler()),\n",
    " ])\n",
    " "
   ]
  },
  {
   "cell_type": "markdown",
   "id": "9c4d3a5d",
   "metadata": {
    "id": "7c92cfa1"
   },
   "source": [
    "##### Pipeline handle Numeric & categorical"
   ]
  },
  {
   "cell_type": "code",
   "execution_count": 51,
   "id": "a32e9b0b",
   "metadata": {
    "id": "4fae2db5",
    "scrolled": true
   },
   "outputs": [],
   "source": [
    "# full pipeline handle categorical columns and numberic columns\n",
    "\n",
    "full_pipeline = ColumnTransformer([\n",
    "         (\"num\", num_pipeline, col_num),\n",
    "         (\"ordi\",OrdinalEncoder(), ordi_col),\n",
    "         (\"onehot\",OneHotEncoder(), onehot_col)\n",
    " ])"
   ]
  },
  {
   "cell_type": "code",
   "execution_count": 52,
   "id": "062cd393",
   "metadata": {
    "scrolled": true
   },
   "outputs": [
    {
     "data": {
      "text/plain": [
       "Index(['Age', 'Flight_Distance', 'Seat_comfort',\n",
       "       'Departure/Arrival_time_convenient', 'Food_and_drink', 'Gate_location',\n",
       "       'Inflight_wifi_service', 'Inflight_entertainment', 'Online_support',\n",
       "       'Ease_of_Online_booking', 'On_board_service', 'Leg_room_service',\n",
       "       'Baggage_handling', 'Checkin_service', 'Cleanliness', 'Online_boarding',\n",
       "       'Delay_in_Minutes'],\n",
       "      dtype='object')"
      ]
     },
     "execution_count": 52,
     "metadata": {},
     "output_type": "execute_result"
    }
   ],
   "source": [
    "col_num"
   ]
  },
  {
   "cell_type": "code",
   "execution_count": 53,
   "id": "c600fd34",
   "metadata": {},
   "outputs": [],
   "source": [
    "full_pipeline.fit(X_train)\n",
    "X_train= full_pipeline.transform(X_train)"
   ]
  },
  {
   "cell_type": "code",
   "execution_count": 54,
   "id": "c83ad1d8",
   "metadata": {},
   "outputs": [],
   "source": [
    "col_name = list(col_num) + list(ordi_col)"
   ]
  },
  {
   "cell_type": "code",
   "execution_count": 55,
   "id": "7633cdcd",
   "metadata": {},
   "outputs": [],
   "source": [
    "full_col_name = col_name + list(full_pipeline.named_transformers_.onehot.get_feature_names())"
   ]
  },
  {
   "cell_type": "code",
   "execution_count": 56,
   "id": "c7cc3a4d",
   "metadata": {
    "id": "0b577a9d"
   },
   "outputs": [],
   "source": [
    "#Use pipeline preprocessing for X_train\n",
    "X_train =pd.DataFrame(X_train,columns=full_col_name)"
   ]
  },
  {
   "cell_type": "code",
   "execution_count": 57,
   "id": "e1acd0fe",
   "metadata": {
    "id": "eb71754b"
   },
   "outputs": [],
   "source": [
    "#Use pipeline preprocessing for X_test)\n",
    "X_dev = full_pipeline.transform(X_dev)\n",
    "X_test = full_pipeline.transform(X_test)\n",
    "X_test = pd.DataFrame(X_test,columns=full_col_name)\n",
    "X_dev = pd.DataFrame(X_dev,columns=full_col_name)"
   ]
  },
  {
   "cell_type": "markdown",
   "id": "59a10fe5",
   "metadata": {
    "id": "3e09db1a"
   },
   "source": [
    "# IV. Select and Train a model"
   ]
  },
  {
   "cell_type": "markdown",
   "id": "6386e652",
   "metadata": {},
   "source": [
    "## 1. Logistic Regression"
   ]
  },
  {
   "cell_type": "code",
   "execution_count": 58,
   "id": "521ba678",
   "metadata": {
    "id": "a0787f0f"
   },
   "outputs": [],
   "source": [
    "log_reg = LogisticRegression(penalty= 'l2', solver='sag', n_jobs= -1, tol= 0.1, C= 5, multi_class= 'multinomial',)#max_iter=1000)"
   ]
  },
  {
   "cell_type": "code",
   "execution_count": 59,
   "id": "1af52d58",
   "metadata": {},
   "outputs": [
    {
     "data": {
      "text/plain": [
       "LogisticRegression(C=5, multi_class='multinomial', n_jobs=-1, solver='sag',\n",
       "                   tol=0.1)"
      ]
     },
     "execution_count": 59,
     "metadata": {},
     "output_type": "execute_result"
    }
   ],
   "source": [
    "log_reg.fit(X_train, y_train)"
   ]
  },
  {
   "cell_type": "code",
   "execution_count": 60,
   "id": "b5ace129",
   "metadata": {
    "id": "60c1ef5b"
   },
   "outputs": [],
   "source": [
    "predict_dev = log_reg.predict(X_dev)"
   ]
  },
  {
   "cell_type": "code",
   "execution_count": 61,
   "id": "a53859f6",
   "metadata": {
    "id": "fab1cfd1"
   },
   "outputs": [
    {
     "name": "stdout",
     "output_type": "stream",
     "text": [
      "[[4253  711]\n",
      " [1595 6429]]\n"
     ]
    }
   ],
   "source": [
    "print(confusion_matrix(predict_dev, y_dev))"
   ]
  },
  {
   "cell_type": "code",
   "execution_count": 62,
   "id": "128e1056",
   "metadata": {
    "id": "5dc7f8b7",
    "scrolled": true
   },
   "outputs": [
    {
     "name": "stdout",
     "output_type": "stream",
     "text": [
      "              precision    recall  f1-score   support\n",
      "\n",
      "           0       0.73      0.86      0.79      4964\n",
      "           1       0.90      0.80      0.85      8024\n",
      "\n",
      "    accuracy                           0.82     12988\n",
      "   macro avg       0.81      0.83      0.82     12988\n",
      "weighted avg       0.83      0.82      0.82     12988\n",
      "\n"
     ]
    }
   ],
   "source": [
    "print(classification_report(predict_dev, y_dev))"
   ]
  },
  {
   "cell_type": "code",
   "execution_count": 63,
   "id": "5c053c75",
   "metadata": {},
   "outputs": [
    {
     "data": {
      "text/html": [
       "<div>\n",
       "<style scoped>\n",
       "    .dataframe tbody tr th:only-of-type {\n",
       "        vertical-align: middle;\n",
       "    }\n",
       "\n",
       "    .dataframe tbody tr th {\n",
       "        vertical-align: top;\n",
       "    }\n",
       "\n",
       "    .dataframe thead th {\n",
       "        text-align: right;\n",
       "    }\n",
       "</style>\n",
       "<table border=\"1\" class=\"dataframe\">\n",
       "  <thead>\n",
       "    <tr style=\"text-align: right;\">\n",
       "      <th></th>\n",
       "      <th>Age</th>\n",
       "      <th>Flight_Distance</th>\n",
       "      <th>Seat_comfort</th>\n",
       "      <th>Departure/Arrival_time_convenient</th>\n",
       "      <th>Food_and_drink</th>\n",
       "      <th>Gate_location</th>\n",
       "      <th>Inflight_wifi_service</th>\n",
       "      <th>Inflight_entertainment</th>\n",
       "      <th>Online_support</th>\n",
       "      <th>Ease_of_Online_booking</th>\n",
       "      <th>...</th>\n",
       "      <th>Delay_in_Minutes</th>\n",
       "      <th>Type_of_Travel</th>\n",
       "      <th>Age_cat</th>\n",
       "      <th>x0_Female</th>\n",
       "      <th>x0_Male</th>\n",
       "      <th>x1_Loyal Customer</th>\n",
       "      <th>x1_disloyal Customer</th>\n",
       "      <th>x2_Business</th>\n",
       "      <th>x2_Eco</th>\n",
       "      <th>x2_Eco Plus</th>\n",
       "    </tr>\n",
       "  </thead>\n",
       "  <tbody>\n",
       "    <tr>\n",
       "      <th>0</th>\n",
       "      <td>0.217949</td>\n",
       "      <td>0.110564</td>\n",
       "      <td>0.4</td>\n",
       "      <td>0.0</td>\n",
       "      <td>0.4</td>\n",
       "      <td>0.6</td>\n",
       "      <td>0.2</td>\n",
       "      <td>0.4</td>\n",
       "      <td>0.2</td>\n",
       "      <td>0.2</td>\n",
       "      <td>...</td>\n",
       "      <td>0.000000</td>\n",
       "      <td>0.0</td>\n",
       "      <td>2.0</td>\n",
       "      <td>1.0</td>\n",
       "      <td>0.0</td>\n",
       "      <td>0.0</td>\n",
       "      <td>1.0</td>\n",
       "      <td>0.0</td>\n",
       "      <td>1.0</td>\n",
       "      <td>0.0</td>\n",
       "    </tr>\n",
       "    <tr>\n",
       "      <th>1</th>\n",
       "      <td>0.615385</td>\n",
       "      <td>0.141719</td>\n",
       "      <td>0.6</td>\n",
       "      <td>0.6</td>\n",
       "      <td>0.6</td>\n",
       "      <td>0.6</td>\n",
       "      <td>0.4</td>\n",
       "      <td>0.8</td>\n",
       "      <td>0.8</td>\n",
       "      <td>0.6</td>\n",
       "      <td>...</td>\n",
       "      <td>0.000630</td>\n",
       "      <td>0.0</td>\n",
       "      <td>0.0</td>\n",
       "      <td>0.0</td>\n",
       "      <td>1.0</td>\n",
       "      <td>1.0</td>\n",
       "      <td>0.0</td>\n",
       "      <td>1.0</td>\n",
       "      <td>0.0</td>\n",
       "      <td>0.0</td>\n",
       "    </tr>\n",
       "    <tr>\n",
       "      <th>2</th>\n",
       "      <td>0.282051</td>\n",
       "      <td>0.358789</td>\n",
       "      <td>1.0</td>\n",
       "      <td>1.0</td>\n",
       "      <td>1.0</td>\n",
       "      <td>1.0</td>\n",
       "      <td>1.0</td>\n",
       "      <td>1.0</td>\n",
       "      <td>1.0</td>\n",
       "      <td>1.0</td>\n",
       "      <td>...</td>\n",
       "      <td>0.005668</td>\n",
       "      <td>0.0</td>\n",
       "      <td>0.0</td>\n",
       "      <td>0.0</td>\n",
       "      <td>1.0</td>\n",
       "      <td>1.0</td>\n",
       "      <td>0.0</td>\n",
       "      <td>1.0</td>\n",
       "      <td>0.0</td>\n",
       "      <td>0.0</td>\n",
       "    </tr>\n",
       "    <tr>\n",
       "      <th>3</th>\n",
       "      <td>0.205128</td>\n",
       "      <td>0.474279</td>\n",
       "      <td>0.4</td>\n",
       "      <td>0.2</td>\n",
       "      <td>1.0</td>\n",
       "      <td>1.0</td>\n",
       "      <td>0.4</td>\n",
       "      <td>0.4</td>\n",
       "      <td>0.4</td>\n",
       "      <td>0.4</td>\n",
       "      <td>...</td>\n",
       "      <td>0.000000</td>\n",
       "      <td>0.0</td>\n",
       "      <td>2.0</td>\n",
       "      <td>1.0</td>\n",
       "      <td>0.0</td>\n",
       "      <td>1.0</td>\n",
       "      <td>0.0</td>\n",
       "      <td>1.0</td>\n",
       "      <td>0.0</td>\n",
       "      <td>0.0</td>\n",
       "    </tr>\n",
       "    <tr>\n",
       "      <th>4</th>\n",
       "      <td>0.435897</td>\n",
       "      <td>0.087524</td>\n",
       "      <td>1.0</td>\n",
       "      <td>1.0</td>\n",
       "      <td>1.0</td>\n",
       "      <td>1.0</td>\n",
       "      <td>0.8</td>\n",
       "      <td>0.8</td>\n",
       "      <td>0.8</td>\n",
       "      <td>0.6</td>\n",
       "      <td>...</td>\n",
       "      <td>0.009397</td>\n",
       "      <td>0.0</td>\n",
       "      <td>0.0</td>\n",
       "      <td>0.0</td>\n",
       "      <td>1.0</td>\n",
       "      <td>1.0</td>\n",
       "      <td>0.0</td>\n",
       "      <td>1.0</td>\n",
       "      <td>0.0</td>\n",
       "      <td>0.0</td>\n",
       "    </tr>\n",
       "    <tr>\n",
       "      <th>...</th>\n",
       "      <td>...</td>\n",
       "      <td>...</td>\n",
       "      <td>...</td>\n",
       "      <td>...</td>\n",
       "      <td>...</td>\n",
       "      <td>...</td>\n",
       "      <td>...</td>\n",
       "      <td>...</td>\n",
       "      <td>...</td>\n",
       "      <td>...</td>\n",
       "      <td>...</td>\n",
       "      <td>...</td>\n",
       "      <td>...</td>\n",
       "      <td>...</td>\n",
       "      <td>...</td>\n",
       "      <td>...</td>\n",
       "      <td>...</td>\n",
       "      <td>...</td>\n",
       "      <td>...</td>\n",
       "      <td>...</td>\n",
       "      <td>...</td>\n",
       "    </tr>\n",
       "    <tr>\n",
       "      <th>12983</th>\n",
       "      <td>0.423077</td>\n",
       "      <td>0.090277</td>\n",
       "      <td>0.6</td>\n",
       "      <td>0.6</td>\n",
       "      <td>1.0</td>\n",
       "      <td>0.6</td>\n",
       "      <td>0.4</td>\n",
       "      <td>1.0</td>\n",
       "      <td>1.0</td>\n",
       "      <td>1.0</td>\n",
       "      <td>...</td>\n",
       "      <td>0.016373</td>\n",
       "      <td>0.0</td>\n",
       "      <td>0.0</td>\n",
       "      <td>0.0</td>\n",
       "      <td>1.0</td>\n",
       "      <td>1.0</td>\n",
       "      <td>0.0</td>\n",
       "      <td>1.0</td>\n",
       "      <td>0.0</td>\n",
       "      <td>0.0</td>\n",
       "    </tr>\n",
       "    <tr>\n",
       "      <th>12984</th>\n",
       "      <td>0.038462</td>\n",
       "      <td>0.289523</td>\n",
       "      <td>0.6</td>\n",
       "      <td>0.8</td>\n",
       "      <td>0.6</td>\n",
       "      <td>0.4</td>\n",
       "      <td>0.2</td>\n",
       "      <td>0.6</td>\n",
       "      <td>0.2</td>\n",
       "      <td>0.2</td>\n",
       "      <td>...</td>\n",
       "      <td>0.005668</td>\n",
       "      <td>1.0</td>\n",
       "      <td>2.0</td>\n",
       "      <td>0.0</td>\n",
       "      <td>1.0</td>\n",
       "      <td>1.0</td>\n",
       "      <td>0.0</td>\n",
       "      <td>0.0</td>\n",
       "      <td>1.0</td>\n",
       "      <td>0.0</td>\n",
       "    </tr>\n",
       "    <tr>\n",
       "      <th>12985</th>\n",
       "      <td>0.205128</td>\n",
       "      <td>0.312998</td>\n",
       "      <td>1.0</td>\n",
       "      <td>1.0</td>\n",
       "      <td>1.0</td>\n",
       "      <td>1.0</td>\n",
       "      <td>0.4</td>\n",
       "      <td>0.4</td>\n",
       "      <td>0.4</td>\n",
       "      <td>0.4</td>\n",
       "      <td>...</td>\n",
       "      <td>0.003149</td>\n",
       "      <td>0.0</td>\n",
       "      <td>2.0</td>\n",
       "      <td>0.0</td>\n",
       "      <td>1.0</td>\n",
       "      <td>1.0</td>\n",
       "      <td>0.0</td>\n",
       "      <td>1.0</td>\n",
       "      <td>0.0</td>\n",
       "      <td>0.0</td>\n",
       "    </tr>\n",
       "    <tr>\n",
       "      <th>12986</th>\n",
       "      <td>0.564103</td>\n",
       "      <td>0.027967</td>\n",
       "      <td>1.0</td>\n",
       "      <td>1.0</td>\n",
       "      <td>1.0</td>\n",
       "      <td>1.0</td>\n",
       "      <td>0.8</td>\n",
       "      <td>1.0</td>\n",
       "      <td>0.8</td>\n",
       "      <td>0.8</td>\n",
       "      <td>...</td>\n",
       "      <td>0.000000</td>\n",
       "      <td>1.0</td>\n",
       "      <td>0.0</td>\n",
       "      <td>1.0</td>\n",
       "      <td>0.0</td>\n",
       "      <td>1.0</td>\n",
       "      <td>0.0</td>\n",
       "      <td>0.0</td>\n",
       "      <td>1.0</td>\n",
       "      <td>0.0</td>\n",
       "    </tr>\n",
       "    <tr>\n",
       "      <th>12987</th>\n",
       "      <td>0.807692</td>\n",
       "      <td>0.094189</td>\n",
       "      <td>1.0</td>\n",
       "      <td>0.8</td>\n",
       "      <td>0.2</td>\n",
       "      <td>0.8</td>\n",
       "      <td>1.0</td>\n",
       "      <td>0.4</td>\n",
       "      <td>0.2</td>\n",
       "      <td>0.8</td>\n",
       "      <td>...</td>\n",
       "      <td>0.000000</td>\n",
       "      <td>0.0</td>\n",
       "      <td>1.0</td>\n",
       "      <td>1.0</td>\n",
       "      <td>0.0</td>\n",
       "      <td>1.0</td>\n",
       "      <td>0.0</td>\n",
       "      <td>0.0</td>\n",
       "      <td>1.0</td>\n",
       "      <td>0.0</td>\n",
       "    </tr>\n",
       "  </tbody>\n",
       "</table>\n",
       "<p>12988 rows × 26 columns</p>\n",
       "</div>"
      ],
      "text/plain": [
       "            Age  Flight_Distance  Seat_comfort  \\\n",
       "0      0.217949         0.110564           0.4   \n",
       "1      0.615385         0.141719           0.6   \n",
       "2      0.282051         0.358789           1.0   \n",
       "3      0.205128         0.474279           0.4   \n",
       "4      0.435897         0.087524           1.0   \n",
       "...         ...              ...           ...   \n",
       "12983  0.423077         0.090277           0.6   \n",
       "12984  0.038462         0.289523           0.6   \n",
       "12985  0.205128         0.312998           1.0   \n",
       "12986  0.564103         0.027967           1.0   \n",
       "12987  0.807692         0.094189           1.0   \n",
       "\n",
       "       Departure/Arrival_time_convenient  Food_and_drink  Gate_location  \\\n",
       "0                                    0.0             0.4            0.6   \n",
       "1                                    0.6             0.6            0.6   \n",
       "2                                    1.0             1.0            1.0   \n",
       "3                                    0.2             1.0            1.0   \n",
       "4                                    1.0             1.0            1.0   \n",
       "...                                  ...             ...            ...   \n",
       "12983                                0.6             1.0            0.6   \n",
       "12984                                0.8             0.6            0.4   \n",
       "12985                                1.0             1.0            1.0   \n",
       "12986                                1.0             1.0            1.0   \n",
       "12987                                0.8             0.2            0.8   \n",
       "\n",
       "       Inflight_wifi_service  Inflight_entertainment  Online_support  \\\n",
       "0                        0.2                     0.4             0.2   \n",
       "1                        0.4                     0.8             0.8   \n",
       "2                        1.0                     1.0             1.0   \n",
       "3                        0.4                     0.4             0.4   \n",
       "4                        0.8                     0.8             0.8   \n",
       "...                      ...                     ...             ...   \n",
       "12983                    0.4                     1.0             1.0   \n",
       "12984                    0.2                     0.6             0.2   \n",
       "12985                    0.4                     0.4             0.4   \n",
       "12986                    0.8                     1.0             0.8   \n",
       "12987                    1.0                     0.4             0.2   \n",
       "\n",
       "       Ease_of_Online_booking  ...  Delay_in_Minutes  Type_of_Travel  Age_cat  \\\n",
       "0                         0.2  ...          0.000000             0.0      2.0   \n",
       "1                         0.6  ...          0.000630             0.0      0.0   \n",
       "2                         1.0  ...          0.005668             0.0      0.0   \n",
       "3                         0.4  ...          0.000000             0.0      2.0   \n",
       "4                         0.6  ...          0.009397             0.0      0.0   \n",
       "...                       ...  ...               ...             ...      ...   \n",
       "12983                     1.0  ...          0.016373             0.0      0.0   \n",
       "12984                     0.2  ...          0.005668             1.0      2.0   \n",
       "12985                     0.4  ...          0.003149             0.0      2.0   \n",
       "12986                     0.8  ...          0.000000             1.0      0.0   \n",
       "12987                     0.8  ...          0.000000             0.0      1.0   \n",
       "\n",
       "       x0_Female  x0_Male  x1_Loyal Customer  x1_disloyal Customer  \\\n",
       "0            1.0      0.0                0.0                   1.0   \n",
       "1            0.0      1.0                1.0                   0.0   \n",
       "2            0.0      1.0                1.0                   0.0   \n",
       "3            1.0      0.0                1.0                   0.0   \n",
       "4            0.0      1.0                1.0                   0.0   \n",
       "...          ...      ...                ...                   ...   \n",
       "12983        0.0      1.0                1.0                   0.0   \n",
       "12984        0.0      1.0                1.0                   0.0   \n",
       "12985        0.0      1.0                1.0                   0.0   \n",
       "12986        1.0      0.0                1.0                   0.0   \n",
       "12987        1.0      0.0                1.0                   0.0   \n",
       "\n",
       "       x2_Business  x2_Eco  x2_Eco Plus  \n",
       "0              0.0     1.0          0.0  \n",
       "1              1.0     0.0          0.0  \n",
       "2              1.0     0.0          0.0  \n",
       "3              1.0     0.0          0.0  \n",
       "4              1.0     0.0          0.0  \n",
       "...            ...     ...          ...  \n",
       "12983          1.0     0.0          0.0  \n",
       "12984          0.0     1.0          0.0  \n",
       "12985          1.0     0.0          0.0  \n",
       "12986          0.0     1.0          0.0  \n",
       "12987          0.0     1.0          0.0  \n",
       "\n",
       "[12988 rows x 26 columns]"
      ]
     },
     "execution_count": 63,
     "metadata": {},
     "output_type": "execute_result"
    }
   ],
   "source": [
    "X_dev"
   ]
  },
  {
   "cell_type": "code",
   "execution_count": 64,
   "id": "20bc838a",
   "metadata": {},
   "outputs": [],
   "source": [
    "log_ = pd.Series(log_reg.coef_.reshape(-1), X_dev.columns).sort_values(ascending= False)"
   ]
  },
  {
   "cell_type": "code",
   "execution_count": 65,
   "id": "6f830be6",
   "metadata": {},
   "outputs": [
    {
     "data": {
      "text/plain": [
       "Inflight_entertainment               1.907802\n",
       "Seat_comfort                         0.930165\n",
       "On_board_service                     0.882805\n",
       "Checkin_service                      0.838720\n",
       "Leg_room_service                     0.633919\n",
       "Ease_of_Online_booking               0.442272\n",
       "Online_boarding                      0.338013\n",
       "Gate_location                        0.330399\n",
       "Baggage_handling                     0.242336\n",
       "Online_support                       0.231135\n",
       "Cleanliness                          0.219844\n",
       "Age_cat                              0.002916\n",
       "Inflight_wifi_service               -0.097165\n",
       "x1_Loyal Customer                   -0.114988\n",
       "x2_Business                         -0.115519\n",
       "Age                                 -0.139974\n",
       "Flight_Distance                     -0.432343\n",
       "Type_of_Travel                      -0.479966\n",
       "x2_Eco                              -0.483808\n",
       "Food_and_drink                      -0.504767\n",
       "x0_Female                           -0.533792\n",
       "Departure/Arrival_time_convenient   -0.563092\n",
       "x2_Eco Plus                         -0.785458\n",
       "x0_Male                             -0.850992\n",
       "x1_disloyal Customer                -1.269797\n",
       "Delay_in_Minutes                    -4.923217\n",
       "dtype: float64"
      ]
     },
     "execution_count": 65,
     "metadata": {},
     "output_type": "execute_result"
    }
   ],
   "source": [
    "log_"
   ]
  },
  {
   "cell_type": "markdown",
   "id": "c3b875e1",
   "metadata": {
    "id": "34eeddd6"
   },
   "source": [
    "### Test with Neural Network"
   ]
  },
  {
   "cell_type": "code",
   "execution_count": 66,
   "id": "c261b76d",
   "metadata": {
    "id": "ee6a6f37"
   },
   "outputs": [],
   "source": [
    "import tensorflow as tf\n",
    "from tensorflow import keras\n",
    "from tensorflow.keras import layers"
   ]
  },
  {
   "cell_type": "code",
   "execution_count": 67,
   "id": "df0c06d5",
   "metadata": {
    "id": "zrZj6nzH7EW5"
   },
   "outputs": [],
   "source": [
    "tf.random.set_seed(1234)"
   ]
  },
  {
   "cell_type": "code",
   "execution_count": 68,
   "id": "52a20fa8",
   "metadata": {
    "id": "e427674d"
   },
   "outputs": [],
   "source": [
    "# Define Sequential model with 3 layers\n",
    "model = keras.Sequential(\n",
    "    [\n",
    "        layers.Dense(256, activation=\"relu\", name=\"layer0\"),\n",
    "        layers.Dense(256, activation=\"relu\", name=\"layer1\"),\n",
    "        \n",
    "        layers.Dense(128, activation=\"linear\", name=\"layer4\"),    \n",
    "        layers.Dense(1, activation='sigmoid')\n",
    "    ]\n",
    ")"
   ]
  },
  {
   "cell_type": "code",
   "execution_count": 69,
   "id": "4469168c",
   "metadata": {
    "id": "64864350"
   },
   "outputs": [],
   "source": [
    "model.compile(\n",
    "        optimizer=\"adam\",\n",
    "        loss='BinaryCrossentropy',\n",
    "        metrics=[tf.keras.metrics.BinaryAccuracy()],\n",
    "        \n",
    ")"
   ]
  },
  {
   "cell_type": "code",
   "execution_count": 70,
   "id": "a1c6a782",
   "metadata": {
    "colab": {
     "base_uri": "https://localhost:8080/"
    },
    "id": "ed589dbb",
    "outputId": "d1c293e6-42bf-48d5-de37-90088aa0e11c"
   },
   "outputs": [
    {
     "name": "stdout",
     "output_type": "stream",
     "text": [
      "Epoch 1/10\n",
      "WARNING:tensorflow:Layer layer0 is casting an input tensor from dtype float64 to the layer's dtype of float32, which is new behavior in TensorFlow 2.  The layer has dtype float32 because its dtype defaults to floatx.\n",
      "\n",
      "If you intended to run this layer in float32, you can safely ignore this warning. If in doubt, this warning is likely only an issue if you are porting a TensorFlow 1.X model to TensorFlow 2.\n",
      "\n",
      "To change all layers to have dtype float64 by default, call `tf.keras.backend.set_floatx('float64')`. To change just this layer, pass dtype='float64' to the layer constructor. If you are the author of this layer, you can disable autocasting by passing autocast=False to the base Layer constructor.\n",
      "\n",
      "406/406 [==============================] - 1s 3ms/step - loss: 0.2470 - binary_accuracy: 0.8948 - val_loss: 0.1879 - val_binary_accuracy: 0.9189\n",
      "Epoch 2/10\n",
      "406/406 [==============================] - 1s 2ms/step - loss: 0.1637 - binary_accuracy: 0.9297 - val_loss: 0.1605 - val_binary_accuracy: 0.9306\n",
      "Epoch 3/10\n",
      "406/406 [==============================] - 1s 2ms/step - loss: 0.1418 - binary_accuracy: 0.9390 - val_loss: 0.1451 - val_binary_accuracy: 0.9365\n",
      "Epoch 4/10\n",
      "406/406 [==============================] - 1s 2ms/step - loss: 0.1303 - binary_accuracy: 0.9433 - val_loss: 0.1293 - val_binary_accuracy: 0.9443\n",
      "Epoch 5/10\n",
      "406/406 [==============================] - 1s 2ms/step - loss: 0.1223 - binary_accuracy: 0.9465 - val_loss: 0.1219 - val_binary_accuracy: 0.9455\n",
      "Epoch 6/10\n",
      "406/406 [==============================] - 1s 2ms/step - loss: 0.1169 - binary_accuracy: 0.9479 - val_loss: 0.1285 - val_binary_accuracy: 0.9407\n",
      "Epoch 7/10\n",
      "406/406 [==============================] - 1s 2ms/step - loss: 0.1128 - binary_accuracy: 0.9497 - val_loss: 0.1192 - val_binary_accuracy: 0.9506\n",
      "Epoch 8/10\n",
      "406/406 [==============================] - 1s 2ms/step - loss: 0.1107 - binary_accuracy: 0.9510 - val_loss: 0.1208 - val_binary_accuracy: 0.9473\n",
      "Epoch 9/10\n",
      "406/406 [==============================] - 1s 2ms/step - loss: 0.1066 - binary_accuracy: 0.9526 - val_loss: 0.1140 - val_binary_accuracy: 0.9510\n",
      "Epoch 10/10\n",
      "406/406 [==============================] - 1s 2ms/step - loss: 0.1048 - binary_accuracy: 0.9543 - val_loss: 0.1110 - val_binary_accuracy: 0.9513\n"
     ]
    }
   ],
   "source": [
    "history = model.fit(\n",
    "    X_train,\n",
    "    y_train,\n",
    "    batch_size=256,\n",
    "    epochs=10,\n",
    "    validation_data=(X_dev, y_dev)\n",
    ")"
   ]
  },
  {
   "cell_type": "code",
   "execution_count": 71,
   "id": "4e2ae36b",
   "metadata": {
    "id": "b7bb25ed"
   },
   "outputs": [],
   "source": [
    "y_proba_neural = model.predict(X_test)"
   ]
  },
  {
   "cell_type": "code",
   "execution_count": 72,
   "id": "5f58daf4",
   "metadata": {
    "colab": {
     "base_uri": "https://localhost:8080/"
    },
    "id": "UfO5Yg7gu0Qn",
    "outputId": "62ada3c6-7cd8-4f0f-fc02-3b30df1be909"
   },
   "outputs": [
    {
     "name": "stdout",
     "output_type": "stream",
     "text": [
      "              precision    recall  f1-score   support\n",
      "\n",
      "       False       0.96      0.93      0.95      6033\n",
      "        True       0.94      0.97      0.95      6955\n",
      "\n",
      "    accuracy                           0.95     12988\n",
      "   macro avg       0.95      0.95      0.95     12988\n",
      "weighted avg       0.95      0.95      0.95     12988\n",
      "\n"
     ]
    }
   ],
   "source": [
    "print(classification_report(y_proba_neural > 0.5 , y_test))"
   ]
  },
  {
   "cell_type": "markdown",
   "id": "5d824eb0",
   "metadata": {
    "id": "TyuTpCyily1Y"
   },
   "source": [
    "### Randomforest"
   ]
  },
  {
   "cell_type": "code",
   "execution_count": 73,
   "id": "42f522ca",
   "metadata": {
    "id": "30e43152"
   },
   "outputs": [],
   "source": [
    "from sklearn.ensemble import RandomForestClassifier"
   ]
  },
  {
   "cell_type": "code",
   "execution_count": 74,
   "id": "80cfcd0f",
   "metadata": {},
   "outputs": [],
   "source": [
    "rdf_model = RandomForestClassifier(verbose= 1 ,  n_jobs= -1, random_state= 101)"
   ]
  },
  {
   "cell_type": "code",
   "execution_count": 75,
   "id": "71d1b0f4",
   "metadata": {
    "id": "1EKgeVfCmCJ8"
   },
   "outputs": [],
   "source": [
    "param_grid = {\n",
    "    'bootstrap': [True],\n",
    "    'max_depth': [30, 50],\n",
    "    'max_features': [5],\n",
    "    'min_samples_leaf': [2],\n",
    "    'min_samples_split': [2],\n",
    "    'n_estimators': [120, 140]\n",
    "}"
   ]
  },
  {
   "cell_type": "code",
   "execution_count": 76,
   "id": "c425cf7f",
   "metadata": {
    "id": "aohfUhjKmIEJ"
   },
   "outputs": [],
   "source": [
    "grid_search = GridSearchCV(estimator = rdf_model, param_grid = param_grid, \n",
    "                          cv = 3, n_jobs = -1, verbose = 1)"
   ]
  },
  {
   "cell_type": "code",
   "execution_count": 77,
   "id": "30904028",
   "metadata": {
    "colab": {
     "base_uri": "https://localhost:8080/"
    },
    "id": "ff014197",
    "outputId": "95725fa5-8a33-4c85-abff-4ad6e5fb1f19",
    "scrolled": true
   },
   "outputs": [
    {
     "name": "stdout",
     "output_type": "stream",
     "text": [
      "Fitting 3 folds for each of 4 candidates, totalling 12 fits\n"
     ]
    },
    {
     "name": "stderr",
     "output_type": "stream",
     "text": [
      "[Parallel(n_jobs=-1)]: Using backend LokyBackend with 8 concurrent workers.\n",
      "[Parallel(n_jobs=-1)]: Done  10 out of  12 | elapsed:   41.4s remaining:    8.2s\n",
      "[Parallel(n_jobs=-1)]: Done  12 out of  12 | elapsed:   41.7s finished\n",
      "[Parallel(n_jobs=-1)]: Using backend ThreadingBackend with 8 concurrent workers.\n",
      "[Parallel(n_jobs=-1)]: Done  34 tasks      | elapsed:    1.6s\n",
      "[Parallel(n_jobs=-1)]: Done 140 out of 140 | elapsed:    5.9s finished\n"
     ]
    },
    {
     "data": {
      "text/plain": [
       "GridSearchCV(cv=3,\n",
       "             estimator=RandomForestClassifier(n_jobs=-1, random_state=101,\n",
       "                                              verbose=1),\n",
       "             n_jobs=-1,\n",
       "             param_grid={'bootstrap': [True], 'max_depth': [30, 50],\n",
       "                         'max_features': [5], 'min_samples_leaf': [2],\n",
       "                         'min_samples_split': [2], 'n_estimators': [120, 140]},\n",
       "             verbose=1)"
      ]
     },
     "execution_count": 77,
     "metadata": {},
     "output_type": "execute_result"
    }
   ],
   "source": [
    "grid_search.fit(X_train, y_train)"
   ]
  },
  {
   "cell_type": "code",
   "execution_count": 78,
   "id": "06a49dbf",
   "metadata": {},
   "outputs": [
    {
     "data": {
      "text/plain": [
       "{'bootstrap': True,\n",
       " 'max_depth': 50,\n",
       " 'max_features': 5,\n",
       " 'min_samples_leaf': 2,\n",
       " 'min_samples_split': 2,\n",
       " 'n_estimators': 140}"
      ]
     },
     "execution_count": 78,
     "metadata": {},
     "output_type": "execute_result"
    }
   ],
   "source": [
    "grid_search.best_params_"
   ]
  },
  {
   "cell_type": "code",
   "execution_count": 79,
   "id": "68ab738e",
   "metadata": {
    "id": "5aaa6bfa"
   },
   "outputs": [
    {
     "name": "stderr",
     "output_type": "stream",
     "text": [
      "[Parallel(n_jobs=8)]: Using backend ThreadingBackend with 8 concurrent workers.\n",
      "[Parallel(n_jobs=8)]: Done  34 tasks      | elapsed:    0.0s\n",
      "[Parallel(n_jobs=8)]: Done 140 out of 140 | elapsed:    0.0s finished\n"
     ]
    }
   ],
   "source": [
    "y_proba_grid = grid_search.predict(X_dev)"
   ]
  },
  {
   "cell_type": "code",
   "execution_count": 80,
   "id": "4e9f7eb6",
   "metadata": {
    "id": "7599d098",
    "scrolled": false
   },
   "outputs": [
    {
     "name": "stdout",
     "output_type": "stream",
     "text": [
      "              precision    recall  f1-score   support\n",
      "\n",
      "           0       0.96      0.94      0.95      5947\n",
      "           1       0.95      0.97      0.96      7041\n",
      "\n",
      "    accuracy                           0.96     12988\n",
      "   macro avg       0.96      0.96      0.96     12988\n",
      "weighted avg       0.96      0.96      0.96     12988\n",
      "\n"
     ]
    }
   ],
   "source": [
    "print(classification_report(y_proba_grid, y_dev))"
   ]
  },
  {
   "cell_type": "code",
   "execution_count": 81,
   "id": "3a5726c5",
   "metadata": {},
   "outputs": [],
   "source": [
    "rdf_model = RandomForestClassifier(verbose= 1 ,  n_jobs= -1, random_state= 101,\n",
    "                                 bootstrap= True, \n",
    "                                 max_features= 5,\n",
    "                                 max_depth= 30,\n",
    "                                 min_samples_split= 2,\n",
    "                                 n_estimators= 120)"
   ]
  },
  {
   "cell_type": "code",
   "execution_count": 82,
   "id": "37b03e5a",
   "metadata": {},
   "outputs": [
    {
     "name": "stderr",
     "output_type": "stream",
     "text": [
      "[Parallel(n_jobs=-1)]: Using backend ThreadingBackend with 8 concurrent workers.\n",
      "[Parallel(n_jobs=-1)]: Done  34 tasks      | elapsed:    1.5s\n",
      "[Parallel(n_jobs=-1)]: Done 120 out of 120 | elapsed:    5.0s finished\n"
     ]
    },
    {
     "data": {
      "text/plain": [
       "RandomForestClassifier(max_depth=30, max_features=5, n_estimators=120,\n",
       "                       n_jobs=-1, random_state=101, verbose=1)"
      ]
     },
     "execution_count": 82,
     "metadata": {},
     "output_type": "execute_result"
    }
   ],
   "source": [
    "rdf_model.fit(X_train, y_train)"
   ]
  },
  {
   "cell_type": "code",
   "execution_count": 94,
   "id": "f00a612e",
   "metadata": {},
   "outputs": [
    {
     "name": "stderr",
     "output_type": "stream",
     "text": [
      "[Parallel(n_jobs=8)]: Using backend ThreadingBackend with 8 concurrent workers.\n",
      "[Parallel(n_jobs=8)]: Done  34 tasks      | elapsed:    0.0s\n",
      "[Parallel(n_jobs=8)]: Done 120 out of 120 | elapsed:    0.0s finished\n"
     ]
    }
   ],
   "source": [
    "y_proba_rdf = rdf_model.predict(X_test)"
   ]
  },
  {
   "cell_type": "code",
   "execution_count": 96,
   "id": "8a74617f",
   "metadata": {
    "scrolled": false
   },
   "outputs": [
    {
     "name": "stdout",
     "output_type": "stream",
     "text": [
      "              precision    recall  f1-score   support\n",
      "\n",
      "           0       0.96      0.95      0.95      5965\n",
      "           1       0.95      0.97      0.96      7023\n",
      "\n",
      "    accuracy                           0.96     12988\n",
      "   macro avg       0.96      0.96      0.96     12988\n",
      "weighted avg       0.96      0.96      0.96     12988\n",
      "\n"
     ]
    }
   ],
   "source": [
    "print(classification_report(y_proba_rdf, y_test))"
   ]
  },
  {
   "cell_type": "markdown",
   "id": "9efea1f8",
   "metadata": {},
   "source": [
    "### Model interpretation"
   ]
  },
  {
   "cell_type": "code",
   "execution_count": 85,
   "id": "33d4d632",
   "metadata": {
    "scrolled": false
   },
   "outputs": [],
   "source": [
    "rdf_ = pd.Series(rdf_model.feature_importances_, index= X_dev.columns).sort_values(ascending= False)"
   ]
  },
  {
   "cell_type": "code",
   "execution_count": 86,
   "id": "7630ad04",
   "metadata": {
    "scrolled": true
   },
   "outputs": [
    {
     "data": {
      "text/plain": [
       "Inflight_entertainment               0.196922\n",
       "Seat_comfort                         0.132609\n",
       "Ease_of_Online_booking               0.082618\n",
       "Online_support                       0.067492\n",
       "On_board_service                     0.041435\n",
       "Food_and_drink                       0.036842\n",
       "Leg_room_service                     0.033976\n",
       "Flight_Distance                      0.031600\n",
       "Online_boarding                      0.031151\n",
       "Type_of_Travel                       0.029329\n",
       "Age                                  0.027990\n",
       "x1_disloyal Customer                 0.026927\n",
       "x2_Business                          0.026438\n",
       "x1_Loyal Customer                    0.025979\n",
       "Checkin_service                      0.025073\n",
       "Baggage_handling                     0.024821\n",
       "Departure/Arrival_time_convenient    0.022048\n",
       "Cleanliness                          0.021714\n",
       "x0_Female                            0.020659\n",
       "x0_Male                              0.020646\n",
       "Delay_in_Minutes                     0.020264\n",
       "Gate_location                        0.018913\n",
       "Inflight_wifi_service                0.015291\n",
       "x2_Eco                               0.011461\n",
       "Age_cat                              0.005756\n",
       "x2_Eco Plus                          0.002046\n",
       "dtype: float64"
      ]
     },
     "execution_count": 86,
     "metadata": {},
     "output_type": "execute_result"
    }
   ],
   "source": [
    "rdf_"
   ]
  },
  {
   "cell_type": "code",
   "execution_count": 148,
   "id": "8339037c",
   "metadata": {},
   "outputs": [
    {
     "data": {
      "image/png": "[encoded data removed]",
      "text/plain": [
       "<Figure size 3200x1800 with 1 Axes>"
      ]
     },
     "metadata": {
      "needs_background": "light"
     },
     "output_type": "display_data"
    }
   ],
   "source": [
    "name = rdf_.index\n",
    "price = rdf_.values\n",
    "\n",
    "# Figure Size\n",
    "fig, ax = plt.subplots(figsize =(16,9), dpi = 200)\n",
    "\n",
    "# Horizontal Bar Plot\n",
    "ax.barh(name, price)\n",
    "\n",
    "# Remove axes splines\n",
    "for s in ['top', 'bottom', 'left', 'right']:\n",
    "\tax.spines[s].set_visible(False)\n",
    "\n",
    "# Remove x, y Ticks\n",
    "ax.xaxis.set_ticks_position('none')\n",
    "ax.yaxis.set_ticks_position('none')\n",
    "\n",
    "# Add padding between axes and labels\n",
    "ax.xaxis.set_tick_params(pad = 10)\n",
    "ax.yaxis.set_tick_params(pad = 3)\n",
    "\n",
    "# Add x, y gridlines\n",
    "ax.grid(b = True, color ='grey',\n",
    "\t\tlinestyle ='-.', linewidth = 0.5,\n",
    "\t\talpha = 0.2)\n",
    "\n",
    "# Show top values\n",
    "ax.invert_yaxis()\n",
    "\n",
    "# Add annotation to bars\n",
    "for i in ax.patches:\n",
    "\tplt.text(i.get_width()+0.001, i.get_y()+0.5,\n",
    "\t\t\tstr(round((i.get_width()), 2)),\n",
    "\t\t\tfontsize = 10, fontweight ='bold',\n",
    "\t\t\tcolor ='grey')\n",
    "\n",
    "# Add Plot Title\n",
    "ax.set_title('Feature Importance',\n",
    "\t\t\tloc ='left', )\n",
    "\n",
    "# Show Plot\n",
    "plt.show()\n"
   ]
  },
  {
   "cell_type": "raw",
   "id": "2e4d8987",
   "metadata": {
    "scrolled": true
   },
   "source": [
    "df['Inflight_entertainment'].hist()"
   ]
  },
  {
   "cell_type": "code",
   "execution_count": 88,
   "id": "a90decf6",
   "metadata": {
    "scrolled": true
   },
   "outputs": [],
   "source": [
    "compare = pd.concat([rdf_,log_],axis= 1)\n",
    "compare.columns = ['Random Forest','Logistic Regression']"
   ]
  },
  {
   "cell_type": "code",
   "execution_count": 89,
   "id": "25caf2be",
   "metadata": {
    "scrolled": false
   },
   "outputs": [
    {
     "data": {
      "text/html": [
       "<div>\n",
       "<style scoped>\n",
       "    .dataframe tbody tr th:only-of-type {\n",
       "        vertical-align: middle;\n",
       "    }\n",
       "\n",
       "    .dataframe tbody tr th {\n",
       "        vertical-align: top;\n",
       "    }\n",
       "\n",
       "    .dataframe thead th {\n",
       "        text-align: right;\n",
       "    }\n",
       "</style>\n",
       "<table border=\"1\" class=\"dataframe\">\n",
       "  <thead>\n",
       "    <tr style=\"text-align: right;\">\n",
       "      <th></th>\n",
       "      <th>Random Forest</th>\n",
       "      <th>Logistic Regression</th>\n",
       "    </tr>\n",
       "  </thead>\n",
       "  <tbody>\n",
       "    <tr>\n",
       "      <th>Inflight_entertainment</th>\n",
       "      <td>0.196922</td>\n",
       "      <td>1.907802</td>\n",
       "    </tr>\n",
       "    <tr>\n",
       "      <th>Seat_comfort</th>\n",
       "      <td>0.132609</td>\n",
       "      <td>0.930165</td>\n",
       "    </tr>\n",
       "    <tr>\n",
       "      <th>Ease_of_Online_booking</th>\n",
       "      <td>0.082618</td>\n",
       "      <td>0.442272</td>\n",
       "    </tr>\n",
       "    <tr>\n",
       "      <th>Online_support</th>\n",
       "      <td>0.067492</td>\n",
       "      <td>0.231135</td>\n",
       "    </tr>\n",
       "    <tr>\n",
       "      <th>On_board_service</th>\n",
       "      <td>0.041435</td>\n",
       "      <td>0.882805</td>\n",
       "    </tr>\n",
       "    <tr>\n",
       "      <th>Food_and_drink</th>\n",
       "      <td>0.036842</td>\n",
       "      <td>-0.504767</td>\n",
       "    </tr>\n",
       "    <tr>\n",
       "      <th>Leg_room_service</th>\n",
       "      <td>0.033976</td>\n",
       "      <td>0.633919</td>\n",
       "    </tr>\n",
       "    <tr>\n",
       "      <th>Flight_Distance</th>\n",
       "      <td>0.031600</td>\n",
       "      <td>-0.432343</td>\n",
       "    </tr>\n",
       "    <tr>\n",
       "      <th>Online_boarding</th>\n",
       "      <td>0.031151</td>\n",
       "      <td>0.338013</td>\n",
       "    </tr>\n",
       "    <tr>\n",
       "      <th>Type_of_Travel</th>\n",
       "      <td>0.029329</td>\n",
       "      <td>-0.479966</td>\n",
       "    </tr>\n",
       "    <tr>\n",
       "      <th>Age</th>\n",
       "      <td>0.027990</td>\n",
       "      <td>-0.139974</td>\n",
       "    </tr>\n",
       "    <tr>\n",
       "      <th>x1_disloyal Customer</th>\n",
       "      <td>0.026927</td>\n",
       "      <td>-1.269797</td>\n",
       "    </tr>\n",
       "    <tr>\n",
       "      <th>x2_Business</th>\n",
       "      <td>0.026438</td>\n",
       "      <td>-0.115519</td>\n",
       "    </tr>\n",
       "    <tr>\n",
       "      <th>x1_Loyal Customer</th>\n",
       "      <td>0.025979</td>\n",
       "      <td>-0.114988</td>\n",
       "    </tr>\n",
       "    <tr>\n",
       "      <th>Checkin_service</th>\n",
       "      <td>0.025073</td>\n",
       "      <td>0.838720</td>\n",
       "    </tr>\n",
       "    <tr>\n",
       "      <th>Baggage_handling</th>\n",
       "      <td>0.024821</td>\n",
       "      <td>0.242336</td>\n",
       "    </tr>\n",
       "    <tr>\n",
       "      <th>Departure/Arrival_time_convenient</th>\n",
       "      <td>0.022048</td>\n",
       "      <td>-0.563092</td>\n",
       "    </tr>\n",
       "    <tr>\n",
       "      <th>Cleanliness</th>\n",
       "      <td>0.021714</td>\n",
       "      <td>0.219844</td>\n",
       "    </tr>\n",
       "    <tr>\n",
       "      <th>x0_Female</th>\n",
       "      <td>0.020659</td>\n",
       "      <td>-0.533792</td>\n",
       "    </tr>\n",
       "    <tr>\n",
       "      <th>x0_Male</th>\n",
       "      <td>0.020646</td>\n",
       "      <td>-0.850992</td>\n",
       "    </tr>\n",
       "    <tr>\n",
       "      <th>Delay_in_Minutes</th>\n",
       "      <td>0.020264</td>\n",
       "      <td>-4.923217</td>\n",
       "    </tr>\n",
       "    <tr>\n",
       "      <th>Gate_location</th>\n",
       "      <td>0.018913</td>\n",
       "      <td>0.330399</td>\n",
       "    </tr>\n",
       "    <tr>\n",
       "      <th>Inflight_wifi_service</th>\n",
       "      <td>0.015291</td>\n",
       "      <td>-0.097165</td>\n",
       "    </tr>\n",
       "    <tr>\n",
       "      <th>x2_Eco</th>\n",
       "      <td>0.011461</td>\n",
       "      <td>-0.483808</td>\n",
       "    </tr>\n",
       "    <tr>\n",
       "      <th>Age_cat</th>\n",
       "      <td>0.005756</td>\n",
       "      <td>0.002916</td>\n",
       "    </tr>\n",
       "    <tr>\n",
       "      <th>x2_Eco Plus</th>\n",
       "      <td>0.002046</td>\n",
       "      <td>-0.785458</td>\n",
       "    </tr>\n",
       "  </tbody>\n",
       "</table>\n",
       "</div>"
      ],
      "text/plain": [
       "                                   Random Forest  Logistic Regression\n",
       "Inflight_entertainment                  0.196922             1.907802\n",
       "Seat_comfort                            0.132609             0.930165\n",
       "Ease_of_Online_booking                  0.082618             0.442272\n",
       "Online_support                          0.067492             0.231135\n",
       "On_board_service                        0.041435             0.882805\n",
       "Food_and_drink                          0.036842            -0.504767\n",
       "Leg_room_service                        0.033976             0.633919\n",
       "Flight_Distance                         0.031600            -0.432343\n",
       "Online_boarding                         0.031151             0.338013\n",
       "Type_of_Travel                          0.029329            -0.479966\n",
       "Age                                     0.027990            -0.139974\n",
       "x1_disloyal Customer                    0.026927            -1.269797\n",
       "x2_Business                             0.026438            -0.115519\n",
       "x1_Loyal Customer                       0.025979            -0.114988\n",
       "Checkin_service                         0.025073             0.838720\n",
       "Baggage_handling                        0.024821             0.242336\n",
       "Departure/Arrival_time_convenient       0.022048            -0.563092\n",
       "Cleanliness                             0.021714             0.219844\n",
       "x0_Female                               0.020659            -0.533792\n",
       "x0_Male                                 0.020646            -0.850992\n",
       "Delay_in_Minutes                        0.020264            -4.923217\n",
       "Gate_location                           0.018913             0.330399\n",
       "Inflight_wifi_service                   0.015291            -0.097165\n",
       "x2_Eco                                  0.011461            -0.483808\n",
       "Age_cat                                 0.005756             0.002916\n",
       "x2_Eco Plus                             0.002046            -0.785458"
      ]
     },
     "execution_count": 89,
     "metadata": {},
     "output_type": "execute_result"
    }
   ],
   "source": [
    "compare"
   ]
  },
  {
   "cell_type": "code",
   "execution_count": 151,
   "id": "deda84a3",
   "metadata": {},
   "outputs": [
    {
     "ename": "TypeError",
     "evalue": "__init__() takes 1 positional argument but 4 were given",
     "output_type": "error",
     "traceback": [
      "\u001b[1;31m---------------------------------------------------------------------------\u001b[0m",
      "\u001b[1;31mTypeError\u001b[0m                                 Traceback (most recent call last)",
      "\u001b[1;32mC:\\Users\\Public\\Documents\\Wondershare\\CreatorTemp/ipykernel_7412/3351546092.py\u001b[0m in \u001b[0;36m<module>\u001b[1;34m\u001b[0m\n\u001b[1;32m----> 1\u001b[1;33m \u001b[0mlog_disp\u001b[0m \u001b[1;33m=\u001b[0m \u001b[0mRocCurveDisplay\u001b[0m\u001b[1;33m(\u001b[0m\u001b[0mlog_reg\u001b[0m\u001b[1;33m,\u001b[0m \u001b[0mX_test\u001b[0m\u001b[1;33m,\u001b[0m \u001b[0my_test\u001b[0m\u001b[1;33m)\u001b[0m\u001b[1;33m\u001b[0m\u001b[1;33m\u001b[0m\u001b[0m\n\u001b[0m",
      "\u001b[1;31mTypeError\u001b[0m: __init__() takes 1 positional argument but 4 were given"
     ]
    }
   ],
   "source": [
    "log_disp = RocCurveDisplay.from_estimator(log_reg, X_test, y_test)"
   ]
  }
 ],
 "metadata": {
  "accelerator": "TPU",
  "colab": {
   "name": "Copy of Project_Datascience-checkpoint.ipynb",
   "provenance": []
  },
  "gpuClass": "standard",
  "kernelspec": {
   "display_name": "Python 3 (ipykernel)",
   "language": "python",
   "name": "python3"
  },
  "language_info": {
   "codemirror_mode": {
    "name": "ipython",
    "version": 3
   },
   "file_extension": ".py",
   "mimetype": "text/x-python",
   "name": "python",
   "nbconvert_exporter": "python",
   "pygments_lexer": "ipython3",
   "version": "3.7.11"
  }
 },
 "nbformat": 4,
 "nbformat_minor": 5
}
