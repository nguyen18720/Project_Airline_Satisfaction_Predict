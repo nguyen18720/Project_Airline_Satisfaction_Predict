{
 "cells": [
  {
   "cell_type": "markdown",
   "id": "2210201b",
   "metadata": {
    "id": "a1796f4c"
   },
   "source": [
    "# Thêm các thư viện"
   ]
  },
  {
   "cell_type": "code",
   "execution_count": 1,
   "id": "fac794fc",
   "metadata": {
    "id": "7e448f23"
   },
   "outputs": [],
   "source": [
    "import numpy as np\n",
    "import pandas as pd\n",
    "import matplotlib.pyplot as plt\n",
    "import seaborn as sns\n",
    "from IPython.display import Markdown, display"
   ]
  },
  {
   "cell_type": "code",
   "execution_count": 2,
   "id": "284071c9",
   "metadata": {
    "id": "59358370"
   },
   "outputs": [],
   "source": [
    "from sklearn.model_selection import StratifiedShuffleSplit\n",
    "from sklearn.pipeline import Pipeline\n",
    "from sklearn.preprocessing import MinMaxScaler\n",
    "from sklearn.impute import SimpleImputer"
   ]
  },
  {
   "cell_type": "code",
   "execution_count": 3,
   "id": "d693c135",
   "metadata": {
    "id": "6eb95b1b"
   },
   "outputs": [],
   "source": [
    "from sklearn.compose import ColumnTransformer\n",
    "from sklearn.preprocessing import OneHotEncoder\n",
    "from sklearn.preprocessing import LabelEncoder\n",
    "from sklearn.preprocessing import OrdinalEncoder"
   ]
  },
  {
   "cell_type": "code",
   "execution_count": 4,
   "id": "11eb10c8",
   "metadata": {},
   "outputs": [],
   "source": [
    "from sklearn.linear_model import LogisticRegression\n",
    "from sklearn.ensemble import RandomForestClassifier\n",
    "from sklearn import tree\n",
    "from sklearn.model_selection import GridSearchCV"
   ]
  },
  {
   "cell_type": "code",
   "execution_count": 5,
   "id": "bdf6e693",
   "metadata": {},
   "outputs": [],
   "source": [
    "from sklearn.metrics import classification_report\n",
    "from sklearn.metrics import confusion_matrix\n",
    "from sklearn.metrics import roc_curve\n",
    "from sklearn.metrics import accuracy_score\n",
    "from sklearn.metrics import roc_auc_score\n",
    "from sklearn.metrics import RocCurveDisplay\n",
    "from sklearn import metrics"
   ]
  },
  {
   "cell_type": "markdown",
   "id": "bf85abd3",
   "metadata": {
    "id": "918c1077"
   },
   "source": [
    "# I. Chuẩn bị dữ liệu"
   ]
  },
  {
   "cell_type": "markdown",
   "id": "7c4a9edb",
   "metadata": {
    "id": "eeeaa494"
   },
   "source": [
    "## 1. Đọc dữ liệu"
   ]
  },
  {
   "cell_type": "code",
   "execution_count": 6,
   "id": "19690bd0",
   "metadata": {
    "id": "195ec833"
   },
   "outputs": [],
   "source": [
    "df = pd.read_csv(\"Invistico_Airline.csv\")"
   ]
  },
  {
   "cell_type": "code",
   "execution_count": 7,
   "id": "5520c714",
   "metadata": {
    "colab": {
     "base_uri": "https://localhost:8080/"
    },
    "id": "85b9a68d",
    "outputId": "d66e4bc6-6307-4c48-80f6-5315d0cbe124",
    "scrolled": false
   },
   "outputs": [
    {
     "name": "stdout",
     "output_type": "stream",
     "text": [
      "<class 'pandas.core.frame.DataFrame'>\n",
      "RangeIndex: 129880 entries, 0 to 129879\n",
      "Data columns (total 23 columns):\n",
      " #   Column                             Non-Null Count   Dtype  \n",
      "---  ------                             --------------   -----  \n",
      " 0   satisfaction                       129880 non-null  object \n",
      " 1   Gender                             129880 non-null  object \n",
      " 2   Customer Type                      129880 non-null  object \n",
      " 3   Age                                129880 non-null  int64  \n",
      " 4   Type of Travel                     129880 non-null  object \n",
      " 5   Class                              129880 non-null  object \n",
      " 6   Flight Distance                    129880 non-null  int64  \n",
      " 7   Seat comfort                       129880 non-null  int64  \n",
      " 8   Departure/Arrival time convenient  129880 non-null  int64  \n",
      " 9   Food and drink                     129880 non-null  int64  \n",
      " 10  Gate location                      129880 non-null  int64  \n",
      " 11  Inflight wifi service              129880 non-null  int64  \n",
      " 12  Inflight entertainment             129880 non-null  int64  \n",
      " 13  Online support                     129880 non-null  int64  \n",
      " 14  Ease of Online booking             129880 non-null  int64  \n",
      " 15  On-board service                   129880 non-null  int64  \n",
      " 16  Leg room service                   129880 non-null  int64  \n",
      " 17  Baggage handling                   129880 non-null  int64  \n",
      " 18  Checkin service                    129880 non-null  int64  \n",
      " 19  Cleanliness                        129880 non-null  int64  \n",
      " 20  Online boarding                    129880 non-null  int64  \n",
      " 21  Departure Delay in Minutes         129880 non-null  int64  \n",
      " 22  Arrival Delay in Minutes           129487 non-null  float64\n",
      "dtypes: float64(1), int64(17), object(5)\n",
      "memory usage: 22.8+ MB\n"
     ]
    }
   ],
   "source": [
    "df.info()"
   ]
  },
  {
   "cell_type": "code",
   "execution_count": 8,
   "id": "6f19a644",
   "metadata": {
    "colab": {
     "base_uri": "https://localhost:8080/",
     "height": 438
    },
    "id": "74d230ec",
    "outputId": "2fa0e7d5-4abe-4645-db19-8d9de85527fc",
    "scrolled": true
   },
   "outputs": [
    {
     "data": {
      "text/html": [
       "<div>\n",
       "<style scoped>\n",
       "    .dataframe tbody tr th:only-of-type {\n",
       "        vertical-align: middle;\n",
       "    }\n",
       "\n",
       "    .dataframe tbody tr th {\n",
       "        vertical-align: top;\n",
       "    }\n",
       "\n",
       "    .dataframe thead th {\n",
       "        text-align: right;\n",
       "    }\n",
       "</style>\n",
       "<table border=\"1\" class=\"dataframe\">\n",
       "  <thead>\n",
       "    <tr style=\"text-align: right;\">\n",
       "      <th></th>\n",
       "      <th>satisfaction</th>\n",
       "      <th>Gender</th>\n",
       "      <th>Customer Type</th>\n",
       "      <th>Age</th>\n",
       "      <th>Type of Travel</th>\n",
       "      <th>Class</th>\n",
       "      <th>Flight Distance</th>\n",
       "      <th>Seat comfort</th>\n",
       "      <th>Departure/Arrival time convenient</th>\n",
       "      <th>Food and drink</th>\n",
       "      <th>...</th>\n",
       "      <th>Online support</th>\n",
       "      <th>Ease of Online booking</th>\n",
       "      <th>On-board service</th>\n",
       "      <th>Leg room service</th>\n",
       "      <th>Baggage handling</th>\n",
       "      <th>Checkin service</th>\n",
       "      <th>Cleanliness</th>\n",
       "      <th>Online boarding</th>\n",
       "      <th>Departure Delay in Minutes</th>\n",
       "      <th>Arrival Delay in Minutes</th>\n",
       "    </tr>\n",
       "  </thead>\n",
       "  <tbody>\n",
       "    <tr>\n",
       "      <th>0</th>\n",
       "      <td>satisfied</td>\n",
       "      <td>Female</td>\n",
       "      <td>Loyal Customer</td>\n",
       "      <td>65</td>\n",
       "      <td>Personal Travel</td>\n",
       "      <td>Eco</td>\n",
       "      <td>265</td>\n",
       "      <td>0</td>\n",
       "      <td>0</td>\n",
       "      <td>0</td>\n",
       "      <td>...</td>\n",
       "      <td>2</td>\n",
       "      <td>3</td>\n",
       "      <td>3</td>\n",
       "      <td>0</td>\n",
       "      <td>3</td>\n",
       "      <td>5</td>\n",
       "      <td>3</td>\n",
       "      <td>2</td>\n",
       "      <td>0</td>\n",
       "      <td>0.0</td>\n",
       "    </tr>\n",
       "    <tr>\n",
       "      <th>1</th>\n",
       "      <td>satisfied</td>\n",
       "      <td>Male</td>\n",
       "      <td>Loyal Customer</td>\n",
       "      <td>47</td>\n",
       "      <td>Personal Travel</td>\n",
       "      <td>Business</td>\n",
       "      <td>2464</td>\n",
       "      <td>0</td>\n",
       "      <td>0</td>\n",
       "      <td>0</td>\n",
       "      <td>...</td>\n",
       "      <td>2</td>\n",
       "      <td>3</td>\n",
       "      <td>4</td>\n",
       "      <td>4</td>\n",
       "      <td>4</td>\n",
       "      <td>2</td>\n",
       "      <td>3</td>\n",
       "      <td>2</td>\n",
       "      <td>310</td>\n",
       "      <td>305.0</td>\n",
       "    </tr>\n",
       "    <tr>\n",
       "      <th>2</th>\n",
       "      <td>satisfied</td>\n",
       "      <td>Female</td>\n",
       "      <td>Loyal Customer</td>\n",
       "      <td>15</td>\n",
       "      <td>Personal Travel</td>\n",
       "      <td>Eco</td>\n",
       "      <td>2138</td>\n",
       "      <td>0</td>\n",
       "      <td>0</td>\n",
       "      <td>0</td>\n",
       "      <td>...</td>\n",
       "      <td>2</td>\n",
       "      <td>2</td>\n",
       "      <td>3</td>\n",
       "      <td>3</td>\n",
       "      <td>4</td>\n",
       "      <td>4</td>\n",
       "      <td>4</td>\n",
       "      <td>2</td>\n",
       "      <td>0</td>\n",
       "      <td>0.0</td>\n",
       "    </tr>\n",
       "    <tr>\n",
       "      <th>3</th>\n",
       "      <td>satisfied</td>\n",
       "      <td>Female</td>\n",
       "      <td>Loyal Customer</td>\n",
       "      <td>60</td>\n",
       "      <td>Personal Travel</td>\n",
       "      <td>Eco</td>\n",
       "      <td>623</td>\n",
       "      <td>0</td>\n",
       "      <td>0</td>\n",
       "      <td>0</td>\n",
       "      <td>...</td>\n",
       "      <td>3</td>\n",
       "      <td>1</td>\n",
       "      <td>1</td>\n",
       "      <td>0</td>\n",
       "      <td>1</td>\n",
       "      <td>4</td>\n",
       "      <td>1</td>\n",
       "      <td>3</td>\n",
       "      <td>0</td>\n",
       "      <td>0.0</td>\n",
       "    </tr>\n",
       "    <tr>\n",
       "      <th>4</th>\n",
       "      <td>satisfied</td>\n",
       "      <td>Female</td>\n",
       "      <td>Loyal Customer</td>\n",
       "      <td>70</td>\n",
       "      <td>Personal Travel</td>\n",
       "      <td>Eco</td>\n",
       "      <td>354</td>\n",
       "      <td>0</td>\n",
       "      <td>0</td>\n",
       "      <td>0</td>\n",
       "      <td>...</td>\n",
       "      <td>4</td>\n",
       "      <td>2</td>\n",
       "      <td>2</td>\n",
       "      <td>0</td>\n",
       "      <td>2</td>\n",
       "      <td>4</td>\n",
       "      <td>2</td>\n",
       "      <td>5</td>\n",
       "      <td>0</td>\n",
       "      <td>0.0</td>\n",
       "    </tr>\n",
       "  </tbody>\n",
       "</table>\n",
       "<p>5 rows × 23 columns</p>\n",
       "</div>"
      ],
      "text/plain": [
       "  satisfaction  Gender   Customer Type  Age   Type of Travel     Class  \\\n",
       "0    satisfied  Female  Loyal Customer   65  Personal Travel       Eco   \n",
       "1    satisfied    Male  Loyal Customer   47  Personal Travel  Business   \n",
       "2    satisfied  Female  Loyal Customer   15  Personal Travel       Eco   \n",
       "3    satisfied  Female  Loyal Customer   60  Personal Travel       Eco   \n",
       "4    satisfied  Female  Loyal Customer   70  Personal Travel       Eco   \n",
       "\n",
       "   Flight Distance  Seat comfort  Departure/Arrival time convenient  \\\n",
       "0              265             0                                  0   \n",
       "1             2464             0                                  0   \n",
       "2             2138             0                                  0   \n",
       "3              623             0                                  0   \n",
       "4              354             0                                  0   \n",
       "\n",
       "   Food and drink  ...  Online support  Ease of Online booking  \\\n",
       "0               0  ...               2                       3   \n",
       "1               0  ...               2                       3   \n",
       "2               0  ...               2                       2   \n",
       "3               0  ...               3                       1   \n",
       "4               0  ...               4                       2   \n",
       "\n",
       "   On-board service  Leg room service  Baggage handling  Checkin service  \\\n",
       "0                 3                 0                 3                5   \n",
       "1                 4                 4                 4                2   \n",
       "2                 3                 3                 4                4   \n",
       "3                 1                 0                 1                4   \n",
       "4                 2                 0                 2                4   \n",
       "\n",
       "   Cleanliness  Online boarding  Departure Delay in Minutes  \\\n",
       "0            3                2                           0   \n",
       "1            3                2                         310   \n",
       "2            4                2                           0   \n",
       "3            1                3                           0   \n",
       "4            2                5                           0   \n",
       "\n",
       "   Arrival Delay in Minutes  \n",
       "0                       0.0  \n",
       "1                     305.0  \n",
       "2                       0.0  \n",
       "3                       0.0  \n",
       "4                       0.0  \n",
       "\n",
       "[5 rows x 23 columns]"
      ]
     },
     "execution_count": 8,
     "metadata": {},
     "output_type": "execute_result"
    }
   ],
   "source": [
    "df.head()"
   ]
  },
  {
   "cell_type": "markdown",
   "id": "780c8341",
   "metadata": {
    "id": "df6016b1"
   },
   "source": [
    "Chúng ta có thể thấy tập dữ liệu này gồm các nhóm liên quan đến thuộc tính của khác hàng (Age, Gender,...), thông tin vè chuyến bay (Class, Inflight wifi service, ...), đánh giá của khách hàng (Seat comfort, Food and drink, ...). "
   ]
  },
  {
   "cell_type": "markdown",
   "id": "1382c298",
   "metadata": {
    "id": "85019779"
   },
   "source": [
    "Loại dữ liệu của từng nhóm\n",
    "- Thuộc tính khách hàng: Object \n",
    "- Thông tin chuyến bay: Interger and Object \n",
    "- Đánh giá của khách hàng: Interger (1->5) \n",
    "- Độ hài lòng: Binary (0, 1) "
   ]
  },
  {
   "cell_type": "code",
   "execution_count": 9,
   "id": "697d079d",
   "metadata": {
    "colab": {
     "base_uri": "https://localhost:8080/"
    },
    "id": "ba7ddc71",
    "outputId": "6736a081-5108-4cbe-9cd2-8e500b2bc54e",
    "scrolled": true
   },
   "outputs": [
    {
     "data": {
      "text/plain": [
       "Index(['satisfaction', 'Gender', 'Customer Type', 'Age', 'Type of Travel',\n",
       "       'Class', 'Flight Distance', 'Seat comfort',\n",
       "       'Departure/Arrival time convenient', 'Food and drink', 'Gate location',\n",
       "       'Inflight wifi service', 'Inflight entertainment', 'Online support',\n",
       "       'Ease of Online booking', 'On-board service', 'Leg room service',\n",
       "       'Baggage handling', 'Checkin service', 'Cleanliness', 'Online boarding',\n",
       "       'Departure Delay in Minutes', 'Arrival Delay in Minutes'],\n",
       "      dtype='object')"
      ]
     },
     "execution_count": 9,
     "metadata": {},
     "output_type": "execute_result"
    }
   ],
   "source": [
    "df.columns"
   ]
  },
  {
   "cell_type": "markdown",
   "id": "3b9510ad",
   "metadata": {},
   "source": [
    "## 2. Tổng quan về dữ liệu"
   ]
  },
  {
   "cell_type": "markdown",
   "id": "2d2ed071",
   "metadata": {
    "id": "32e9f53b"
   },
   "source": [
    "Phân phối của dữ liệu "
   ]
  },
  {
   "cell_type": "code",
   "execution_count": 10,
   "id": "095a18b2",
   "metadata": {},
   "outputs": [
    {
     "data": {
      "text/html": [
       "<div>\n",
       "<style scoped>\n",
       "    .dataframe tbody tr th:only-of-type {\n",
       "        vertical-align: middle;\n",
       "    }\n",
       "\n",
       "    .dataframe tbody tr th {\n",
       "        vertical-align: top;\n",
       "    }\n",
       "\n",
       "    .dataframe thead th {\n",
       "        text-align: right;\n",
       "    }\n",
       "</style>\n",
       "<table border=\"1\" class=\"dataframe\">\n",
       "  <thead>\n",
       "    <tr style=\"text-align: right;\">\n",
       "      <th></th>\n",
       "      <th>Age</th>\n",
       "      <th>Flight Distance</th>\n",
       "      <th>Seat comfort</th>\n",
       "      <th>Departure/Arrival time convenient</th>\n",
       "      <th>Food and drink</th>\n",
       "      <th>Gate location</th>\n",
       "      <th>Inflight wifi service</th>\n",
       "      <th>Inflight entertainment</th>\n",
       "      <th>Online support</th>\n",
       "      <th>Ease of Online booking</th>\n",
       "      <th>On-board service</th>\n",
       "      <th>Leg room service</th>\n",
       "      <th>Baggage handling</th>\n",
       "      <th>Checkin service</th>\n",
       "      <th>Cleanliness</th>\n",
       "      <th>Online boarding</th>\n",
       "      <th>Departure Delay in Minutes</th>\n",
       "      <th>Arrival Delay in Minutes</th>\n",
       "    </tr>\n",
       "  </thead>\n",
       "  <tbody>\n",
       "    <tr>\n",
       "      <th>count</th>\n",
       "      <td>129880.000000</td>\n",
       "      <td>129880.000000</td>\n",
       "      <td>129880.000000</td>\n",
       "      <td>129880.000000</td>\n",
       "      <td>129880.000000</td>\n",
       "      <td>129880.000000</td>\n",
       "      <td>129880.000000</td>\n",
       "      <td>129880.000000</td>\n",
       "      <td>129880.000000</td>\n",
       "      <td>129880.000000</td>\n",
       "      <td>129880.000000</td>\n",
       "      <td>129880.000000</td>\n",
       "      <td>129880.000000</td>\n",
       "      <td>129880.000000</td>\n",
       "      <td>129880.000000</td>\n",
       "      <td>129880.000000</td>\n",
       "      <td>129880.000000</td>\n",
       "      <td>129487.000000</td>\n",
       "    </tr>\n",
       "    <tr>\n",
       "      <th>mean</th>\n",
       "      <td>39.427957</td>\n",
       "      <td>1981.409055</td>\n",
       "      <td>2.838597</td>\n",
       "      <td>2.990645</td>\n",
       "      <td>2.851994</td>\n",
       "      <td>2.990422</td>\n",
       "      <td>3.249130</td>\n",
       "      <td>3.383477</td>\n",
       "      <td>3.519703</td>\n",
       "      <td>3.472105</td>\n",
       "      <td>3.465075</td>\n",
       "      <td>3.485902</td>\n",
       "      <td>3.695673</td>\n",
       "      <td>3.340807</td>\n",
       "      <td>3.705759</td>\n",
       "      <td>3.352587</td>\n",
       "      <td>14.713713</td>\n",
       "      <td>15.091129</td>\n",
       "    </tr>\n",
       "    <tr>\n",
       "      <th>std</th>\n",
       "      <td>15.119360</td>\n",
       "      <td>1027.115606</td>\n",
       "      <td>1.392983</td>\n",
       "      <td>1.527224</td>\n",
       "      <td>1.443729</td>\n",
       "      <td>1.305970</td>\n",
       "      <td>1.318818</td>\n",
       "      <td>1.346059</td>\n",
       "      <td>1.306511</td>\n",
       "      <td>1.305560</td>\n",
       "      <td>1.270836</td>\n",
       "      <td>1.292226</td>\n",
       "      <td>1.156483</td>\n",
       "      <td>1.260582</td>\n",
       "      <td>1.151774</td>\n",
       "      <td>1.298715</td>\n",
       "      <td>38.071126</td>\n",
       "      <td>38.465650</td>\n",
       "    </tr>\n",
       "    <tr>\n",
       "      <th>min</th>\n",
       "      <td>7.000000</td>\n",
       "      <td>50.000000</td>\n",
       "      <td>0.000000</td>\n",
       "      <td>0.000000</td>\n",
       "      <td>0.000000</td>\n",
       "      <td>0.000000</td>\n",
       "      <td>0.000000</td>\n",
       "      <td>0.000000</td>\n",
       "      <td>0.000000</td>\n",
       "      <td>0.000000</td>\n",
       "      <td>0.000000</td>\n",
       "      <td>0.000000</td>\n",
       "      <td>1.000000</td>\n",
       "      <td>0.000000</td>\n",
       "      <td>0.000000</td>\n",
       "      <td>0.000000</td>\n",
       "      <td>0.000000</td>\n",
       "      <td>0.000000</td>\n",
       "    </tr>\n",
       "    <tr>\n",
       "      <th>25%</th>\n",
       "      <td>27.000000</td>\n",
       "      <td>1359.000000</td>\n",
       "      <td>2.000000</td>\n",
       "      <td>2.000000</td>\n",
       "      <td>2.000000</td>\n",
       "      <td>2.000000</td>\n",
       "      <td>2.000000</td>\n",
       "      <td>2.000000</td>\n",
       "      <td>3.000000</td>\n",
       "      <td>2.000000</td>\n",
       "      <td>3.000000</td>\n",
       "      <td>2.000000</td>\n",
       "      <td>3.000000</td>\n",
       "      <td>3.000000</td>\n",
       "      <td>3.000000</td>\n",
       "      <td>2.000000</td>\n",
       "      <td>0.000000</td>\n",
       "      <td>0.000000</td>\n",
       "    </tr>\n",
       "    <tr>\n",
       "      <th>50%</th>\n",
       "      <td>40.000000</td>\n",
       "      <td>1925.000000</td>\n",
       "      <td>3.000000</td>\n",
       "      <td>3.000000</td>\n",
       "      <td>3.000000</td>\n",
       "      <td>3.000000</td>\n",
       "      <td>3.000000</td>\n",
       "      <td>4.000000</td>\n",
       "      <td>4.000000</td>\n",
       "      <td>4.000000</td>\n",
       "      <td>4.000000</td>\n",
       "      <td>4.000000</td>\n",
       "      <td>4.000000</td>\n",
       "      <td>3.000000</td>\n",
       "      <td>4.000000</td>\n",
       "      <td>4.000000</td>\n",
       "      <td>0.000000</td>\n",
       "      <td>0.000000</td>\n",
       "    </tr>\n",
       "    <tr>\n",
       "      <th>75%</th>\n",
       "      <td>51.000000</td>\n",
       "      <td>2544.000000</td>\n",
       "      <td>4.000000</td>\n",
       "      <td>4.000000</td>\n",
       "      <td>4.000000</td>\n",
       "      <td>4.000000</td>\n",
       "      <td>4.000000</td>\n",
       "      <td>4.000000</td>\n",
       "      <td>5.000000</td>\n",
       "      <td>5.000000</td>\n",
       "      <td>4.000000</td>\n",
       "      <td>5.000000</td>\n",
       "      <td>5.000000</td>\n",
       "      <td>4.000000</td>\n",
       "      <td>5.000000</td>\n",
       "      <td>4.000000</td>\n",
       "      <td>12.000000</td>\n",
       "      <td>13.000000</td>\n",
       "    </tr>\n",
       "    <tr>\n",
       "      <th>max</th>\n",
       "      <td>85.000000</td>\n",
       "      <td>6951.000000</td>\n",
       "      <td>5.000000</td>\n",
       "      <td>5.000000</td>\n",
       "      <td>5.000000</td>\n",
       "      <td>5.000000</td>\n",
       "      <td>5.000000</td>\n",
       "      <td>5.000000</td>\n",
       "      <td>5.000000</td>\n",
       "      <td>5.000000</td>\n",
       "      <td>5.000000</td>\n",
       "      <td>5.000000</td>\n",
       "      <td>5.000000</td>\n",
       "      <td>5.000000</td>\n",
       "      <td>5.000000</td>\n",
       "      <td>5.000000</td>\n",
       "      <td>1592.000000</td>\n",
       "      <td>1584.000000</td>\n",
       "    </tr>\n",
       "  </tbody>\n",
       "</table>\n",
       "</div>"
      ],
      "text/plain": [
       "                 Age  Flight Distance   Seat comfort  \\\n",
       "count  129880.000000    129880.000000  129880.000000   \n",
       "mean       39.427957      1981.409055       2.838597   \n",
       "std        15.119360      1027.115606       1.392983   \n",
       "min         7.000000        50.000000       0.000000   \n",
       "25%        27.000000      1359.000000       2.000000   \n",
       "50%        40.000000      1925.000000       3.000000   \n",
       "75%        51.000000      2544.000000       4.000000   \n",
       "max        85.000000      6951.000000       5.000000   \n",
       "\n",
       "       Departure/Arrival time convenient  Food and drink  Gate location  \\\n",
       "count                      129880.000000   129880.000000  129880.000000   \n",
       "mean                            2.990645        2.851994       2.990422   \n",
       "std                             1.527224        1.443729       1.305970   \n",
       "min                             0.000000        0.000000       0.000000   \n",
       "25%                             2.000000        2.000000       2.000000   \n",
       "50%                             3.000000        3.000000       3.000000   \n",
       "75%                             4.000000        4.000000       4.000000   \n",
       "max                             5.000000        5.000000       5.000000   \n",
       "\n",
       "       Inflight wifi service  Inflight entertainment  Online support  \\\n",
       "count          129880.000000           129880.000000   129880.000000   \n",
       "mean                3.249130                3.383477        3.519703   \n",
       "std                 1.318818                1.346059        1.306511   \n",
       "min                 0.000000                0.000000        0.000000   \n",
       "25%                 2.000000                2.000000        3.000000   \n",
       "50%                 3.000000                4.000000        4.000000   \n",
       "75%                 4.000000                4.000000        5.000000   \n",
       "max                 5.000000                5.000000        5.000000   \n",
       "\n",
       "       Ease of Online booking  On-board service  Leg room service  \\\n",
       "count           129880.000000     129880.000000     129880.000000   \n",
       "mean                 3.472105          3.465075          3.485902   \n",
       "std                  1.305560          1.270836          1.292226   \n",
       "min                  0.000000          0.000000          0.000000   \n",
       "25%                  2.000000          3.000000          2.000000   \n",
       "50%                  4.000000          4.000000          4.000000   \n",
       "75%                  5.000000          4.000000          5.000000   \n",
       "max                  5.000000          5.000000          5.000000   \n",
       "\n",
       "       Baggage handling  Checkin service    Cleanliness  Online boarding  \\\n",
       "count     129880.000000    129880.000000  129880.000000    129880.000000   \n",
       "mean           3.695673         3.340807       3.705759         3.352587   \n",
       "std            1.156483         1.260582       1.151774         1.298715   \n",
       "min            1.000000         0.000000       0.000000         0.000000   \n",
       "25%            3.000000         3.000000       3.000000         2.000000   \n",
       "50%            4.000000         3.000000       4.000000         4.000000   \n",
       "75%            5.000000         4.000000       5.000000         4.000000   \n",
       "max            5.000000         5.000000       5.000000         5.000000   \n",
       "\n",
       "       Departure Delay in Minutes  Arrival Delay in Minutes  \n",
       "count               129880.000000             129487.000000  \n",
       "mean                    14.713713                 15.091129  \n",
       "std                     38.071126                 38.465650  \n",
       "min                      0.000000                  0.000000  \n",
       "25%                      0.000000                  0.000000  \n",
       "50%                      0.000000                  0.000000  \n",
       "75%                     12.000000                 13.000000  \n",
       "max                   1592.000000               1584.000000  "
      ]
     },
     "execution_count": 10,
     "metadata": {},
     "output_type": "execute_result"
    }
   ],
   "source": [
    "df.describe()"
   ]
  },
  {
   "cell_type": "code",
   "execution_count": 11,
   "id": "a6be0859",
   "metadata": {
    "id": "0b1f43ee"
   },
   "outputs": [],
   "source": [
    "#function to see values in each column\n",
    "def list_values_column(df,num_value):\n",
    "    display(Markdown('**RESULT:'))\n",
    "    print('DataFrame has {} column '.format(len(df.columns)))\n",
    "    for col in df.columns:\n",
    "        if df[col].nunique() <= num_value:\n",
    "            print('Column {} has :'.format(col)+ str(df[col].unique().tolist()),)\n",
    "    "
   ]
  },
  {
   "cell_type": "code",
   "execution_count": 12,
   "id": "d7bd6f6a",
   "metadata": {
    "colab": {
     "base_uri": "https://localhost:8080/"
    },
    "id": "99291f9b",
    "outputId": "9f7622a2-9400-4850-af70-6e9e79b6044c",
    "scrolled": true
   },
   "outputs": [
    {
     "data": {
      "text/plain": [
       "[['satisfaction', array(['satisfied', 'dissatisfied'], dtype=object)],\n",
       " ['Gender', array(['Female', 'Male'], dtype=object)],\n",
       " ['Customer Type',\n",
       "  array(['Loyal Customer', 'disloyal Customer'], dtype=object)],\n",
       " ['Type of Travel',\n",
       "  array(['Personal Travel', 'Business travel'], dtype=object)],\n",
       " ['Class', array(['Eco', 'Business', 'Eco Plus'], dtype=object)],\n",
       " ['Baggage handling', array([3, 4, 1, 2, 5], dtype=int64)]]"
      ]
     },
     "execution_count": 12,
     "metadata": {},
     "output_type": "execute_result"
    }
   ],
   "source": [
    "[[j, df[j].unique()] for j in [i for i in df.columns] if df[j].nunique() <= 5]"
   ]
  },
  {
   "cell_type": "code",
   "execution_count": 13,
   "id": "e0b0a055",
   "metadata": {
    "colab": {
     "base_uri": "https://localhost:8080/",
     "height": 394
    },
    "id": "b74ef8e0",
    "outputId": "60d15fa4-d9b7-44ee-82d9-aff8d86e3d95"
   },
   "outputs": [
    {
     "data": {
      "text/markdown": [
       "**RESULT:"
      ],
      "text/plain": [
       "<IPython.core.display.Markdown object>"
      ]
     },
     "metadata": {},
     "output_type": "display_data"
    },
    {
     "name": "stdout",
     "output_type": "stream",
     "text": [
      "DataFrame has 23 column \n",
      "Column satisfaction has :['satisfied', 'dissatisfied']\n",
      "Column Gender has :['Female', 'Male']\n",
      "Column Customer Type has :['Loyal Customer', 'disloyal Customer']\n",
      "Column Type of Travel has :['Personal Travel', 'Business travel']\n",
      "Column Class has :['Eco', 'Business', 'Eco Plus']\n",
      "Column Seat comfort has :[0, 1, 4, 5, 2, 3]\n",
      "Column Departure/Arrival time convenient has :[0, 1, 2, 3, 4, 5]\n",
      "Column Food and drink has :[0, 1, 2, 3, 4, 5]\n",
      "Column Gate location has :[2, 3, 4, 1, 5, 0]\n",
      "Column Inflight wifi service has :[2, 0, 3, 4, 5, 1]\n",
      "Column Inflight entertainment has :[4, 2, 0, 3, 5, 1]\n",
      "Column Online support has :[2, 3, 4, 5, 1, 0]\n",
      "Column Ease of Online booking has :[3, 2, 1, 5, 4, 0]\n",
      "Column On-board service has :[3, 4, 1, 2, 5, 0]\n",
      "Column Leg room service has :[0, 4, 3, 2, 5, 1]\n",
      "Column Baggage handling has :[3, 4, 1, 2, 5]\n",
      "Column Checkin service has :[5, 2, 4, 3, 1, 0]\n",
      "Column Cleanliness has :[3, 4, 1, 2, 5, 0]\n",
      "Column Online boarding has :[2, 3, 5, 4, 1, 0]\n"
     ]
    }
   ],
   "source": [
    "list_values_column(df,6)"
   ]
  },
  {
   "cell_type": "code",
   "execution_count": 14,
   "id": "7f1b7a9d",
   "metadata": {
    "id": "ebc477d1"
   },
   "outputs": [],
   "source": [
    "#function to see ratio of values in each columns\n",
    "def values_count_column(df,num_value):\n",
    "    display(Markdown('**RESULT:'))\n",
    "    for col in df.columns:\n",
    "        if df[col].nunique() <= num_value:\n",
    "            print( 'Column ',col,':')\n",
    "            print(df[col].value_counts()/len(df))"
   ]
  },
  {
   "cell_type": "code",
   "execution_count": 15,
   "id": "dfa3a187",
   "metadata": {
    "colab": {
     "base_uri": "https://localhost:8080/",
     "height": 411
    },
    "id": "1f2e7abf",
    "outputId": "4b1392e2-91fa-4e98-89f8-798c03ad3507"
   },
   "outputs": [
    {
     "data": {
      "text/markdown": [
       "**RESULT:"
      ],
      "text/plain": [
       "<IPython.core.display.Markdown object>"
      ]
     },
     "metadata": {},
     "output_type": "display_data"
    },
    {
     "name": "stdout",
     "output_type": "stream",
     "text": [
      "Column  satisfaction :\n",
      "satisfied       0.547328\n",
      "dissatisfied    0.452672\n",
      "Name: satisfaction, dtype: float64\n",
      "Column  Gender :\n",
      "Female    0.507384\n",
      "Male      0.492616\n",
      "Name: Gender, dtype: float64\n",
      "Column  Customer Type :\n",
      "Loyal Customer       0.816908\n",
      "disloyal Customer    0.183092\n",
      "Name: Customer Type, dtype: float64\n",
      "Column  Type of Travel :\n",
      "Business travel    0.690584\n",
      "Personal Travel    0.309416\n",
      "Name: Type of Travel, dtype: float64\n",
      "Column  Class :\n",
      "Business    0.478596\n",
      "Eco         0.448945\n",
      "Eco Plus    0.072459\n",
      "Name: Class, dtype: float64\n"
     ]
    }
   ],
   "source": [
    "values_count_column(df,3)"
   ]
  },
  {
   "cell_type": "code",
   "execution_count": 16,
   "id": "4b3e9c07",
   "metadata": {
    "colab": {
     "base_uri": "https://localhost:8080/"
    },
    "id": "6347e435",
    "outputId": "31601f69-f423-4615-ceb8-ceec0fa67d50"
   },
   "outputs": [
    {
     "data": {
      "text/plain": [
       "[satisfied       0.547328\n",
       " dissatisfied    0.452672\n",
       " Name: satisfaction, dtype: float64,\n",
       " Female    0.507384\n",
       " Male      0.492616\n",
       " Name: Gender, dtype: float64,\n",
       " Loyal Customer       0.816908\n",
       " disloyal Customer    0.183092\n",
       " Name: Customer Type, dtype: float64,\n",
       " Business travel    0.690584\n",
       " Personal Travel    0.309416\n",
       " Name: Type of Travel, dtype: float64,\n",
       " Business    0.478596\n",
       " Eco         0.448945\n",
       " Eco Plus    0.072459\n",
       " Name: Class, dtype: float64,\n",
       " 4    0.371420\n",
       " 5    0.275239\n",
       " 3    0.188520\n",
       " 2    0.103419\n",
       " 1    0.061403\n",
       " Name: Baggage handling, dtype: float64]"
      ]
     },
     "execution_count": 16,
     "metadata": {},
     "output_type": "execute_result"
    }
   ],
   "source": [
    "[df[j].value_counts()/len(df[j]) for j in [i for i in df.columns] if df[j].nunique() <= 5]"
   ]
  },
  {
   "cell_type": "markdown",
   "id": "26be9df0",
   "metadata": {
    "id": "247bc8f2"
   },
   "source": [
    "## 3. Chuẩn hóa tên cột"
   ]
  },
  {
   "cell_type": "code",
   "execution_count": 17,
   "id": "6e8e1909",
   "metadata": {
    "id": "b94fe9ff"
   },
   "outputs": [],
   "source": [
    "def rename_column(df,from_c,to_c = '_'):\n",
    "    display(Markdown('**RESULT:**'))\n",
    "    print('Columns changed from {} to _'.format(from_c))\n",
    "    print(df.columns[df.columns.str.contains(from_c)])\n",
    "    df.columns = [label.replace(from_c, to_c ) for label in df.columns]"
   ]
  },
  {
   "cell_type": "code",
   "execution_count": 18,
   "id": "c6848eb1",
   "metadata": {
    "colab": {
     "base_uri": "https://localhost:8080/",
     "height": 0
    },
    "id": "373e50c6",
    "outputId": "66a5b915-2a6d-4fa2-8d61-afcdca932e8b"
   },
   "outputs": [
    {
     "data": {
      "text/markdown": [
       "**RESULT:**"
      ],
      "text/plain": [
       "<IPython.core.display.Markdown object>"
      ]
     },
     "metadata": {},
     "output_type": "display_data"
    },
    {
     "name": "stdout",
     "output_type": "stream",
     "text": [
      "Columns changed from   to _\n",
      "Index(['Customer Type', 'Type of Travel', 'Flight Distance', 'Seat comfort',\n",
      "       'Departure/Arrival time convenient', 'Food and drink', 'Gate location',\n",
      "       'Inflight wifi service', 'Inflight entertainment', 'Online support',\n",
      "       'Ease of Online booking', 'On-board service', 'Leg room service',\n",
      "       'Baggage handling', 'Checkin service', 'Online boarding',\n",
      "       'Departure Delay in Minutes', 'Arrival Delay in Minutes'],\n",
      "      dtype='object')\n"
     ]
    },
    {
     "data": {
      "text/markdown": [
       "**RESULT:**"
      ],
      "text/plain": [
       "<IPython.core.display.Markdown object>"
      ]
     },
     "metadata": {},
     "output_type": "display_data"
    },
    {
     "name": "stdout",
     "output_type": "stream",
     "text": [
      "Columns changed from - to _\n",
      "Index(['On-board_service'], dtype='object')\n"
     ]
    }
   ],
   "source": [
    "rename_column(df,' ')\n",
    "rename_column(df,'-')"
   ]
  },
  {
   "cell_type": "markdown",
   "id": "40f60c20",
   "metadata": {
    "id": "da13dc94"
   },
   "source": [
    "## 4. Xem xét dữ liệu rỗng"
   ]
  },
  {
   "cell_type": "code",
   "execution_count": 19,
   "id": "7e77082b",
   "metadata": {
    "colab": {
     "base_uri": "https://localhost:8080/"
    },
    "id": "5f206e01",
    "outputId": "16bac7d3-ea4f-45da-f3b5-95ff375c5fc1"
   },
   "outputs": [
    {
     "data": {
      "text/plain": [
       "satisfaction                           0\n",
       "Gender                                 0\n",
       "Customer_Type                          0\n",
       "Age                                    0\n",
       "Type_of_Travel                         0\n",
       "Class                                  0\n",
       "Flight_Distance                        0\n",
       "Seat_comfort                           0\n",
       "Departure/Arrival_time_convenient      0\n",
       "Food_and_drink                         0\n",
       "Gate_location                          0\n",
       "Inflight_wifi_service                  0\n",
       "Inflight_entertainment                 0\n",
       "Online_support                         0\n",
       "Ease_of_Online_booking                 0\n",
       "On_board_service                       0\n",
       "Leg_room_service                       0\n",
       "Baggage_handling                       0\n",
       "Checkin_service                        0\n",
       "Cleanliness                            0\n",
       "Online_boarding                        0\n",
       "Departure_Delay_in_Minutes             0\n",
       "Arrival_Delay_in_Minutes             393\n",
       "dtype: int64"
      ]
     },
     "execution_count": 19,
     "metadata": {},
     "output_type": "execute_result"
    }
   ],
   "source": [
    "total = df.isna().sum()\n",
    "total"
   ]
  },
  {
   "cell_type": "markdown",
   "id": "57e60b32",
   "metadata": {
    "id": "554590fd"
   },
   "source": [
    "-> Arrival_Delay_in_Minutes có 393 dữ liệu bị rỗng"
   ]
  },
  {
   "cell_type": "code",
   "execution_count": 20,
   "id": "32457614",
   "metadata": {
    "id": "8656dfc3"
   },
   "outputs": [],
   "source": [
    "def Missing_table(df):    \n",
    "    sum_na = df.isna().sum()\n",
    "    miss_percent = sum_na/len(df)\n",
    "    Na_table = pd.concat([sum_na,miss_percent],axis = 1)\n",
    "    Na_table = Na_table.rename(columns = {0:'Sum_of_na',1:'Percent_na'})\n",
    "    Na_table = Na_table[Na_table.iloc[:,1]!=0]\n",
    "    Na_table\n",
    "    return Na_table"
   ]
  },
  {
   "cell_type": "code",
   "execution_count": 21,
   "id": "b016e595",
   "metadata": {
    "colab": {
     "base_uri": "https://localhost:8080/",
     "height": 0
    },
    "id": "7f041ab9",
    "outputId": "0d6efd28-784e-4c14-cfb7-02e499d2cbf9"
   },
   "outputs": [
    {
     "data": {
      "text/html": [
       "<div>\n",
       "<style scoped>\n",
       "    .dataframe tbody tr th:only-of-type {\n",
       "        vertical-align: middle;\n",
       "    }\n",
       "\n",
       "    .dataframe tbody tr th {\n",
       "        vertical-align: top;\n",
       "    }\n",
       "\n",
       "    .dataframe thead th {\n",
       "        text-align: right;\n",
       "    }\n",
       "</style>\n",
       "<table border=\"1\" class=\"dataframe\">\n",
       "  <thead>\n",
       "    <tr style=\"text-align: right;\">\n",
       "      <th></th>\n",
       "      <th>Sum_of_na</th>\n",
       "      <th>Percent_na</th>\n",
       "    </tr>\n",
       "  </thead>\n",
       "  <tbody>\n",
       "    <tr>\n",
       "      <th>Arrival_Delay_in_Minutes</th>\n",
       "      <td>393</td>\n",
       "      <td>0.003026</td>\n",
       "    </tr>\n",
       "  </tbody>\n",
       "</table>\n",
       "</div>"
      ],
      "text/plain": [
       "                          Sum_of_na  Percent_na\n",
       "Arrival_Delay_in_Minutes        393    0.003026"
      ]
     },
     "execution_count": 21,
     "metadata": {},
     "output_type": "execute_result"
    }
   ],
   "source": [
    "Missing_table(df)"
   ]
  },
  {
   "cell_type": "markdown",
   "id": "d4472617",
   "metadata": {
    "id": "fed19fa4"
   },
   "source": [
    "## 5. Mã hóa biến phụ thuộc"
   ]
  },
  {
   "cell_type": "code",
   "execution_count": 22,
   "id": "cd2fe5b4",
   "metadata": {
    "id": "cddaa43d"
   },
   "outputs": [],
   "source": [
    "en = LabelEncoder()\n",
    "df['satisfaction'] = en.fit_transform(df['satisfaction'])"
   ]
  },
  {
   "cell_type": "code",
   "execution_count": 23,
   "id": "007bcbcd",
   "metadata": {
    "colab": {
     "base_uri": "https://localhost:8080/",
     "height": 0
    },
    "id": "b313b9e4",
    "outputId": "9f7da7f9-2922-4f9e-92c7-f430fd11804d"
   },
   "outputs": [
    {
     "data": {
      "text/html": [
       "<div>\n",
       "<style scoped>\n",
       "    .dataframe tbody tr th:only-of-type {\n",
       "        vertical-align: middle;\n",
       "    }\n",
       "\n",
       "    .dataframe tbody tr th {\n",
       "        vertical-align: top;\n",
       "    }\n",
       "\n",
       "    .dataframe thead th {\n",
       "        text-align: right;\n",
       "    }\n",
       "</style>\n",
       "<table border=\"1\" class=\"dataframe\">\n",
       "  <thead>\n",
       "    <tr style=\"text-align: right;\">\n",
       "      <th></th>\n",
       "      <th>satisfaction</th>\n",
       "      <th>Gender</th>\n",
       "      <th>Customer_Type</th>\n",
       "      <th>Age</th>\n",
       "      <th>Type_of_Travel</th>\n",
       "      <th>Class</th>\n",
       "      <th>Flight_Distance</th>\n",
       "      <th>Seat_comfort</th>\n",
       "      <th>Departure/Arrival_time_convenient</th>\n",
       "      <th>Food_and_drink</th>\n",
       "      <th>...</th>\n",
       "      <th>Online_support</th>\n",
       "      <th>Ease_of_Online_booking</th>\n",
       "      <th>On_board_service</th>\n",
       "      <th>Leg_room_service</th>\n",
       "      <th>Baggage_handling</th>\n",
       "      <th>Checkin_service</th>\n",
       "      <th>Cleanliness</th>\n",
       "      <th>Online_boarding</th>\n",
       "      <th>Departure_Delay_in_Minutes</th>\n",
       "      <th>Arrival_Delay_in_Minutes</th>\n",
       "    </tr>\n",
       "  </thead>\n",
       "  <tbody>\n",
       "    <tr>\n",
       "      <th>0</th>\n",
       "      <td>1</td>\n",
       "      <td>Female</td>\n",
       "      <td>Loyal Customer</td>\n",
       "      <td>65</td>\n",
       "      <td>Personal Travel</td>\n",
       "      <td>Eco</td>\n",
       "      <td>265</td>\n",
       "      <td>0</td>\n",
       "      <td>0</td>\n",
       "      <td>0</td>\n",
       "      <td>...</td>\n",
       "      <td>2</td>\n",
       "      <td>3</td>\n",
       "      <td>3</td>\n",
       "      <td>0</td>\n",
       "      <td>3</td>\n",
       "      <td>5</td>\n",
       "      <td>3</td>\n",
       "      <td>2</td>\n",
       "      <td>0</td>\n",
       "      <td>0.0</td>\n",
       "    </tr>\n",
       "    <tr>\n",
       "      <th>1</th>\n",
       "      <td>1</td>\n",
       "      <td>Male</td>\n",
       "      <td>Loyal Customer</td>\n",
       "      <td>47</td>\n",
       "      <td>Personal Travel</td>\n",
       "      <td>Business</td>\n",
       "      <td>2464</td>\n",
       "      <td>0</td>\n",
       "      <td>0</td>\n",
       "      <td>0</td>\n",
       "      <td>...</td>\n",
       "      <td>2</td>\n",
       "      <td>3</td>\n",
       "      <td>4</td>\n",
       "      <td>4</td>\n",
       "      <td>4</td>\n",
       "      <td>2</td>\n",
       "      <td>3</td>\n",
       "      <td>2</td>\n",
       "      <td>310</td>\n",
       "      <td>305.0</td>\n",
       "    </tr>\n",
       "    <tr>\n",
       "      <th>2</th>\n",
       "      <td>1</td>\n",
       "      <td>Female</td>\n",
       "      <td>Loyal Customer</td>\n",
       "      <td>15</td>\n",
       "      <td>Personal Travel</td>\n",
       "      <td>Eco</td>\n",
       "      <td>2138</td>\n",
       "      <td>0</td>\n",
       "      <td>0</td>\n",
       "      <td>0</td>\n",
       "      <td>...</td>\n",
       "      <td>2</td>\n",
       "      <td>2</td>\n",
       "      <td>3</td>\n",
       "      <td>3</td>\n",
       "      <td>4</td>\n",
       "      <td>4</td>\n",
       "      <td>4</td>\n",
       "      <td>2</td>\n",
       "      <td>0</td>\n",
       "      <td>0.0</td>\n",
       "    </tr>\n",
       "    <tr>\n",
       "      <th>3</th>\n",
       "      <td>1</td>\n",
       "      <td>Female</td>\n",
       "      <td>Loyal Customer</td>\n",
       "      <td>60</td>\n",
       "      <td>Personal Travel</td>\n",
       "      <td>Eco</td>\n",
       "      <td>623</td>\n",
       "      <td>0</td>\n",
       "      <td>0</td>\n",
       "      <td>0</td>\n",
       "      <td>...</td>\n",
       "      <td>3</td>\n",
       "      <td>1</td>\n",
       "      <td>1</td>\n",
       "      <td>0</td>\n",
       "      <td>1</td>\n",
       "      <td>4</td>\n",
       "      <td>1</td>\n",
       "      <td>3</td>\n",
       "      <td>0</td>\n",
       "      <td>0.0</td>\n",
       "    </tr>\n",
       "    <tr>\n",
       "      <th>4</th>\n",
       "      <td>1</td>\n",
       "      <td>Female</td>\n",
       "      <td>Loyal Customer</td>\n",
       "      <td>70</td>\n",
       "      <td>Personal Travel</td>\n",
       "      <td>Eco</td>\n",
       "      <td>354</td>\n",
       "      <td>0</td>\n",
       "      <td>0</td>\n",
       "      <td>0</td>\n",
       "      <td>...</td>\n",
       "      <td>4</td>\n",
       "      <td>2</td>\n",
       "      <td>2</td>\n",
       "      <td>0</td>\n",
       "      <td>2</td>\n",
       "      <td>4</td>\n",
       "      <td>2</td>\n",
       "      <td>5</td>\n",
       "      <td>0</td>\n",
       "      <td>0.0</td>\n",
       "    </tr>\n",
       "    <tr>\n",
       "      <th>...</th>\n",
       "      <td>...</td>\n",
       "      <td>...</td>\n",
       "      <td>...</td>\n",
       "      <td>...</td>\n",
       "      <td>...</td>\n",
       "      <td>...</td>\n",
       "      <td>...</td>\n",
       "      <td>...</td>\n",
       "      <td>...</td>\n",
       "      <td>...</td>\n",
       "      <td>...</td>\n",
       "      <td>...</td>\n",
       "      <td>...</td>\n",
       "      <td>...</td>\n",
       "      <td>...</td>\n",
       "      <td>...</td>\n",
       "      <td>...</td>\n",
       "      <td>...</td>\n",
       "      <td>...</td>\n",
       "      <td>...</td>\n",
       "      <td>...</td>\n",
       "    </tr>\n",
       "    <tr>\n",
       "      <th>129875</th>\n",
       "      <td>1</td>\n",
       "      <td>Female</td>\n",
       "      <td>disloyal Customer</td>\n",
       "      <td>29</td>\n",
       "      <td>Personal Travel</td>\n",
       "      <td>Eco</td>\n",
       "      <td>1731</td>\n",
       "      <td>5</td>\n",
       "      <td>5</td>\n",
       "      <td>5</td>\n",
       "      <td>...</td>\n",
       "      <td>2</td>\n",
       "      <td>2</td>\n",
       "      <td>3</td>\n",
       "      <td>3</td>\n",
       "      <td>4</td>\n",
       "      <td>4</td>\n",
       "      <td>4</td>\n",
       "      <td>2</td>\n",
       "      <td>0</td>\n",
       "      <td>0.0</td>\n",
       "    </tr>\n",
       "    <tr>\n",
       "      <th>129876</th>\n",
       "      <td>0</td>\n",
       "      <td>Male</td>\n",
       "      <td>disloyal Customer</td>\n",
       "      <td>63</td>\n",
       "      <td>Personal Travel</td>\n",
       "      <td>Business</td>\n",
       "      <td>2087</td>\n",
       "      <td>2</td>\n",
       "      <td>3</td>\n",
       "      <td>2</td>\n",
       "      <td>...</td>\n",
       "      <td>1</td>\n",
       "      <td>3</td>\n",
       "      <td>2</td>\n",
       "      <td>3</td>\n",
       "      <td>3</td>\n",
       "      <td>1</td>\n",
       "      <td>2</td>\n",
       "      <td>1</td>\n",
       "      <td>174</td>\n",
       "      <td>172.0</td>\n",
       "    </tr>\n",
       "    <tr>\n",
       "      <th>129877</th>\n",
       "      <td>0</td>\n",
       "      <td>Male</td>\n",
       "      <td>disloyal Customer</td>\n",
       "      <td>69</td>\n",
       "      <td>Personal Travel</td>\n",
       "      <td>Eco</td>\n",
       "      <td>2320</td>\n",
       "      <td>3</td>\n",
       "      <td>0</td>\n",
       "      <td>3</td>\n",
       "      <td>...</td>\n",
       "      <td>2</td>\n",
       "      <td>4</td>\n",
       "      <td>4</td>\n",
       "      <td>3</td>\n",
       "      <td>4</td>\n",
       "      <td>2</td>\n",
       "      <td>3</td>\n",
       "      <td>2</td>\n",
       "      <td>155</td>\n",
       "      <td>163.0</td>\n",
       "    </tr>\n",
       "    <tr>\n",
       "      <th>129878</th>\n",
       "      <td>0</td>\n",
       "      <td>Male</td>\n",
       "      <td>disloyal Customer</td>\n",
       "      <td>66</td>\n",
       "      <td>Personal Travel</td>\n",
       "      <td>Eco</td>\n",
       "      <td>2450</td>\n",
       "      <td>3</td>\n",
       "      <td>2</td>\n",
       "      <td>3</td>\n",
       "      <td>...</td>\n",
       "      <td>2</td>\n",
       "      <td>3</td>\n",
       "      <td>3</td>\n",
       "      <td>2</td>\n",
       "      <td>3</td>\n",
       "      <td>2</td>\n",
       "      <td>1</td>\n",
       "      <td>2</td>\n",
       "      <td>193</td>\n",
       "      <td>205.0</td>\n",
       "    </tr>\n",
       "    <tr>\n",
       "      <th>129879</th>\n",
       "      <td>0</td>\n",
       "      <td>Female</td>\n",
       "      <td>disloyal Customer</td>\n",
       "      <td>38</td>\n",
       "      <td>Personal Travel</td>\n",
       "      <td>Eco</td>\n",
       "      <td>4307</td>\n",
       "      <td>3</td>\n",
       "      <td>4</td>\n",
       "      <td>3</td>\n",
       "      <td>...</td>\n",
       "      <td>3</td>\n",
       "      <td>4</td>\n",
       "      <td>5</td>\n",
       "      <td>5</td>\n",
       "      <td>5</td>\n",
       "      <td>3</td>\n",
       "      <td>3</td>\n",
       "      <td>3</td>\n",
       "      <td>185</td>\n",
       "      <td>186.0</td>\n",
       "    </tr>\n",
       "  </tbody>\n",
       "</table>\n",
       "<p>129880 rows × 23 columns</p>\n",
       "</div>"
      ],
      "text/plain": [
       "        satisfaction  Gender      Customer_Type  Age   Type_of_Travel  \\\n",
       "0                  1  Female     Loyal Customer   65  Personal Travel   \n",
       "1                  1    Male     Loyal Customer   47  Personal Travel   \n",
       "2                  1  Female     Loyal Customer   15  Personal Travel   \n",
       "3                  1  Female     Loyal Customer   60  Personal Travel   \n",
       "4                  1  Female     Loyal Customer   70  Personal Travel   \n",
       "...              ...     ...                ...  ...              ...   \n",
       "129875             1  Female  disloyal Customer   29  Personal Travel   \n",
       "129876             0    Male  disloyal Customer   63  Personal Travel   \n",
       "129877             0    Male  disloyal Customer   69  Personal Travel   \n",
       "129878             0    Male  disloyal Customer   66  Personal Travel   \n",
       "129879             0  Female  disloyal Customer   38  Personal Travel   \n",
       "\n",
       "           Class  Flight_Distance  Seat_comfort  \\\n",
       "0            Eco              265             0   \n",
       "1       Business             2464             0   \n",
       "2            Eco             2138             0   \n",
       "3            Eco              623             0   \n",
       "4            Eco              354             0   \n",
       "...          ...              ...           ...   \n",
       "129875       Eco             1731             5   \n",
       "129876  Business             2087             2   \n",
       "129877       Eco             2320             3   \n",
       "129878       Eco             2450             3   \n",
       "129879       Eco             4307             3   \n",
       "\n",
       "        Departure/Arrival_time_convenient  Food_and_drink  ...  \\\n",
       "0                                       0               0  ...   \n",
       "1                                       0               0  ...   \n",
       "2                                       0               0  ...   \n",
       "3                                       0               0  ...   \n",
       "4                                       0               0  ...   \n",
       "...                                   ...             ...  ...   \n",
       "129875                                  5               5  ...   \n",
       "129876                                  3               2  ...   \n",
       "129877                                  0               3  ...   \n",
       "129878                                  2               3  ...   \n",
       "129879                                  4               3  ...   \n",
       "\n",
       "        Online_support  Ease_of_Online_booking  On_board_service  \\\n",
       "0                    2                       3                 3   \n",
       "1                    2                       3                 4   \n",
       "2                    2                       2                 3   \n",
       "3                    3                       1                 1   \n",
       "4                    4                       2                 2   \n",
       "...                ...                     ...               ...   \n",
       "129875               2                       2                 3   \n",
       "129876               1                       3                 2   \n",
       "129877               2                       4                 4   \n",
       "129878               2                       3                 3   \n",
       "129879               3                       4                 5   \n",
       "\n",
       "        Leg_room_service  Baggage_handling  Checkin_service  Cleanliness  \\\n",
       "0                      0                 3                5            3   \n",
       "1                      4                 4                2            3   \n",
       "2                      3                 4                4            4   \n",
       "3                      0                 1                4            1   \n",
       "4                      0                 2                4            2   \n",
       "...                  ...               ...              ...          ...   \n",
       "129875                 3                 4                4            4   \n",
       "129876                 3                 3                1            2   \n",
       "129877                 3                 4                2            3   \n",
       "129878                 2                 3                2            1   \n",
       "129879                 5                 5                3            3   \n",
       "\n",
       "        Online_boarding  Departure_Delay_in_Minutes  Arrival_Delay_in_Minutes  \n",
       "0                     2                           0                       0.0  \n",
       "1                     2                         310                     305.0  \n",
       "2                     2                           0                       0.0  \n",
       "3                     3                           0                       0.0  \n",
       "4                     5                           0                       0.0  \n",
       "...                 ...                         ...                       ...  \n",
       "129875                2                           0                       0.0  \n",
       "129876                1                         174                     172.0  \n",
       "129877                2                         155                     163.0  \n",
       "129878                2                         193                     205.0  \n",
       "129879                3                         185                     186.0  \n",
       "\n",
       "[129880 rows x 23 columns]"
      ]
     },
     "execution_count": 23,
     "metadata": {},
     "output_type": "execute_result"
    }
   ],
   "source": [
    "df"
   ]
  },
  {
   "cell_type": "markdown",
   "id": "18d77c41",
   "metadata": {
    "id": "fb9028c4"
   },
   "source": [
    "# II. Trực quan hóa dữ liệu"
   ]
  },
  {
   "cell_type": "markdown",
   "id": "0b078453",
   "metadata": {
    "id": "ef1e5f74"
   },
   "source": [
    "### 1. Tỷ lệ giữa các giá trị của biến phụ thuộc"
   ]
  },
  {
   "cell_type": "code",
   "execution_count": 24,
   "id": "06413c71",
   "metadata": {
    "id": "371d9cd1",
    "scrolled": false
   },
   "outputs": [],
   "source": [
    "def plot_target_column (df, target):\n",
    "    ax = sns.countplot(x=target, data=df)\n",
    "    plt.title('Distribution of ' + target + ' column')\n",
    "    plt.xlabel('Frequency')\n",
    "    ax.set_xticklabels(ax.get_xticklabels(),rotation=0)\n",
    "    total = len(df[target])\n",
    "    for p in ax.patches:\n",
    "            percentage = '{:.1f}%'.format(100 * p.get_height()/total)\n",
    "            x = p.get_x() + p.get_width() + 0.02\n",
    "            y = p.get_y() + p.get_height()/2\n",
    "            ax.annotate(percentage, (x, y))\n",
    "            ax.text(p.get_x()+p.get_width()/2., p.get_height() + 0.2, p.get_height(),ha=\"center\")\n",
    "    plt.show()"
   ]
  },
  {
   "cell_type": "code",
   "execution_count": 25,
   "id": "c1d8e6ae",
   "metadata": {
    "colab": {
     "base_uri": "https://localhost:8080/",
     "height": 0
    },
    "id": "7c325cce",
    "outputId": "9b9dc3c2-f374-45f4-99e7-d23040f008cf"
   },
   "outputs": [
    {
     "data": {
      "image/png": "[encoded data removed]",
      "text/plain": [
       "<Figure size 700x400 with 1 Axes>"
      ]
     },
     "metadata": {
      "needs_background": "light"
     },
     "output_type": "display_data"
    }
   ],
   "source": [
    "plt.figure(figsize= (7,4), dpi= 100)\n",
    "plot_target_column(df, \"satisfaction\")"
   ]
  },
  {
   "cell_type": "markdown",
   "id": "c4f399a4",
   "metadata": {
    "id": "227d112f"
   },
   "source": [
    "### 2. Trực quan hóa các thuộc tính của khách hàng theo biến phụ thuộc"
   ]
  },
  {
   "cell_type": "markdown",
   "id": "c3a8f9fc",
   "metadata": {
    "id": "8d1cf617"
   },
   "source": [
    "- Select customer's properties columns"
   ]
  },
  {
   "cell_type": "code",
   "execution_count": 26,
   "id": "cdca0db0",
   "metadata": {
    "id": "f6f66a2b"
   },
   "outputs": [],
   "source": [
    "df[\"Age_cat\"] = pd.cut(df[\"Age\"], bins= [0, 27, 57, 77, np.inf]\n",
    "        , labels= [\"7-27\", \"27-57\", \"57-77\", \"77-85\"])"
   ]
  },
  {
   "cell_type": "markdown",
   "id": "357fa2dc",
   "metadata": {
    "id": "6d0b16f0"
   },
   "source": [
    "- Separate customers into 4 groups according to Age  "
   ]
  },
  {
   "cell_type": "code",
   "execution_count": 27,
   "id": "7ace488b",
   "metadata": {
    "id": "543dca27"
   },
   "outputs": [],
   "source": [
    "bin_user_prop = [i for i in df.loc[:,\"satisfaction\":\"Class\"].columns if i not in ('Age', 'Type_of_Travel', 'Class')]"
   ]
  },
  {
   "cell_type": "code",
   "execution_count": 28,
   "id": "ab63069d",
   "metadata": {},
   "outputs": [],
   "source": [
    "bin_user_prop.append(\"Age_cat\")"
   ]
  },
  {
   "cell_type": "code",
   "execution_count": 29,
   "id": "c6645ea7",
   "metadata": {
    "scrolled": true
   },
   "outputs": [
    {
     "data": {
      "text/plain": [
       "['satisfaction', 'Gender', 'Customer_Type', 'Age_cat']"
      ]
     },
     "execution_count": 29,
     "metadata": {},
     "output_type": "execute_result"
    }
   ],
   "source": [
    "bin_user_prop"
   ]
  },
  {
   "cell_type": "code",
   "execution_count": 30,
   "id": "3878d2ae",
   "metadata": {
    "colab": {
     "base_uri": "https://localhost:8080/",
     "height": 0
    },
    "id": "fec795f6",
    "outputId": "efe0592b-9639-4b76-f55d-cd833ff36f41",
    "scrolled": false
   },
   "outputs": [
    {
     "data": {
      "text/html": [
       "<div>\n",
       "<style scoped>\n",
       "    .dataframe tbody tr th:only-of-type {\n",
       "        vertical-align: middle;\n",
       "    }\n",
       "\n",
       "    .dataframe tbody tr th {\n",
       "        vertical-align: top;\n",
       "    }\n",
       "\n",
       "    .dataframe thead th {\n",
       "        text-align: right;\n",
       "    }\n",
       "</style>\n",
       "<table border=\"1\" class=\"dataframe\">\n",
       "  <thead>\n",
       "    <tr style=\"text-align: right;\">\n",
       "      <th></th>\n",
       "      <th>satisfaction</th>\n",
       "      <th>Gender</th>\n",
       "      <th>Customer_Type</th>\n",
       "      <th>Age_cat</th>\n",
       "    </tr>\n",
       "  </thead>\n",
       "  <tbody>\n",
       "    <tr>\n",
       "      <th>0</th>\n",
       "      <td>1</td>\n",
       "      <td>Female</td>\n",
       "      <td>Loyal Customer</td>\n",
       "      <td>57-77</td>\n",
       "    </tr>\n",
       "    <tr>\n",
       "      <th>1</th>\n",
       "      <td>1</td>\n",
       "      <td>Male</td>\n",
       "      <td>Loyal Customer</td>\n",
       "      <td>27-57</td>\n",
       "    </tr>\n",
       "    <tr>\n",
       "      <th>2</th>\n",
       "      <td>1</td>\n",
       "      <td>Female</td>\n",
       "      <td>Loyal Customer</td>\n",
       "      <td>7-27</td>\n",
       "    </tr>\n",
       "    <tr>\n",
       "      <th>3</th>\n",
       "      <td>1</td>\n",
       "      <td>Female</td>\n",
       "      <td>Loyal Customer</td>\n",
       "      <td>57-77</td>\n",
       "    </tr>\n",
       "    <tr>\n",
       "      <th>4</th>\n",
       "      <td>1</td>\n",
       "      <td>Female</td>\n",
       "      <td>Loyal Customer</td>\n",
       "      <td>57-77</td>\n",
       "    </tr>\n",
       "    <tr>\n",
       "      <th>...</th>\n",
       "      <td>...</td>\n",
       "      <td>...</td>\n",
       "      <td>...</td>\n",
       "      <td>...</td>\n",
       "    </tr>\n",
       "    <tr>\n",
       "      <th>129875</th>\n",
       "      <td>1</td>\n",
       "      <td>Female</td>\n",
       "      <td>disloyal Customer</td>\n",
       "      <td>27-57</td>\n",
       "    </tr>\n",
       "    <tr>\n",
       "      <th>129876</th>\n",
       "      <td>0</td>\n",
       "      <td>Male</td>\n",
       "      <td>disloyal Customer</td>\n",
       "      <td>57-77</td>\n",
       "    </tr>\n",
       "    <tr>\n",
       "      <th>129877</th>\n",
       "      <td>0</td>\n",
       "      <td>Male</td>\n",
       "      <td>disloyal Customer</td>\n",
       "      <td>57-77</td>\n",
       "    </tr>\n",
       "    <tr>\n",
       "      <th>129878</th>\n",
       "      <td>0</td>\n",
       "      <td>Male</td>\n",
       "      <td>disloyal Customer</td>\n",
       "      <td>57-77</td>\n",
       "    </tr>\n",
       "    <tr>\n",
       "      <th>129879</th>\n",
       "      <td>0</td>\n",
       "      <td>Female</td>\n",
       "      <td>disloyal Customer</td>\n",
       "      <td>27-57</td>\n",
       "    </tr>\n",
       "  </tbody>\n",
       "</table>\n",
       "<p>129880 rows × 4 columns</p>\n",
       "</div>"
      ],
      "text/plain": [
       "        satisfaction  Gender      Customer_Type Age_cat\n",
       "0                  1  Female     Loyal Customer   57-77\n",
       "1                  1    Male     Loyal Customer   27-57\n",
       "2                  1  Female     Loyal Customer    7-27\n",
       "3                  1  Female     Loyal Customer   57-77\n",
       "4                  1  Female     Loyal Customer   57-77\n",
       "...              ...     ...                ...     ...\n",
       "129875             1  Female  disloyal Customer   27-57\n",
       "129876             0    Male  disloyal Customer   57-77\n",
       "129877             0    Male  disloyal Customer   57-77\n",
       "129878             0    Male  disloyal Customer   57-77\n",
       "129879             0  Female  disloyal Customer   27-57\n",
       "\n",
       "[129880 rows x 4 columns]"
      ]
     },
     "execution_count": 30,
     "metadata": {},
     "output_type": "execute_result"
    }
   ],
   "source": [
    "df[bin_user_prop]"
   ]
  },
  {
   "cell_type": "markdown",
   "id": "f3e8e4cd",
   "metadata": {
    "id": "16710ce8"
   },
   "source": [
    "- Using countplot to visualize customer's properties along with satisfaction"
   ]
  },
  {
   "cell_type": "code",
   "execution_count": 31,
   "id": "bbada71c",
   "metadata": {
    "colab": {
     "base_uri": "https://localhost:8080/",
     "height": 0
    },
    "id": "568b2c76",
    "outputId": "49f1e12a-6f82-46e0-b5bc-c3b6a8717cf1",
    "scrolled": false
   },
   "outputs": [
    {
     "data": {
      "image/png": "[encoded data removed]",
      "text/plain": [
       "<Figure size 1200x500 with 3 Axes>"
      ]
     },
     "metadata": {
      "needs_background": "light"
     },
     "output_type": "display_data"
    }
   ],
   "source": [
    "fig, axes = plt.subplots(nrows=1,ncols=3,figsize=(12, 5), dpi= 100)\n",
    "for i in range(0,3):\n",
    "        sns.countplot(data= df[bin_user_prop], x= bin_user_prop[i + 1], hue= \"satisfaction\", ax= axes[i])\n",
    "        axes[i].legend(loc= (1.01, 0.87))\n",
    "        axes[i].set_xlabel(\"\")\n",
    "        axes[i].set_ylabel(\"\")\n",
    "        axes[i].set(title= bin_user_prop[i + 1])\n",
    "\n",
    "plt.tight_layout()\n",
    "plt.show()"
   ]
  },
  {
   "cell_type": "markdown",
   "id": "42f15c75",
   "metadata": {
    "id": "ae805bb4"
   },
   "source": [
    "Look like an easygoing female like a male\n",
    "...\n"
   ]
  },
  {
   "cell_type": "markdown",
   "id": "fabe3e16",
   "metadata": {
    "id": "5b5d03ec"
   },
   "source": [
    "### 3. Trực quan hóa thông tin của chuyến bay theo biến phụ thuộc"
   ]
  },
  {
   "cell_type": "code",
   "execution_count": 32,
   "id": "23cf11fb",
   "metadata": {},
   "outputs": [
    {
     "data": {
      "text/plain": [
       "<AxesSubplot:xlabel='Flight_Distance', ylabel='Type_of_Travel'>"
      ]
     },
     "execution_count": 32,
     "metadata": {},
     "output_type": "execute_result"
    },
    {
     "data": {
      "image/png": "[encoded data removed]",
      "text/plain": [
       "<Figure size 1040x390 with 1 Axes>"
      ]
     },
     "metadata": {
      "needs_background": "light"
     },
     "output_type": "display_data"
    }
   ],
   "source": [
    "plt.figure(figsize= (8, 3), dpi = 130)\n",
    "sns.histplot(data= df, x= 'Flight_Distance', y= 'Type_of_Travel', hue= 'satisfaction', alpha = 0.7)"
   ]
  },
  {
   "cell_type": "markdown",
   "id": "6490153f",
   "metadata": {},
   "source": [
    "- Có sự khác biệt về phân bố của khoảng cách bay và độ hài lòng giữa các mục đích du lịch"
   ]
  },
  {
   "cell_type": "code",
   "execution_count": 33,
   "id": "88ebc316",
   "metadata": {
    "colab": {
     "base_uri": "https://localhost:8080/",
     "height": 0
    },
    "id": "d3b27e1d",
    "outputId": "fe0af2e7-463a-486c-acb9-bb29ee312c77"
   },
   "outputs": [
    {
     "data": {
      "image/png": "[encoded data removed]",
      "text/plain": [
       "<Figure size 500x300 with 1 Axes>"
      ]
     },
     "metadata": {
      "needs_background": "light"
     },
     "output_type": "display_data"
    }
   ],
   "source": [
    "plt.figure(figsize= (5, 3), dpi = 100)\n",
    "sns.countplot(data= df[df['Type_of_Travel'] == 'Personal Travel'], x= 'Class', hue= 'satisfaction')\n",
    "plt.show()"
   ]
  },
  {
   "cell_type": "code",
   "execution_count": 34,
   "id": "679ab07f",
   "metadata": {},
   "outputs": [
    {
     "data": {
      "image/png": "[encoded data removed]",
      "text/plain": [
       "<Figure size 500x300 with 1 Axes>"
      ]
     },
     "metadata": {
      "needs_background": "light"
     },
     "output_type": "display_data"
    }
   ],
   "source": [
    "plt.figure(figsize= (5, 3), dpi = 100)\n",
    "sns.countplot(data= df[df['Type_of_Travel'] == 'Business travel'], x= 'Class', hue= 'satisfaction')\n",
    "plt.show()"
   ]
  },
  {
   "cell_type": "markdown",
   "id": "ff9f5e8b",
   "metadata": {
    "id": "e57a7041"
   },
   "source": [
    "- Vấn đề phát hiện qua trực quan hóa: \n",
    "    + Loại vé Eco thường sử dụng cho mục đích Personal Travel và nhìn chung, khách hàng đang không hài lòng với dịch vụ ở hạng mục vé này khi đi xa \n",
    "    + Loại vé Business thường được khách hàng đánh giá tốt ở nhiều mục đích sử dụng\n",
    "    + Loại vé Eco Plus không có quá nhiều khác biệt đối với các mục đích sử dụng khác nhau và số lượng hành khách thuộc loại vé này còn khá ít\n",
    "- Giải pháp đề xuất: \n",
    "    + Cần xem xét thay đổi dịch vụ với hạng vé Eco dành cho những chuyến bay xa đặc biệt đối với những dịch vụ ở trên chuyến bay như giải trí, chỗ ngồi, đồ ăn, ...\n",
    "    + Cung cấp thêm nhiều dịch vụ đặc biệt cho hạng vé Eco Plus, cần thêm marketing, PR ... cho loại vé này "
   ]
  },
  {
   "cell_type": "code",
   "execution_count": 35,
   "id": "664e8bd5",
   "metadata": {
    "colab": {
     "base_uri": "https://localhost:8080/"
    },
    "id": "738e5463",
    "outputId": "fa570497-e573-403b-e62d-3f54fb316bba",
    "scrolled": false
   },
   "outputs": [
    {
     "data": {
      "text/plain": [
       "satisfaction                         1.000000\n",
       "Inflight_entertainment               0.523496\n",
       "Ease_of_Online_booking               0.431772\n",
       "Online_support                       0.390143\n",
       "On_board_service                     0.352047\n",
       "Online_boarding                      0.338147\n",
       "Leg_room_service                     0.304928\n",
       "Checkin_service                      0.266179\n",
       "Baggage_handling                     0.260347\n",
       "Cleanliness                          0.259330\n",
       "Seat_comfort                         0.242384\n",
       "Inflight_wifi_service                0.227062\n",
       "Food_and_drink                       0.120677\n",
       "Age                                  0.117971\n",
       "Gate_location                       -0.012071\n",
       "Departure/Arrival_time_convenient   -0.015507\n",
       "Flight_Distance                     -0.039224\n",
       "Departure_Delay_in_Minutes          -0.073909\n",
       "Arrival_Delay_in_Minutes            -0.080691\n",
       "Name: satisfaction, dtype: float64"
      ]
     },
     "execution_count": 35,
     "metadata": {},
     "output_type": "execute_result"
    }
   ],
   "source": [
    "corr_matrix = df.corr()\n",
    "corr_matrix['satisfaction'].sort_values(ascending = False)"
   ]
  },
  {
   "cell_type": "markdown",
   "id": "6f823995",
   "metadata": {},
   "source": [
    "#### Vẽ biểu đồ heatmap với những cột có điểm corr tương đối cao"
   ]
  },
  {
   "cell_type": "code",
   "execution_count": 36,
   "id": "f0dcf95e",
   "metadata": {
    "colab": {
     "base_uri": "https://localhost:8080/",
     "height": 0
    },
    "id": "de23a10f",
    "outputId": "8bcc7eca-f809-4db0-8e05-2317641476a0"
   },
   "outputs": [
    {
     "data": {
      "text/plain": [
       "<AxesSubplot:xlabel='Ease_of_Online_booking', ylabel='satisfaction'>"
      ]
     },
     "execution_count": 36,
     "metadata": {},
     "output_type": "execute_result"
    },
    {
     "data": {
      "image/png": "[encoded data removed]",
      "text/plain": [
       "<Figure size 1008x576 with 8 Axes>"
      ]
     },
     "metadata": {
      "needs_background": "light"
     },
     "output_type": "display_data"
    }
   ],
   "source": [
    "fig, axarr = plt.subplots(2, 2, figsize=(14, 8))\n",
    "\n",
    "table1 = pd.crosstab(df['satisfaction'], df['Inflight_entertainment'])\n",
    "sns.heatmap(table1, cmap='PuRd',ax = axarr[0][0])\n",
    "table2 = pd.crosstab(df['satisfaction'], df['Seat_comfort'])\n",
    "sns.heatmap(table2, cmap='Reds',ax = axarr[0][1])\n",
    "table3 = pd.crosstab(df['satisfaction'], df['Online_support'])\n",
    "sns.heatmap(table3, cmap='Greens',ax = axarr[1][0])\n",
    "table4 = pd.crosstab(df['satisfaction'], df['Ease_of_Online_booking'])\n",
    "sns.heatmap(table4, cmap='PuBu',ax = axarr[1][1])"
   ]
  },
  {
   "cell_type": "markdown",
   "id": "04095f8e",
   "metadata": {
    "id": "f1c538f3"
   },
   "source": [
    "Có sự tương quan rõ rệt với satisfaction.\n",
    " Rất nhiều đánh giá 4,5 được xếp vào loại hài lòng\n",
    " Ngược lại, rất nhiều đánh giá 1-3 thì xếp vào loại không hài lòng. \n",
    "##### Cho thấy những feature này có tác động lớn vào đánh giá độ hài lòng của khách hàng"
   ]
  },
  {
   "cell_type": "code",
   "execution_count": 37,
   "id": "8de2dc2a",
   "metadata": {
    "colab": {
     "base_uri": "https://localhost:8080/",
     "height": 0
    },
    "id": "532850f1",
    "outputId": "8973ef45-e42f-4229-b7a9-4be170b6afe7",
    "scrolled": true
   },
   "outputs": [
    {
     "data": {
      "text/plain": [
       "<AxesSubplot:xlabel='Gate_location', ylabel='satisfaction'>"
      ]
     },
     "execution_count": 37,
     "metadata": {},
     "output_type": "execute_result"
    },
    {
     "data": {
      "image/png": "[encoded data removed]",
      "text/plain": [
       "<Figure size 1296x360 with 4 Axes>"
      ]
     },
     "metadata": {
      "needs_background": "light"
     },
     "output_type": "display_data"
    }
   ],
   "source": [
    "#biểu đồ heatmap với những cột có hệ số tương quan cực thấp \n",
    "#Gate_location                       -0.012071\n",
    "#Departure/Arrival_time_convenient   -0.015507 \n",
    "fig, axarr = plt.subplots(1, 2, figsize=(18, 5))\n",
    "\n",
    "table1 = pd.crosstab(df['satisfaction'], df['Departure/Arrival_time_convenient'])\n",
    "sns.heatmap(table1, cmap='PuRd',ax = axarr[0])\n",
    "table2 = pd.crosstab(df['satisfaction'], df['Gate_location'])\n",
    "sns.heatmap(table2, cmap='PuBu',ax = axarr[1])\n"
   ]
  },
  {
   "cell_type": "markdown",
   "id": "0d11a96a",
   "metadata": {
    "id": "16da76c1"
   },
   "source": [
    "Cả 2 biều đồ trên đều không cho thấy sự tương quan. Những đánh giá 1,2,3 không khác biệt so với 4,5 sao về đánh giá độ hài lòng khách hàng. \n",
    "- Ta kết luận đươc rằng 2 feature trên không ảnh hưởng nhiều đến mức độ hài lòng khách hàng"
   ]
  },
  {
   "cell_type": "markdown",
   "id": "6870cc4d",
   "metadata": {},
   "source": [
    "#### Biểu đồ heatmap với những cột có hệ số tương quan so với satisfaction không cao "
   ]
  },
  {
   "cell_type": "code",
   "execution_count": 38,
   "id": "fbdbbc7a",
   "metadata": {
    "scrolled": true
   },
   "outputs": [
    {
     "data": {
      "text/plain": [
       "<AxesSubplot:xlabel='Food_and_drink', ylabel='satisfaction'>"
      ]
     },
     "execution_count": 38,
     "metadata": {},
     "output_type": "execute_result"
    },
    {
     "data": {
      "image/png": "[encoded data removed]",
      "text/plain": [
       "<Figure size 1296x360 with 4 Axes>"
      ]
     },
     "metadata": {
      "needs_background": "light"
     },
     "output_type": "display_data"
    }
   ],
   "source": [
    "\n",
    "fig, axarr = plt.subplots(1, 2, figsize=(18, 5))\n",
    "\n",
    "table = pd.crosstab(df['satisfaction'], df['Inflight_wifi_service'])\n",
    "sns.heatmap(table, cmap='PuRd',ax = axarr[0])\n",
    "table1 = pd.crosstab(df['satisfaction'], df['Food_and_drink'])\n",
    "sns.heatmap(table1, cmap='Greens',ax = axarr[1])"
   ]
  },
  {
   "cell_type": "markdown",
   "id": "4a371a7e",
   "metadata": {},
   "source": [
    "Sự hài lòng của khách hàng không quá phụ thuộc vào Inflight_wifi_service và Food_and_drink"
   ]
  },
  {
   "cell_type": "markdown",
   "id": "68be1921",
   "metadata": {
    "id": "e9b79875"
   },
   "source": [
    "### 4. Tương quan giữa các tính tăng trong bộ dữ liệu"
   ]
  },
  {
   "cell_type": "code",
   "execution_count": 39,
   "id": "9d8f8e04",
   "metadata": {
    "colab": {
     "base_uri": "https://localhost:8080/",
     "height": 0
    },
    "id": "506a1757",
    "outputId": "5e450863-e4d5-4c82-90af-5059fd0883dd"
   },
   "outputs": [
    {
     "data": {
      "text/plain": [
       "<AxesSubplot:>"
      ]
     },
     "execution_count": 39,
     "metadata": {},
     "output_type": "execute_result"
    },
    {
     "data": {
      "image/png": "[encoded data removed]",
      "text/plain": [
       "<Figure size 1440x1440 with 2 Axes>"
      ]
     },
     "metadata": {
      "needs_background": "light"
     },
     "output_type": "display_data"
    }
   ],
   "source": [
    "corr = df.corr()\n",
    "mask = np.triu(np.ones_like(corr, dtype=bool))\n",
    "f, ax = plt.subplots(figsize=(20, 20))\n",
    "cmap = sns.diverging_palette(1000, 200, as_cmap=True)\n",
    "sns.heatmap(corr, mask=mask, cmap=cmap, vmax=None, center=0,square=True, annot=True, linewidths=.5, cbar_kws={\"shrink\": .5})"
   ]
  },
  {
   "cell_type": "markdown",
   "id": "b0bc9186",
   "metadata": {
    "id": "48a9d295"
   },
   "source": [
    "Departure_Delay_in_Minutes tương quan cao với Arrival_Delay_in_Minutes từ 0.97 ~ 1\n",
    "##### Kết luận: kết hợp Arrival_Delay_in_minutes và Departure_Delay_in_Minutes thành Delay_in_Minutes"
   ]
  },
  {
   "cell_type": "code",
   "execution_count": 40,
   "id": "ac5300e8",
   "metadata": {},
   "outputs": [],
   "source": [
    "df['Delay_in_Minutes'] = df['Arrival_Delay_in_Minutes'] + df['Departure_Delay_in_Minutes']\n",
    "df.drop(['Arrival_Delay_in_Minutes','Departure_Delay_in_Minutes'],axis = 1, inplace=True)"
   ]
  },
  {
   "cell_type": "markdown",
   "id": "1fa861ba",
   "metadata": {
    "id": "b12278bd"
   },
   "source": [
    "## III. Chuẩn bị dữ liệu cho mô hình\n"
   ]
  },
  {
   "cell_type": "markdown",
   "id": "ce8d2f13",
   "metadata": {
    "id": "0beb35b3"
   },
   "source": [
    "### 1. Chia thành tập huấn luyện, phát triển và kiểm thử"
   ]
  },
  {
   "cell_type": "markdown",
   "id": "a0c30a21",
   "metadata": {
    "id": "1148e0a9"
   },
   "source": [
    "#### Lấy mẫu theo thuộc tính"
   ]
  },
  {
   "cell_type": "code",
   "execution_count": 41,
   "id": "07dc8875",
   "metadata": {},
   "outputs": [],
   "source": [
    "#df['Age_cat'] = df['Age_cat'].astype('object')"
   ]
  },
  {
   "cell_type": "code",
   "execution_count": 42,
   "id": "3ea93529",
   "metadata": {
    "id": "d6169717"
   },
   "outputs": [],
   "source": [
    "# stratified sampling by Age_cat\n",
    "split = StratifiedShuffleSplit(n_splits=1, test_size=0.2, random_state=101)\n",
    "for train_index, group_index in split.split(df, df[\"Age_cat\"]):\n",
    "    strat_train_set = df.loc[train_index]\n",
    "    strat_group_set = df.loc[group_index]\n",
    "# test size = 0.2\n",
    "split_2 = StratifiedShuffleSplit(n_splits=1, test_size=0.5, random_state=101)\n",
    "for dev_index, test_index in split_2.split(strat_group_set, strat_group_set[\"Age_cat\"]):\n",
    "    strat_dev_set = strat_group_set.iloc[dev_index]\n",
    "    strat_test_set = strat_group_set.iloc[test_index]"
   ]
  },
  {
   "cell_type": "code",
   "execution_count": 43,
   "id": "6ac8bd11",
   "metadata": {},
   "outputs": [
    {
     "name": "stderr",
     "output_type": "stream",
     "text": [
      "C:\\Users\\Taichi\\anaconda3\\envs\\my-env-name\\lib\\site-packages\\pandas\\core\\frame.py:4169: SettingWithCopyWarning: \n",
      "A value is trying to be set on a copy of a slice from a DataFrame\n",
      "\n",
      "See the caveats in the documentation: https://pandas.pydata.org/pandas-docs/stable/user_guide/indexing.html#returning-a-view-versus-a-copy\n",
      "  errors=errors,\n"
     ]
    }
   ],
   "source": [
    "strat_train_set.drop(\"Age_cat\", axis= 1, inplace= True)\n",
    "strat_dev_set.drop(\"Age_cat\", axis= 1, inplace= True)\n",
    "strat_test_set.drop(\"Age_cat\", axis= 1, inplace= True)"
   ]
  },
  {
   "cell_type": "markdown",
   "id": "54e8b7ca",
   "metadata": {
    "id": "86342136"
   },
   "source": [
    "#### Đổi tên các tập dữ liệu"
   ]
  },
  {
   "cell_type": "code",
   "execution_count": 44,
   "id": "cf446132",
   "metadata": {
    "id": "83946ccc"
   },
   "outputs": [],
   "source": [
    "# Tập huấn luyện\n",
    "y_train = strat_train_set['satisfaction']\n",
    "X_train = strat_train_set.drop(\"satisfaction\",axis =1 )"
   ]
  },
  {
   "cell_type": "code",
   "execution_count": 45,
   "id": "6422f51f",
   "metadata": {
    "id": "7ff6388f"
   },
   "outputs": [],
   "source": [
    "# Tập phát triển\n",
    "y_dev = strat_dev_set['satisfaction']\n",
    "X_dev = strat_dev_set.drop(\"satisfaction\",axis = 1)"
   ]
  },
  {
   "cell_type": "code",
   "execution_count": 46,
   "id": "9aa5fb75",
   "metadata": {
    "id": "RpcI9szcpcT1"
   },
   "outputs": [],
   "source": [
    "# Tập kiểm thử\n",
    "y_test = strat_test_set['satisfaction']\n",
    "X_test = strat_test_set.drop(\"satisfaction\",axis = 1)"
   ]
  },
  {
   "cell_type": "markdown",
   "id": "38d855fe",
   "metadata": {
    "id": "acc462b9"
   },
   "source": [
    "### 2. Xây dựng Pipeline xử lý dữ liệu cho mô hình"
   ]
  },
  {
   "cell_type": "code",
   "execution_count": 47,
   "id": "163a5e76",
   "metadata": {
    "id": "5b977b34"
   },
   "outputs": [],
   "source": [
    "# Rút trích tên cột các thuộc tính phân loại và số liệu\n",
    "col_cat = X_train.columns[X_train.dtypes==object]\n",
    "col_num = X_train.columns[X_train.dtypes!=object]"
   ]
  },
  {
   "cell_type": "code",
   "execution_count": 48,
   "id": "548848a8",
   "metadata": {
    "colab": {
     "base_uri": "https://localhost:8080/"
    },
    "id": "3729a5d2",
    "outputId": "7cd54434-80d8-46b8-f872-4e9a231922b8",
    "scrolled": true
   },
   "outputs": [],
   "source": [
    "onehot_col = ['Gender', 'Customer_Type', 'Type_of_Travel']\n",
    "ordi_col = col_cat.drop(['Gender', 'Customer_Type', 'Type_of_Travel'])"
   ]
  },
  {
   "cell_type": "markdown",
   "id": "6c93b9e9",
   "metadata": {
    "id": "0adbbed3"
   },
   "source": [
    "#####  Pipeline cho số liệu"
   ]
  },
  {
   "cell_type": "code",
   "execution_count": 49,
   "id": "80e9a914",
   "metadata": {
    "id": "b0ec7ef3"
   },
   "outputs": [],
   "source": [
    "#pipeline handle missing values and scaling feature\n",
    "num_pipeline = Pipeline([\n",
    " ('imputer', SimpleImputer(strategy=\"mean\")),\n",
    " ('std_scaler', MinMaxScaler()),\n",
    " ])"
   ]
  },
  {
   "cell_type": "markdown",
   "id": "ba9ee699",
   "metadata": {
    "id": "7c92cfa1"
   },
   "source": [
    "##### Pipeline tổng thể"
   ]
  },
  {
   "cell_type": "code",
   "execution_count": 50,
   "id": "4c823923",
   "metadata": {
    "id": "4fae2db5",
    "scrolled": true
   },
   "outputs": [],
   "source": [
    "# Pipeline tổng thể xử lý dữ liệu phân loạivà số học\n",
    "full_pipeline = ColumnTransformer([\n",
    "         (\"num\", num_pipeline, col_num),\n",
    "         (\"ordi\",OrdinalEncoder(), ordi_col),\n",
    "         (\"onehot\",OneHotEncoder(), onehot_col)\n",
    " ])"
   ]
  },
  {
   "cell_type": "code",
   "execution_count": 51,
   "id": "7c3b24ef",
   "metadata": {
    "scrolled": true
   },
   "outputs": [
    {
     "data": {
      "text/plain": [
       "ColumnTransformer(transformers=[('num',\n",
       "                                 Pipeline(steps=[('imputer', SimpleImputer()),\n",
       "                                                 ('std_scaler',\n",
       "                                                  MinMaxScaler())]),\n",
       "                                 Index(['Age', 'Flight_Distance', 'Seat_comfort',\n",
       "       'Departure/Arrival_time_convenient', 'Food_and_drink', 'Gate_location',\n",
       "       'Inflight_wifi_service', 'Inflight_entertainment', 'Online_support',\n",
       "       'Ease_of_Online_booking', 'On_board_service', 'Leg_room_service',\n",
       "       'Baggage_handling', 'Checkin_service', 'Cleanliness', 'Online_boarding',\n",
       "       'Delay_in_Minutes'],\n",
       "      dtype='object')),\n",
       "                                ('ordi', OrdinalEncoder(),\n",
       "                                 Index(['Class'], dtype='object')),\n",
       "                                ('onehot', OneHotEncoder(),\n",
       "                                 ['Gender', 'Customer_Type',\n",
       "                                  'Type_of_Travel'])])"
      ]
     },
     "execution_count": 51,
     "metadata": {},
     "output_type": "execute_result"
    }
   ],
   "source": [
    "full_pipeline.fit(X_train)"
   ]
  },
  {
   "cell_type": "markdown",
   "id": "edc8681c",
   "metadata": {},
   "source": [
    "Xử lý tên cột cho các thuộc tính khi đi qua Pipeline"
   ]
  },
  {
   "cell_type": "code",
   "execution_count": 52,
   "id": "7020d06c",
   "metadata": {},
   "outputs": [],
   "source": [
    "col_name = list(col_num) + list(ordi_col)\n",
    "full_col_name = col_name + list(full_pipeline.named_transformers_.onehot.get_feature_names())"
   ]
  },
  {
   "cell_type": "code",
   "execution_count": 53,
   "id": "7ad5b2a7",
   "metadata": {
    "id": "eb71754b"
   },
   "outputs": [],
   "source": [
    "# Đưa các tập dữ liệu qua Pipeline\n",
    "X_train= full_pipeline.transform(X_train)\n",
    "X_train = pd.DataFrame(X_train,columns=full_col_name)\n",
    "\n",
    "X_test = full_pipeline.transform(X_test)\n",
    "X_test = pd.DataFrame(X_test,columns=full_col_name)\n",
    "\n",
    "X_dev = full_pipeline.transform(X_dev)\n",
    "X_dev = pd.DataFrame(X_dev,columns=full_col_name)"
   ]
  },
  {
   "cell_type": "markdown",
   "id": "1207ba8d",
   "metadata": {
    "id": "3e09db1a"
   },
   "source": [
    "# IV. Lựa chọn và tối ưu mô hình máy học"
   ]
  },
  {
   "cell_type": "markdown",
   "id": "77ed301d",
   "metadata": {},
   "source": [
    "## 1. Logistic Regression"
   ]
  },
  {
   "cell_type": "code",
   "execution_count": 54,
   "id": "98000348",
   "metadata": {
    "id": "a0787f0f"
   },
   "outputs": [],
   "source": [
    "log_reg = LogisticRegression(max_iter= 1000)"
   ]
  },
  {
   "cell_type": "code",
   "execution_count": 55,
   "id": "f0998846",
   "metadata": {},
   "outputs": [
    {
     "data": {
      "text/plain": [
       "LogisticRegression(max_iter=1000)"
      ]
     },
     "execution_count": 55,
     "metadata": {},
     "output_type": "execute_result"
    }
   ],
   "source": [
    "log_reg.fit(X_train, y_train)"
   ]
  },
  {
   "cell_type": "code",
   "execution_count": 56,
   "id": "cb71a7c1",
   "metadata": {
    "id": "60c1ef5b"
   },
   "outputs": [],
   "source": [
    "predict_dev = log_reg.predict(X_dev)"
   ]
  },
  {
   "cell_type": "code",
   "execution_count": 57,
   "id": "641ea763",
   "metadata": {
    "id": "fab1cfd1"
   },
   "outputs": [
    {
     "name": "stdout",
     "output_type": "stream",
     "text": [
      "[[4731  996]\n",
      " [1117 6144]]\n"
     ]
    }
   ],
   "source": [
    "print(confusion_matrix(predict_dev, y_dev))"
   ]
  },
  {
   "cell_type": "code",
   "execution_count": 58,
   "id": "f763ca21",
   "metadata": {
    "id": "5dc7f8b7",
    "scrolled": true
   },
   "outputs": [
    {
     "name": "stdout",
     "output_type": "stream",
     "text": [
      "              precision    recall  f1-score   support\n",
      "\n",
      "           0       0.81      0.83      0.82      5727\n",
      "           1       0.86      0.85      0.85      7261\n",
      "\n",
      "    accuracy                           0.84     12988\n",
      "   macro avg       0.83      0.84      0.84     12988\n",
      "weighted avg       0.84      0.84      0.84     12988\n",
      "\n"
     ]
    }
   ],
   "source": [
    "print(classification_report(predict_dev, y_dev))"
   ]
  },
  {
   "cell_type": "markdown",
   "id": "40b86187",
   "metadata": {
    "id": "34eeddd6"
   },
   "source": [
    "## 2. Neural Network"
   ]
  },
  {
   "cell_type": "code",
   "execution_count": 59,
   "id": "d0636e7f",
   "metadata": {
    "id": "ee6a6f37"
   },
   "outputs": [],
   "source": [
    "import tensorflow as tf\n",
    "from tensorflow import keras\n",
    "from tensorflow.keras import layers"
   ]
  },
  {
   "cell_type": "code",
   "execution_count": 60,
   "id": "d7c6d7db",
   "metadata": {
    "id": "zrZj6nzH7EW5"
   },
   "outputs": [],
   "source": [
    "tf.random.set_seed(1234)"
   ]
  },
  {
   "cell_type": "code",
   "execution_count": 61,
   "id": "f6c20107",
   "metadata": {
    "id": "e427674d"
   },
   "outputs": [],
   "source": [
    "# Define Sequential model with 3 layers\n",
    "model = keras.Sequential(\n",
    "    [\n",
    "        layers.Dense(256, activation=\"relu\", name=\"layer0\"),\n",
    "        layers.Dense(256, activation=\"relu\", name=\"layer1\"),\n",
    "        \n",
    "        layers.Dense(128, activation=\"linear\", name=\"layer4\"),    \n",
    "        layers.Dense(1, activation='sigmoid')\n",
    "    ]\n",
    ")"
   ]
  },
  {
   "cell_type": "code",
   "execution_count": 62,
   "id": "2296399d",
   "metadata": {
    "id": "64864350"
   },
   "outputs": [],
   "source": [
    "model.compile(\n",
    "        optimizer=\"adam\",\n",
    "        loss='BinaryCrossentropy',\n",
    "        metrics=[tf.keras.metrics.BinaryAccuracy()],\n",
    "        \n",
    ")"
   ]
  },
  {
   "cell_type": "code",
   "execution_count": 63,
   "id": "9b11095b",
   "metadata": {
    "colab": {
     "base_uri": "https://localhost:8080/"
    },
    "id": "ed589dbb",
    "outputId": "d1c293e6-42bf-48d5-de37-90088aa0e11c",
    "scrolled": true
   },
   "outputs": [
    {
     "name": "stdout",
     "output_type": "stream",
     "text": [
      "Epoch 1/10\n",
      "WARNING:tensorflow:Layer layer0 is casting an input tensor from dtype float64 to the layer's dtype of float32, which is new behavior in TensorFlow 2.  The layer has dtype float32 because its dtype defaults to floatx.\n",
      "\n",
      "If you intended to run this layer in float32, you can safely ignore this warning. If in doubt, this warning is likely only an issue if you are porting a TensorFlow 1.X model to TensorFlow 2.\n",
      "\n",
      "To change all layers to have dtype float64 by default, call `tf.keras.backend.set_floatx('float64')`. To change just this layer, pass dtype='float64' to the layer constructor. If you are the author of this layer, you can disable autocasting by passing autocast=False to the base Layer constructor.\n",
      "\n",
      "406/406 [==============================] - 1s 3ms/step - loss: 0.2348 - binary_accuracy: 0.9009 - val_loss: 0.1791 - val_binary_accuracy: 0.9252\n",
      "Epoch 2/10\n",
      "406/406 [==============================] - 1s 3ms/step - loss: 0.1547 - binary_accuracy: 0.9340 - val_loss: 0.1545 - val_binary_accuracy: 0.9325\n",
      "Epoch 3/10\n",
      "406/406 [==============================] - 1s 2ms/step - loss: 0.1347 - binary_accuracy: 0.9420 - val_loss: 0.1375 - val_binary_accuracy: 0.9424\n",
      "Epoch 4/10\n",
      "406/406 [==============================] - 1s 2ms/step - loss: 0.1249 - binary_accuracy: 0.9455 - val_loss: 0.1238 - val_binary_accuracy: 0.9474\n",
      "Epoch 5/10\n",
      "406/406 [==============================] - 1s 2ms/step - loss: 0.1183 - binary_accuracy: 0.9477 - val_loss: 0.1242 - val_binary_accuracy: 0.9447\n",
      "Epoch 6/10\n",
      "406/406 [==============================] - 1s 2ms/step - loss: 0.1140 - binary_accuracy: 0.9494 - val_loss: 0.1210 - val_binary_accuracy: 0.9423\n",
      "Epoch 7/10\n",
      "406/406 [==============================] - 1s 2ms/step - loss: 0.1113 - binary_accuracy: 0.9513 - val_loss: 0.1183 - val_binary_accuracy: 0.9485\n",
      "Epoch 8/10\n",
      "406/406 [==============================] - 1s 2ms/step - loss: 0.1076 - binary_accuracy: 0.9523 - val_loss: 0.1196 - val_binary_accuracy: 0.9465\n",
      "Epoch 9/10\n",
      "406/406 [==============================] - 1s 2ms/step - loss: 0.1052 - binary_accuracy: 0.9530 - val_loss: 0.1139 - val_binary_accuracy: 0.9505\n",
      "Epoch 10/10\n",
      "406/406 [==============================] - 1s 2ms/step - loss: 0.1020 - binary_accuracy: 0.9546 - val_loss: 0.1158 - val_binary_accuracy: 0.9503\n"
     ]
    }
   ],
   "source": [
    "history = model.fit(\n",
    "    X_train,\n",
    "    y_train,\n",
    "    batch_size=256,\n",
    "    epochs=10,\n",
    "    validation_data=(X_dev, y_dev)\n",
    ")"
   ]
  },
  {
   "cell_type": "code",
   "execution_count": 64,
   "id": "3524242a",
   "metadata": {
    "id": "b7bb25ed"
   },
   "outputs": [],
   "source": [
    "y_proba_neural = model.predict(X_test)"
   ]
  },
  {
   "cell_type": "code",
   "execution_count": 65,
   "id": "c439de22",
   "metadata": {
    "colab": {
     "base_uri": "https://localhost:8080/"
    },
    "id": "UfO5Yg7gu0Qn",
    "outputId": "62ada3c6-7cd8-4f0f-fc02-3b30df1be909",
    "scrolled": true
   },
   "outputs": [
    {
     "name": "stdout",
     "output_type": "stream",
     "text": [
      "              precision    recall  f1-score   support\n",
      "\n",
      "       False       0.96      0.93      0.95      6006\n",
      "        True       0.94      0.97      0.95      6982\n",
      "\n",
      "    accuracy                           0.95     12988\n",
      "   macro avg       0.95      0.95      0.95     12988\n",
      "weighted avg       0.95      0.95      0.95     12988\n",
      "\n"
     ]
    }
   ],
   "source": [
    "print(classification_report(y_proba_neural > 0.5 , y_test))"
   ]
  },
  {
   "cell_type": "markdown",
   "id": "f3c7e49a",
   "metadata": {
    "id": "TyuTpCyily1Y"
   },
   "source": [
    "## 3. Randomforest"
   ]
  },
  {
   "cell_type": "code",
   "execution_count": 66,
   "id": "b4969bbe",
   "metadata": {
    "id": "30e43152"
   },
   "outputs": [],
   "source": [
    "from sklearn.ensemble import RandomForestClassifier"
   ]
  },
  {
   "cell_type": "code",
   "execution_count": 67,
   "id": "717f5fb4",
   "metadata": {},
   "outputs": [],
   "source": [
    "rdf_model = RandomForestClassifier(verbose= 1 ,  n_jobs= -1, random_state= 101)"
   ]
  },
  {
   "cell_type": "code",
   "execution_count": 68,
   "id": "a2813dee",
   "metadata": {
    "id": "1EKgeVfCmCJ8"
   },
   "outputs": [],
   "source": [
    "param_grid = {\n",
    "    'bootstrap': [True],\n",
    "    'max_depth': [30, 50],\n",
    "    'max_features': [5],\n",
    "    'min_samples_leaf': [2],\n",
    "    'min_samples_split': [2],\n",
    "    'n_estimators': [120, 140]\n",
    "}"
   ]
  },
  {
   "cell_type": "code",
   "execution_count": 69,
   "id": "9df48ca8",
   "metadata": {
    "id": "aohfUhjKmIEJ"
   },
   "outputs": [],
   "source": [
    "grid_search = GridSearchCV(estimator = rdf_model, param_grid = param_grid, \n",
    "                          cv = 3, n_jobs = -1, verbose = 0)"
   ]
  },
  {
   "cell_type": "code",
   "execution_count": 70,
   "id": "4dd681a1",
   "metadata": {
    "colab": {
     "base_uri": "https://localhost:8080/"
    },
    "id": "ff014197",
    "outputId": "95725fa5-8a33-4c85-abff-4ad6e5fb1f19"
   },
   "outputs": [
    {
     "name": "stderr",
     "output_type": "stream",
     "text": [
      "[Parallel(n_jobs=-1)]: Using backend ThreadingBackend with 8 concurrent workers.\n",
      "[Parallel(n_jobs=-1)]: Done  34 tasks      | elapsed:    1.3s\n",
      "[Parallel(n_jobs=-1)]: Done 120 out of 120 | elapsed:    4.2s finished\n"
     ]
    },
    {
     "data": {
      "text/plain": [
       "GridSearchCV(cv=3,\n",
       "             estimator=RandomForestClassifier(n_jobs=-1, random_state=101,\n",
       "                                              verbose=1),\n",
       "             n_jobs=-1,\n",
       "             param_grid={'bootstrap': [True], 'max_depth': [30, 50],\n",
       "                         'max_features': [5], 'min_samples_leaf': [2],\n",
       "                         'min_samples_split': [2], 'n_estimators': [120, 140]})"
      ]
     },
     "execution_count": 70,
     "metadata": {},
     "output_type": "execute_result"
    }
   ],
   "source": [
    "grid_search.fit(X_train, y_train)"
   ]
  },
  {
   "cell_type": "code",
   "execution_count": 72,
   "id": "a2372eb7",
   "metadata": {
    "scrolled": true
   },
   "outputs": [
    {
     "data": {
      "text/plain": [
       "0.9574414741576524"
      ]
     },
     "execution_count": 72,
     "metadata": {},
     "output_type": "execute_result"
    }
   ],
   "source": [
    "grid_search.best_score_"
   ]
  },
  {
   "cell_type": "code",
   "execution_count": 73,
   "id": "d2298c49",
   "metadata": {
    "id": "7599d098",
    "scrolled": false
   },
   "outputs": [
    {
     "name": "stdout",
     "output_type": "stream",
     "text": [
      "              precision    recall  f1-score   support\n",
      "\n",
      "           0       0.96      0.94      0.95      5967\n",
      "           1       0.95      0.97      0.96      7021\n",
      "\n",
      "    accuracy                           0.96     12988\n",
      "   macro avg       0.96      0.96      0.96     12988\n",
      "weighted avg       0.96      0.96      0.96     12988\n",
      "\n"
     ]
    },
    {
     "name": "stderr",
     "output_type": "stream",
     "text": [
      "[Parallel(n_jobs=8)]: Using backend ThreadingBackend with 8 concurrent workers.\n",
      "[Parallel(n_jobs=8)]: Done  34 tasks      | elapsed:    0.0s\n",
      "[Parallel(n_jobs=8)]: Done 120 out of 120 | elapsed:    0.0s finished\n"
     ]
    }
   ],
   "source": [
    "y_proba_grid = grid_search.predict(X_dev)\n",
    "print(classification_report(y_proba_grid, y_dev))"
   ]
  },
  {
   "cell_type": "code",
   "execution_count": 75,
   "id": "8d9b8bd7",
   "metadata": {},
   "outputs": [],
   "source": [
    "rdf_model = RandomForestClassifier(n_jobs= -1, random_state= 101,\n",
    "                                 bootstrap= True, \n",
    "                                 max_features= 5,\n",
    "                                 max_depth= 30,\n",
    "                                 min_samples_split= 2,\n",
    "                                 n_estimators= 120,\n",
    "                                  verbose= 0)"
   ]
  },
  {
   "cell_type": "code",
   "execution_count": 76,
   "id": "d950cd11",
   "metadata": {},
   "outputs": [
    {
     "data": {
      "text/plain": [
       "RandomForestClassifier(max_depth=30, max_features=5, n_estimators=120,\n",
       "                       n_jobs=-1, random_state=101)"
      ]
     },
     "execution_count": 76,
     "metadata": {},
     "output_type": "execute_result"
    }
   ],
   "source": [
    "rdf_model.fit(X_train, y_train)"
   ]
  },
  {
   "cell_type": "code",
   "execution_count": 76,
   "id": "df852c3b",
   "metadata": {},
   "outputs": [
    {
     "name": "stderr",
     "output_type": "stream",
     "text": [
      "[Parallel(n_jobs=8)]: Using backend ThreadingBackend with 8 concurrent workers.\n",
      "[Parallel(n_jobs=8)]: Done  34 tasks      | elapsed:    0.0s\n",
      "[Parallel(n_jobs=8)]: Done 120 out of 120 | elapsed:    0.0s finished\n"
     ]
    }
   ],
   "source": [
    "rdf_model"
   ]
  },
  {
   "cell_type": "code",
   "execution_count": 77,
   "id": "41800df6",
   "metadata": {
    "scrolled": true
   },
   "outputs": [
    {
     "name": "stdout",
     "output_type": "stream",
     "text": [
      "              precision    recall  f1-score   support\n",
      "\n",
      "           0       0.96      0.95      0.96      5957\n",
      "           1       0.96      0.97      0.96      7031\n",
      "\n",
      "    accuracy                           0.96     12988\n",
      "   macro avg       0.96      0.96      0.96     12988\n",
      "weighted avg       0.96      0.96      0.96     12988\n",
      "\n"
     ]
    }
   ],
   "source": [
    "y_proba_rdf = rdf_model.predict(X_test)\n",
    "print(classification_report(y_proba_rdf, y_test))"
   ]
  },
  {
   "cell_type": "markdown",
   "id": "f9c42d06",
   "metadata": {},
   "source": [
    "Accuracy giữa các tập train-dev-test set không có sự chênh lệnh, mô hình không bị bias và variance."
   ]
  },
  {
   "cell_type": "markdown",
   "id": "2f854620",
   "metadata": {},
   "source": [
    " ## Thông dịch mô hình"
   ]
  },
  {
   "cell_type": "code",
   "execution_count": 78,
   "id": "ebc427cb",
   "metadata": {},
   "outputs": [],
   "source": [
    "log_ = pd.Series(log_reg.coef_.reshape(-1), X_dev.columns).sort_values(ascending= False)"
   ]
  },
  {
   "cell_type": "code",
   "execution_count": 79,
   "id": "51f6ab75",
   "metadata": {
    "scrolled": false
   },
   "outputs": [],
   "source": [
    "rdf_ = pd.Series(rdf_model.feature_importances_, index= X_dev.columns).sort_values(ascending= False)"
   ]
  },
  {
   "cell_type": "code",
   "execution_count": 80,
   "id": "88a44103",
   "metadata": {
    "scrolled": false
   },
   "outputs": [
    {
     "data": {
      "text/html": [
       "<div>\n",
       "<style scoped>\n",
       "    .dataframe tbody tr th:only-of-type {\n",
       "        vertical-align: middle;\n",
       "    }\n",
       "\n",
       "    .dataframe tbody tr th {\n",
       "        vertical-align: top;\n",
       "    }\n",
       "\n",
       "    .dataframe thead th {\n",
       "        text-align: right;\n",
       "    }\n",
       "</style>\n",
       "<table border=\"1\" class=\"dataframe\">\n",
       "  <thead>\n",
       "    <tr style=\"text-align: right;\">\n",
       "      <th></th>\n",
       "      <th>Random Forest</th>\n",
       "      <th>Logistic Regression</th>\n",
       "    </tr>\n",
       "  </thead>\n",
       "  <tbody>\n",
       "    <tr>\n",
       "      <th>Inflight_entertainment</th>\n",
       "      <td>0.206430</td>\n",
       "      <td>3.436761</td>\n",
       "    </tr>\n",
       "    <tr>\n",
       "      <th>Seat_comfort</th>\n",
       "      <td>0.129908</td>\n",
       "      <td>1.405997</td>\n",
       "    </tr>\n",
       "    <tr>\n",
       "      <th>Ease_of_Online_booking</th>\n",
       "      <td>0.072443</td>\n",
       "      <td>1.040326</td>\n",
       "    </tr>\n",
       "    <tr>\n",
       "      <th>Online_support</th>\n",
       "      <td>0.064847</td>\n",
       "      <td>0.479436</td>\n",
       "    </tr>\n",
       "    <tr>\n",
       "      <th>On_board_service</th>\n",
       "      <td>0.038131</td>\n",
       "      <td>1.545003</td>\n",
       "    </tr>\n",
       "    <tr>\n",
       "      <th>Food_and_drink</th>\n",
       "      <td>0.037768</td>\n",
       "      <td>-1.049059</td>\n",
       "    </tr>\n",
       "    <tr>\n",
       "      <th>Leg_room_service</th>\n",
       "      <td>0.033105</td>\n",
       "      <td>1.089688</td>\n",
       "    </tr>\n",
       "    <tr>\n",
       "      <th>Online_boarding</th>\n",
       "      <td>0.032984</td>\n",
       "      <td>0.888470</td>\n",
       "    </tr>\n",
       "    <tr>\n",
       "      <th>Flight_Distance</th>\n",
       "      <td>0.031631</td>\n",
       "      <td>-0.708445</td>\n",
       "    </tr>\n",
       "    <tr>\n",
       "      <th>x1_disloyal Customer</th>\n",
       "      <td>0.031288</td>\n",
       "      <td>-1.037317</td>\n",
       "    </tr>\n",
       "    <tr>\n",
       "      <th>x1_Loyal Customer</th>\n",
       "      <td>0.029772</td>\n",
       "      <td>1.017243</td>\n",
       "    </tr>\n",
       "    <tr>\n",
       "      <th>Age</th>\n",
       "      <td>0.028098</td>\n",
       "      <td>-0.593676</td>\n",
       "    </tr>\n",
       "    <tr>\n",
       "      <th>Class</th>\n",
       "      <td>0.027530</td>\n",
       "      <td>-0.508755</td>\n",
       "    </tr>\n",
       "    <tr>\n",
       "      <th>Checkin_service</th>\n",
       "      <td>0.025163</td>\n",
       "      <td>1.482836</td>\n",
       "    </tr>\n",
       "    <tr>\n",
       "      <th>x0_Female</th>\n",
       "      <td>0.024302</td>\n",
       "      <td>0.472870</td>\n",
       "    </tr>\n",
       "    <tr>\n",
       "      <th>Baggage_handling</th>\n",
       "      <td>0.024002</td>\n",
       "      <td>0.478272</td>\n",
       "    </tr>\n",
       "    <tr>\n",
       "      <th>Cleanliness</th>\n",
       "      <td>0.022591</td>\n",
       "      <td>0.447113</td>\n",
       "    </tr>\n",
       "    <tr>\n",
       "      <th>x0_Male</th>\n",
       "      <td>0.022104</td>\n",
       "      <td>-0.492944</td>\n",
       "    </tr>\n",
       "    <tr>\n",
       "      <th>x2_Business travel</th>\n",
       "      <td>0.021986</td>\n",
       "      <td>0.436882</td>\n",
       "    </tr>\n",
       "    <tr>\n",
       "      <th>x2_Personal Travel</th>\n",
       "      <td>0.021184</td>\n",
       "      <td>-0.456957</td>\n",
       "    </tr>\n",
       "    <tr>\n",
       "      <th>Departure/Arrival_time_convenient</th>\n",
       "      <td>0.020965</td>\n",
       "      <td>-1.012912</td>\n",
       "    </tr>\n",
       "    <tr>\n",
       "      <th>Delay_in_Minutes</th>\n",
       "      <td>0.020392</td>\n",
       "      <td>-7.563532</td>\n",
       "    </tr>\n",
       "    <tr>\n",
       "      <th>Gate_location</th>\n",
       "      <td>0.019193</td>\n",
       "      <td>0.554058</td>\n",
       "    </tr>\n",
       "    <tr>\n",
       "      <th>Inflight_wifi_service</th>\n",
       "      <td>0.014182</td>\n",
       "      <td>-0.340966</td>\n",
       "    </tr>\n",
       "  </tbody>\n",
       "</table>\n",
       "</div>"
      ],
      "text/plain": [
       "                                   Random Forest  Logistic Regression\n",
       "Inflight_entertainment                  0.206430             3.436761\n",
       "Seat_comfort                            0.129908             1.405997\n",
       "Ease_of_Online_booking                  0.072443             1.040326\n",
       "Online_support                          0.064847             0.479436\n",
       "On_board_service                        0.038131             1.545003\n",
       "Food_and_drink                          0.037768            -1.049059\n",
       "Leg_room_service                        0.033105             1.089688\n",
       "Online_boarding                         0.032984             0.888470\n",
       "Flight_Distance                         0.031631            -0.708445\n",
       "x1_disloyal Customer                    0.031288            -1.037317\n",
       "x1_Loyal Customer                       0.029772             1.017243\n",
       "Age                                     0.028098            -0.593676\n",
       "Class                                   0.027530            -0.508755\n",
       "Checkin_service                         0.025163             1.482836\n",
       "x0_Female                               0.024302             0.472870\n",
       "Baggage_handling                        0.024002             0.478272\n",
       "Cleanliness                             0.022591             0.447113\n",
       "x0_Male                                 0.022104            -0.492944\n",
       "x2_Business travel                      0.021986             0.436882\n",
       "x2_Personal Travel                      0.021184            -0.456957\n",
       "Departure/Arrival_time_convenient       0.020965            -1.012912\n",
       "Delay_in_Minutes                        0.020392            -7.563532\n",
       "Gate_location                           0.019193             0.554058\n",
       "Inflight_wifi_service                   0.014182            -0.340966"
      ]
     },
     "execution_count": 80,
     "metadata": {},
     "output_type": "execute_result"
    }
   ],
   "source": [
    "compare = pd.concat([rdf_,log_],axis= 1)\n",
    "compare.columns = ['Random Forest','Logistic Regression']\n",
    "compare"
   ]
  },
  {
   "cell_type": "code",
   "execution_count": 81,
   "id": "af4c1b65",
   "metadata": {
    "scrolled": false
   },
   "outputs": [
    {
     "data": {
      "image/png": "[encoded data removed]",
      "text/plain": [
       "<Figure size 2080x1170 with 1 Axes>"
      ]
     },
     "metadata": {
      "needs_background": "light"
     },
     "output_type": "display_data"
    }
   ],
   "source": [
    "name = rdf_.index\n",
    "price = rdf_.values\n",
    "\n",
    "# Figure Size\n",
    "fig, ax = plt.subplots(figsize =(16,9), dpi= 130)\n",
    "\n",
    "# Horizontal Bar Plot\n",
    "ax.barh(name, price)\n",
    "\n",
    "# Remove axes splines\n",
    "for s in ['top', 'bottom', 'left', 'right']:\n",
    "\tax.spines[s].set_visible(False)\n",
    "\n",
    "# Remove x, y Ticks\n",
    "ax.xaxis.set_ticks_position('none')\n",
    "ax.yaxis.set_ticks_position('none')\n",
    "\n",
    "# Add padding between axes and labels\n",
    "ax.xaxis.set_tick_params(pad = 10)\n",
    "ax.yaxis.set_tick_params(pad = 3)\n",
    "\n",
    "# Add x, y gridlines\n",
    "ax.grid(b = True, color ='grey',\n",
    "\t\tlinestyle ='-.', linewidth = 0.5,\n",
    "\t\talpha = 0.2)\n",
    "\n",
    "# Show top values\n",
    "ax.invert_yaxis()\n",
    "\n",
    "# Add annotation to bars\n",
    "for i in ax.patches:\n",
    "\tplt.text(i.get_width()+0.001, i.get_y()+0.5,\n",
    "\t\t\tstr(round((i.get_width()), 2)),\n",
    "\t\t\tfontsize = 10, fontweight ='bold',\n",
    "\t\t\tcolor ='grey')\n",
    "\n",
    "# Add Plot Title\n",
    "ax.set_title('Feature Importance',\n",
    "\t\t\tloc ='left', )\n",
    "\n",
    "# Show Plot\n",
    "plt.show()\n"
   ]
  },
  {
   "cell_type": "markdown",
   "id": "e22f43e8",
   "metadata": {},
   "source": [
    "Từ phần trực quan và tham số của mô hình, ta thấy rằng chưa làm được hài lòng các khách hàng mới và các dịch vụ chưa tốt làm ảnh hưởng đến độ hài lòng như đồ ăn, thức uống và độ delay của chuyến bay. Độ chênh lệch về sự hài lòng giữa các loại vé còn khá lớn và đang nghiêng về phần không hài lòng, cần xem xét và đưa ra các phương án cải thiện cho từng loại vé khác nhau."
   ]
  }
 ],
 "metadata": {
  "accelerator": "TPU",
  "colab": {
   "name": "Copy of Project_Datascience-checkpoint.ipynb",
   "provenance": []
  },
  "gpuClass": "standard",
  "kernelspec": {
   "display_name": "Python 3 (ipykernel)",
   "language": "python",
   "name": "python3"
  },
  "language_info": {
   "codemirror_mode": {
    "name": "ipython",
    "version": 3
   },
   "file_extension": ".py",
   "mimetype": "text/x-python",
   "name": "python",
   "nbconvert_exporter": "python",
   "pygments_lexer": "ipython3",
   "version": "3.7.11"
  }
 },
 "nbformat": 4,
 "nbformat_minor": 5
}
