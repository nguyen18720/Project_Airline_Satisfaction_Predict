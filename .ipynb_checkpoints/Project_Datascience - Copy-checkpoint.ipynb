{
 "cells": [
  {
   "cell_type": "markdown",
   "id": "90e14aff",
   "metadata": {
    "id": "a1796f4c"
   },
   "source": [
    "# Import Library"
   ]
  },
  {
   "cell_type": "code",
   "execution_count": 17,
   "id": "74fea3fd",
   "metadata": {
    "id": "7e448f23"
   },
   "outputs": [],
   "source": [
    "import numpy as np"
   ]
  },
  {
   "cell_type": "code",
   "execution_count": 18,
   "id": "dda46b58",
   "metadata": {
    "id": "eecc8b95"
   },
   "outputs": [],
   "source": [
    "import pandas as pd"
   ]
  },
  {
   "cell_type": "code",
   "execution_count": 19,
   "id": "db0df248",
   "metadata": {
    "id": "3d5030fb"
   },
   "outputs": [],
   "source": [
    "import matplotlib.pyplot as plt"
   ]
  },
  {
   "cell_type": "code",
   "execution_count": 20,
   "id": "ee975ad5",
   "metadata": {
    "id": "a92e037f"
   },
   "outputs": [],
   "source": [
    "import seaborn as sns"
   ]
  },
  {
   "cell_type": "code",
   "execution_count": 21,
   "id": "608d7412",
   "metadata": {
    "id": "44f3fd17"
   },
   "outputs": [],
   "source": [
    "from IPython.display import Markdown, display"
   ]
  },
  {
   "cell_type": "code",
   "execution_count": 22,
   "id": "4b5a124a",
   "metadata": {
    "id": "048317f9"
   },
   "outputs": [],
   "source": [
    "from sklearn.model_selection import StratifiedShuffleSplit"
   ]
  },
  {
   "cell_type": "code",
   "execution_count": 23,
   "id": "02d62735",
   "metadata": {
    "id": "59358370"
   },
   "outputs": [],
   "source": [
    "from sklearn.pipeline import Pipeline\n",
    "from sklearn.preprocessing import MinMaxScaler\n",
    "from sklearn.impute import SimpleImputer"
   ]
  },
  {
   "cell_type": "code",
   "execution_count": 24,
   "id": "3c6d5dad",
   "metadata": {
    "id": "6eb95b1b"
   },
   "outputs": [],
   "source": [
    "from sklearn.compose import ColumnTransformer\n",
    "from sklearn.preprocessing import OneHotEncoder\n",
    "from sklearn.preprocessing import LabelEncoder\n",
    "from sklearn.preprocessing import OrdinalEncoder"
   ]
  },
  {
   "cell_type": "markdown",
   "id": "bec4f34f",
   "metadata": {
    "id": "918c1077"
   },
   "source": [
    "# I. Data Prepare"
   ]
  },
  {
   "cell_type": "markdown",
   "id": "ead8f617",
   "metadata": {
    "id": "eeeaa494"
   },
   "source": [
    "## 1. Import dataset and see dataset quickly"
   ]
  },
  {
   "cell_type": "code",
   "execution_count": 25,
   "id": "100d8777",
   "metadata": {
    "id": "195ec833"
   },
   "outputs": [],
   "source": [
    "df = pd.read_csv(\"Invistico_Airline.csv\")"
   ]
  },
  {
   "cell_type": "code",
   "execution_count": 26,
   "id": "f883fa53",
   "metadata": {
    "colab": {
     "base_uri": "https://localhost:8080/"
    },
    "id": "85b9a68d",
    "outputId": "d66e4bc6-6307-4c48-80f6-5315d0cbe124",
    "scrolled": true
   },
   "outputs": [
    {
     "name": "stdout",
     "output_type": "stream",
     "text": [
      "<class 'pandas.core.frame.DataFrame'>\n",
      "RangeIndex: 129880 entries, 0 to 129879\n",
      "Data columns (total 23 columns):\n",
      " #   Column                             Non-Null Count   Dtype  \n",
      "---  ------                             --------------   -----  \n",
      " 0   satisfaction                       129880 non-null  object \n",
      " 1   Gender                             129880 non-null  object \n",
      " 2   Customer Type                      129880 non-null  object \n",
      " 3   Age                                129880 non-null  int64  \n",
      " 4   Type of Travel                     129880 non-null  object \n",
      " 5   Class                              129880 non-null  object \n",
      " 6   Flight Distance                    129880 non-null  int64  \n",
      " 7   Seat comfort                       129880 non-null  int64  \n",
      " 8   Departure/Arrival time convenient  129880 non-null  int64  \n",
      " 9   Food and drink                     129880 non-null  int64  \n",
      " 10  Gate location                      129880 non-null  int64  \n",
      " 11  Inflight wifi service              129880 non-null  int64  \n",
      " 12  Inflight entertainment             129880 non-null  int64  \n",
      " 13  Online support                     129880 non-null  int64  \n",
      " 14  Ease of Online booking             129880 non-null  int64  \n",
      " 15  On-board service                   129880 non-null  int64  \n",
      " 16  Leg room service                   129880 non-null  int64  \n",
      " 17  Baggage handling                   129880 non-null  int64  \n",
      " 18  Checkin service                    129880 non-null  int64  \n",
      " 19  Cleanliness                        129880 non-null  int64  \n",
      " 20  Online boarding                    129880 non-null  int64  \n",
      " 21  Departure Delay in Minutes         129880 non-null  int64  \n",
      " 22  Arrival Delay in Minutes           129487 non-null  float64\n",
      "dtypes: float64(1), int64(17), object(5)\n",
      "memory usage: 22.8+ MB\n"
     ]
    }
   ],
   "source": [
    "df.info()"
   ]
  },
  {
   "cell_type": "code",
   "execution_count": 27,
   "id": "1c5e2841",
   "metadata": {
    "colab": {
     "base_uri": "https://localhost:8080/",
     "height": 438
    },
    "id": "74d230ec",
    "outputId": "2fa0e7d5-4abe-4645-db19-8d9de85527fc",
    "scrolled": false
   },
   "outputs": [
    {
     "data": {
      "text/html": [
       "<div>\n",
       "<style scoped>\n",
       "    .dataframe tbody tr th:only-of-type {\n",
       "        vertical-align: middle;\n",
       "    }\n",
       "\n",
       "    .dataframe tbody tr th {\n",
       "        vertical-align: top;\n",
       "    }\n",
       "\n",
       "    .dataframe thead th {\n",
       "        text-align: right;\n",
       "    }\n",
       "</style>\n",
       "<table border=\"1\" class=\"dataframe\">\n",
       "  <thead>\n",
       "    <tr style=\"text-align: right;\">\n",
       "      <th></th>\n",
       "      <th>satisfaction</th>\n",
       "      <th>Gender</th>\n",
       "      <th>Customer Type</th>\n",
       "      <th>Age</th>\n",
       "      <th>Type of Travel</th>\n",
       "      <th>Class</th>\n",
       "      <th>Flight Distance</th>\n",
       "      <th>Seat comfort</th>\n",
       "      <th>Departure/Arrival time convenient</th>\n",
       "      <th>Food and drink</th>\n",
       "      <th>...</th>\n",
       "      <th>Online support</th>\n",
       "      <th>Ease of Online booking</th>\n",
       "      <th>On-board service</th>\n",
       "      <th>Leg room service</th>\n",
       "      <th>Baggage handling</th>\n",
       "      <th>Checkin service</th>\n",
       "      <th>Cleanliness</th>\n",
       "      <th>Online boarding</th>\n",
       "      <th>Departure Delay in Minutes</th>\n",
       "      <th>Arrival Delay in Minutes</th>\n",
       "    </tr>\n",
       "  </thead>\n",
       "  <tbody>\n",
       "    <tr>\n",
       "      <th>0</th>\n",
       "      <td>satisfied</td>\n",
       "      <td>Female</td>\n",
       "      <td>Loyal Customer</td>\n",
       "      <td>65</td>\n",
       "      <td>Personal Travel</td>\n",
       "      <td>Eco</td>\n",
       "      <td>265</td>\n",
       "      <td>0</td>\n",
       "      <td>0</td>\n",
       "      <td>0</td>\n",
       "      <td>...</td>\n",
       "      <td>2</td>\n",
       "      <td>3</td>\n",
       "      <td>3</td>\n",
       "      <td>0</td>\n",
       "      <td>3</td>\n",
       "      <td>5</td>\n",
       "      <td>3</td>\n",
       "      <td>2</td>\n",
       "      <td>0</td>\n",
       "      <td>0.0</td>\n",
       "    </tr>\n",
       "    <tr>\n",
       "      <th>1</th>\n",
       "      <td>satisfied</td>\n",
       "      <td>Male</td>\n",
       "      <td>Loyal Customer</td>\n",
       "      <td>47</td>\n",
       "      <td>Personal Travel</td>\n",
       "      <td>Business</td>\n",
       "      <td>2464</td>\n",
       "      <td>0</td>\n",
       "      <td>0</td>\n",
       "      <td>0</td>\n",
       "      <td>...</td>\n",
       "      <td>2</td>\n",
       "      <td>3</td>\n",
       "      <td>4</td>\n",
       "      <td>4</td>\n",
       "      <td>4</td>\n",
       "      <td>2</td>\n",
       "      <td>3</td>\n",
       "      <td>2</td>\n",
       "      <td>310</td>\n",
       "      <td>305.0</td>\n",
       "    </tr>\n",
       "    <tr>\n",
       "      <th>2</th>\n",
       "      <td>satisfied</td>\n",
       "      <td>Female</td>\n",
       "      <td>Loyal Customer</td>\n",
       "      <td>15</td>\n",
       "      <td>Personal Travel</td>\n",
       "      <td>Eco</td>\n",
       "      <td>2138</td>\n",
       "      <td>0</td>\n",
       "      <td>0</td>\n",
       "      <td>0</td>\n",
       "      <td>...</td>\n",
       "      <td>2</td>\n",
       "      <td>2</td>\n",
       "      <td>3</td>\n",
       "      <td>3</td>\n",
       "      <td>4</td>\n",
       "      <td>4</td>\n",
       "      <td>4</td>\n",
       "      <td>2</td>\n",
       "      <td>0</td>\n",
       "      <td>0.0</td>\n",
       "    </tr>\n",
       "    <tr>\n",
       "      <th>3</th>\n",
       "      <td>satisfied</td>\n",
       "      <td>Female</td>\n",
       "      <td>Loyal Customer</td>\n",
       "      <td>60</td>\n",
       "      <td>Personal Travel</td>\n",
       "      <td>Eco</td>\n",
       "      <td>623</td>\n",
       "      <td>0</td>\n",
       "      <td>0</td>\n",
       "      <td>0</td>\n",
       "      <td>...</td>\n",
       "      <td>3</td>\n",
       "      <td>1</td>\n",
       "      <td>1</td>\n",
       "      <td>0</td>\n",
       "      <td>1</td>\n",
       "      <td>4</td>\n",
       "      <td>1</td>\n",
       "      <td>3</td>\n",
       "      <td>0</td>\n",
       "      <td>0.0</td>\n",
       "    </tr>\n",
       "    <tr>\n",
       "      <th>4</th>\n",
       "      <td>satisfied</td>\n",
       "      <td>Female</td>\n",
       "      <td>Loyal Customer</td>\n",
       "      <td>70</td>\n",
       "      <td>Personal Travel</td>\n",
       "      <td>Eco</td>\n",
       "      <td>354</td>\n",
       "      <td>0</td>\n",
       "      <td>0</td>\n",
       "      <td>0</td>\n",
       "      <td>...</td>\n",
       "      <td>4</td>\n",
       "      <td>2</td>\n",
       "      <td>2</td>\n",
       "      <td>0</td>\n",
       "      <td>2</td>\n",
       "      <td>4</td>\n",
       "      <td>2</td>\n",
       "      <td>5</td>\n",
       "      <td>0</td>\n",
       "      <td>0.0</td>\n",
       "    </tr>\n",
       "  </tbody>\n",
       "</table>\n",
       "<p>5 rows × 23 columns</p>\n",
       "</div>"
      ],
      "text/plain": [
       "  satisfaction  Gender   Customer Type  Age   Type of Travel     Class  \\\n",
       "0    satisfied  Female  Loyal Customer   65  Personal Travel       Eco   \n",
       "1    satisfied    Male  Loyal Customer   47  Personal Travel  Business   \n",
       "2    satisfied  Female  Loyal Customer   15  Personal Travel       Eco   \n",
       "3    satisfied  Female  Loyal Customer   60  Personal Travel       Eco   \n",
       "4    satisfied  Female  Loyal Customer   70  Personal Travel       Eco   \n",
       "\n",
       "   Flight Distance  Seat comfort  Departure/Arrival time convenient  \\\n",
       "0              265             0                                  0   \n",
       "1             2464             0                                  0   \n",
       "2             2138             0                                  0   \n",
       "3              623             0                                  0   \n",
       "4              354             0                                  0   \n",
       "\n",
       "   Food and drink  ...  Online support  Ease of Online booking  \\\n",
       "0               0  ...               2                       3   \n",
       "1               0  ...               2                       3   \n",
       "2               0  ...               2                       2   \n",
       "3               0  ...               3                       1   \n",
       "4               0  ...               4                       2   \n",
       "\n",
       "   On-board service  Leg room service  Baggage handling  Checkin service  \\\n",
       "0                 3                 0                 3                5   \n",
       "1                 4                 4                 4                2   \n",
       "2                 3                 3                 4                4   \n",
       "3                 1                 0                 1                4   \n",
       "4                 2                 0                 2                4   \n",
       "\n",
       "   Cleanliness  Online boarding  Departure Delay in Minutes  \\\n",
       "0            3                2                           0   \n",
       "1            3                2                         310   \n",
       "2            4                2                           0   \n",
       "3            1                3                           0   \n",
       "4            2                5                           0   \n",
       "\n",
       "   Arrival Delay in Minutes  \n",
       "0                       0.0  \n",
       "1                     305.0  \n",
       "2                       0.0  \n",
       "3                       0.0  \n",
       "4                       0.0  \n",
       "\n",
       "[5 rows x 23 columns]"
      ]
     },
     "execution_count": 27,
     "metadata": {},
     "output_type": "execute_result"
    }
   ],
   "source": [
    "df.head()"
   ]
  },
  {
   "cell_type": "markdown",
   "id": "d260b1d1",
   "metadata": {
    "id": "df6016b1"
   },
   "source": [
    "We can see this Data Set has customer's properties (Age, Gender,...), flight information (Class, Inflight wifi service, ...), user rating (Seat comfort, Food and drink, ...). "
   ]
  },
  {
   "cell_type": "markdown",
   "id": "6425d078",
   "metadata": {
    "id": "85019779"
   },
   "source": [
    "- Customer's properties: Object \n",
    "- Flight information: Interger and Object \n",
    "- User raring: Interger (1->5) \n",
    "-> Final evaluate: Binary (0, 1) "
   ]
  },
  {
   "cell_type": "code",
   "execution_count": 28,
   "id": "dbf20118",
   "metadata": {
    "colab": {
     "base_uri": "https://localhost:8080/"
    },
    "id": "ba7ddc71",
    "outputId": "6736a081-5108-4cbe-9cd2-8e500b2bc54e"
   },
   "outputs": [
    {
     "data": {
      "text/plain": [
       "Index(['satisfaction', 'Gender', 'Customer Type', 'Age', 'Type of Travel',\n",
       "       'Class', 'Flight Distance', 'Seat comfort',\n",
       "       'Departure/Arrival time convenient', 'Food and drink', 'Gate location',\n",
       "       'Inflight wifi service', 'Inflight entertainment', 'Online support',\n",
       "       'Ease of Online booking', 'On-board service', 'Leg room service',\n",
       "       'Baggage handling', 'Checkin service', 'Cleanliness', 'Online boarding',\n",
       "       'Departure Delay in Minutes', 'Arrival Delay in Minutes'],\n",
       "      dtype='object')"
      ]
     },
     "execution_count": 28,
     "metadata": {},
     "output_type": "execute_result"
    }
   ],
   "source": [
    "df.columns"
   ]
  },
  {
   "cell_type": "code",
   "execution_count": 29,
   "id": "a3fca3fb",
   "metadata": {
    "colab": {
     "base_uri": "https://localhost:8080/",
     "height": 399
    },
    "id": "e18fe491",
    "outputId": "c28d0458-e976-4bcb-b423-4ee0af038612",
    "scrolled": false
   },
   "outputs": [
    {
     "data": {
      "text/html": [
       "<div>\n",
       "<style scoped>\n",
       "    .dataframe tbody tr th:only-of-type {\n",
       "        vertical-align: middle;\n",
       "    }\n",
       "\n",
       "    .dataframe tbody tr th {\n",
       "        vertical-align: top;\n",
       "    }\n",
       "\n",
       "    .dataframe thead th {\n",
       "        text-align: right;\n",
       "    }\n",
       "</style>\n",
       "<table border=\"1\" class=\"dataframe\">\n",
       "  <thead>\n",
       "    <tr style=\"text-align: right;\">\n",
       "      <th></th>\n",
       "      <th>Age</th>\n",
       "      <th>Flight Distance</th>\n",
       "      <th>Seat comfort</th>\n",
       "      <th>Departure/Arrival time convenient</th>\n",
       "      <th>Food and drink</th>\n",
       "      <th>Gate location</th>\n",
       "      <th>Inflight wifi service</th>\n",
       "      <th>Inflight entertainment</th>\n",
       "      <th>Online support</th>\n",
       "      <th>Ease of Online booking</th>\n",
       "      <th>On-board service</th>\n",
       "      <th>Leg room service</th>\n",
       "      <th>Baggage handling</th>\n",
       "      <th>Checkin service</th>\n",
       "      <th>Cleanliness</th>\n",
       "      <th>Online boarding</th>\n",
       "      <th>Departure Delay in Minutes</th>\n",
       "      <th>Arrival Delay in Minutes</th>\n",
       "    </tr>\n",
       "  </thead>\n",
       "  <tbody>\n",
       "    <tr>\n",
       "      <th>count</th>\n",
       "      <td>129880.000000</td>\n",
       "      <td>129880.000000</td>\n",
       "      <td>129880.000000</td>\n",
       "      <td>129880.000000</td>\n",
       "      <td>129880.000000</td>\n",
       "      <td>129880.000000</td>\n",
       "      <td>129880.000000</td>\n",
       "      <td>129880.000000</td>\n",
       "      <td>129880.000000</td>\n",
       "      <td>129880.000000</td>\n",
       "      <td>129880.000000</td>\n",
       "      <td>129880.000000</td>\n",
       "      <td>129880.000000</td>\n",
       "      <td>129880.000000</td>\n",
       "      <td>129880.000000</td>\n",
       "      <td>129880.000000</td>\n",
       "      <td>129880.000000</td>\n",
       "      <td>129487.000000</td>\n",
       "    </tr>\n",
       "    <tr>\n",
       "      <th>mean</th>\n",
       "      <td>39.427957</td>\n",
       "      <td>1981.409055</td>\n",
       "      <td>2.838597</td>\n",
       "      <td>2.990645</td>\n",
       "      <td>2.851994</td>\n",
       "      <td>2.990422</td>\n",
       "      <td>3.249130</td>\n",
       "      <td>3.383477</td>\n",
       "      <td>3.519703</td>\n",
       "      <td>3.472105</td>\n",
       "      <td>3.465075</td>\n",
       "      <td>3.485902</td>\n",
       "      <td>3.695673</td>\n",
       "      <td>3.340807</td>\n",
       "      <td>3.705759</td>\n",
       "      <td>3.352587</td>\n",
       "      <td>14.713713</td>\n",
       "      <td>15.091129</td>\n",
       "    </tr>\n",
       "    <tr>\n",
       "      <th>std</th>\n",
       "      <td>15.119360</td>\n",
       "      <td>1027.115606</td>\n",
       "      <td>1.392983</td>\n",
       "      <td>1.527224</td>\n",
       "      <td>1.443729</td>\n",
       "      <td>1.305970</td>\n",
       "      <td>1.318818</td>\n",
       "      <td>1.346059</td>\n",
       "      <td>1.306511</td>\n",
       "      <td>1.305560</td>\n",
       "      <td>1.270836</td>\n",
       "      <td>1.292226</td>\n",
       "      <td>1.156483</td>\n",
       "      <td>1.260582</td>\n",
       "      <td>1.151774</td>\n",
       "      <td>1.298715</td>\n",
       "      <td>38.071126</td>\n",
       "      <td>38.465650</td>\n",
       "    </tr>\n",
       "    <tr>\n",
       "      <th>min</th>\n",
       "      <td>7.000000</td>\n",
       "      <td>50.000000</td>\n",
       "      <td>0.000000</td>\n",
       "      <td>0.000000</td>\n",
       "      <td>0.000000</td>\n",
       "      <td>0.000000</td>\n",
       "      <td>0.000000</td>\n",
       "      <td>0.000000</td>\n",
       "      <td>0.000000</td>\n",
       "      <td>0.000000</td>\n",
       "      <td>0.000000</td>\n",
       "      <td>0.000000</td>\n",
       "      <td>1.000000</td>\n",
       "      <td>0.000000</td>\n",
       "      <td>0.000000</td>\n",
       "      <td>0.000000</td>\n",
       "      <td>0.000000</td>\n",
       "      <td>0.000000</td>\n",
       "    </tr>\n",
       "    <tr>\n",
       "      <th>25%</th>\n",
       "      <td>27.000000</td>\n",
       "      <td>1359.000000</td>\n",
       "      <td>2.000000</td>\n",
       "      <td>2.000000</td>\n",
       "      <td>2.000000</td>\n",
       "      <td>2.000000</td>\n",
       "      <td>2.000000</td>\n",
       "      <td>2.000000</td>\n",
       "      <td>3.000000</td>\n",
       "      <td>2.000000</td>\n",
       "      <td>3.000000</td>\n",
       "      <td>2.000000</td>\n",
       "      <td>3.000000</td>\n",
       "      <td>3.000000</td>\n",
       "      <td>3.000000</td>\n",
       "      <td>2.000000</td>\n",
       "      <td>0.000000</td>\n",
       "      <td>0.000000</td>\n",
       "    </tr>\n",
       "    <tr>\n",
       "      <th>50%</th>\n",
       "      <td>40.000000</td>\n",
       "      <td>1925.000000</td>\n",
       "      <td>3.000000</td>\n",
       "      <td>3.000000</td>\n",
       "      <td>3.000000</td>\n",
       "      <td>3.000000</td>\n",
       "      <td>3.000000</td>\n",
       "      <td>4.000000</td>\n",
       "      <td>4.000000</td>\n",
       "      <td>4.000000</td>\n",
       "      <td>4.000000</td>\n",
       "      <td>4.000000</td>\n",
       "      <td>4.000000</td>\n",
       "      <td>3.000000</td>\n",
       "      <td>4.000000</td>\n",
       "      <td>4.000000</td>\n",
       "      <td>0.000000</td>\n",
       "      <td>0.000000</td>\n",
       "    </tr>\n",
       "    <tr>\n",
       "      <th>75%</th>\n",
       "      <td>51.000000</td>\n",
       "      <td>2544.000000</td>\n",
       "      <td>4.000000</td>\n",
       "      <td>4.000000</td>\n",
       "      <td>4.000000</td>\n",
       "      <td>4.000000</td>\n",
       "      <td>4.000000</td>\n",
       "      <td>4.000000</td>\n",
       "      <td>5.000000</td>\n",
       "      <td>5.000000</td>\n",
       "      <td>4.000000</td>\n",
       "      <td>5.000000</td>\n",
       "      <td>5.000000</td>\n",
       "      <td>4.000000</td>\n",
       "      <td>5.000000</td>\n",
       "      <td>4.000000</td>\n",
       "      <td>12.000000</td>\n",
       "      <td>13.000000</td>\n",
       "    </tr>\n",
       "    <tr>\n",
       "      <th>max</th>\n",
       "      <td>85.000000</td>\n",
       "      <td>6951.000000</td>\n",
       "      <td>5.000000</td>\n",
       "      <td>5.000000</td>\n",
       "      <td>5.000000</td>\n",
       "      <td>5.000000</td>\n",
       "      <td>5.000000</td>\n",
       "      <td>5.000000</td>\n",
       "      <td>5.000000</td>\n",
       "      <td>5.000000</td>\n",
       "      <td>5.000000</td>\n",
       "      <td>5.000000</td>\n",
       "      <td>5.000000</td>\n",
       "      <td>5.000000</td>\n",
       "      <td>5.000000</td>\n",
       "      <td>5.000000</td>\n",
       "      <td>1592.000000</td>\n",
       "      <td>1584.000000</td>\n",
       "    </tr>\n",
       "  </tbody>\n",
       "</table>\n",
       "</div>"
      ],
      "text/plain": [
       "                 Age  Flight Distance   Seat comfort  \\\n",
       "count  129880.000000    129880.000000  129880.000000   \n",
       "mean       39.427957      1981.409055       2.838597   \n",
       "std        15.119360      1027.115606       1.392983   \n",
       "min         7.000000        50.000000       0.000000   \n",
       "25%        27.000000      1359.000000       2.000000   \n",
       "50%        40.000000      1925.000000       3.000000   \n",
       "75%        51.000000      2544.000000       4.000000   \n",
       "max        85.000000      6951.000000       5.000000   \n",
       "\n",
       "       Departure/Arrival time convenient  Food and drink  Gate location  \\\n",
       "count                      129880.000000   129880.000000  129880.000000   \n",
       "mean                            2.990645        2.851994       2.990422   \n",
       "std                             1.527224        1.443729       1.305970   \n",
       "min                             0.000000        0.000000       0.000000   \n",
       "25%                             2.000000        2.000000       2.000000   \n",
       "50%                             3.000000        3.000000       3.000000   \n",
       "75%                             4.000000        4.000000       4.000000   \n",
       "max                             5.000000        5.000000       5.000000   \n",
       "\n",
       "       Inflight wifi service  Inflight entertainment  Online support  \\\n",
       "count          129880.000000           129880.000000   129880.000000   \n",
       "mean                3.249130                3.383477        3.519703   \n",
       "std                 1.318818                1.346059        1.306511   \n",
       "min                 0.000000                0.000000        0.000000   \n",
       "25%                 2.000000                2.000000        3.000000   \n",
       "50%                 3.000000                4.000000        4.000000   \n",
       "75%                 4.000000                4.000000        5.000000   \n",
       "max                 5.000000                5.000000        5.000000   \n",
       "\n",
       "       Ease of Online booking  On-board service  Leg room service  \\\n",
       "count           129880.000000     129880.000000     129880.000000   \n",
       "mean                 3.472105          3.465075          3.485902   \n",
       "std                  1.305560          1.270836          1.292226   \n",
       "min                  0.000000          0.000000          0.000000   \n",
       "25%                  2.000000          3.000000          2.000000   \n",
       "50%                  4.000000          4.000000          4.000000   \n",
       "75%                  5.000000          4.000000          5.000000   \n",
       "max                  5.000000          5.000000          5.000000   \n",
       "\n",
       "       Baggage handling  Checkin service    Cleanliness  Online boarding  \\\n",
       "count     129880.000000    129880.000000  129880.000000    129880.000000   \n",
       "mean           3.695673         3.340807       3.705759         3.352587   \n",
       "std            1.156483         1.260582       1.151774         1.298715   \n",
       "min            1.000000         0.000000       0.000000         0.000000   \n",
       "25%            3.000000         3.000000       3.000000         2.000000   \n",
       "50%            4.000000         3.000000       4.000000         4.000000   \n",
       "75%            5.000000         4.000000       5.000000         4.000000   \n",
       "max            5.000000         5.000000       5.000000         5.000000   \n",
       "\n",
       "       Departure Delay in Minutes  Arrival Delay in Minutes  \n",
       "count               129880.000000             129487.000000  \n",
       "mean                    14.713713                 15.091129  \n",
       "std                     38.071126                 38.465650  \n",
       "min                      0.000000                  0.000000  \n",
       "25%                      0.000000                  0.000000  \n",
       "50%                      0.000000                  0.000000  \n",
       "75%                     12.000000                 13.000000  \n",
       "max                   1592.000000               1584.000000  "
      ]
     },
     "execution_count": 29,
     "metadata": {},
     "output_type": "execute_result"
    }
   ],
   "source": [
    "df.describe()"
   ]
  },
  {
   "cell_type": "markdown",
   "id": "b0cd13d8",
   "metadata": {
    "id": "32e9f53b"
   },
   "source": [
    "Distribution of dataset's values"
   ]
  },
  {
   "cell_type": "code",
   "execution_count": 30,
   "id": "85bb2a6e",
   "metadata": {
    "id": "0b1f43ee"
   },
   "outputs": [],
   "source": [
    "#function to see values in each column\n",
    "def list_values_column(df,num_value):\n",
    "    display(Markdown('**RESULT:'))\n",
    "    print('DataFrame has {} column '.format(len(df.columns)))\n",
    "    for col in df.columns:\n",
    "        if df[col].nunique() <= num_value:\n",
    "            print('Column {} has :'.format(col)+ str(df[col].unique().tolist()),)\n",
    "    "
   ]
  },
  {
   "cell_type": "code",
   "execution_count": 31,
   "id": "de0047ce",
   "metadata": {
    "colab": {
     "base_uri": "https://localhost:8080/"
    },
    "id": "99291f9b",
    "outputId": "9f7622a2-9400-4850-af70-6e9e79b6044c",
    "scrolled": true
   },
   "outputs": [
    {
     "data": {
      "text/plain": [
       "[['satisfaction', array(['satisfied', 'dissatisfied'], dtype=object)],\n",
       " ['Gender', array(['Female', 'Male'], dtype=object)],\n",
       " ['Customer Type',\n",
       "  array(['Loyal Customer', 'disloyal Customer'], dtype=object)],\n",
       " ['Type of Travel',\n",
       "  array(['Personal Travel', 'Business travel'], dtype=object)],\n",
       " ['Class', array(['Eco', 'Business', 'Eco Plus'], dtype=object)],\n",
       " ['Baggage handling', array([3, 4, 1, 2, 5], dtype=int64)]]"
      ]
     },
     "execution_count": 31,
     "metadata": {},
     "output_type": "execute_result"
    }
   ],
   "source": [
    "[[j, df[j].unique()] for j in [i for i in df.columns] if df[j].nunique() <= 5]"
   ]
  },
  {
   "cell_type": "code",
   "execution_count": 32,
   "id": "85426d41",
   "metadata": {
    "colab": {
     "base_uri": "https://localhost:8080/",
     "height": 394
    },
    "id": "b74ef8e0",
    "outputId": "60d15fa4-d9b7-44ee-82d9-aff8d86e3d95"
   },
   "outputs": [
    {
     "data": {
      "text/markdown": [
       "**RESULT:"
      ],
      "text/plain": [
       "<IPython.core.display.Markdown object>"
      ]
     },
     "metadata": {},
     "output_type": "display_data"
    },
    {
     "name": "stdout",
     "output_type": "stream",
     "text": [
      "DataFrame has 23 column \n",
      "Column satisfaction has :['satisfied', 'dissatisfied']\n",
      "Column Gender has :['Female', 'Male']\n",
      "Column Customer Type has :['Loyal Customer', 'disloyal Customer']\n",
      "Column Type of Travel has :['Personal Travel', 'Business travel']\n",
      "Column Class has :['Eco', 'Business', 'Eco Plus']\n",
      "Column Seat comfort has :[0, 1, 4, 5, 2, 3]\n",
      "Column Departure/Arrival time convenient has :[0, 1, 2, 3, 4, 5]\n",
      "Column Food and drink has :[0, 1, 2, 3, 4, 5]\n",
      "Column Gate location has :[2, 3, 4, 1, 5, 0]\n",
      "Column Inflight wifi service has :[2, 0, 3, 4, 5, 1]\n",
      "Column Inflight entertainment has :[4, 2, 0, 3, 5, 1]\n",
      "Column Online support has :[2, 3, 4, 5, 1, 0]\n",
      "Column Ease of Online booking has :[3, 2, 1, 5, 4, 0]\n",
      "Column On-board service has :[3, 4, 1, 2, 5, 0]\n",
      "Column Leg room service has :[0, 4, 3, 2, 5, 1]\n",
      "Column Baggage handling has :[3, 4, 1, 2, 5]\n",
      "Column Checkin service has :[5, 2, 4, 3, 1, 0]\n",
      "Column Cleanliness has :[3, 4, 1, 2, 5, 0]\n",
      "Column Online boarding has :[2, 3, 5, 4, 1, 0]\n"
     ]
    }
   ],
   "source": [
    "list_values_column(df,6)"
   ]
  },
  {
   "cell_type": "code",
   "execution_count": 33,
   "id": "5d0c4a12",
   "metadata": {
    "id": "ebc477d1"
   },
   "outputs": [],
   "source": [
    "#function to see ratio of values in each columns\n",
    "def values_count_column(df,num_value):\n",
    "    display(Markdown('**RESULT:'))\n",
    "    for col in df.columns:\n",
    "        if df[col].nunique() <= num_value:\n",
    "            print( 'Column ',col,':')\n",
    "            print(df[col].value_counts()/len(df))"
   ]
  },
  {
   "cell_type": "code",
   "execution_count": 34,
   "id": "d27f6910",
   "metadata": {
    "colab": {
     "base_uri": "https://localhost:8080/",
     "height": 411
    },
    "id": "1f2e7abf",
    "outputId": "4b1392e2-91fa-4e98-89f8-798c03ad3507"
   },
   "outputs": [
    {
     "data": {
      "text/markdown": [
       "**RESULT:"
      ],
      "text/plain": [
       "<IPython.core.display.Markdown object>"
      ]
     },
     "metadata": {},
     "output_type": "display_data"
    },
    {
     "name": "stdout",
     "output_type": "stream",
     "text": [
      "Column  satisfaction :\n",
      "satisfied       0.547328\n",
      "dissatisfied    0.452672\n",
      "Name: satisfaction, dtype: float64\n",
      "Column  Gender :\n",
      "Female    0.507384\n",
      "Male      0.492616\n",
      "Name: Gender, dtype: float64\n",
      "Column  Customer Type :\n",
      "Loyal Customer       0.816908\n",
      "disloyal Customer    0.183092\n",
      "Name: Customer Type, dtype: float64\n",
      "Column  Type of Travel :\n",
      "Business travel    0.690584\n",
      "Personal Travel    0.309416\n",
      "Name: Type of Travel, dtype: float64\n",
      "Column  Class :\n",
      "Business    0.478596\n",
      "Eco         0.448945\n",
      "Eco Plus    0.072459\n",
      "Name: Class, dtype: float64\n"
     ]
    }
   ],
   "source": [
    "values_count_column(df,3)"
   ]
  },
  {
   "cell_type": "code",
   "execution_count": 35,
   "id": "cb95d15d",
   "metadata": {
    "colab": {
     "base_uri": "https://localhost:8080/"
    },
    "id": "6347e435",
    "outputId": "31601f69-f423-4615-ceb8-ceec0fa67d50"
   },
   "outputs": [
    {
     "data": {
      "text/plain": [
       "[satisfied       0.547328\n",
       " dissatisfied    0.452672\n",
       " Name: satisfaction, dtype: float64,\n",
       " Female    0.507384\n",
       " Male      0.492616\n",
       " Name: Gender, dtype: float64,\n",
       " Loyal Customer       0.816908\n",
       " disloyal Customer    0.183092\n",
       " Name: Customer Type, dtype: float64,\n",
       " Business travel    0.690584\n",
       " Personal Travel    0.309416\n",
       " Name: Type of Travel, dtype: float64,\n",
       " Business    0.478596\n",
       " Eco         0.448945\n",
       " Eco Plus    0.072459\n",
       " Name: Class, dtype: float64,\n",
       " 4    0.371420\n",
       " 5    0.275239\n",
       " 3    0.188520\n",
       " 2    0.103419\n",
       " 1    0.061403\n",
       " Name: Baggage handling, dtype: float64]"
      ]
     },
     "execution_count": 35,
     "metadata": {},
     "output_type": "execute_result"
    }
   ],
   "source": [
    "[df[j].value_counts()/len(df[j]) for j in [i for i in df.columns] if df[j].nunique() <= 5]"
   ]
  },
  {
   "cell_type": "markdown",
   "id": "696eac1d",
   "metadata": {
    "id": "247bc8f2"
   },
   "source": [
    "### Rename columns"
   ]
  },
  {
   "cell_type": "code",
   "execution_count": 36,
   "id": "f95a3007",
   "metadata": {
    "id": "b94fe9ff"
   },
   "outputs": [],
   "source": [
    "def rename_column(df,from_c,to_c = '_'):\n",
    "    display(Markdown('**RESULT:**'))\n",
    "    print('Columns changed from {} to _'.format(from_c))\n",
    "    print(df.columns[df.columns.str.contains(from_c)])\n",
    "    df.columns = [label.replace(from_c, to_c ) for label in df.columns]"
   ]
  },
  {
   "cell_type": "code",
   "execution_count": 37,
   "id": "424a680c",
   "metadata": {
    "colab": {
     "base_uri": "https://localhost:8080/",
     "height": 0
    },
    "id": "373e50c6",
    "outputId": "66a5b915-2a6d-4fa2-8d61-afcdca932e8b"
   },
   "outputs": [
    {
     "data": {
      "text/markdown": [
       "**RESULT:**"
      ],
      "text/plain": [
       "<IPython.core.display.Markdown object>"
      ]
     },
     "metadata": {},
     "output_type": "display_data"
    },
    {
     "name": "stdout",
     "output_type": "stream",
     "text": [
      "Columns changed from   to _\n",
      "Index(['Customer Type', 'Type of Travel', 'Flight Distance', 'Seat comfort',\n",
      "       'Departure/Arrival time convenient', 'Food and drink', 'Gate location',\n",
      "       'Inflight wifi service', 'Inflight entertainment', 'Online support',\n",
      "       'Ease of Online booking', 'On-board service', 'Leg room service',\n",
      "       'Baggage handling', 'Checkin service', 'Online boarding',\n",
      "       'Departure Delay in Minutes', 'Arrival Delay in Minutes'],\n",
      "      dtype='object')\n"
     ]
    },
    {
     "data": {
      "text/markdown": [
       "**RESULT:**"
      ],
      "text/plain": [
       "<IPython.core.display.Markdown object>"
      ]
     },
     "metadata": {},
     "output_type": "display_data"
    },
    {
     "name": "stdout",
     "output_type": "stream",
     "text": [
      "Columns changed from - to _\n",
      "Index(['On-board_service'], dtype='object')\n"
     ]
    }
   ],
   "source": [
    "rename_column(df,' ')\n",
    "rename_column(df,'-')\n",
    "#"
   ]
  },
  {
   "cell_type": "markdown",
   "id": "4c8f017e",
   "metadata": {
    "id": "da13dc94"
   },
   "source": [
    "### Discover missing value"
   ]
  },
  {
   "cell_type": "code",
   "execution_count": 38,
   "id": "1f179cc5",
   "metadata": {
    "colab": {
     "base_uri": "https://localhost:8080/"
    },
    "id": "5f206e01",
    "outputId": "16bac7d3-ea4f-45da-f3b5-95ff375c5fc1"
   },
   "outputs": [
    {
     "data": {
      "text/plain": [
       "satisfaction                           0\n",
       "Gender                                 0\n",
       "Customer_Type                          0\n",
       "Age                                    0\n",
       "Type_of_Travel                         0\n",
       "Class                                  0\n",
       "Flight_Distance                        0\n",
       "Seat_comfort                           0\n",
       "Departure/Arrival_time_convenient      0\n",
       "Food_and_drink                         0\n",
       "Gate_location                          0\n",
       "Inflight_wifi_service                  0\n",
       "Inflight_entertainment                 0\n",
       "Online_support                         0\n",
       "Ease_of_Online_booking                 0\n",
       "On_board_service                       0\n",
       "Leg_room_service                       0\n",
       "Baggage_handling                       0\n",
       "Checkin_service                        0\n",
       "Cleanliness                            0\n",
       "Online_boarding                        0\n",
       "Departure_Delay_in_Minutes             0\n",
       "Arrival_Delay_in_Minutes             393\n",
       "dtype: int64"
      ]
     },
     "execution_count": 38,
     "metadata": {},
     "output_type": "execute_result"
    }
   ],
   "source": [
    "total = df.isna().sum()\n",
    "total"
   ]
  },
  {
   "cell_type": "markdown",
   "id": "fc85419b",
   "metadata": {
    "id": "554590fd"
   },
   "source": [
    "##### Arrival Delay in Minutes has 393 missing values"
   ]
  },
  {
   "cell_type": "code",
   "execution_count": 39,
   "id": "fff70a30",
   "metadata": {
    "id": "8656dfc3"
   },
   "outputs": [],
   "source": [
    "def Missing_table(df):    \n",
    "    sum_na = df.isna().sum()\n",
    "    miss_percent = sum_na/len(df)\n",
    "    Na_table = pd.concat([sum_na,miss_percent],axis = 1)\n",
    "    Na_table = Na_table.rename(columns = {0:'Sum_of_na',1:'Percent_na'})\n",
    "    Na_table = Na_table[Na_table.iloc[:,1]!=0]\n",
    "    Na_table\n",
    "    return Na_table"
   ]
  },
  {
   "cell_type": "code",
   "execution_count": 40,
   "id": "4a1d5c0e",
   "metadata": {
    "colab": {
     "base_uri": "https://localhost:8080/",
     "height": 0
    },
    "id": "7f041ab9",
    "outputId": "0d6efd28-784e-4c14-cfb7-02e499d2cbf9"
   },
   "outputs": [
    {
     "data": {
      "text/html": [
       "<div>\n",
       "<style scoped>\n",
       "    .dataframe tbody tr th:only-of-type {\n",
       "        vertical-align: middle;\n",
       "    }\n",
       "\n",
       "    .dataframe tbody tr th {\n",
       "        vertical-align: top;\n",
       "    }\n",
       "\n",
       "    .dataframe thead th {\n",
       "        text-align: right;\n",
       "    }\n",
       "</style>\n",
       "<table border=\"1\" class=\"dataframe\">\n",
       "  <thead>\n",
       "    <tr style=\"text-align: right;\">\n",
       "      <th></th>\n",
       "      <th>Sum_of_na</th>\n",
       "      <th>Percent_na</th>\n",
       "    </tr>\n",
       "  </thead>\n",
       "  <tbody>\n",
       "    <tr>\n",
       "      <th>Arrival_Delay_in_Minutes</th>\n",
       "      <td>393</td>\n",
       "      <td>0.003026</td>\n",
       "    </tr>\n",
       "  </tbody>\n",
       "</table>\n",
       "</div>"
      ],
      "text/plain": [
       "                          Sum_of_na  Percent_na\n",
       "Arrival_Delay_in_Minutes        393    0.003026"
      ]
     },
     "execution_count": 40,
     "metadata": {},
     "output_type": "execute_result"
    }
   ],
   "source": [
    "Missing_table(df)"
   ]
  },
  {
   "cell_type": "code",
   "execution_count": 41,
   "id": "d4f8ff2c",
   "metadata": {
    "colab": {
     "base_uri": "https://localhost:8080/",
     "height": 0
    },
    "id": "76c8d68d",
    "outputId": "69eccb35-81c2-4110-ed0c-4f1b155f626b"
   },
   "outputs": [
    {
     "data": {
      "text/plain": [
       "<AxesSubplot:>"
      ]
     },
     "execution_count": 41,
     "metadata": {},
     "output_type": "execute_result"
    },
    {
     "data": {
      "image/png": "[encoded data removed]",
      "text/plain": [
       "<Figure size 432x288 with 2 Axes>"
      ]
     },
     "metadata": {
      "needs_background": "light"
     },
     "output_type": "display_data"
    }
   ],
   "source": [
    "# \n",
    "sns.heatmap(df.isna(),cmap=\"Blues\")"
   ]
  },
  {
   "cell_type": "markdown",
   "id": "c2a3e414",
   "metadata": {
    "id": "fed19fa4"
   },
   "source": [
    "### Encode dependent variable"
   ]
  },
  {
   "cell_type": "code",
   "execution_count": 42,
   "id": "6172809c",
   "metadata": {
    "id": "cddaa43d"
   },
   "outputs": [],
   "source": [
    "en = LabelEncoder()\n",
    "df['satisfaction'] = en.fit_transform(df['satisfaction'])"
   ]
  },
  {
   "cell_type": "code",
   "execution_count": 43,
   "id": "4cd5c7bf",
   "metadata": {
    "colab": {
     "base_uri": "https://localhost:8080/",
     "height": 0
    },
    "id": "b313b9e4",
    "outputId": "9f7da7f9-2922-4f9e-92c7-f430fd11804d"
   },
   "outputs": [
    {
     "data": {
      "text/html": [
       "<div>\n",
       "<style scoped>\n",
       "    .dataframe tbody tr th:only-of-type {\n",
       "        vertical-align: middle;\n",
       "    }\n",
       "\n",
       "    .dataframe tbody tr th {\n",
       "        vertical-align: top;\n",
       "    }\n",
       "\n",
       "    .dataframe thead th {\n",
       "        text-align: right;\n",
       "    }\n",
       "</style>\n",
       "<table border=\"1\" class=\"dataframe\">\n",
       "  <thead>\n",
       "    <tr style=\"text-align: right;\">\n",
       "      <th></th>\n",
       "      <th>satisfaction</th>\n",
       "      <th>Gender</th>\n",
       "      <th>Customer_Type</th>\n",
       "      <th>Age</th>\n",
       "      <th>Type_of_Travel</th>\n",
       "      <th>Class</th>\n",
       "      <th>Flight_Distance</th>\n",
       "      <th>Seat_comfort</th>\n",
       "      <th>Departure/Arrival_time_convenient</th>\n",
       "      <th>Food_and_drink</th>\n",
       "      <th>...</th>\n",
       "      <th>Online_support</th>\n",
       "      <th>Ease_of_Online_booking</th>\n",
       "      <th>On_board_service</th>\n",
       "      <th>Leg_room_service</th>\n",
       "      <th>Baggage_handling</th>\n",
       "      <th>Checkin_service</th>\n",
       "      <th>Cleanliness</th>\n",
       "      <th>Online_boarding</th>\n",
       "      <th>Departure_Delay_in_Minutes</th>\n",
       "      <th>Arrival_Delay_in_Minutes</th>\n",
       "    </tr>\n",
       "  </thead>\n",
       "  <tbody>\n",
       "    <tr>\n",
       "      <th>0</th>\n",
       "      <td>1</td>\n",
       "      <td>Female</td>\n",
       "      <td>Loyal Customer</td>\n",
       "      <td>65</td>\n",
       "      <td>Personal Travel</td>\n",
       "      <td>Eco</td>\n",
       "      <td>265</td>\n",
       "      <td>0</td>\n",
       "      <td>0</td>\n",
       "      <td>0</td>\n",
       "      <td>...</td>\n",
       "      <td>2</td>\n",
       "      <td>3</td>\n",
       "      <td>3</td>\n",
       "      <td>0</td>\n",
       "      <td>3</td>\n",
       "      <td>5</td>\n",
       "      <td>3</td>\n",
       "      <td>2</td>\n",
       "      <td>0</td>\n",
       "      <td>0.0</td>\n",
       "    </tr>\n",
       "    <tr>\n",
       "      <th>1</th>\n",
       "      <td>1</td>\n",
       "      <td>Male</td>\n",
       "      <td>Loyal Customer</td>\n",
       "      <td>47</td>\n",
       "      <td>Personal Travel</td>\n",
       "      <td>Business</td>\n",
       "      <td>2464</td>\n",
       "      <td>0</td>\n",
       "      <td>0</td>\n",
       "      <td>0</td>\n",
       "      <td>...</td>\n",
       "      <td>2</td>\n",
       "      <td>3</td>\n",
       "      <td>4</td>\n",
       "      <td>4</td>\n",
       "      <td>4</td>\n",
       "      <td>2</td>\n",
       "      <td>3</td>\n",
       "      <td>2</td>\n",
       "      <td>310</td>\n",
       "      <td>305.0</td>\n",
       "    </tr>\n",
       "    <tr>\n",
       "      <th>2</th>\n",
       "      <td>1</td>\n",
       "      <td>Female</td>\n",
       "      <td>Loyal Customer</td>\n",
       "      <td>15</td>\n",
       "      <td>Personal Travel</td>\n",
       "      <td>Eco</td>\n",
       "      <td>2138</td>\n",
       "      <td>0</td>\n",
       "      <td>0</td>\n",
       "      <td>0</td>\n",
       "      <td>...</td>\n",
       "      <td>2</td>\n",
       "      <td>2</td>\n",
       "      <td>3</td>\n",
       "      <td>3</td>\n",
       "      <td>4</td>\n",
       "      <td>4</td>\n",
       "      <td>4</td>\n",
       "      <td>2</td>\n",
       "      <td>0</td>\n",
       "      <td>0.0</td>\n",
       "    </tr>\n",
       "    <tr>\n",
       "      <th>3</th>\n",
       "      <td>1</td>\n",
       "      <td>Female</td>\n",
       "      <td>Loyal Customer</td>\n",
       "      <td>60</td>\n",
       "      <td>Personal Travel</td>\n",
       "      <td>Eco</td>\n",
       "      <td>623</td>\n",
       "      <td>0</td>\n",
       "      <td>0</td>\n",
       "      <td>0</td>\n",
       "      <td>...</td>\n",
       "      <td>3</td>\n",
       "      <td>1</td>\n",
       "      <td>1</td>\n",
       "      <td>0</td>\n",
       "      <td>1</td>\n",
       "      <td>4</td>\n",
       "      <td>1</td>\n",
       "      <td>3</td>\n",
       "      <td>0</td>\n",
       "      <td>0.0</td>\n",
       "    </tr>\n",
       "    <tr>\n",
       "      <th>4</th>\n",
       "      <td>1</td>\n",
       "      <td>Female</td>\n",
       "      <td>Loyal Customer</td>\n",
       "      <td>70</td>\n",
       "      <td>Personal Travel</td>\n",
       "      <td>Eco</td>\n",
       "      <td>354</td>\n",
       "      <td>0</td>\n",
       "      <td>0</td>\n",
       "      <td>0</td>\n",
       "      <td>...</td>\n",
       "      <td>4</td>\n",
       "      <td>2</td>\n",
       "      <td>2</td>\n",
       "      <td>0</td>\n",
       "      <td>2</td>\n",
       "      <td>4</td>\n",
       "      <td>2</td>\n",
       "      <td>5</td>\n",
       "      <td>0</td>\n",
       "      <td>0.0</td>\n",
       "    </tr>\n",
       "    <tr>\n",
       "      <th>...</th>\n",
       "      <td>...</td>\n",
       "      <td>...</td>\n",
       "      <td>...</td>\n",
       "      <td>...</td>\n",
       "      <td>...</td>\n",
       "      <td>...</td>\n",
       "      <td>...</td>\n",
       "      <td>...</td>\n",
       "      <td>...</td>\n",
       "      <td>...</td>\n",
       "      <td>...</td>\n",
       "      <td>...</td>\n",
       "      <td>...</td>\n",
       "      <td>...</td>\n",
       "      <td>...</td>\n",
       "      <td>...</td>\n",
       "      <td>...</td>\n",
       "      <td>...</td>\n",
       "      <td>...</td>\n",
       "      <td>...</td>\n",
       "      <td>...</td>\n",
       "    </tr>\n",
       "    <tr>\n",
       "      <th>129875</th>\n",
       "      <td>1</td>\n",
       "      <td>Female</td>\n",
       "      <td>disloyal Customer</td>\n",
       "      <td>29</td>\n",
       "      <td>Personal Travel</td>\n",
       "      <td>Eco</td>\n",
       "      <td>1731</td>\n",
       "      <td>5</td>\n",
       "      <td>5</td>\n",
       "      <td>5</td>\n",
       "      <td>...</td>\n",
       "      <td>2</td>\n",
       "      <td>2</td>\n",
       "      <td>3</td>\n",
       "      <td>3</td>\n",
       "      <td>4</td>\n",
       "      <td>4</td>\n",
       "      <td>4</td>\n",
       "      <td>2</td>\n",
       "      <td>0</td>\n",
       "      <td>0.0</td>\n",
       "    </tr>\n",
       "    <tr>\n",
       "      <th>129876</th>\n",
       "      <td>0</td>\n",
       "      <td>Male</td>\n",
       "      <td>disloyal Customer</td>\n",
       "      <td>63</td>\n",
       "      <td>Personal Travel</td>\n",
       "      <td>Business</td>\n",
       "      <td>2087</td>\n",
       "      <td>2</td>\n",
       "      <td>3</td>\n",
       "      <td>2</td>\n",
       "      <td>...</td>\n",
       "      <td>1</td>\n",
       "      <td>3</td>\n",
       "      <td>2</td>\n",
       "      <td>3</td>\n",
       "      <td>3</td>\n",
       "      <td>1</td>\n",
       "      <td>2</td>\n",
       "      <td>1</td>\n",
       "      <td>174</td>\n",
       "      <td>172.0</td>\n",
       "    </tr>\n",
       "    <tr>\n",
       "      <th>129877</th>\n",
       "      <td>0</td>\n",
       "      <td>Male</td>\n",
       "      <td>disloyal Customer</td>\n",
       "      <td>69</td>\n",
       "      <td>Personal Travel</td>\n",
       "      <td>Eco</td>\n",
       "      <td>2320</td>\n",
       "      <td>3</td>\n",
       "      <td>0</td>\n",
       "      <td>3</td>\n",
       "      <td>...</td>\n",
       "      <td>2</td>\n",
       "      <td>4</td>\n",
       "      <td>4</td>\n",
       "      <td>3</td>\n",
       "      <td>4</td>\n",
       "      <td>2</td>\n",
       "      <td>3</td>\n",
       "      <td>2</td>\n",
       "      <td>155</td>\n",
       "      <td>163.0</td>\n",
       "    </tr>\n",
       "    <tr>\n",
       "      <th>129878</th>\n",
       "      <td>0</td>\n",
       "      <td>Male</td>\n",
       "      <td>disloyal Customer</td>\n",
       "      <td>66</td>\n",
       "      <td>Personal Travel</td>\n",
       "      <td>Eco</td>\n",
       "      <td>2450</td>\n",
       "      <td>3</td>\n",
       "      <td>2</td>\n",
       "      <td>3</td>\n",
       "      <td>...</td>\n",
       "      <td>2</td>\n",
       "      <td>3</td>\n",
       "      <td>3</td>\n",
       "      <td>2</td>\n",
       "      <td>3</td>\n",
       "      <td>2</td>\n",
       "      <td>1</td>\n",
       "      <td>2</td>\n",
       "      <td>193</td>\n",
       "      <td>205.0</td>\n",
       "    </tr>\n",
       "    <tr>\n",
       "      <th>129879</th>\n",
       "      <td>0</td>\n",
       "      <td>Female</td>\n",
       "      <td>disloyal Customer</td>\n",
       "      <td>38</td>\n",
       "      <td>Personal Travel</td>\n",
       "      <td>Eco</td>\n",
       "      <td>4307</td>\n",
       "      <td>3</td>\n",
       "      <td>4</td>\n",
       "      <td>3</td>\n",
       "      <td>...</td>\n",
       "      <td>3</td>\n",
       "      <td>4</td>\n",
       "      <td>5</td>\n",
       "      <td>5</td>\n",
       "      <td>5</td>\n",
       "      <td>3</td>\n",
       "      <td>3</td>\n",
       "      <td>3</td>\n",
       "      <td>185</td>\n",
       "      <td>186.0</td>\n",
       "    </tr>\n",
       "  </tbody>\n",
       "</table>\n",
       "<p>129880 rows × 23 columns</p>\n",
       "</div>"
      ],
      "text/plain": [
       "        satisfaction  Gender      Customer_Type  Age   Type_of_Travel  \\\n",
       "0                  1  Female     Loyal Customer   65  Personal Travel   \n",
       "1                  1    Male     Loyal Customer   47  Personal Travel   \n",
       "2                  1  Female     Loyal Customer   15  Personal Travel   \n",
       "3                  1  Female     Loyal Customer   60  Personal Travel   \n",
       "4                  1  Female     Loyal Customer   70  Personal Travel   \n",
       "...              ...     ...                ...  ...              ...   \n",
       "129875             1  Female  disloyal Customer   29  Personal Travel   \n",
       "129876             0    Male  disloyal Customer   63  Personal Travel   \n",
       "129877             0    Male  disloyal Customer   69  Personal Travel   \n",
       "129878             0    Male  disloyal Customer   66  Personal Travel   \n",
       "129879             0  Female  disloyal Customer   38  Personal Travel   \n",
       "\n",
       "           Class  Flight_Distance  Seat_comfort  \\\n",
       "0            Eco              265             0   \n",
       "1       Business             2464             0   \n",
       "2            Eco             2138             0   \n",
       "3            Eco              623             0   \n",
       "4            Eco              354             0   \n",
       "...          ...              ...           ...   \n",
       "129875       Eco             1731             5   \n",
       "129876  Business             2087             2   \n",
       "129877       Eco             2320             3   \n",
       "129878       Eco             2450             3   \n",
       "129879       Eco             4307             3   \n",
       "\n",
       "        Departure/Arrival_time_convenient  Food_and_drink  ...  \\\n",
       "0                                       0               0  ...   \n",
       "1                                       0               0  ...   \n",
       "2                                       0               0  ...   \n",
       "3                                       0               0  ...   \n",
       "4                                       0               0  ...   \n",
       "...                                   ...             ...  ...   \n",
       "129875                                  5               5  ...   \n",
       "129876                                  3               2  ...   \n",
       "129877                                  0               3  ...   \n",
       "129878                                  2               3  ...   \n",
       "129879                                  4               3  ...   \n",
       "\n",
       "        Online_support  Ease_of_Online_booking  On_board_service  \\\n",
       "0                    2                       3                 3   \n",
       "1                    2                       3                 4   \n",
       "2                    2                       2                 3   \n",
       "3                    3                       1                 1   \n",
       "4                    4                       2                 2   \n",
       "...                ...                     ...               ...   \n",
       "129875               2                       2                 3   \n",
       "129876               1                       3                 2   \n",
       "129877               2                       4                 4   \n",
       "129878               2                       3                 3   \n",
       "129879               3                       4                 5   \n",
       "\n",
       "        Leg_room_service  Baggage_handling  Checkin_service  Cleanliness  \\\n",
       "0                      0                 3                5            3   \n",
       "1                      4                 4                2            3   \n",
       "2                      3                 4                4            4   \n",
       "3                      0                 1                4            1   \n",
       "4                      0                 2                4            2   \n",
       "...                  ...               ...              ...          ...   \n",
       "129875                 3                 4                4            4   \n",
       "129876                 3                 3                1            2   \n",
       "129877                 3                 4                2            3   \n",
       "129878                 2                 3                2            1   \n",
       "129879                 5                 5                3            3   \n",
       "\n",
       "        Online_boarding  Departure_Delay_in_Minutes  Arrival_Delay_in_Minutes  \n",
       "0                     2                           0                       0.0  \n",
       "1                     2                         310                     305.0  \n",
       "2                     2                           0                       0.0  \n",
       "3                     3                           0                       0.0  \n",
       "4                     5                           0                       0.0  \n",
       "...                 ...                         ...                       ...  \n",
       "129875                2                           0                       0.0  \n",
       "129876                1                         174                     172.0  \n",
       "129877                2                         155                     163.0  \n",
       "129878                2                         193                     205.0  \n",
       "129879                3                         185                     186.0  \n",
       "\n",
       "[129880 rows x 23 columns]"
      ]
     },
     "execution_count": 43,
     "metadata": {},
     "output_type": "execute_result"
    }
   ],
   "source": [
    "df"
   ]
  },
  {
   "cell_type": "markdown",
   "id": "e638c646",
   "metadata": {
    "id": "fb9028c4"
   },
   "source": [
    "# II. Discover and visualize data to gain insights"
   ]
  },
  {
   "cell_type": "markdown",
   "id": "97d9dedc",
   "metadata": {
    "id": "ef1e5f74"
   },
   "source": [
    "### Plot satisfaction feature"
   ]
  },
  {
   "cell_type": "code",
   "execution_count": 44,
   "id": "7ff96871",
   "metadata": {
    "id": "371d9cd1",
    "scrolled": false
   },
   "outputs": [],
   "source": [
    "def plot_target_column (df, target):\n",
    "    ax = sns.countplot(x=target, data=df)\n",
    "    plt.title('Distribution of ' + target + ' column')\n",
    "    plt.xlabel('Frequency')\n",
    "    ax.set_xticklabels(ax.get_xticklabels(),rotation=0)\n",
    "    total = len(df[target])\n",
    "    for p in ax.patches:\n",
    "            percentage = '{:.1f}%'.format(100 * p.get_height()/total)\n",
    "            x = p.get_x() + p.get_width() + 0.02\n",
    "            y = p.get_y() + p.get_height()/2\n",
    "            ax.annotate(percentage, (x, y))\n",
    "            ax.text(p.get_x()+p.get_width()/2., p.get_height() + 0.2, p.get_height(),ha=\"center\")\n",
    "    plt.show()"
   ]
  },
  {
   "cell_type": "code",
   "execution_count": 45,
   "id": "d6d0a5a2",
   "metadata": {
    "colab": {
     "base_uri": "https://localhost:8080/",
     "height": 0
    },
    "id": "7c325cce",
    "outputId": "9b9dc3c2-f374-45f4-99e7-d23040f008cf"
   },
   "outputs": [
    {
     "data": {
      "image/png": "[encoded data removed]",
      "text/plain": [
       "<Figure size 576x360 with 1 Axes>"
      ]
     },
     "metadata": {
      "needs_background": "light"
     },
     "output_type": "display_data"
    }
   ],
   "source": [
    "plt.figure(figsize= (8,5))\n",
    "plot_target_column(df, \"satisfaction\")"
   ]
  },
  {
   "cell_type": "markdown",
   "id": "228e77ca",
   "metadata": {
    "id": "227d112f"
   },
   "source": [
    "### Visualize Customer's properties"
   ]
  },
  {
   "cell_type": "markdown",
   "id": "482896ba",
   "metadata": {
    "id": "8d1cf617"
   },
   "source": [
    "- Select customer's properties columns"
   ]
  },
  {
   "cell_type": "code",
   "execution_count": 46,
   "id": "088bf368",
   "metadata": {
    "id": "f6f66a2b"
   },
   "outputs": [],
   "source": [
    "df[\"Age_cat\"] = pd.cut(df[\"Age\"], bins= [0, 27, 57, 77, np.inf]\n",
    "        , labels= [\"7-27\", \"27-57\", \"57-77\", \"77-85\"])"
   ]
  },
  {
   "cell_type": "markdown",
   "id": "f6b89278",
   "metadata": {
    "id": "6d0b16f0"
   },
   "source": [
    "- Separate customers into 4 groups according to Age  "
   ]
  },
  {
   "cell_type": "markdown",
   "id": "a960a8f1",
   "metadata": {
    "id": "543dca27"
   },
   "source": [
    "bin_user_prop = [i for i in df.loc[:,\"satisfaction\":\"Class\"].columns]"
   ]
  },
  {
   "cell_type": "markdown",
   "id": "2708f8f5",
   "metadata": {
    "colab": {
     "base_uri": "https://localhost:8080/",
     "height": 0
    },
    "id": "fec795f6",
    "outputId": "efe0592b-9639-4b76-f55d-cd833ff36f41",
    "scrolled": false
   },
   "source": [
    "df[bin_user_prop]"
   ]
  },
  {
   "cell_type": "markdown",
   "id": "f2cee693",
   "metadata": {
    "id": "16710ce8"
   },
   "source": [
    "- Using countplot to visualize customer's properties along with satisfaction"
   ]
  },
  {
   "cell_type": "markdown",
   "id": "4f40d9fe",
   "metadata": {
    "colab": {
     "base_uri": "https://localhost:8080/",
     "height": 0
    },
    "id": "568b2c76",
    "outputId": "49f1e12a-6f82-46e0-b5bc-c3b6a8717cf1",
    "scrolled": false
   },
   "source": [
    "fig, axes = plt.subplots(nrows=2,ncols=2,figsize=(12,8), dpi= 200)\n",
    "for i in range(0,2):\n",
    "    for j in range(0,2):\n",
    "        sns.countplot(data= df[bin_user_prop], x= bin_user_prop[2*i + j + 1], hue= \"satisfaction\", ax= axes[i][j])\n",
    "        axes[i][j].legend(loc= (1.01, 0.87))\n",
    "        axes[i][j].set_xlabel(\"\")\n",
    "        axes[i][j].set_ylabel(\"\")\n",
    "        axes[i][j].set(title= bin_user_prop[2*i + j + 1])\n",
    "\n",
    "plt.tight_layout()\n",
    "plt.show()"
   ]
  },
  {
   "cell_type": "markdown",
   "id": "44dec51b",
   "metadata": {
    "id": "ae805bb4"
   },
   "source": [
    "Look like an easygoing female like a male\n",
    "...\n"
   ]
  },
  {
   "cell_type": "markdown",
   "id": "e5fad76b",
   "metadata": {
    "id": "5b5d03ec"
   },
   "source": [
    "### Flight information"
   ]
  },
  {
   "cell_type": "markdown",
   "id": "2df2248b",
   "metadata": {
    "colab": {
     "base_uri": "https://localhost:8080/",
     "height": 0
    },
    "id": "d3b27e1d",
    "outputId": "fe0af2e7-463a-486c-acb9-bb29ee312c77",
    "scrolled": true
   },
   "source": [
    "plt.figure(figsize= (12, 5), dpi= 200)\n",
    "sns.catplot(data= df, x= 'Flight_Distance', y= 'Type_of_Travel', hue= 'satisfaction', col= 'Class', kind= 'bar')\n",
    "plt.show();"
   ]
  },
  {
   "cell_type": "markdown",
   "id": "58404a3f",
   "metadata": {
    "id": "e57a7041"
   },
   "source": [
    "Nhận xét: \n",
    "    Trong lớp class business loại Business travel hài lòng cao hơn so với loại personal travel khi bay với khoảng cách xa.\n",
    "     Những kết hợp còn lại khá trung lập với hài lòng và không hài lòng"
   ]
  },
  {
   "cell_type": "markdown",
   "id": "a5f47615",
   "metadata": {
    "id": "98629415"
   },
   "source": [
    "##### Plot feature have values {0,1,2,3,4,5}"
   ]
  },
  {
   "cell_type": "code",
   "execution_count": 35,
   "id": "3fd63569",
   "metadata": {
    "colab": {
     "base_uri": "https://localhost:8080/"
    },
    "id": "738e5463",
    "outputId": "fa570497-e573-403b-e62d-3f54fb316bba",
    "scrolled": true
   },
   "outputs": [
    {
     "data": {
      "text/plain": [
       "satisfaction                         1.000000\n",
       "Inflight_entertainment               0.523496\n",
       "Ease_of_Online_booking               0.431772\n",
       "Online_support                       0.390143\n",
       "On_board_service                     0.352047\n",
       "Online_boarding                      0.338147\n",
       "Leg_room_service                     0.304928\n",
       "Checkin_service                      0.266179\n",
       "Baggage_handling                     0.260347\n",
       "Cleanliness                          0.259330\n",
       "Seat_comfort                         0.242384\n",
       "Inflight_wifi_service                0.227062\n",
       "Food_and_drink                       0.120677\n",
       "Gate_location                       -0.012071\n",
       "Departure/Arrival_time_convenient   -0.015507\n",
       "Flight_Distance                     -0.039224\n",
       "Departure_Delay_in_Minutes          -0.073909\n",
       "Arrival_Delay_in_Minutes            -0.080691\n",
       "Name: satisfaction, dtype: float64"
      ]
     },
     "execution_count": 35,
     "metadata": {},
     "output_type": "execute_result"
    }
   ],
   "source": [
    "corr_matrix = df.corr()\n",
    "corr_matrix['satisfaction'].sort_values(ascending = False)"
   ]
  },
  {
   "cell_type": "code",
   "execution_count": 36,
   "id": "558b8788",
   "metadata": {
    "colab": {
     "base_uri": "https://localhost:8080/",
     "height": 0
    },
    "id": "de23a10f",
    "outputId": "8bcc7eca-f809-4db0-8e05-2317641476a0"
   },
   "outputs": [
    {
     "data": {
      "text/plain": [
       "<AxesSubplot:xlabel='Ease_of_Online_booking', ylabel='satisfaction'>"
      ]
     },
     "execution_count": 36,
     "metadata": {},
     "output_type": "execute_result"
    },
    {
     "data": {
      "image/png": "[encoded data removed]",
      "text/plain": [
       "<Figure size 1008x576 with 8 Axes>"
      ]
     },
     "metadata": {
      "needs_background": "light"
     },
     "output_type": "display_data"
    }
   ],
   "source": [
    "#vẽ biểu đồ heatmap với những cột có điểm corr tương đối cao\n",
    "fig, axarr = plt.subplots(2, 2, figsize=(14, 8))\n",
    "\n",
    "table1 = pd.crosstab(df['satisfaction'], df['Inflight_entertainment'])\n",
    "sns.heatmap(table1, cmap='PuRd',ax = axarr[0][0])\n",
    "table2 = pd.crosstab(df['satisfaction'], df['Seat_comfort'])\n",
    "sns.heatmap(table2, cmap='Reds',ax = axarr[0][1])\n",
    "table3 = pd.crosstab(df['satisfaction'], df['Online_support'])\n",
    "sns.heatmap(table3, cmap='Greens',ax = axarr[1][0])\n",
    "table4 = pd.crosstab(df['satisfaction'], df['Ease_of_Online_booking'])\n",
    "sns.heatmap(table4, cmap='PuBu',ax = axarr[1][1])"
   ]
  },
  {
   "cell_type": "markdown",
   "id": "4937dc6f",
   "metadata": {
    "id": "f1c538f3"
   },
   "source": [
    "Có sự tương quan rõ rệt với satisfaction.\n",
    " Rất nhiều đánh giá 4,5 được xếp vào loại hài lòng\n",
    " Ngược lại, rất nhiều đánh giá 1-3 thì xếp vào loại không hài lòng. \n",
    "##### Cho thấy những feature này có tác động lớn vào đánh giá độ hài lòng của khách hàng"
   ]
  },
  {
   "cell_type": "code",
   "execution_count": 37,
   "id": "0fb7e796",
   "metadata": {
    "colab": {
     "base_uri": "https://localhost:8080/",
     "height": 0
    },
    "id": "532850f1",
    "outputId": "8973ef45-e42f-4229-b7a9-4be170b6afe7"
   },
   "outputs": [
    {
     "data": {
      "text/plain": [
       "<AxesSubplot:xlabel='Gate_location', ylabel='satisfaction'>"
      ]
     },
     "execution_count": 37,
     "metadata": {},
     "output_type": "execute_result"
    },
    {
     "data": {
      "image/png": "[encoded data removed]",
      "text/plain": [
       "<Figure size 1296x360 with 4 Axes>"
      ]
     },
     "metadata": {
      "needs_background": "light"
     },
     "output_type": "display_data"
    }
   ],
   "source": [
    "#biểu đồ heatmap với những cột có hệ số tương quan cực thấp \n",
    "#Gate_location                       -0.012071\n",
    "#Departure/Arrival_time_convenient   -0.015507 \n",
    "fig, axarr = plt.subplots(1, 2, figsize=(18, 5))\n",
    "\n",
    "table1 = pd.crosstab(df['satisfaction'], df['Departure/Arrival_time_convenient'])\n",
    "sns.heatmap(table1, cmap='PuRd',ax = axarr[0])\n",
    "table2 = pd.crosstab(df['satisfaction'], df['Gate_location'])\n",
    "sns.heatmap(table2, cmap='PuBu',ax = axarr[1])\n"
   ]
  },
  {
   "cell_type": "markdown",
   "id": "390217b2",
   "metadata": {
    "id": "16da76c1"
   },
   "source": [
    "Cả 2 biều đồ trên đều không cho thấy sự tương quan. Những đánh giá 1,2,3 không khác biệt so với 4,5 sao về đánh giá độ hài lòng khách hàng. \n",
    "##### Ta kết luận đươc rằng 2 feature trên không ảnh hưởng nhiều đến mức độ hài lòng khách hàng"
   ]
  },
  {
   "cell_type": "code",
   "execution_count": 38,
   "id": "f83ef2fc",
   "metadata": {
    "colab": {
     "base_uri": "https://localhost:8080/",
     "height": 0
    },
    "id": "003a74ab",
    "outputId": "7e2e062b-dbd4-4e1d-e1f8-353a6062657d"
   },
   "outputs": [
    {
     "data": {
      "text/plain": [
       "<AxesSubplot:xlabel='Food_and_drink', ylabel='satisfaction'>"
      ]
     },
     "execution_count": 38,
     "metadata": {},
     "output_type": "execute_result"
    },
    {
     "data": {
      "image/png": "[encoded data removed]",
      "text/plain": [
       "<Figure size 1296x360 with 4 Axes>"
      ]
     },
     "metadata": {
      "needs_background": "light"
     },
     "output_type": "display_data"
    }
   ],
   "source": [
    "#biểu đồ heatmap với những cột có hệ số tương quan so với satisfaction không cao \n",
    "\n",
    "fig, axarr = plt.subplots(1, 2, figsize=(18, 5))\n",
    "\n",
    "table = pd.crosstab(df['satisfaction'], df['Inflight_wifi_service'])\n",
    "sns.heatmap(table, cmap='PuRd',ax = axarr[0])\n",
    "table1 = pd.crosstab(df['satisfaction'], df['Food_and_drink'])\n",
    "sns.heatmap(table1, cmap='Greens',ax = axarr[1])"
   ]
  },
  {
   "cell_type": "markdown",
   "id": "9ad8e16a",
   "metadata": {
    "id": "b64f8f9a"
   },
   "source": [
    "Vẫn có sự tương quan giữa những feature có chỉ số corr không cao"
   ]
  },
  {
   "cell_type": "markdown",
   "id": "395e40f5",
   "metadata": {
    "id": "e9b79875"
   },
   "source": [
    "### Find Correlation"
   ]
  },
  {
   "cell_type": "code",
   "execution_count": 39,
   "id": "c34bd44f",
   "metadata": {
    "colab": {
     "base_uri": "https://localhost:8080/",
     "height": 0
    },
    "id": "506a1757",
    "outputId": "5e450863-e4d5-4c82-90af-5059fd0883dd"
   },
   "outputs": [
    {
     "data": {
      "text/plain": [
       "<AxesSubplot:>"
      ]
     },
     "execution_count": 39,
     "metadata": {},
     "output_type": "execute_result"
    },
    {
     "data": {
      "image/png": "[encoded data removed]",
      "text/plain": [
       "<Figure size 1440x1440 with 2 Axes>"
      ]
     },
     "metadata": {
      "needs_background": "light"
     },
     "output_type": "display_data"
    }
   ],
   "source": [
    "corr = df.corr()\n",
    "mask = np.triu(np.ones_like(corr, dtype=bool))\n",
    "f, ax = plt.subplots(figsize=(20, 20))\n",
    "cmap = sns.diverging_palette(1000, 200, as_cmap=True)\n",
    "sns.heatmap(corr, mask=mask, cmap=cmap, vmax=None, center=0,square=True, annot=True, linewidths=.5, cbar_kws={\"shrink\": .10})"
   ]
  },
  {
   "cell_type": "markdown",
   "id": "81eb58b0",
   "metadata": {
    "id": "48a9d295"
   },
   "source": [
    "\n",
    "Seat_comfort is highly correlated with Food_and_drink.\n",
    "\n",
    "Online_support is highly correlated with Online_boarding,Ease_of_Online_booking.\n",
    "\n",
    "Inflight_wifi_service is highly correlated with Online_support,Ease_of_Online_booking.\n",
    "\n",
    "Departure_Delay_in_Minutes is highly correlated with Arrival_Delay_in_Minutes with 0.97 ~ 1\n",
    "##### Conclusion: remove Arrival_Delay_in_minutes"
   ]
  },
  {
   "cell_type": "code",
   "execution_count": 40,
   "id": "f981b255",
   "metadata": {
    "id": "62ffac55"
   },
   "outputs": [],
   "source": [
    "df= df.drop(['Gate_location','Departure/Arrival_time_convenient','Arrival_Delay_in_Minutes'],axis = 1)"
   ]
  },
  {
   "cell_type": "code",
   "execution_count": 41,
   "id": "5554f233",
   "metadata": {
    "colab": {
     "base_uri": "https://localhost:8080/",
     "height": 0
    },
    "id": "2507fb40",
    "outputId": "84c69d4f-cd53-4076-8847-b55031633541"
   },
   "outputs": [
    {
     "data": {
      "text/html": [
       "<div>\n",
       "<style scoped>\n",
       "    .dataframe tbody tr th:only-of-type {\n",
       "        vertical-align: middle;\n",
       "    }\n",
       "\n",
       "    .dataframe tbody tr th {\n",
       "        vertical-align: top;\n",
       "    }\n",
       "\n",
       "    .dataframe thead th {\n",
       "        text-align: right;\n",
       "    }\n",
       "</style>\n",
       "<table border=\"1\" class=\"dataframe\">\n",
       "  <thead>\n",
       "    <tr style=\"text-align: right;\">\n",
       "      <th></th>\n",
       "      <th>satisfaction</th>\n",
       "      <th>Gender</th>\n",
       "      <th>Customer_Type</th>\n",
       "      <th>Age</th>\n",
       "      <th>Type_of_Travel</th>\n",
       "      <th>Class</th>\n",
       "      <th>Flight_Distance</th>\n",
       "      <th>Seat_comfort</th>\n",
       "      <th>Food_and_drink</th>\n",
       "      <th>Inflight_wifi_service</th>\n",
       "      <th>Inflight_entertainment</th>\n",
       "      <th>Online_support</th>\n",
       "      <th>Ease_of_Online_booking</th>\n",
       "      <th>On_board_service</th>\n",
       "      <th>Leg_room_service</th>\n",
       "      <th>Baggage_handling</th>\n",
       "      <th>Checkin_service</th>\n",
       "      <th>Cleanliness</th>\n",
       "      <th>Online_boarding</th>\n",
       "      <th>Departure_Delay_in_Minutes</th>\n",
       "    </tr>\n",
       "  </thead>\n",
       "  <tbody>\n",
       "    <tr>\n",
       "      <th>0</th>\n",
       "      <td>1</td>\n",
       "      <td>Female</td>\n",
       "      <td>Loyal Customer</td>\n",
       "      <td>57-77</td>\n",
       "      <td>Personal Travel</td>\n",
       "      <td>Eco</td>\n",
       "      <td>265</td>\n",
       "      <td>0</td>\n",
       "      <td>0</td>\n",
       "      <td>2</td>\n",
       "      <td>4</td>\n",
       "      <td>2</td>\n",
       "      <td>3</td>\n",
       "      <td>3</td>\n",
       "      <td>0</td>\n",
       "      <td>3</td>\n",
       "      <td>5</td>\n",
       "      <td>3</td>\n",
       "      <td>2</td>\n",
       "      <td>0</td>\n",
       "    </tr>\n",
       "    <tr>\n",
       "      <th>1</th>\n",
       "      <td>1</td>\n",
       "      <td>Male</td>\n",
       "      <td>Loyal Customer</td>\n",
       "      <td>27-57</td>\n",
       "      <td>Personal Travel</td>\n",
       "      <td>Business</td>\n",
       "      <td>2464</td>\n",
       "      <td>0</td>\n",
       "      <td>0</td>\n",
       "      <td>0</td>\n",
       "      <td>2</td>\n",
       "      <td>2</td>\n",
       "      <td>3</td>\n",
       "      <td>4</td>\n",
       "      <td>4</td>\n",
       "      <td>4</td>\n",
       "      <td>2</td>\n",
       "      <td>3</td>\n",
       "      <td>2</td>\n",
       "      <td>310</td>\n",
       "    </tr>\n",
       "    <tr>\n",
       "      <th>2</th>\n",
       "      <td>1</td>\n",
       "      <td>Female</td>\n",
       "      <td>Loyal Customer</td>\n",
       "      <td>7-27</td>\n",
       "      <td>Personal Travel</td>\n",
       "      <td>Eco</td>\n",
       "      <td>2138</td>\n",
       "      <td>0</td>\n",
       "      <td>0</td>\n",
       "      <td>2</td>\n",
       "      <td>0</td>\n",
       "      <td>2</td>\n",
       "      <td>2</td>\n",
       "      <td>3</td>\n",
       "      <td>3</td>\n",
       "      <td>4</td>\n",
       "      <td>4</td>\n",
       "      <td>4</td>\n",
       "      <td>2</td>\n",
       "      <td>0</td>\n",
       "    </tr>\n",
       "    <tr>\n",
       "      <th>3</th>\n",
       "      <td>1</td>\n",
       "      <td>Female</td>\n",
       "      <td>Loyal Customer</td>\n",
       "      <td>57-77</td>\n",
       "      <td>Personal Travel</td>\n",
       "      <td>Eco</td>\n",
       "      <td>623</td>\n",
       "      <td>0</td>\n",
       "      <td>0</td>\n",
       "      <td>3</td>\n",
       "      <td>4</td>\n",
       "      <td>3</td>\n",
       "      <td>1</td>\n",
       "      <td>1</td>\n",
       "      <td>0</td>\n",
       "      <td>1</td>\n",
       "      <td>4</td>\n",
       "      <td>1</td>\n",
       "      <td>3</td>\n",
       "      <td>0</td>\n",
       "    </tr>\n",
       "    <tr>\n",
       "      <th>4</th>\n",
       "      <td>1</td>\n",
       "      <td>Female</td>\n",
       "      <td>Loyal Customer</td>\n",
       "      <td>57-77</td>\n",
       "      <td>Personal Travel</td>\n",
       "      <td>Eco</td>\n",
       "      <td>354</td>\n",
       "      <td>0</td>\n",
       "      <td>0</td>\n",
       "      <td>4</td>\n",
       "      <td>3</td>\n",
       "      <td>4</td>\n",
       "      <td>2</td>\n",
       "      <td>2</td>\n",
       "      <td>0</td>\n",
       "      <td>2</td>\n",
       "      <td>4</td>\n",
       "      <td>2</td>\n",
       "      <td>5</td>\n",
       "      <td>0</td>\n",
       "    </tr>\n",
       "    <tr>\n",
       "      <th>...</th>\n",
       "      <td>...</td>\n",
       "      <td>...</td>\n",
       "      <td>...</td>\n",
       "      <td>...</td>\n",
       "      <td>...</td>\n",
       "      <td>...</td>\n",
       "      <td>...</td>\n",
       "      <td>...</td>\n",
       "      <td>...</td>\n",
       "      <td>...</td>\n",
       "      <td>...</td>\n",
       "      <td>...</td>\n",
       "      <td>...</td>\n",
       "      <td>...</td>\n",
       "      <td>...</td>\n",
       "      <td>...</td>\n",
       "      <td>...</td>\n",
       "      <td>...</td>\n",
       "      <td>...</td>\n",
       "      <td>...</td>\n",
       "    </tr>\n",
       "    <tr>\n",
       "      <th>129875</th>\n",
       "      <td>1</td>\n",
       "      <td>Female</td>\n",
       "      <td>disloyal Customer</td>\n",
       "      <td>27-57</td>\n",
       "      <td>Personal Travel</td>\n",
       "      <td>Eco</td>\n",
       "      <td>1731</td>\n",
       "      <td>5</td>\n",
       "      <td>5</td>\n",
       "      <td>2</td>\n",
       "      <td>5</td>\n",
       "      <td>2</td>\n",
       "      <td>2</td>\n",
       "      <td>3</td>\n",
       "      <td>3</td>\n",
       "      <td>4</td>\n",
       "      <td>4</td>\n",
       "      <td>4</td>\n",
       "      <td>2</td>\n",
       "      <td>0</td>\n",
       "    </tr>\n",
       "    <tr>\n",
       "      <th>129876</th>\n",
       "      <td>0</td>\n",
       "      <td>Male</td>\n",
       "      <td>disloyal Customer</td>\n",
       "      <td>57-77</td>\n",
       "      <td>Personal Travel</td>\n",
       "      <td>Business</td>\n",
       "      <td>2087</td>\n",
       "      <td>2</td>\n",
       "      <td>2</td>\n",
       "      <td>2</td>\n",
       "      <td>1</td>\n",
       "      <td>1</td>\n",
       "      <td>3</td>\n",
       "      <td>2</td>\n",
       "      <td>3</td>\n",
       "      <td>3</td>\n",
       "      <td>1</td>\n",
       "      <td>2</td>\n",
       "      <td>1</td>\n",
       "      <td>174</td>\n",
       "    </tr>\n",
       "    <tr>\n",
       "      <th>129877</th>\n",
       "      <td>0</td>\n",
       "      <td>Male</td>\n",
       "      <td>disloyal Customer</td>\n",
       "      <td>57-77</td>\n",
       "      <td>Personal Travel</td>\n",
       "      <td>Eco</td>\n",
       "      <td>2320</td>\n",
       "      <td>3</td>\n",
       "      <td>3</td>\n",
       "      <td>3</td>\n",
       "      <td>2</td>\n",
       "      <td>2</td>\n",
       "      <td>4</td>\n",
       "      <td>4</td>\n",
       "      <td>3</td>\n",
       "      <td>4</td>\n",
       "      <td>2</td>\n",
       "      <td>3</td>\n",
       "      <td>2</td>\n",
       "      <td>155</td>\n",
       "    </tr>\n",
       "    <tr>\n",
       "      <th>129878</th>\n",
       "      <td>0</td>\n",
       "      <td>Male</td>\n",
       "      <td>disloyal Customer</td>\n",
       "      <td>57-77</td>\n",
       "      <td>Personal Travel</td>\n",
       "      <td>Eco</td>\n",
       "      <td>2450</td>\n",
       "      <td>3</td>\n",
       "      <td>3</td>\n",
       "      <td>3</td>\n",
       "      <td>2</td>\n",
       "      <td>2</td>\n",
       "      <td>3</td>\n",
       "      <td>3</td>\n",
       "      <td>2</td>\n",
       "      <td>3</td>\n",
       "      <td>2</td>\n",
       "      <td>1</td>\n",
       "      <td>2</td>\n",
       "      <td>193</td>\n",
       "    </tr>\n",
       "    <tr>\n",
       "      <th>129879</th>\n",
       "      <td>0</td>\n",
       "      <td>Female</td>\n",
       "      <td>disloyal Customer</td>\n",
       "      <td>27-57</td>\n",
       "      <td>Personal Travel</td>\n",
       "      <td>Eco</td>\n",
       "      <td>4307</td>\n",
       "      <td>3</td>\n",
       "      <td>3</td>\n",
       "      <td>3</td>\n",
       "      <td>3</td>\n",
       "      <td>3</td>\n",
       "      <td>4</td>\n",
       "      <td>5</td>\n",
       "      <td>5</td>\n",
       "      <td>5</td>\n",
       "      <td>3</td>\n",
       "      <td>3</td>\n",
       "      <td>3</td>\n",
       "      <td>185</td>\n",
       "    </tr>\n",
       "  </tbody>\n",
       "</table>\n",
       "<p>129880 rows × 20 columns</p>\n",
       "</div>"
      ],
      "text/plain": [
       "        satisfaction  Gender      Customer_Type    Age   Type_of_Travel  \\\n",
       "0                  1  Female     Loyal Customer  57-77  Personal Travel   \n",
       "1                  1    Male     Loyal Customer  27-57  Personal Travel   \n",
       "2                  1  Female     Loyal Customer   7-27  Personal Travel   \n",
       "3                  1  Female     Loyal Customer  57-77  Personal Travel   \n",
       "4                  1  Female     Loyal Customer  57-77  Personal Travel   \n",
       "...              ...     ...                ...    ...              ...   \n",
       "129875             1  Female  disloyal Customer  27-57  Personal Travel   \n",
       "129876             0    Male  disloyal Customer  57-77  Personal Travel   \n",
       "129877             0    Male  disloyal Customer  57-77  Personal Travel   \n",
       "129878             0    Male  disloyal Customer  57-77  Personal Travel   \n",
       "129879             0  Female  disloyal Customer  27-57  Personal Travel   \n",
       "\n",
       "           Class  Flight_Distance  Seat_comfort  Food_and_drink  \\\n",
       "0            Eco              265             0               0   \n",
       "1       Business             2464             0               0   \n",
       "2            Eco             2138             0               0   \n",
       "3            Eco              623             0               0   \n",
       "4            Eco              354             0               0   \n",
       "...          ...              ...           ...             ...   \n",
       "129875       Eco             1731             5               5   \n",
       "129876  Business             2087             2               2   \n",
       "129877       Eco             2320             3               3   \n",
       "129878       Eco             2450             3               3   \n",
       "129879       Eco             4307             3               3   \n",
       "\n",
       "        Inflight_wifi_service  Inflight_entertainment  Online_support  \\\n",
       "0                           2                       4               2   \n",
       "1                           0                       2               2   \n",
       "2                           2                       0               2   \n",
       "3                           3                       4               3   \n",
       "4                           4                       3               4   \n",
       "...                       ...                     ...             ...   \n",
       "129875                      2                       5               2   \n",
       "129876                      2                       1               1   \n",
       "129877                      3                       2               2   \n",
       "129878                      3                       2               2   \n",
       "129879                      3                       3               3   \n",
       "\n",
       "        Ease_of_Online_booking  On_board_service  Leg_room_service  \\\n",
       "0                            3                 3                 0   \n",
       "1                            3                 4                 4   \n",
       "2                            2                 3                 3   \n",
       "3                            1                 1                 0   \n",
       "4                            2                 2                 0   \n",
       "...                        ...               ...               ...   \n",
       "129875                       2                 3                 3   \n",
       "129876                       3                 2                 3   \n",
       "129877                       4                 4                 3   \n",
       "129878                       3                 3                 2   \n",
       "129879                       4                 5                 5   \n",
       "\n",
       "        Baggage_handling  Checkin_service  Cleanliness  Online_boarding  \\\n",
       "0                      3                5            3                2   \n",
       "1                      4                2            3                2   \n",
       "2                      4                4            4                2   \n",
       "3                      1                4            1                3   \n",
       "4                      2                4            2                5   \n",
       "...                  ...              ...          ...              ...   \n",
       "129875                 4                4            4                2   \n",
       "129876                 3                1            2                1   \n",
       "129877                 4                2            3                2   \n",
       "129878                 3                2            1                2   \n",
       "129879                 5                3            3                3   \n",
       "\n",
       "        Departure_Delay_in_Minutes  \n",
       "0                                0  \n",
       "1                              310  \n",
       "2                                0  \n",
       "3                                0  \n",
       "4                                0  \n",
       "...                            ...  \n",
       "129875                           0  \n",
       "129876                         174  \n",
       "129877                         155  \n",
       "129878                         193  \n",
       "129879                         185  \n",
       "\n",
       "[129880 rows x 20 columns]"
      ]
     },
     "execution_count": 41,
     "metadata": {},
     "output_type": "execute_result"
    }
   ],
   "source": [
    "df"
   ]
  },
  {
   "cell_type": "markdown",
   "id": "bb0d65b1",
   "metadata": {
    "id": "b12278bd"
   },
   "source": [
    "### Preprocessing\n"
   ]
  },
  {
   "cell_type": "markdown",
   "id": "8c4e25f1",
   "metadata": {
    "id": "0beb35b3"
   },
   "source": [
    "#### Split train set & test set "
   ]
  },
  {
   "cell_type": "code",
   "execution_count": 42,
   "id": "91f1fbaf",
   "metadata": {
    "id": "kAzfv12fq7rV"
   },
   "outputs": [],
   "source": [
    "df['Age_cat'] = df['Age_cat'].astype('object')"
   ]
  },
  {
   "cell_type": "markdown",
   "id": "6053779f",
   "metadata": {
    "id": "1148e0a9"
   },
   "source": [
    "#### Using sklearn \n"
   ]
  },
  {
   "cell_type": "code",
   "execution_count": 47,
   "id": "d28d8790",
   "metadata": {
    "id": "d6169717"
   },
   "outputs": [],
   "source": [
    "# stratified sampling by Age_cat\n",
    "split = StratifiedShuffleSplit(n_splits=1, test_size=0.2, random_state=101)\n",
    "for train_index, group_index in split.split(df, df[\"Age_cat\"]):\n",
    "    strat_train_set = df.loc[train_index]\n",
    "    strat_group_set = df.loc[group_index]\n",
    "# test size = 0.2\n",
    "split_2 = StratifiedShuffleSplit(n_splits=1, test_size=0.5, random_state=101)\n",
    "for dev_index, test_index in split_2.split(strat_group_set, strat_group_set[\"Age_cat\"]):\n",
    "    strat_dev_set = strat_group_set.iloc[dev_index]\n",
    "    strat_test_set = strat_group_set.iloc[test_index]"
   ]
  },
  {
   "cell_type": "code",
   "execution_count": 49,
   "id": "d4f19c19",
   "metadata": {
    "colab": {
     "base_uri": "https://localhost:8080/",
     "height": 0
    },
    "id": "41857c5b",
    "outputId": "ce412376-6702-4a3b-e9fb-ca1e8040f818",
    "scrolled": true
   },
   "outputs": [
    {
     "data": {
      "text/html": [
       "<div>\n",
       "<style scoped>\n",
       "    .dataframe tbody tr th:only-of-type {\n",
       "        vertical-align: middle;\n",
       "    }\n",
       "\n",
       "    .dataframe tbody tr th {\n",
       "        vertical-align: top;\n",
       "    }\n",
       "\n",
       "    .dataframe thead th {\n",
       "        text-align: right;\n",
       "    }\n",
       "</style>\n",
       "<table border=\"1\" class=\"dataframe\">\n",
       "  <thead>\n",
       "    <tr style=\"text-align: right;\">\n",
       "      <th></th>\n",
       "      <th>satisfaction</th>\n",
       "      <th>Gender</th>\n",
       "      <th>Customer_Type</th>\n",
       "      <th>Age</th>\n",
       "      <th>Type_of_Travel</th>\n",
       "      <th>Class</th>\n",
       "      <th>Flight_Distance</th>\n",
       "      <th>Seat_comfort</th>\n",
       "      <th>Departure/Arrival_time_convenient</th>\n",
       "      <th>Food_and_drink</th>\n",
       "      <th>...</th>\n",
       "      <th>Ease_of_Online_booking</th>\n",
       "      <th>On_board_service</th>\n",
       "      <th>Leg_room_service</th>\n",
       "      <th>Baggage_handling</th>\n",
       "      <th>Checkin_service</th>\n",
       "      <th>Cleanliness</th>\n",
       "      <th>Online_boarding</th>\n",
       "      <th>Departure_Delay_in_Minutes</th>\n",
       "      <th>Arrival_Delay_in_Minutes</th>\n",
       "      <th>Age_cat</th>\n",
       "    </tr>\n",
       "  </thead>\n",
       "  <tbody>\n",
       "    <tr>\n",
       "      <th>65072</th>\n",
       "      <td>1</td>\n",
       "      <td>Male</td>\n",
       "      <td>Loyal Customer</td>\n",
       "      <td>43</td>\n",
       "      <td>Business travel</td>\n",
       "      <td>Business</td>\n",
       "      <td>1898</td>\n",
       "      <td>0</td>\n",
       "      <td>4</td>\n",
       "      <td>0</td>\n",
       "      <td>...</td>\n",
       "      <td>3</td>\n",
       "      <td>5</td>\n",
       "      <td>3</td>\n",
       "      <td>2</td>\n",
       "      <td>1</td>\n",
       "      <td>4</td>\n",
       "      <td>1</td>\n",
       "      <td>142</td>\n",
       "      <td>148.0</td>\n",
       "      <td>27-57</td>\n",
       "    </tr>\n",
       "    <tr>\n",
       "      <th>70740</th>\n",
       "      <td>1</td>\n",
       "      <td>Male</td>\n",
       "      <td>Loyal Customer</td>\n",
       "      <td>28</td>\n",
       "      <td>Business travel</td>\n",
       "      <td>Business</td>\n",
       "      <td>1361</td>\n",
       "      <td>2</td>\n",
       "      <td>2</td>\n",
       "      <td>2</td>\n",
       "      <td>...</td>\n",
       "      <td>2</td>\n",
       "      <td>5</td>\n",
       "      <td>3</td>\n",
       "      <td>4</td>\n",
       "      <td>5</td>\n",
       "      <td>5</td>\n",
       "      <td>2</td>\n",
       "      <td>18</td>\n",
       "      <td>7.0</td>\n",
       "      <td>27-57</td>\n",
       "    </tr>\n",
       "    <tr>\n",
       "      <th>50250</th>\n",
       "      <td>0</td>\n",
       "      <td>Female</td>\n",
       "      <td>disloyal Customer</td>\n",
       "      <td>20</td>\n",
       "      <td>Business travel</td>\n",
       "      <td>Eco</td>\n",
       "      <td>1608</td>\n",
       "      <td>2</td>\n",
       "      <td>4</td>\n",
       "      <td>2</td>\n",
       "      <td>...</td>\n",
       "      <td>4</td>\n",
       "      <td>4</td>\n",
       "      <td>4</td>\n",
       "      <td>4</td>\n",
       "      <td>4</td>\n",
       "      <td>4</td>\n",
       "      <td>4</td>\n",
       "      <td>0</td>\n",
       "      <td>13.0</td>\n",
       "      <td>7-27</td>\n",
       "    </tr>\n",
       "    <tr>\n",
       "      <th>123655</th>\n",
       "      <td>1</td>\n",
       "      <td>Male</td>\n",
       "      <td>Loyal Customer</td>\n",
       "      <td>35</td>\n",
       "      <td>Business travel</td>\n",
       "      <td>Eco</td>\n",
       "      <td>3145</td>\n",
       "      <td>5</td>\n",
       "      <td>1</td>\n",
       "      <td>1</td>\n",
       "      <td>...</td>\n",
       "      <td>5</td>\n",
       "      <td>1</td>\n",
       "      <td>3</td>\n",
       "      <td>1</td>\n",
       "      <td>1</td>\n",
       "      <td>4</td>\n",
       "      <td>5</td>\n",
       "      <td>21</td>\n",
       "      <td>11.0</td>\n",
       "      <td>27-57</td>\n",
       "    </tr>\n",
       "    <tr>\n",
       "      <th>113976</th>\n",
       "      <td>1</td>\n",
       "      <td>Female</td>\n",
       "      <td>Loyal Customer</td>\n",
       "      <td>57</td>\n",
       "      <td>Business travel</td>\n",
       "      <td>Business</td>\n",
       "      <td>2033</td>\n",
       "      <td>3</td>\n",
       "      <td>3</td>\n",
       "      <td>3</td>\n",
       "      <td>...</td>\n",
       "      <td>5</td>\n",
       "      <td>5</td>\n",
       "      <td>5</td>\n",
       "      <td>5</td>\n",
       "      <td>3</td>\n",
       "      <td>5</td>\n",
       "      <td>5</td>\n",
       "      <td>10</td>\n",
       "      <td>6.0</td>\n",
       "      <td>27-57</td>\n",
       "    </tr>\n",
       "    <tr>\n",
       "      <th>...</th>\n",
       "      <td>...</td>\n",
       "      <td>...</td>\n",
       "      <td>...</td>\n",
       "      <td>...</td>\n",
       "      <td>...</td>\n",
       "      <td>...</td>\n",
       "      <td>...</td>\n",
       "      <td>...</td>\n",
       "      <td>...</td>\n",
       "      <td>...</td>\n",
       "      <td>...</td>\n",
       "      <td>...</td>\n",
       "      <td>...</td>\n",
       "      <td>...</td>\n",
       "      <td>...</td>\n",
       "      <td>...</td>\n",
       "      <td>...</td>\n",
       "      <td>...</td>\n",
       "      <td>...</td>\n",
       "      <td>...</td>\n",
       "      <td>...</td>\n",
       "    </tr>\n",
       "    <tr>\n",
       "      <th>45380</th>\n",
       "      <td>0</td>\n",
       "      <td>Female</td>\n",
       "      <td>disloyal Customer</td>\n",
       "      <td>38</td>\n",
       "      <td>Business travel</td>\n",
       "      <td>Eco Plus</td>\n",
       "      <td>2275</td>\n",
       "      <td>2</td>\n",
       "      <td>1</td>\n",
       "      <td>1</td>\n",
       "      <td>...</td>\n",
       "      <td>2</td>\n",
       "      <td>3</td>\n",
       "      <td>5</td>\n",
       "      <td>3</td>\n",
       "      <td>3</td>\n",
       "      <td>3</td>\n",
       "      <td>2</td>\n",
       "      <td>0</td>\n",
       "      <td>0.0</td>\n",
       "      <td>27-57</td>\n",
       "    </tr>\n",
       "    <tr>\n",
       "      <th>71392</th>\n",
       "      <td>1</td>\n",
       "      <td>Female</td>\n",
       "      <td>Loyal Customer</td>\n",
       "      <td>48</td>\n",
       "      <td>Business travel</td>\n",
       "      <td>Eco</td>\n",
       "      <td>1917</td>\n",
       "      <td>2</td>\n",
       "      <td>4</td>\n",
       "      <td>3</td>\n",
       "      <td>...</td>\n",
       "      <td>2</td>\n",
       "      <td>2</td>\n",
       "      <td>2</td>\n",
       "      <td>2</td>\n",
       "      <td>1</td>\n",
       "      <td>2</td>\n",
       "      <td>1</td>\n",
       "      <td>5</td>\n",
       "      <td>0.0</td>\n",
       "      <td>27-57</td>\n",
       "    </tr>\n",
       "    <tr>\n",
       "      <th>29154</th>\n",
       "      <td>0</td>\n",
       "      <td>Male</td>\n",
       "      <td>Loyal Customer</td>\n",
       "      <td>63</td>\n",
       "      <td>Personal Travel</td>\n",
       "      <td>Eco</td>\n",
       "      <td>1548</td>\n",
       "      <td>3</td>\n",
       "      <td>5</td>\n",
       "      <td>3</td>\n",
       "      <td>...</td>\n",
       "      <td>1</td>\n",
       "      <td>4</td>\n",
       "      <td>4</td>\n",
       "      <td>4</td>\n",
       "      <td>5</td>\n",
       "      <td>5</td>\n",
       "      <td>1</td>\n",
       "      <td>0</td>\n",
       "      <td>0.0</td>\n",
       "      <td>57-77</td>\n",
       "    </tr>\n",
       "    <tr>\n",
       "      <th>26264</th>\n",
       "      <td>1</td>\n",
       "      <td>Female</td>\n",
       "      <td>Loyal Customer</td>\n",
       "      <td>38</td>\n",
       "      <td>Personal Travel</td>\n",
       "      <td>Eco</td>\n",
       "      <td>1755</td>\n",
       "      <td>3</td>\n",
       "      <td>3</td>\n",
       "      <td>3</td>\n",
       "      <td>...</td>\n",
       "      <td>5</td>\n",
       "      <td>5</td>\n",
       "      <td>5</td>\n",
       "      <td>5</td>\n",
       "      <td>5</td>\n",
       "      <td>5</td>\n",
       "      <td>5</td>\n",
       "      <td>0</td>\n",
       "      <td>0.0</td>\n",
       "      <td>27-57</td>\n",
       "    </tr>\n",
       "    <tr>\n",
       "      <th>47237</th>\n",
       "      <td>0</td>\n",
       "      <td>Female</td>\n",
       "      <td>disloyal Customer</td>\n",
       "      <td>37</td>\n",
       "      <td>Business travel</td>\n",
       "      <td>Business</td>\n",
       "      <td>1183</td>\n",
       "      <td>2</td>\n",
       "      <td>2</td>\n",
       "      <td>2</td>\n",
       "      <td>...</td>\n",
       "      <td>3</td>\n",
       "      <td>1</td>\n",
       "      <td>2</td>\n",
       "      <td>4</td>\n",
       "      <td>3</td>\n",
       "      <td>3</td>\n",
       "      <td>3</td>\n",
       "      <td>25</td>\n",
       "      <td>20.0</td>\n",
       "      <td>27-57</td>\n",
       "    </tr>\n",
       "  </tbody>\n",
       "</table>\n",
       "<p>103904 rows × 24 columns</p>\n",
       "</div>"
      ],
      "text/plain": [
       "        satisfaction  Gender      Customer_Type  Age   Type_of_Travel  \\\n",
       "65072              1    Male     Loyal Customer   43  Business travel   \n",
       "70740              1    Male     Loyal Customer   28  Business travel   \n",
       "50250              0  Female  disloyal Customer   20  Business travel   \n",
       "123655             1    Male     Loyal Customer   35  Business travel   \n",
       "113976             1  Female     Loyal Customer   57  Business travel   \n",
       "...              ...     ...                ...  ...              ...   \n",
       "45380              0  Female  disloyal Customer   38  Business travel   \n",
       "71392              1  Female     Loyal Customer   48  Business travel   \n",
       "29154              0    Male     Loyal Customer   63  Personal Travel   \n",
       "26264              1  Female     Loyal Customer   38  Personal Travel   \n",
       "47237              0  Female  disloyal Customer   37  Business travel   \n",
       "\n",
       "           Class  Flight_Distance  Seat_comfort  \\\n",
       "65072   Business             1898             0   \n",
       "70740   Business             1361             2   \n",
       "50250        Eco             1608             2   \n",
       "123655       Eco             3145             5   \n",
       "113976  Business             2033             3   \n",
       "...          ...              ...           ...   \n",
       "45380   Eco Plus             2275             2   \n",
       "71392        Eco             1917             2   \n",
       "29154        Eco             1548             3   \n",
       "26264        Eco             1755             3   \n",
       "47237   Business             1183             2   \n",
       "\n",
       "        Departure/Arrival_time_convenient  Food_and_drink  ...  \\\n",
       "65072                                   4               0  ...   \n",
       "70740                                   2               2  ...   \n",
       "50250                                   4               2  ...   \n",
       "123655                                  1               1  ...   \n",
       "113976                                  3               3  ...   \n",
       "...                                   ...             ...  ...   \n",
       "45380                                   1               1  ...   \n",
       "71392                                   4               3  ...   \n",
       "29154                                   5               3  ...   \n",
       "26264                                   3               3  ...   \n",
       "47237                                   2               2  ...   \n",
       "\n",
       "        Ease_of_Online_booking  On_board_service  Leg_room_service  \\\n",
       "65072                        3                 5                 3   \n",
       "70740                        2                 5                 3   \n",
       "50250                        4                 4                 4   \n",
       "123655                       5                 1                 3   \n",
       "113976                       5                 5                 5   \n",
       "...                        ...               ...               ...   \n",
       "45380                        2                 3                 5   \n",
       "71392                        2                 2                 2   \n",
       "29154                        1                 4                 4   \n",
       "26264                        5                 5                 5   \n",
       "47237                        3                 1                 2   \n",
       "\n",
       "        Baggage_handling  Checkin_service  Cleanliness  Online_boarding  \\\n",
       "65072                  2                1            4                1   \n",
       "70740                  4                5            5                2   \n",
       "50250                  4                4            4                4   \n",
       "123655                 1                1            4                5   \n",
       "113976                 5                3            5                5   \n",
       "...                  ...              ...          ...              ...   \n",
       "45380                  3                3            3                2   \n",
       "71392                  2                1            2                1   \n",
       "29154                  4                5            5                1   \n",
       "26264                  5                5            5                5   \n",
       "47237                  4                3            3                3   \n",
       "\n",
       "        Departure_Delay_in_Minutes  Arrival_Delay_in_Minutes  Age_cat  \n",
       "65072                          142                     148.0    27-57  \n",
       "70740                           18                       7.0    27-57  \n",
       "50250                            0                      13.0     7-27  \n",
       "123655                          21                      11.0    27-57  \n",
       "113976                          10                       6.0    27-57  \n",
       "...                            ...                       ...      ...  \n",
       "45380                            0                       0.0    27-57  \n",
       "71392                            5                       0.0    27-57  \n",
       "29154                            0                       0.0    57-77  \n",
       "26264                            0                       0.0    27-57  \n",
       "47237                           25                      20.0    27-57  \n",
       "\n",
       "[103904 rows x 24 columns]"
      ]
     },
     "execution_count": 49,
     "metadata": {},
     "output_type": "execute_result"
    }
   ],
   "source": [
    "strat_train_set"
   ]
  },
  {
   "cell_type": "code",
   "execution_count": 50,
   "id": "88cf08f4",
   "metadata": {
    "scrolled": true
   },
   "outputs": [
    {
     "name": "stderr",
     "output_type": "stream",
     "text": [
      "C:\\Users\\Taichi\\anaconda3\\envs\\my-env-name\\lib\\site-packages\\pandas\\core\\frame.py:4169: SettingWithCopyWarning: \n",
      "A value is trying to be set on a copy of a slice from a DataFrame\n",
      "\n",
      "See the caveats in the documentation: https://pandas.pydata.org/pandas-docs/stable/user_guide/indexing.html#returning-a-view-versus-a-copy\n",
      "  errors=errors,\n"
     ]
    }
   ],
   "source": [
    "strat_train_set.drop('Age_cat', axis= 1,inplace= True)\n",
    "strat_dev_set.drop('Age_cat', axis= 1,inplace= True)\n",
    "strat_test_set.drop('Age_cat', axis= 1,inplace= True)"
   ]
  },
  {
   "cell_type": "code",
   "execution_count": 51,
   "id": "147e1e7c",
   "metadata": {},
   "outputs": [
    {
     "data": {
      "text/html": [
       "<div>\n",
       "<style scoped>\n",
       "    .dataframe tbody tr th:only-of-type {\n",
       "        vertical-align: middle;\n",
       "    }\n",
       "\n",
       "    .dataframe tbody tr th {\n",
       "        vertical-align: top;\n",
       "    }\n",
       "\n",
       "    .dataframe thead th {\n",
       "        text-align: right;\n",
       "    }\n",
       "</style>\n",
       "<table border=\"1\" class=\"dataframe\">\n",
       "  <thead>\n",
       "    <tr style=\"text-align: right;\">\n",
       "      <th></th>\n",
       "      <th>satisfaction</th>\n",
       "      <th>Gender</th>\n",
       "      <th>Customer_Type</th>\n",
       "      <th>Age</th>\n",
       "      <th>Type_of_Travel</th>\n",
       "      <th>Class</th>\n",
       "      <th>Flight_Distance</th>\n",
       "      <th>Seat_comfort</th>\n",
       "      <th>Departure/Arrival_time_convenient</th>\n",
       "      <th>Food_and_drink</th>\n",
       "      <th>...</th>\n",
       "      <th>Online_support</th>\n",
       "      <th>Ease_of_Online_booking</th>\n",
       "      <th>On_board_service</th>\n",
       "      <th>Leg_room_service</th>\n",
       "      <th>Baggage_handling</th>\n",
       "      <th>Checkin_service</th>\n",
       "      <th>Cleanliness</th>\n",
       "      <th>Online_boarding</th>\n",
       "      <th>Departure_Delay_in_Minutes</th>\n",
       "      <th>Arrival_Delay_in_Minutes</th>\n",
       "    </tr>\n",
       "  </thead>\n",
       "  <tbody>\n",
       "    <tr>\n",
       "      <th>65072</th>\n",
       "      <td>1</td>\n",
       "      <td>Male</td>\n",
       "      <td>Loyal Customer</td>\n",
       "      <td>43</td>\n",
       "      <td>Business travel</td>\n",
       "      <td>Business</td>\n",
       "      <td>1898</td>\n",
       "      <td>0</td>\n",
       "      <td>4</td>\n",
       "      <td>0</td>\n",
       "      <td>...</td>\n",
       "      <td>1</td>\n",
       "      <td>3</td>\n",
       "      <td>5</td>\n",
       "      <td>3</td>\n",
       "      <td>2</td>\n",
       "      <td>1</td>\n",
       "      <td>4</td>\n",
       "      <td>1</td>\n",
       "      <td>142</td>\n",
       "      <td>148.0</td>\n",
       "    </tr>\n",
       "    <tr>\n",
       "      <th>70740</th>\n",
       "      <td>1</td>\n",
       "      <td>Male</td>\n",
       "      <td>Loyal Customer</td>\n",
       "      <td>28</td>\n",
       "      <td>Business travel</td>\n",
       "      <td>Business</td>\n",
       "      <td>1361</td>\n",
       "      <td>2</td>\n",
       "      <td>2</td>\n",
       "      <td>2</td>\n",
       "      <td>...</td>\n",
       "      <td>2</td>\n",
       "      <td>2</td>\n",
       "      <td>5</td>\n",
       "      <td>3</td>\n",
       "      <td>4</td>\n",
       "      <td>5</td>\n",
       "      <td>5</td>\n",
       "      <td>2</td>\n",
       "      <td>18</td>\n",
       "      <td>7.0</td>\n",
       "    </tr>\n",
       "    <tr>\n",
       "      <th>50250</th>\n",
       "      <td>0</td>\n",
       "      <td>Female</td>\n",
       "      <td>disloyal Customer</td>\n",
       "      <td>20</td>\n",
       "      <td>Business travel</td>\n",
       "      <td>Eco</td>\n",
       "      <td>1608</td>\n",
       "      <td>2</td>\n",
       "      <td>4</td>\n",
       "      <td>2</td>\n",
       "      <td>...</td>\n",
       "      <td>4</td>\n",
       "      <td>4</td>\n",
       "      <td>4</td>\n",
       "      <td>4</td>\n",
       "      <td>4</td>\n",
       "      <td>4</td>\n",
       "      <td>4</td>\n",
       "      <td>4</td>\n",
       "      <td>0</td>\n",
       "      <td>13.0</td>\n",
       "    </tr>\n",
       "    <tr>\n",
       "      <th>123655</th>\n",
       "      <td>1</td>\n",
       "      <td>Male</td>\n",
       "      <td>Loyal Customer</td>\n",
       "      <td>35</td>\n",
       "      <td>Business travel</td>\n",
       "      <td>Eco</td>\n",
       "      <td>3145</td>\n",
       "      <td>5</td>\n",
       "      <td>1</td>\n",
       "      <td>1</td>\n",
       "      <td>...</td>\n",
       "      <td>5</td>\n",
       "      <td>5</td>\n",
       "      <td>1</td>\n",
       "      <td>3</td>\n",
       "      <td>1</td>\n",
       "      <td>1</td>\n",
       "      <td>4</td>\n",
       "      <td>5</td>\n",
       "      <td>21</td>\n",
       "      <td>11.0</td>\n",
       "    </tr>\n",
       "    <tr>\n",
       "      <th>113976</th>\n",
       "      <td>1</td>\n",
       "      <td>Female</td>\n",
       "      <td>Loyal Customer</td>\n",
       "      <td>57</td>\n",
       "      <td>Business travel</td>\n",
       "      <td>Business</td>\n",
       "      <td>2033</td>\n",
       "      <td>3</td>\n",
       "      <td>3</td>\n",
       "      <td>3</td>\n",
       "      <td>...</td>\n",
       "      <td>4</td>\n",
       "      <td>5</td>\n",
       "      <td>5</td>\n",
       "      <td>5</td>\n",
       "      <td>5</td>\n",
       "      <td>3</td>\n",
       "      <td>5</td>\n",
       "      <td>5</td>\n",
       "      <td>10</td>\n",
       "      <td>6.0</td>\n",
       "    </tr>\n",
       "    <tr>\n",
       "      <th>...</th>\n",
       "      <td>...</td>\n",
       "      <td>...</td>\n",
       "      <td>...</td>\n",
       "      <td>...</td>\n",
       "      <td>...</td>\n",
       "      <td>...</td>\n",
       "      <td>...</td>\n",
       "      <td>...</td>\n",
       "      <td>...</td>\n",
       "      <td>...</td>\n",
       "      <td>...</td>\n",
       "      <td>...</td>\n",
       "      <td>...</td>\n",
       "      <td>...</td>\n",
       "      <td>...</td>\n",
       "      <td>...</td>\n",
       "      <td>...</td>\n",
       "      <td>...</td>\n",
       "      <td>...</td>\n",
       "      <td>...</td>\n",
       "      <td>...</td>\n",
       "    </tr>\n",
       "    <tr>\n",
       "      <th>45380</th>\n",
       "      <td>0</td>\n",
       "      <td>Female</td>\n",
       "      <td>disloyal Customer</td>\n",
       "      <td>38</td>\n",
       "      <td>Business travel</td>\n",
       "      <td>Eco Plus</td>\n",
       "      <td>2275</td>\n",
       "      <td>2</td>\n",
       "      <td>1</td>\n",
       "      <td>1</td>\n",
       "      <td>...</td>\n",
       "      <td>5</td>\n",
       "      <td>2</td>\n",
       "      <td>3</td>\n",
       "      <td>5</td>\n",
       "      <td>3</td>\n",
       "      <td>3</td>\n",
       "      <td>3</td>\n",
       "      <td>2</td>\n",
       "      <td>0</td>\n",
       "      <td>0.0</td>\n",
       "    </tr>\n",
       "    <tr>\n",
       "      <th>71392</th>\n",
       "      <td>1</td>\n",
       "      <td>Female</td>\n",
       "      <td>Loyal Customer</td>\n",
       "      <td>48</td>\n",
       "      <td>Business travel</td>\n",
       "      <td>Eco</td>\n",
       "      <td>1917</td>\n",
       "      <td>2</td>\n",
       "      <td>4</td>\n",
       "      <td>3</td>\n",
       "      <td>...</td>\n",
       "      <td>2</td>\n",
       "      <td>2</td>\n",
       "      <td>2</td>\n",
       "      <td>2</td>\n",
       "      <td>2</td>\n",
       "      <td>1</td>\n",
       "      <td>2</td>\n",
       "      <td>1</td>\n",
       "      <td>5</td>\n",
       "      <td>0.0</td>\n",
       "    </tr>\n",
       "    <tr>\n",
       "      <th>29154</th>\n",
       "      <td>0</td>\n",
       "      <td>Male</td>\n",
       "      <td>Loyal Customer</td>\n",
       "      <td>63</td>\n",
       "      <td>Personal Travel</td>\n",
       "      <td>Eco</td>\n",
       "      <td>1548</td>\n",
       "      <td>3</td>\n",
       "      <td>5</td>\n",
       "      <td>3</td>\n",
       "      <td>...</td>\n",
       "      <td>1</td>\n",
       "      <td>1</td>\n",
       "      <td>4</td>\n",
       "      <td>4</td>\n",
       "      <td>4</td>\n",
       "      <td>5</td>\n",
       "      <td>5</td>\n",
       "      <td>1</td>\n",
       "      <td>0</td>\n",
       "      <td>0.0</td>\n",
       "    </tr>\n",
       "    <tr>\n",
       "      <th>26264</th>\n",
       "      <td>1</td>\n",
       "      <td>Female</td>\n",
       "      <td>Loyal Customer</td>\n",
       "      <td>38</td>\n",
       "      <td>Personal Travel</td>\n",
       "      <td>Eco</td>\n",
       "      <td>1755</td>\n",
       "      <td>3</td>\n",
       "      <td>3</td>\n",
       "      <td>3</td>\n",
       "      <td>...</td>\n",
       "      <td>5</td>\n",
       "      <td>5</td>\n",
       "      <td>5</td>\n",
       "      <td>5</td>\n",
       "      <td>5</td>\n",
       "      <td>5</td>\n",
       "      <td>5</td>\n",
       "      <td>5</td>\n",
       "      <td>0</td>\n",
       "      <td>0.0</td>\n",
       "    </tr>\n",
       "    <tr>\n",
       "      <th>47237</th>\n",
       "      <td>0</td>\n",
       "      <td>Female</td>\n",
       "      <td>disloyal Customer</td>\n",
       "      <td>37</td>\n",
       "      <td>Business travel</td>\n",
       "      <td>Business</td>\n",
       "      <td>1183</td>\n",
       "      <td>2</td>\n",
       "      <td>2</td>\n",
       "      <td>2</td>\n",
       "      <td>...</td>\n",
       "      <td>4</td>\n",
       "      <td>3</td>\n",
       "      <td>1</td>\n",
       "      <td>2</td>\n",
       "      <td>4</td>\n",
       "      <td>3</td>\n",
       "      <td>3</td>\n",
       "      <td>3</td>\n",
       "      <td>25</td>\n",
       "      <td>20.0</td>\n",
       "    </tr>\n",
       "  </tbody>\n",
       "</table>\n",
       "<p>103904 rows × 23 columns</p>\n",
       "</div>"
      ],
      "text/plain": [
       "        satisfaction  Gender      Customer_Type  Age   Type_of_Travel  \\\n",
       "65072              1    Male     Loyal Customer   43  Business travel   \n",
       "70740              1    Male     Loyal Customer   28  Business travel   \n",
       "50250              0  Female  disloyal Customer   20  Business travel   \n",
       "123655             1    Male     Loyal Customer   35  Business travel   \n",
       "113976             1  Female     Loyal Customer   57  Business travel   \n",
       "...              ...     ...                ...  ...              ...   \n",
       "45380              0  Female  disloyal Customer   38  Business travel   \n",
       "71392              1  Female     Loyal Customer   48  Business travel   \n",
       "29154              0    Male     Loyal Customer   63  Personal Travel   \n",
       "26264              1  Female     Loyal Customer   38  Personal Travel   \n",
       "47237              0  Female  disloyal Customer   37  Business travel   \n",
       "\n",
       "           Class  Flight_Distance  Seat_comfort  \\\n",
       "65072   Business             1898             0   \n",
       "70740   Business             1361             2   \n",
       "50250        Eco             1608             2   \n",
       "123655       Eco             3145             5   \n",
       "113976  Business             2033             3   \n",
       "...          ...              ...           ...   \n",
       "45380   Eco Plus             2275             2   \n",
       "71392        Eco             1917             2   \n",
       "29154        Eco             1548             3   \n",
       "26264        Eco             1755             3   \n",
       "47237   Business             1183             2   \n",
       "\n",
       "        Departure/Arrival_time_convenient  Food_and_drink  ...  \\\n",
       "65072                                   4               0  ...   \n",
       "70740                                   2               2  ...   \n",
       "50250                                   4               2  ...   \n",
       "123655                                  1               1  ...   \n",
       "113976                                  3               3  ...   \n",
       "...                                   ...             ...  ...   \n",
       "45380                                   1               1  ...   \n",
       "71392                                   4               3  ...   \n",
       "29154                                   5               3  ...   \n",
       "26264                                   3               3  ...   \n",
       "47237                                   2               2  ...   \n",
       "\n",
       "        Online_support  Ease_of_Online_booking  On_board_service  \\\n",
       "65072                1                       3                 5   \n",
       "70740                2                       2                 5   \n",
       "50250                4                       4                 4   \n",
       "123655               5                       5                 1   \n",
       "113976               4                       5                 5   \n",
       "...                ...                     ...               ...   \n",
       "45380                5                       2                 3   \n",
       "71392                2                       2                 2   \n",
       "29154                1                       1                 4   \n",
       "26264                5                       5                 5   \n",
       "47237                4                       3                 1   \n",
       "\n",
       "        Leg_room_service  Baggage_handling  Checkin_service  Cleanliness  \\\n",
       "65072                  3                 2                1            4   \n",
       "70740                  3                 4                5            5   \n",
       "50250                  4                 4                4            4   \n",
       "123655                 3                 1                1            4   \n",
       "113976                 5                 5                3            5   \n",
       "...                  ...               ...              ...          ...   \n",
       "45380                  5                 3                3            3   \n",
       "71392                  2                 2                1            2   \n",
       "29154                  4                 4                5            5   \n",
       "26264                  5                 5                5            5   \n",
       "47237                  2                 4                3            3   \n",
       "\n",
       "        Online_boarding  Departure_Delay_in_Minutes  Arrival_Delay_in_Minutes  \n",
       "65072                 1                         142                     148.0  \n",
       "70740                 2                          18                       7.0  \n",
       "50250                 4                           0                      13.0  \n",
       "123655                5                          21                      11.0  \n",
       "113976                5                          10                       6.0  \n",
       "...                 ...                         ...                       ...  \n",
       "45380                 2                           0                       0.0  \n",
       "71392                 1                           5                       0.0  \n",
       "29154                 1                           0                       0.0  \n",
       "26264                 5                           0                       0.0  \n",
       "47237                 3                          25                      20.0  \n",
       "\n",
       "[103904 rows x 23 columns]"
      ]
     },
     "execution_count": 51,
     "metadata": {},
     "output_type": "execute_result"
    }
   ],
   "source": [
    "strat_train_set"
   ]
  },
  {
   "cell_type": "markdown",
   "id": "f2c07b6f",
   "metadata": {
    "id": "86342136"
   },
   "source": [
    "##### Split label"
   ]
  },
  {
   "cell_type": "code",
   "execution_count": 52,
   "id": "2ccdc994",
   "metadata": {
    "id": "83946ccc"
   },
   "outputs": [],
   "source": [
    "# For train set\n",
    "y_train = strat_train_set['satisfaction']\n",
    "X_train = strat_train_set.drop(\"satisfaction\",axis =1 )"
   ]
  },
  {
   "cell_type": "code",
   "execution_count": 53,
   "id": "03715b9e",
   "metadata": {
    "id": "7ff6388f"
   },
   "outputs": [],
   "source": [
    "#For dev set\n",
    "y_dev = strat_dev_set['satisfaction']\n",
    "X_dev = strat_dev_set.drop(\"satisfaction\",axis = 1)"
   ]
  },
  {
   "cell_type": "code",
   "execution_count": 54,
   "id": "9b11e6d3",
   "metadata": {
    "id": "RpcI9szcpcT1"
   },
   "outputs": [],
   "source": [
    "#For test set\n",
    "y_test = strat_test_set['satisfaction']\n",
    "X_test = strat_test_set.drop(\"satisfaction\",axis = 1)"
   ]
  },
  {
   "cell_type": "markdown",
   "id": "9aab7b3c",
   "metadata": {
    "id": "88e37239"
   },
   "source": [
    "##### Feature selection"
   ]
  },
  {
   "cell_type": "code",
   "execution_count": null,
   "id": "8b5df020",
   "metadata": {
    "id": "48cb08ae"
   },
   "outputs": [],
   "source": []
  },
  {
   "cell_type": "markdown",
   "id": "bbf9249c",
   "metadata": {
    "id": "acc462b9"
   },
   "source": [
    "##### Build Pipeline to Preprocessing"
   ]
  },
  {
   "cell_type": "code",
   "execution_count": null,
   "id": "6f10f282",
   "metadata": {
    "id": "66b5d51b"
   },
   "outputs": [],
   "source": []
  },
  {
   "cell_type": "code",
   "execution_count": 55,
   "id": "cdced5df",
   "metadata": {
    "id": "5b977b34"
   },
   "outputs": [],
   "source": [
    "#split numberic columns and categorical columns to preprocessing \n",
    "col_cat = X_train.columns[X_train.dtypes==object]\n",
    "col_num = X_train.columns[X_train.dtypes!=object]"
   ]
  },
  {
   "cell_type": "code",
   "execution_count": 56,
   "id": "9331f45c",
   "metadata": {},
   "outputs": [
    {
     "data": {
      "text/plain": [
       "Index(['Gender', 'Customer_Type', 'Type_of_Travel', 'Class'], dtype='object')"
      ]
     },
     "execution_count": 56,
     "metadata": {},
     "output_type": "execute_result"
    }
   ],
   "source": [
    "col_cat"
   ]
  },
  {
   "cell_type": "code",
   "execution_count": 57,
   "id": "5203b603",
   "metadata": {
    "colab": {
     "base_uri": "https://localhost:8080/"
    },
    "id": "3729a5d2",
    "outputId": "7cd54434-80d8-46b8-f872-4e9a231922b8"
   },
   "outputs": [
    {
     "data": {
      "text/plain": [
       "Index(['Age', 'Flight_Distance', 'Seat_comfort',\n",
       "       'Departure/Arrival_time_convenient', 'Food_and_drink', 'Gate_location',\n",
       "       'Inflight_wifi_service', 'Inflight_entertainment', 'Online_support',\n",
       "       'Ease_of_Online_booking', 'On_board_service', 'Leg_room_service',\n",
       "       'Baggage_handling', 'Checkin_service', 'Cleanliness', 'Online_boarding',\n",
       "       'Departure_Delay_in_Minutes', 'Arrival_Delay_in_Minutes'],\n",
       "      dtype='object')"
      ]
     },
     "execution_count": 57,
     "metadata": {},
     "output_type": "execute_result"
    }
   ],
   "source": [
    "col_num"
   ]
  },
  {
   "cell_type": "markdown",
   "id": "f8bae30b",
   "metadata": {
    "id": "eb9d12f2"
   },
   "source": [
    "##### detect and remove ouliers"
   ]
  },
  {
   "cell_type": "code",
   "execution_count": 50,
   "id": "f542daa7",
   "metadata": {
    "colab": {
     "base_uri": "https://localhost:8080/"
    },
    "id": "5b5e3c2a",
    "outputId": "4998810d-9f54-47fc-8132-5c464d81127b"
   },
   "outputs": [
    {
     "data": {
      "text/plain": [
       "Flight_Distance               1179.0\n",
       "Seat_comfort                     2.0\n",
       "Food_and_drink                   2.0\n",
       "Inflight_wifi_service            2.0\n",
       "Inflight_entertainment           2.0\n",
       "Online_support                   2.0\n",
       "Ease_of_Online_booking           3.0\n",
       "On_board_service                 1.0\n",
       "Leg_room_service                 3.0\n",
       "Baggage_handling                 2.0\n",
       "Checkin_service                  1.0\n",
       "Cleanliness                      2.0\n",
       "Online_boarding                  2.0\n",
       "Departure_Delay_in_Minutes      12.0\n",
       "dtype: float64"
      ]
     },
     "execution_count": 50,
     "metadata": {},
     "output_type": "execute_result"
    }
   ],
   "source": [
    "Q1 = X_train.quantile(0.25)\n",
    "Q3 = X_train.quantile(0.75)\n",
    "IQR = Q3-Q1\n",
    "IQR"
   ]
  },
  {
   "cell_type": "code",
   "execution_count": 51,
   "id": "dfe99548",
   "metadata": {
    "id": "f5c238c3"
   },
   "outputs": [],
   "source": [
    "#strat_train_set = strat_train_set[~((data_train_num < Q1-1.5*IQR)|(data_train_num > Q3+1.5*IQR)).any(axis = 1)]"
   ]
  },
  {
   "cell_type": "markdown",
   "id": "7f3eada4",
   "metadata": {
    "id": "0adbbed3"
   },
   "source": [
    "#####  Pipeline handle numeric"
   ]
  },
  {
   "cell_type": "code",
   "execution_count": 58,
   "id": "1e9ba05e",
   "metadata": {
    "id": "b0ec7ef3"
   },
   "outputs": [],
   "source": [
    "#pipeline handle missing values and scaling feature\n",
    "num_pipeline = Pipeline([\n",
    " ('imputer', SimpleImputer(strategy=\"mean\")),\n",
    " ('std_scaler', MinMaxScaler()),\n",
    " ])\n",
    " "
   ]
  },
  {
   "cell_type": "markdown",
   "id": "105eae11",
   "metadata": {
    "id": "7c92cfa1"
   },
   "source": [
    "##### Pipeline handle Numeric & categorical"
   ]
  },
  {
   "cell_type": "code",
   "execution_count": 59,
   "id": "fc28ce55",
   "metadata": {
    "id": "4fae2db5"
   },
   "outputs": [],
   "source": [
    "# full pipeline handle categorical columns and numberic columns\n",
    "\n",
    "full_pipeline = ColumnTransformer([\n",
    " (\"num\", num_pipeline, col_num),\n",
    " (\"cat\",OrdinalEncoder(), col_cat),\n",
    " ])"
   ]
  },
  {
   "cell_type": "code",
   "execution_count": 60,
   "id": "f496fe0d",
   "metadata": {
    "id": "9a02d2fe"
   },
   "outputs": [],
   "source": [
    "full_col_name = list(col_num)+list(col_cat)"
   ]
  },
  {
   "cell_type": "code",
   "execution_count": 61,
   "id": "74720c9c",
   "metadata": {
    "id": "0b577a9d"
   },
   "outputs": [],
   "source": [
    "#Use pipeline preprocessing for X_train\n",
    "full_pipeline.fit(X_train)\n",
    "X_train= full_pipeline.transform(X_train)\n",
    "\n",
    "X_train =pd.DataFrame(X_train,columns=full_col_name)"
   ]
  },
  {
   "cell_type": "code",
   "execution_count": 62,
   "id": "4b7b2324",
   "metadata": {
    "id": "eb71754b"
   },
   "outputs": [],
   "source": [
    "#Use pipeline preprocessing for X_test)\n",
    "X_dev = full_pipeline.transform(X_dev)\n",
    "X_test = full_pipeline.transform(X_test)\n",
    "X_test = pd.DataFrame(X_test,columns=full_col_name)\n",
    "X_dev = pd.DataFrame(X_dev,columns=full_col_name)"
   ]
  },
  {
   "cell_type": "code",
   "execution_count": 63,
   "id": "f397a5f8",
   "metadata": {
    "colab": {
     "base_uri": "https://localhost:8080/",
     "height": 0
    },
    "id": "0e9ed8a4",
    "outputId": "22badf65-0a81-4a93-d118-5e560a27a718"
   },
   "outputs": [
    {
     "data": {
      "text/html": [
       "<div>\n",
       "<style scoped>\n",
       "    .dataframe tbody tr th:only-of-type {\n",
       "        vertical-align: middle;\n",
       "    }\n",
       "\n",
       "    .dataframe tbody tr th {\n",
       "        vertical-align: top;\n",
       "    }\n",
       "\n",
       "    .dataframe thead th {\n",
       "        text-align: right;\n",
       "    }\n",
       "</style>\n",
       "<table border=\"1\" class=\"dataframe\">\n",
       "  <thead>\n",
       "    <tr style=\"text-align: right;\">\n",
       "      <th></th>\n",
       "      <th>Age</th>\n",
       "      <th>Flight_Distance</th>\n",
       "      <th>Seat_comfort</th>\n",
       "      <th>Departure/Arrival_time_convenient</th>\n",
       "      <th>Food_and_drink</th>\n",
       "      <th>Gate_location</th>\n",
       "      <th>Inflight_wifi_service</th>\n",
       "      <th>Inflight_entertainment</th>\n",
       "      <th>Online_support</th>\n",
       "      <th>Ease_of_Online_booking</th>\n",
       "      <th>...</th>\n",
       "      <th>Baggage_handling</th>\n",
       "      <th>Checkin_service</th>\n",
       "      <th>Cleanliness</th>\n",
       "      <th>Online_boarding</th>\n",
       "      <th>Departure_Delay_in_Minutes</th>\n",
       "      <th>Arrival_Delay_in_Minutes</th>\n",
       "      <th>Gender</th>\n",
       "      <th>Customer_Type</th>\n",
       "      <th>Type_of_Travel</th>\n",
       "      <th>Class</th>\n",
       "    </tr>\n",
       "  </thead>\n",
       "  <tbody>\n",
       "    <tr>\n",
       "      <th>0</th>\n",
       "      <td>0.397436</td>\n",
       "      <td>0.182437</td>\n",
       "      <td>0.2</td>\n",
       "      <td>0.4</td>\n",
       "      <td>0.4</td>\n",
       "      <td>0.8</td>\n",
       "      <td>0.2</td>\n",
       "      <td>0.4</td>\n",
       "      <td>0.2</td>\n",
       "      <td>0.2</td>\n",
       "      <td>...</td>\n",
       "      <td>0.75</td>\n",
       "      <td>0.4</td>\n",
       "      <td>0.6</td>\n",
       "      <td>0.2</td>\n",
       "      <td>0.000000</td>\n",
       "      <td>0.000000</td>\n",
       "      <td>1.0</td>\n",
       "      <td>1.0</td>\n",
       "      <td>0.0</td>\n",
       "      <td>0.0</td>\n",
       "    </tr>\n",
       "    <tr>\n",
       "      <th>1</th>\n",
       "      <td>0.358974</td>\n",
       "      <td>0.371975</td>\n",
       "      <td>0.2</td>\n",
       "      <td>0.2</td>\n",
       "      <td>0.2</td>\n",
       "      <td>0.2</td>\n",
       "      <td>1.0</td>\n",
       "      <td>0.4</td>\n",
       "      <td>0.8</td>\n",
       "      <td>1.0</td>\n",
       "      <td>...</td>\n",
       "      <td>0.50</td>\n",
       "      <td>0.6</td>\n",
       "      <td>1.0</td>\n",
       "      <td>1.0</td>\n",
       "      <td>0.000628</td>\n",
       "      <td>0.000000</td>\n",
       "      <td>1.0</td>\n",
       "      <td>0.0</td>\n",
       "      <td>0.0</td>\n",
       "      <td>0.0</td>\n",
       "    </tr>\n",
       "    <tr>\n",
       "      <th>2</th>\n",
       "      <td>0.705128</td>\n",
       "      <td>0.098826</td>\n",
       "      <td>0.6</td>\n",
       "      <td>1.0</td>\n",
       "      <td>1.0</td>\n",
       "      <td>1.0</td>\n",
       "      <td>0.6</td>\n",
       "      <td>0.4</td>\n",
       "      <td>0.6</td>\n",
       "      <td>0.6</td>\n",
       "      <td>...</td>\n",
       "      <td>0.50</td>\n",
       "      <td>0.4</td>\n",
       "      <td>0.6</td>\n",
       "      <td>0.2</td>\n",
       "      <td>0.034548</td>\n",
       "      <td>0.019571</td>\n",
       "      <td>0.0</td>\n",
       "      <td>0.0</td>\n",
       "      <td>0.0</td>\n",
       "      <td>0.0</td>\n",
       "    </tr>\n",
       "    <tr>\n",
       "      <th>3</th>\n",
       "      <td>0.512821</td>\n",
       "      <td>0.313723</td>\n",
       "      <td>0.4</td>\n",
       "      <td>0.4</td>\n",
       "      <td>0.4</td>\n",
       "      <td>0.4</td>\n",
       "      <td>0.6</td>\n",
       "      <td>0.6</td>\n",
       "      <td>0.2</td>\n",
       "      <td>0.8</td>\n",
       "      <td>...</td>\n",
       "      <td>0.75</td>\n",
       "      <td>0.2</td>\n",
       "      <td>0.8</td>\n",
       "      <td>0.2</td>\n",
       "      <td>0.000000</td>\n",
       "      <td>0.000000</td>\n",
       "      <td>1.0</td>\n",
       "      <td>0.0</td>\n",
       "      <td>0.0</td>\n",
       "      <td>0.0</td>\n",
       "    </tr>\n",
       "    <tr>\n",
       "      <th>4</th>\n",
       "      <td>0.256410</td>\n",
       "      <td>0.185915</td>\n",
       "      <td>0.8</td>\n",
       "      <td>0.6</td>\n",
       "      <td>0.6</td>\n",
       "      <td>0.6</td>\n",
       "      <td>0.8</td>\n",
       "      <td>0.8</td>\n",
       "      <td>0.8</td>\n",
       "      <td>0.8</td>\n",
       "      <td>...</td>\n",
       "      <td>0.25</td>\n",
       "      <td>1.0</td>\n",
       "      <td>0.4</td>\n",
       "      <td>0.8</td>\n",
       "      <td>0.001256</td>\n",
       "      <td>0.005682</td>\n",
       "      <td>0.0</td>\n",
       "      <td>0.0</td>\n",
       "      <td>1.0</td>\n",
       "      <td>1.0</td>\n",
       "    </tr>\n",
       "    <tr>\n",
       "      <th>...</th>\n",
       "      <td>...</td>\n",
       "      <td>...</td>\n",
       "      <td>...</td>\n",
       "      <td>...</td>\n",
       "      <td>...</td>\n",
       "      <td>...</td>\n",
       "      <td>...</td>\n",
       "      <td>...</td>\n",
       "      <td>...</td>\n",
       "      <td>...</td>\n",
       "      <td>...</td>\n",
       "      <td>...</td>\n",
       "      <td>...</td>\n",
       "      <td>...</td>\n",
       "      <td>...</td>\n",
       "      <td>...</td>\n",
       "      <td>...</td>\n",
       "      <td>...</td>\n",
       "      <td>...</td>\n",
       "      <td>...</td>\n",
       "      <td>...</td>\n",
       "    </tr>\n",
       "    <tr>\n",
       "      <th>12983</th>\n",
       "      <td>0.487179</td>\n",
       "      <td>0.099986</td>\n",
       "      <td>0.8</td>\n",
       "      <td>0.8</td>\n",
       "      <td>0.8</td>\n",
       "      <td>0.2</td>\n",
       "      <td>0.8</td>\n",
       "      <td>1.0</td>\n",
       "      <td>0.2</td>\n",
       "      <td>0.6</td>\n",
       "      <td>...</td>\n",
       "      <td>0.75</td>\n",
       "      <td>0.4</td>\n",
       "      <td>0.6</td>\n",
       "      <td>0.8</td>\n",
       "      <td>0.000000</td>\n",
       "      <td>0.000000</td>\n",
       "      <td>0.0</td>\n",
       "      <td>0.0</td>\n",
       "      <td>1.0</td>\n",
       "      <td>1.0</td>\n",
       "    </tr>\n",
       "    <tr>\n",
       "      <th>12984</th>\n",
       "      <td>0.692308</td>\n",
       "      <td>0.067961</td>\n",
       "      <td>0.6</td>\n",
       "      <td>0.6</td>\n",
       "      <td>0.6</td>\n",
       "      <td>0.6</td>\n",
       "      <td>0.6</td>\n",
       "      <td>0.8</td>\n",
       "      <td>0.8</td>\n",
       "      <td>0.6</td>\n",
       "      <td>...</td>\n",
       "      <td>0.50</td>\n",
       "      <td>0.6</td>\n",
       "      <td>0.6</td>\n",
       "      <td>0.6</td>\n",
       "      <td>0.002513</td>\n",
       "      <td>0.000000</td>\n",
       "      <td>0.0</td>\n",
       "      <td>0.0</td>\n",
       "      <td>1.0</td>\n",
       "      <td>1.0</td>\n",
       "    </tr>\n",
       "    <tr>\n",
       "      <th>12985</th>\n",
       "      <td>0.589744</td>\n",
       "      <td>0.041153</td>\n",
       "      <td>0.4</td>\n",
       "      <td>0.4</td>\n",
       "      <td>0.4</td>\n",
       "      <td>0.4</td>\n",
       "      <td>1.0</td>\n",
       "      <td>1.0</td>\n",
       "      <td>0.8</td>\n",
       "      <td>1.0</td>\n",
       "      <td>...</td>\n",
       "      <td>1.00</td>\n",
       "      <td>1.0</td>\n",
       "      <td>1.0</td>\n",
       "      <td>0.8</td>\n",
       "      <td>0.000628</td>\n",
       "      <td>0.000000</td>\n",
       "      <td>1.0</td>\n",
       "      <td>0.0</td>\n",
       "      <td>0.0</td>\n",
       "      <td>0.0</td>\n",
       "    </tr>\n",
       "    <tr>\n",
       "      <th>12986</th>\n",
       "      <td>0.525641</td>\n",
       "      <td>0.302130</td>\n",
       "      <td>0.4</td>\n",
       "      <td>0.4</td>\n",
       "      <td>0.4</td>\n",
       "      <td>0.4</td>\n",
       "      <td>0.6</td>\n",
       "      <td>1.0</td>\n",
       "      <td>1.0</td>\n",
       "      <td>0.8</td>\n",
       "      <td>...</td>\n",
       "      <td>0.75</td>\n",
       "      <td>0.6</td>\n",
       "      <td>0.8</td>\n",
       "      <td>1.0</td>\n",
       "      <td>0.000000</td>\n",
       "      <td>0.000000</td>\n",
       "      <td>0.0</td>\n",
       "      <td>0.0</td>\n",
       "      <td>0.0</td>\n",
       "      <td>0.0</td>\n",
       "    </tr>\n",
       "    <tr>\n",
       "      <th>12987</th>\n",
       "      <td>0.487179</td>\n",
       "      <td>0.099696</td>\n",
       "      <td>0.8</td>\n",
       "      <td>0.4</td>\n",
       "      <td>0.4</td>\n",
       "      <td>0.4</td>\n",
       "      <td>0.2</td>\n",
       "      <td>0.8</td>\n",
       "      <td>0.8</td>\n",
       "      <td>0.8</td>\n",
       "      <td>...</td>\n",
       "      <td>0.75</td>\n",
       "      <td>0.2</td>\n",
       "      <td>0.8</td>\n",
       "      <td>0.6</td>\n",
       "      <td>0.000000</td>\n",
       "      <td>0.003788</td>\n",
       "      <td>0.0</td>\n",
       "      <td>0.0</td>\n",
       "      <td>0.0</td>\n",
       "      <td>1.0</td>\n",
       "    </tr>\n",
       "  </tbody>\n",
       "</table>\n",
       "<p>12988 rows × 22 columns</p>\n",
       "</div>"
      ],
      "text/plain": [
       "            Age  Flight_Distance  Seat_comfort  \\\n",
       "0      0.397436         0.182437           0.2   \n",
       "1      0.358974         0.371975           0.2   \n",
       "2      0.705128         0.098826           0.6   \n",
       "3      0.512821         0.313723           0.4   \n",
       "4      0.256410         0.185915           0.8   \n",
       "...         ...              ...           ...   \n",
       "12983  0.487179         0.099986           0.8   \n",
       "12984  0.692308         0.067961           0.6   \n",
       "12985  0.589744         0.041153           0.4   \n",
       "12986  0.525641         0.302130           0.4   \n",
       "12987  0.487179         0.099696           0.8   \n",
       "\n",
       "       Departure/Arrival_time_convenient  Food_and_drink  Gate_location  \\\n",
       "0                                    0.4             0.4            0.8   \n",
       "1                                    0.2             0.2            0.2   \n",
       "2                                    1.0             1.0            1.0   \n",
       "3                                    0.4             0.4            0.4   \n",
       "4                                    0.6             0.6            0.6   \n",
       "...                                  ...             ...            ...   \n",
       "12983                                0.8             0.8            0.2   \n",
       "12984                                0.6             0.6            0.6   \n",
       "12985                                0.4             0.4            0.4   \n",
       "12986                                0.4             0.4            0.4   \n",
       "12987                                0.4             0.4            0.4   \n",
       "\n",
       "       Inflight_wifi_service  Inflight_entertainment  Online_support  \\\n",
       "0                        0.2                     0.4             0.2   \n",
       "1                        1.0                     0.4             0.8   \n",
       "2                        0.6                     0.4             0.6   \n",
       "3                        0.6                     0.6             0.2   \n",
       "4                        0.8                     0.8             0.8   \n",
       "...                      ...                     ...             ...   \n",
       "12983                    0.8                     1.0             0.2   \n",
       "12984                    0.6                     0.8             0.8   \n",
       "12985                    1.0                     1.0             0.8   \n",
       "12986                    0.6                     1.0             1.0   \n",
       "12987                    0.2                     0.8             0.8   \n",
       "\n",
       "       Ease_of_Online_booking  ...  Baggage_handling  Checkin_service  \\\n",
       "0                         0.2  ...              0.75              0.4   \n",
       "1                         1.0  ...              0.50              0.6   \n",
       "2                         0.6  ...              0.50              0.4   \n",
       "3                         0.8  ...              0.75              0.2   \n",
       "4                         0.8  ...              0.25              1.0   \n",
       "...                       ...  ...               ...              ...   \n",
       "12983                     0.6  ...              0.75              0.4   \n",
       "12984                     0.6  ...              0.50              0.6   \n",
       "12985                     1.0  ...              1.00              1.0   \n",
       "12986                     0.8  ...              0.75              0.6   \n",
       "12987                     0.8  ...              0.75              0.2   \n",
       "\n",
       "       Cleanliness  Online_boarding  Departure_Delay_in_Minutes  \\\n",
       "0              0.6              0.2                    0.000000   \n",
       "1              1.0              1.0                    0.000628   \n",
       "2              0.6              0.2                    0.034548   \n",
       "3              0.8              0.2                    0.000000   \n",
       "4              0.4              0.8                    0.001256   \n",
       "...            ...              ...                         ...   \n",
       "12983          0.6              0.8                    0.000000   \n",
       "12984          0.6              0.6                    0.002513   \n",
       "12985          1.0              0.8                    0.000628   \n",
       "12986          0.8              1.0                    0.000000   \n",
       "12987          0.8              0.6                    0.000000   \n",
       "\n",
       "       Arrival_Delay_in_Minutes  Gender  Customer_Type  Type_of_Travel  Class  \n",
       "0                      0.000000     1.0            1.0             0.0    0.0  \n",
       "1                      0.000000     1.0            0.0             0.0    0.0  \n",
       "2                      0.019571     0.0            0.0             0.0    0.0  \n",
       "3                      0.000000     1.0            0.0             0.0    0.0  \n",
       "4                      0.005682     0.0            0.0             1.0    1.0  \n",
       "...                         ...     ...            ...             ...    ...  \n",
       "12983                  0.000000     0.0            0.0             1.0    1.0  \n",
       "12984                  0.000000     0.0            0.0             1.0    1.0  \n",
       "12985                  0.000000     1.0            0.0             0.0    0.0  \n",
       "12986                  0.000000     0.0            0.0             0.0    0.0  \n",
       "12987                  0.003788     0.0            0.0             0.0    1.0  \n",
       "\n",
       "[12988 rows x 22 columns]"
      ]
     },
     "execution_count": 63,
     "metadata": {},
     "output_type": "execute_result"
    }
   ],
   "source": [
    "X_test"
   ]
  },
  {
   "cell_type": "code",
   "execution_count": 58,
   "id": "b34f0d5b",
   "metadata": {
    "colab": {
     "base_uri": "https://localhost:8080/",
     "height": 0
    },
    "id": "noDBU1__qDX0",
    "outputId": "903ffbbd-4a17-48d3-a282-20ea9ea8a143"
   },
   "outputs": [
    {
     "data": {
      "text/html": [
       "<div>\n",
       "<style scoped>\n",
       "    .dataframe tbody tr th:only-of-type {\n",
       "        vertical-align: middle;\n",
       "    }\n",
       "\n",
       "    .dataframe tbody tr th {\n",
       "        vertical-align: top;\n",
       "    }\n",
       "\n",
       "    .dataframe thead th {\n",
       "        text-align: right;\n",
       "    }\n",
       "</style>\n",
       "<table border=\"1\" class=\"dataframe\">\n",
       "  <thead>\n",
       "    <tr style=\"text-align: right;\">\n",
       "      <th></th>\n",
       "      <th>Flight_Distance</th>\n",
       "      <th>Seat_comfort</th>\n",
       "      <th>Food_and_drink</th>\n",
       "      <th>Inflight_wifi_service</th>\n",
       "      <th>Inflight_entertainment</th>\n",
       "      <th>Online_support</th>\n",
       "      <th>Ease_of_Online_booking</th>\n",
       "      <th>On_board_service</th>\n",
       "      <th>Leg_room_service</th>\n",
       "      <th>Baggage_handling</th>\n",
       "      <th>Checkin_service</th>\n",
       "      <th>Cleanliness</th>\n",
       "      <th>Online_boarding</th>\n",
       "      <th>Departure_Delay_in_Minutes</th>\n",
       "      <th>Gender</th>\n",
       "      <th>Customer_Type</th>\n",
       "      <th>Age</th>\n",
       "      <th>Type_of_Travel</th>\n",
       "      <th>Class</th>\n",
       "    </tr>\n",
       "  </thead>\n",
       "  <tbody>\n",
       "    <tr>\n",
       "      <th>0</th>\n",
       "      <td>0.110564</td>\n",
       "      <td>0.4</td>\n",
       "      <td>0.4</td>\n",
       "      <td>0.2</td>\n",
       "      <td>0.4</td>\n",
       "      <td>0.2</td>\n",
       "      <td>0.2</td>\n",
       "      <td>0.2</td>\n",
       "      <td>1.0</td>\n",
       "      <td>0.25</td>\n",
       "      <td>0.2</td>\n",
       "      <td>0.4</td>\n",
       "      <td>0.2</td>\n",
       "      <td>0.000000</td>\n",
       "      <td>0.0</td>\n",
       "      <td>1.0</td>\n",
       "      <td>2.0</td>\n",
       "      <td>0.0</td>\n",
       "      <td>1.0</td>\n",
       "    </tr>\n",
       "    <tr>\n",
       "      <th>1</th>\n",
       "      <td>0.141719</td>\n",
       "      <td>0.6</td>\n",
       "      <td>0.6</td>\n",
       "      <td>0.4</td>\n",
       "      <td>0.8</td>\n",
       "      <td>0.8</td>\n",
       "      <td>0.6</td>\n",
       "      <td>0.6</td>\n",
       "      <td>0.8</td>\n",
       "      <td>0.50</td>\n",
       "      <td>1.0</td>\n",
       "      <td>0.6</td>\n",
       "      <td>0.6</td>\n",
       "      <td>0.000000</td>\n",
       "      <td>1.0</td>\n",
       "      <td>0.0</td>\n",
       "      <td>0.0</td>\n",
       "      <td>0.0</td>\n",
       "      <td>0.0</td>\n",
       "    </tr>\n",
       "    <tr>\n",
       "      <th>2</th>\n",
       "      <td>0.358789</td>\n",
       "      <td>1.0</td>\n",
       "      <td>1.0</td>\n",
       "      <td>1.0</td>\n",
       "      <td>1.0</td>\n",
       "      <td>1.0</td>\n",
       "      <td>1.0</td>\n",
       "      <td>0.6</td>\n",
       "      <td>0.8</td>\n",
       "      <td>1.00</td>\n",
       "      <td>0.6</td>\n",
       "      <td>1.0</td>\n",
       "      <td>1.0</td>\n",
       "      <td>0.004397</td>\n",
       "      <td>1.0</td>\n",
       "      <td>0.0</td>\n",
       "      <td>0.0</td>\n",
       "      <td>0.0</td>\n",
       "      <td>0.0</td>\n",
       "    </tr>\n",
       "    <tr>\n",
       "      <th>3</th>\n",
       "      <td>0.474279</td>\n",
       "      <td>0.4</td>\n",
       "      <td>1.0</td>\n",
       "      <td>0.4</td>\n",
       "      <td>0.4</td>\n",
       "      <td>0.4</td>\n",
       "      <td>0.4</td>\n",
       "      <td>0.6</td>\n",
       "      <td>0.6</td>\n",
       "      <td>0.50</td>\n",
       "      <td>0.8</td>\n",
       "      <td>0.6</td>\n",
       "      <td>0.4</td>\n",
       "      <td>0.000000</td>\n",
       "      <td>0.0</td>\n",
       "      <td>0.0</td>\n",
       "      <td>2.0</td>\n",
       "      <td>0.0</td>\n",
       "      <td>0.0</td>\n",
       "    </tr>\n",
       "    <tr>\n",
       "      <th>4</th>\n",
       "      <td>0.087524</td>\n",
       "      <td>1.0</td>\n",
       "      <td>1.0</td>\n",
       "      <td>0.8</td>\n",
       "      <td>0.8</td>\n",
       "      <td>0.8</td>\n",
       "      <td>0.6</td>\n",
       "      <td>0.6</td>\n",
       "      <td>0.6</td>\n",
       "      <td>0.50</td>\n",
       "      <td>1.0</td>\n",
       "      <td>0.6</td>\n",
       "      <td>1.0</td>\n",
       "      <td>0.000000</td>\n",
       "      <td>1.0</td>\n",
       "      <td>0.0</td>\n",
       "      <td>0.0</td>\n",
       "      <td>0.0</td>\n",
       "      <td>0.0</td>\n",
       "    </tr>\n",
       "    <tr>\n",
       "      <th>...</th>\n",
       "      <td>...</td>\n",
       "      <td>...</td>\n",
       "      <td>...</td>\n",
       "      <td>...</td>\n",
       "      <td>...</td>\n",
       "      <td>...</td>\n",
       "      <td>...</td>\n",
       "      <td>...</td>\n",
       "      <td>...</td>\n",
       "      <td>...</td>\n",
       "      <td>...</td>\n",
       "      <td>...</td>\n",
       "      <td>...</td>\n",
       "      <td>...</td>\n",
       "      <td>...</td>\n",
       "      <td>...</td>\n",
       "      <td>...</td>\n",
       "      <td>...</td>\n",
       "      <td>...</td>\n",
       "    </tr>\n",
       "    <tr>\n",
       "      <th>12983</th>\n",
       "      <td>0.090277</td>\n",
       "      <td>0.6</td>\n",
       "      <td>1.0</td>\n",
       "      <td>0.4</td>\n",
       "      <td>1.0</td>\n",
       "      <td>1.0</td>\n",
       "      <td>1.0</td>\n",
       "      <td>1.0</td>\n",
       "      <td>0.8</td>\n",
       "      <td>1.00</td>\n",
       "      <td>0.8</td>\n",
       "      <td>1.0</td>\n",
       "      <td>0.6</td>\n",
       "      <td>0.016960</td>\n",
       "      <td>1.0</td>\n",
       "      <td>0.0</td>\n",
       "      <td>0.0</td>\n",
       "      <td>0.0</td>\n",
       "      <td>0.0</td>\n",
       "    </tr>\n",
       "    <tr>\n",
       "      <th>12984</th>\n",
       "      <td>0.289523</td>\n",
       "      <td>0.6</td>\n",
       "      <td>0.6</td>\n",
       "      <td>0.2</td>\n",
       "      <td>0.6</td>\n",
       "      <td>0.2</td>\n",
       "      <td>0.2</td>\n",
       "      <td>1.0</td>\n",
       "      <td>0.8</td>\n",
       "      <td>1.00</td>\n",
       "      <td>0.6</td>\n",
       "      <td>1.0</td>\n",
       "      <td>0.2</td>\n",
       "      <td>0.011307</td>\n",
       "      <td>1.0</td>\n",
       "      <td>0.0</td>\n",
       "      <td>2.0</td>\n",
       "      <td>1.0</td>\n",
       "      <td>1.0</td>\n",
       "    </tr>\n",
       "    <tr>\n",
       "      <th>12985</th>\n",
       "      <td>0.312998</td>\n",
       "      <td>1.0</td>\n",
       "      <td>1.0</td>\n",
       "      <td>0.4</td>\n",
       "      <td>0.4</td>\n",
       "      <td>0.4</td>\n",
       "      <td>0.4</td>\n",
       "      <td>0.6</td>\n",
       "      <td>0.4</td>\n",
       "      <td>0.75</td>\n",
       "      <td>0.6</td>\n",
       "      <td>1.0</td>\n",
       "      <td>0.4</td>\n",
       "      <td>0.003141</td>\n",
       "      <td>1.0</td>\n",
       "      <td>0.0</td>\n",
       "      <td>2.0</td>\n",
       "      <td>0.0</td>\n",
       "      <td>0.0</td>\n",
       "    </tr>\n",
       "    <tr>\n",
       "      <th>12986</th>\n",
       "      <td>0.027967</td>\n",
       "      <td>1.0</td>\n",
       "      <td>1.0</td>\n",
       "      <td>0.8</td>\n",
       "      <td>1.0</td>\n",
       "      <td>0.8</td>\n",
       "      <td>0.8</td>\n",
       "      <td>0.4</td>\n",
       "      <td>1.0</td>\n",
       "      <td>1.00</td>\n",
       "      <td>0.2</td>\n",
       "      <td>0.4</td>\n",
       "      <td>0.8</td>\n",
       "      <td>0.000000</td>\n",
       "      <td>0.0</td>\n",
       "      <td>0.0</td>\n",
       "      <td>0.0</td>\n",
       "      <td>1.0</td>\n",
       "      <td>1.0</td>\n",
       "    </tr>\n",
       "    <tr>\n",
       "      <th>12987</th>\n",
       "      <td>0.094189</td>\n",
       "      <td>1.0</td>\n",
       "      <td>0.2</td>\n",
       "      <td>1.0</td>\n",
       "      <td>0.4</td>\n",
       "      <td>0.2</td>\n",
       "      <td>0.8</td>\n",
       "      <td>0.8</td>\n",
       "      <td>1.0</td>\n",
       "      <td>0.75</td>\n",
       "      <td>1.0</td>\n",
       "      <td>0.8</td>\n",
       "      <td>0.8</td>\n",
       "      <td>0.000000</td>\n",
       "      <td>0.0</td>\n",
       "      <td>0.0</td>\n",
       "      <td>1.0</td>\n",
       "      <td>0.0</td>\n",
       "      <td>1.0</td>\n",
       "    </tr>\n",
       "  </tbody>\n",
       "</table>\n",
       "<p>12988 rows × 19 columns</p>\n",
       "</div>"
      ],
      "text/plain": [
       "       Flight_Distance  Seat_comfort  Food_and_drink  Inflight_wifi_service  \\\n",
       "0             0.110564           0.4             0.4                    0.2   \n",
       "1             0.141719           0.6             0.6                    0.4   \n",
       "2             0.358789           1.0             1.0                    1.0   \n",
       "3             0.474279           0.4             1.0                    0.4   \n",
       "4             0.087524           1.0             1.0                    0.8   \n",
       "...                ...           ...             ...                    ...   \n",
       "12983         0.090277           0.6             1.0                    0.4   \n",
       "12984         0.289523           0.6             0.6                    0.2   \n",
       "12985         0.312998           1.0             1.0                    0.4   \n",
       "12986         0.027967           1.0             1.0                    0.8   \n",
       "12987         0.094189           1.0             0.2                    1.0   \n",
       "\n",
       "       Inflight_entertainment  Online_support  Ease_of_Online_booking  \\\n",
       "0                         0.4             0.2                     0.2   \n",
       "1                         0.8             0.8                     0.6   \n",
       "2                         1.0             1.0                     1.0   \n",
       "3                         0.4             0.4                     0.4   \n",
       "4                         0.8             0.8                     0.6   \n",
       "...                       ...             ...                     ...   \n",
       "12983                     1.0             1.0                     1.0   \n",
       "12984                     0.6             0.2                     0.2   \n",
       "12985                     0.4             0.4                     0.4   \n",
       "12986                     1.0             0.8                     0.8   \n",
       "12987                     0.4             0.2                     0.8   \n",
       "\n",
       "       On_board_service  Leg_room_service  Baggage_handling  Checkin_service  \\\n",
       "0                   0.2               1.0              0.25              0.2   \n",
       "1                   0.6               0.8              0.50              1.0   \n",
       "2                   0.6               0.8              1.00              0.6   \n",
       "3                   0.6               0.6              0.50              0.8   \n",
       "4                   0.6               0.6              0.50              1.0   \n",
       "...                 ...               ...               ...              ...   \n",
       "12983               1.0               0.8              1.00              0.8   \n",
       "12984               1.0               0.8              1.00              0.6   \n",
       "12985               0.6               0.4              0.75              0.6   \n",
       "12986               0.4               1.0              1.00              0.2   \n",
       "12987               0.8               1.0              0.75              1.0   \n",
       "\n",
       "       Cleanliness  Online_boarding  Departure_Delay_in_Minutes  Gender  \\\n",
       "0              0.4              0.2                    0.000000     0.0   \n",
       "1              0.6              0.6                    0.000000     1.0   \n",
       "2              1.0              1.0                    0.004397     1.0   \n",
       "3              0.6              0.4                    0.000000     0.0   \n",
       "4              0.6              1.0                    0.000000     1.0   \n",
       "...            ...              ...                         ...     ...   \n",
       "12983          1.0              0.6                    0.016960     1.0   \n",
       "12984          1.0              0.2                    0.011307     1.0   \n",
       "12985          1.0              0.4                    0.003141     1.0   \n",
       "12986          0.4              0.8                    0.000000     0.0   \n",
       "12987          0.8              0.8                    0.000000     0.0   \n",
       "\n",
       "       Customer_Type  Age  Type_of_Travel  Class  \n",
       "0                1.0  2.0             0.0    1.0  \n",
       "1                0.0  0.0             0.0    0.0  \n",
       "2                0.0  0.0             0.0    0.0  \n",
       "3                0.0  2.0             0.0    0.0  \n",
       "4                0.0  0.0             0.0    0.0  \n",
       "...              ...  ...             ...    ...  \n",
       "12983            0.0  0.0             0.0    0.0  \n",
       "12984            0.0  2.0             1.0    1.0  \n",
       "12985            0.0  2.0             0.0    0.0  \n",
       "12986            0.0  0.0             1.0    1.0  \n",
       "12987            0.0  1.0             0.0    1.0  \n",
       "\n",
       "[12988 rows x 19 columns]"
      ]
     },
     "execution_count": 58,
     "metadata": {},
     "output_type": "execute_result"
    }
   ],
   "source": [
    "X_dev"
   ]
  },
  {
   "cell_type": "markdown",
   "id": "ee5fe5cf",
   "metadata": {
    "id": "3e09db1a"
   },
   "source": [
    "# IV. Select and Train a model"
   ]
  },
  {
   "cell_type": "markdown",
   "id": "c6aeef73",
   "metadata": {
    "id": "2e7381bf"
   },
   "source": [
    "#### Import library"
   ]
  },
  {
   "cell_type": "code",
   "execution_count": 64,
   "id": "aee34575",
   "metadata": {
    "id": "2a29a47a"
   },
   "outputs": [],
   "source": [
    "from sklearn.linear_model import LogisticRegression\n",
    "from sklearn.ensemble import RandomForestClassifier\n",
    "from sklearn.svm import SVC\n",
    "from sklearn.neighbors import KNeighborsClassifier\n",
    "from sklearn.model_selection import GridSearchCV\n",
    "\n",
    "from sklearn.metrics import classification_report\n",
    "from sklearn.metrics import confusion_matrix\n",
    "from sklearn.metrics import accuracy_score"
   ]
  },
  {
   "cell_type": "code",
   "execution_count": 60,
   "id": "fbb906e8",
   "metadata": {
    "id": "c40b151e"
   },
   "outputs": [],
   "source": [
    "import timeit"
   ]
  },
  {
   "cell_type": "markdown",
   "id": "a17543e9",
   "metadata": {
    "id": "849547e2"
   },
   "source": [
    "### prepare train, test set"
   ]
  },
  {
   "cell_type": "code",
   "execution_count": 61,
   "id": "2996e1ca",
   "metadata": {
    "colab": {
     "base_uri": "https://localhost:8080/",
     "height": 0
    },
    "id": "51ea56f8",
    "outputId": "1e4e2e88-cba4-4d97-923a-e40b15916b03"
   },
   "outputs": [
    {
     "data": {
      "text/html": [
       "<div>\n",
       "<style scoped>\n",
       "    .dataframe tbody tr th:only-of-type {\n",
       "        vertical-align: middle;\n",
       "    }\n",
       "\n",
       "    .dataframe tbody tr th {\n",
       "        vertical-align: top;\n",
       "    }\n",
       "\n",
       "    .dataframe thead th {\n",
       "        text-align: right;\n",
       "    }\n",
       "</style>\n",
       "<table border=\"1\" class=\"dataframe\">\n",
       "  <thead>\n",
       "    <tr style=\"text-align: right;\">\n",
       "      <th></th>\n",
       "      <th>Flight_Distance</th>\n",
       "      <th>Seat_comfort</th>\n",
       "      <th>Food_and_drink</th>\n",
       "      <th>Inflight_wifi_service</th>\n",
       "      <th>Inflight_entertainment</th>\n",
       "      <th>Online_support</th>\n",
       "      <th>Ease_of_Online_booking</th>\n",
       "      <th>On_board_service</th>\n",
       "      <th>Leg_room_service</th>\n",
       "      <th>Baggage_handling</th>\n",
       "      <th>Checkin_service</th>\n",
       "      <th>Cleanliness</th>\n",
       "      <th>Online_boarding</th>\n",
       "      <th>Departure_Delay_in_Minutes</th>\n",
       "      <th>Gender</th>\n",
       "      <th>Customer_Type</th>\n",
       "      <th>Age</th>\n",
       "      <th>Type_of_Travel</th>\n",
       "      <th>Class</th>\n",
       "    </tr>\n",
       "  </thead>\n",
       "  <tbody>\n",
       "    <tr>\n",
       "      <th>0</th>\n",
       "      <td>0.267787</td>\n",
       "      <td>0.0</td>\n",
       "      <td>0.0</td>\n",
       "      <td>0.2</td>\n",
       "      <td>0.2</td>\n",
       "      <td>0.2</td>\n",
       "      <td>0.6</td>\n",
       "      <td>1.0</td>\n",
       "      <td>0.6</td>\n",
       "      <td>0.25</td>\n",
       "      <td>0.2</td>\n",
       "      <td>0.8</td>\n",
       "      <td>0.2</td>\n",
       "      <td>0.089196</td>\n",
       "      <td>1.0</td>\n",
       "      <td>0.0</td>\n",
       "      <td>0.0</td>\n",
       "      <td>0.0</td>\n",
       "      <td>0.0</td>\n",
       "    </tr>\n",
       "    <tr>\n",
       "      <th>1</th>\n",
       "      <td>0.189972</td>\n",
       "      <td>0.4</td>\n",
       "      <td>0.4</td>\n",
       "      <td>0.4</td>\n",
       "      <td>0.4</td>\n",
       "      <td>0.4</td>\n",
       "      <td>0.4</td>\n",
       "      <td>1.0</td>\n",
       "      <td>0.6</td>\n",
       "      <td>0.75</td>\n",
       "      <td>1.0</td>\n",
       "      <td>1.0</td>\n",
       "      <td>0.4</td>\n",
       "      <td>0.011307</td>\n",
       "      <td>1.0</td>\n",
       "      <td>0.0</td>\n",
       "      <td>0.0</td>\n",
       "      <td>0.0</td>\n",
       "      <td>0.0</td>\n",
       "    </tr>\n",
       "    <tr>\n",
       "      <th>2</th>\n",
       "      <td>0.225764</td>\n",
       "      <td>0.4</td>\n",
       "      <td>0.4</td>\n",
       "      <td>0.8</td>\n",
       "      <td>0.4</td>\n",
       "      <td>0.8</td>\n",
       "      <td>0.8</td>\n",
       "      <td>0.8</td>\n",
       "      <td>0.8</td>\n",
       "      <td>0.75</td>\n",
       "      <td>0.8</td>\n",
       "      <td>0.8</td>\n",
       "      <td>0.8</td>\n",
       "      <td>0.000000</td>\n",
       "      <td>0.0</td>\n",
       "      <td>1.0</td>\n",
       "      <td>2.0</td>\n",
       "      <td>0.0</td>\n",
       "      <td>1.0</td>\n",
       "    </tr>\n",
       "    <tr>\n",
       "      <th>3</th>\n",
       "      <td>0.448486</td>\n",
       "      <td>1.0</td>\n",
       "      <td>0.2</td>\n",
       "      <td>1.0</td>\n",
       "      <td>1.0</td>\n",
       "      <td>1.0</td>\n",
       "      <td>1.0</td>\n",
       "      <td>0.2</td>\n",
       "      <td>0.6</td>\n",
       "      <td>0.00</td>\n",
       "      <td>0.2</td>\n",
       "      <td>0.8</td>\n",
       "      <td>1.0</td>\n",
       "      <td>0.013191</td>\n",
       "      <td>1.0</td>\n",
       "      <td>0.0</td>\n",
       "      <td>0.0</td>\n",
       "      <td>0.0</td>\n",
       "      <td>1.0</td>\n",
       "    </tr>\n",
       "    <tr>\n",
       "      <th>4</th>\n",
       "      <td>0.287350</td>\n",
       "      <td>0.6</td>\n",
       "      <td>0.6</td>\n",
       "      <td>1.0</td>\n",
       "      <td>0.8</td>\n",
       "      <td>0.8</td>\n",
       "      <td>1.0</td>\n",
       "      <td>1.0</td>\n",
       "      <td>1.0</td>\n",
       "      <td>1.00</td>\n",
       "      <td>0.6</td>\n",
       "      <td>1.0</td>\n",
       "      <td>1.0</td>\n",
       "      <td>0.006281</td>\n",
       "      <td>0.0</td>\n",
       "      <td>0.0</td>\n",
       "      <td>0.0</td>\n",
       "      <td>0.0</td>\n",
       "      <td>0.0</td>\n",
       "    </tr>\n",
       "    <tr>\n",
       "      <th>...</th>\n",
       "      <td>...</td>\n",
       "      <td>...</td>\n",
       "      <td>...</td>\n",
       "      <td>...</td>\n",
       "      <td>...</td>\n",
       "      <td>...</td>\n",
       "      <td>...</td>\n",
       "      <td>...</td>\n",
       "      <td>...</td>\n",
       "      <td>...</td>\n",
       "      <td>...</td>\n",
       "      <td>...</td>\n",
       "      <td>...</td>\n",
       "      <td>...</td>\n",
       "      <td>...</td>\n",
       "      <td>...</td>\n",
       "      <td>...</td>\n",
       "      <td>...</td>\n",
       "      <td>...</td>\n",
       "    </tr>\n",
       "    <tr>\n",
       "      <th>103899</th>\n",
       "      <td>0.322417</td>\n",
       "      <td>0.4</td>\n",
       "      <td>0.2</td>\n",
       "      <td>0.4</td>\n",
       "      <td>0.2</td>\n",
       "      <td>1.0</td>\n",
       "      <td>0.4</td>\n",
       "      <td>0.6</td>\n",
       "      <td>1.0</td>\n",
       "      <td>0.50</td>\n",
       "      <td>0.6</td>\n",
       "      <td>0.6</td>\n",
       "      <td>0.4</td>\n",
       "      <td>0.000000</td>\n",
       "      <td>0.0</td>\n",
       "      <td>1.0</td>\n",
       "      <td>0.0</td>\n",
       "      <td>0.0</td>\n",
       "      <td>2.0</td>\n",
       "    </tr>\n",
       "    <tr>\n",
       "      <th>103900</th>\n",
       "      <td>0.270541</td>\n",
       "      <td>0.4</td>\n",
       "      <td>0.6</td>\n",
       "      <td>0.4</td>\n",
       "      <td>0.8</td>\n",
       "      <td>0.4</td>\n",
       "      <td>0.4</td>\n",
       "      <td>0.4</td>\n",
       "      <td>0.4</td>\n",
       "      <td>0.25</td>\n",
       "      <td>0.2</td>\n",
       "      <td>0.4</td>\n",
       "      <td>0.2</td>\n",
       "      <td>0.003141</td>\n",
       "      <td>0.0</td>\n",
       "      <td>0.0</td>\n",
       "      <td>0.0</td>\n",
       "      <td>0.0</td>\n",
       "      <td>1.0</td>\n",
       "    </tr>\n",
       "    <tr>\n",
       "      <th>103901</th>\n",
       "      <td>0.217070</td>\n",
       "      <td>0.6</td>\n",
       "      <td>0.6</td>\n",
       "      <td>0.2</td>\n",
       "      <td>0.6</td>\n",
       "      <td>0.2</td>\n",
       "      <td>0.2</td>\n",
       "      <td>0.8</td>\n",
       "      <td>0.8</td>\n",
       "      <td>0.75</td>\n",
       "      <td>1.0</td>\n",
       "      <td>1.0</td>\n",
       "      <td>0.2</td>\n",
       "      <td>0.000000</td>\n",
       "      <td>1.0</td>\n",
       "      <td>0.0</td>\n",
       "      <td>1.0</td>\n",
       "      <td>1.0</td>\n",
       "      <td>1.0</td>\n",
       "    </tr>\n",
       "    <tr>\n",
       "      <th>103902</th>\n",
       "      <td>0.247066</td>\n",
       "      <td>0.6</td>\n",
       "      <td>0.6</td>\n",
       "      <td>0.6</td>\n",
       "      <td>1.0</td>\n",
       "      <td>1.0</td>\n",
       "      <td>1.0</td>\n",
       "      <td>1.0</td>\n",
       "      <td>1.0</td>\n",
       "      <td>1.00</td>\n",
       "      <td>1.0</td>\n",
       "      <td>1.0</td>\n",
       "      <td>1.0</td>\n",
       "      <td>0.000000</td>\n",
       "      <td>0.0</td>\n",
       "      <td>0.0</td>\n",
       "      <td>0.0</td>\n",
       "      <td>1.0</td>\n",
       "      <td>1.0</td>\n",
       "    </tr>\n",
       "    <tr>\n",
       "      <th>103903</th>\n",
       "      <td>0.164179</td>\n",
       "      <td>0.4</td>\n",
       "      <td>0.4</td>\n",
       "      <td>0.6</td>\n",
       "      <td>0.4</td>\n",
       "      <td>0.8</td>\n",
       "      <td>0.6</td>\n",
       "      <td>0.2</td>\n",
       "      <td>0.4</td>\n",
       "      <td>0.75</td>\n",
       "      <td>0.6</td>\n",
       "      <td>0.6</td>\n",
       "      <td>0.6</td>\n",
       "      <td>0.015704</td>\n",
       "      <td>0.0</td>\n",
       "      <td>1.0</td>\n",
       "      <td>0.0</td>\n",
       "      <td>0.0</td>\n",
       "      <td>0.0</td>\n",
       "    </tr>\n",
       "  </tbody>\n",
       "</table>\n",
       "<p>103904 rows × 19 columns</p>\n",
       "</div>"
      ],
      "text/plain": [
       "        Flight_Distance  Seat_comfort  Food_and_drink  Inflight_wifi_service  \\\n",
       "0              0.267787           0.0             0.0                    0.2   \n",
       "1              0.189972           0.4             0.4                    0.4   \n",
       "2              0.225764           0.4             0.4                    0.8   \n",
       "3              0.448486           1.0             0.2                    1.0   \n",
       "4              0.287350           0.6             0.6                    1.0   \n",
       "...                 ...           ...             ...                    ...   \n",
       "103899         0.322417           0.4             0.2                    0.4   \n",
       "103900         0.270541           0.4             0.6                    0.4   \n",
       "103901         0.217070           0.6             0.6                    0.2   \n",
       "103902         0.247066           0.6             0.6                    0.6   \n",
       "103903         0.164179           0.4             0.4                    0.6   \n",
       "\n",
       "        Inflight_entertainment  Online_support  Ease_of_Online_booking  \\\n",
       "0                          0.2             0.2                     0.6   \n",
       "1                          0.4             0.4                     0.4   \n",
       "2                          0.4             0.8                     0.8   \n",
       "3                          1.0             1.0                     1.0   \n",
       "4                          0.8             0.8                     1.0   \n",
       "...                        ...             ...                     ...   \n",
       "103899                     0.2             1.0                     0.4   \n",
       "103900                     0.8             0.4                     0.4   \n",
       "103901                     0.6             0.2                     0.2   \n",
       "103902                     1.0             1.0                     1.0   \n",
       "103903                     0.4             0.8                     0.6   \n",
       "\n",
       "        On_board_service  Leg_room_service  Baggage_handling  Checkin_service  \\\n",
       "0                    1.0               0.6              0.25              0.2   \n",
       "1                    1.0               0.6              0.75              1.0   \n",
       "2                    0.8               0.8              0.75              0.8   \n",
       "3                    0.2               0.6              0.00              0.2   \n",
       "4                    1.0               1.0              1.00              0.6   \n",
       "...                  ...               ...               ...              ...   \n",
       "103899               0.6               1.0              0.50              0.6   \n",
       "103900               0.4               0.4              0.25              0.2   \n",
       "103901               0.8               0.8              0.75              1.0   \n",
       "103902               1.0               1.0              1.00              1.0   \n",
       "103903               0.2               0.4              0.75              0.6   \n",
       "\n",
       "        Cleanliness  Online_boarding  Departure_Delay_in_Minutes  Gender  \\\n",
       "0               0.8              0.2                    0.089196     1.0   \n",
       "1               1.0              0.4                    0.011307     1.0   \n",
       "2               0.8              0.8                    0.000000     0.0   \n",
       "3               0.8              1.0                    0.013191     1.0   \n",
       "4               1.0              1.0                    0.006281     0.0   \n",
       "...             ...              ...                         ...     ...   \n",
       "103899          0.6              0.4                    0.000000     0.0   \n",
       "103900          0.4              0.2                    0.003141     0.0   \n",
       "103901          1.0              0.2                    0.000000     1.0   \n",
       "103902          1.0              1.0                    0.000000     0.0   \n",
       "103903          0.6              0.6                    0.015704     0.0   \n",
       "\n",
       "        Customer_Type  Age  Type_of_Travel  Class  \n",
       "0                 0.0  0.0             0.0    0.0  \n",
       "1                 0.0  0.0             0.0    0.0  \n",
       "2                 1.0  2.0             0.0    1.0  \n",
       "3                 0.0  0.0             0.0    1.0  \n",
       "4                 0.0  0.0             0.0    0.0  \n",
       "...               ...  ...             ...    ...  \n",
       "103899            1.0  0.0             0.0    2.0  \n",
       "103900            0.0  0.0             0.0    1.0  \n",
       "103901            0.0  1.0             1.0    1.0  \n",
       "103902            0.0  0.0             1.0    1.0  \n",
       "103903            1.0  0.0             0.0    0.0  \n",
       "\n",
       "[103904 rows x 19 columns]"
      ]
     },
     "execution_count": 61,
     "metadata": {},
     "output_type": "execute_result"
    }
   ],
   "source": [
    "X_train"
   ]
  },
  {
   "cell_type": "code",
   "execution_count": 62,
   "id": "5c583c29",
   "metadata": {
    "id": "a3f8d871"
   },
   "outputs": [],
   "source": [
    "# X_train\n",
    "# y_train\n",
    "# X_test\n",
    "# y_test"
   ]
  },
  {
   "cell_type": "markdown",
   "id": "748cf1b4",
   "metadata": {
    "id": "a0787f0f"
   },
   "source": [
    "log_reg = LogisticRegression()#max_iter=1000)"
   ]
  },
  {
   "cell_type": "markdown",
   "id": "71955a2f",
   "metadata": {
    "id": "8defdd98"
   },
   "source": [
    "param_grid = [\n",
    "    {'penalty':['l1','l2','elasticnet','none'],\n",
    "    'C':np.logspace(-4,4,20),\n",
    "    'solver':['lbfgs','newton-cg','liblinear','sag','saga'],\n",
    "    'max_iter':[100,1000,2500,5000]}\n",
    "]"
   ]
  },
  {
   "cell_type": "markdown",
   "id": "d5e689b9",
   "metadata": {
    "id": "6de1e17a"
   },
   "source": [
    "grid_search = GridSearchCV(log_reg,param_grid,cv = 3,verbose = True,n_jobs = -1)"
   ]
  },
  {
   "cell_type": "markdown",
   "id": "cec4dfd0",
   "metadata": {
    "id": "9532c2e8"
   },
   "source": [
    "grid_search.fit(X_train,y_train)"
   ]
  },
  {
   "cell_type": "markdown",
   "id": "39227cd7",
   "metadata": {
    "id": "ea6de6e8"
   },
   "source": [
    "model_gridsearch= grid_search.best_estimator_"
   ]
  },
  {
   "cell_type": "markdown",
   "id": "ca4526dc",
   "metadata": {
    "id": "6af9d582"
   },
   "source": [
    "model_gridsearch"
   ]
  },
  {
   "cell_type": "markdown",
   "id": "7f913df4",
   "metadata": {
    "id": "60c1ef5b"
   },
   "source": [
    "predict = model_gridsearch.predict(X_test)"
   ]
  },
  {
   "cell_type": "markdown",
   "id": "0c99fcbf",
   "metadata": {
    "id": "fab1cfd1"
   },
   "source": [
    "print(confusion_matrix(predict, y_test))"
   ]
  },
  {
   "cell_type": "markdown",
   "id": "8152a65a",
   "metadata": {
    "id": "5dc7f8b7"
   },
   "source": [
    "print(classification_report(predict, y_test))"
   ]
  },
  {
   "cell_type": "markdown",
   "id": "6e5174ac",
   "metadata": {
    "id": "2d82521a",
    "scrolled": true
   },
   "source": [
    "fit_model = log_reg.fit(X_train, y_train)"
   ]
  },
  {
   "cell_type": "markdown",
   "id": "2d2bfcd6",
   "metadata": {
    "id": "1c262d90"
   },
   "source": [
    "y_pred = fit_model.predict(X_test)"
   ]
  },
  {
   "cell_type": "markdown",
   "id": "75a163d7",
   "metadata": {
    "id": "78d24719"
   },
   "source": [
    "print(confusion_matrix(y_pred, y_test))"
   ]
  },
  {
   "cell_type": "markdown",
   "id": "652a56a4",
   "metadata": {
    "id": "3d234a15"
   },
   "source": [
    "print(classification_report(y_pred, y_test))"
   ]
  },
  {
   "cell_type": "markdown",
   "id": "0f2fbbd9",
   "metadata": {
    "id": "64645255"
   },
   "source": [
    "print(\"Accuracy {0:.2f}%\".format(100*accuracy_score(y_pred, y_test)))"
   ]
  },
  {
   "cell_type": "markdown",
   "id": "e17bf23f",
   "metadata": {
    "id": "434c2450"
   },
   "source": [
    "### newton"
   ]
  },
  {
   "cell_type": "code",
   "execution_count": 63,
   "id": "ef625eed",
   "metadata": {
    "id": "57246bc2",
    "scrolled": true
   },
   "outputs": [],
   "source": [
    "second_model = LogisticRegression(max_iter=1000, penalty = 'elasticnet',solver = 'saga' ,C = 10, class_weight = 'balanced', l1_ratio= 0.5)"
   ]
  },
  {
   "cell_type": "code",
   "execution_count": 64,
   "id": "5807a3e2",
   "metadata": {
    "id": "1e5292db"
   },
   "outputs": [],
   "source": [
    "second_fit = second_model.fit(X_train, y_train)"
   ]
  },
  {
   "cell_type": "code",
   "execution_count": 65,
   "id": "fe177bd6",
   "metadata": {
    "id": "11429ad1"
   },
   "outputs": [],
   "source": [
    "second_pred = second_model.predict(X_test)"
   ]
  },
  {
   "cell_type": "code",
   "execution_count": 66,
   "id": "bd2f8654",
   "metadata": {
    "colab": {
     "base_uri": "https://localhost:8080/"
    },
    "id": "fae42667",
    "outputId": "97b6d646-2eec-4465-dd40-ac9a57eca316"
   },
   "outputs": [
    {
     "data": {
      "text/plain": [
       "array([[4861, 1214],\n",
       "       [ 983, 5930]], dtype=int64)"
      ]
     },
     "execution_count": 66,
     "metadata": {},
     "output_type": "execute_result"
    }
   ],
   "source": [
    "confusion_matrix(second_pred, y_test)"
   ]
  },
  {
   "cell_type": "code",
   "execution_count": 67,
   "id": "379167c3",
   "metadata": {
    "colab": {
     "base_uri": "https://localhost:8080/"
    },
    "id": "79c48635",
    "outputId": "b7e98d25-70b2-4fc9-a55f-09ec5fd7a186"
   },
   "outputs": [
    {
     "name": "stdout",
     "output_type": "stream",
     "text": [
      "              precision    recall  f1-score   support\n",
      "\n",
      "           0       0.83      0.80      0.82      6075\n",
      "           1       0.83      0.86      0.84      6913\n",
      "\n",
      "    accuracy                           0.83     12988\n",
      "   macro avg       0.83      0.83      0.83     12988\n",
      "weighted avg       0.83      0.83      0.83     12988\n",
      "\n"
     ]
    }
   ],
   "source": [
    "print(classification_report(second_pred, y_test))"
   ]
  },
  {
   "cell_type": "code",
   "execution_count": 68,
   "id": "4fa753f3",
   "metadata": {
    "colab": {
     "base_uri": "https://localhost:8080/"
    },
    "id": "44724c29",
    "outputId": "9768c262-3a2e-44a6-92e9-01e37dde6fb7"
   },
   "outputs": [
    {
     "name": "stdout",
     "output_type": "stream",
     "text": [
      "Accuracy 83.08%\n"
     ]
    }
   ],
   "source": [
    "print(\"Accuracy {0:.2f}%\".format(100*accuracy_score(second_pred, y_test)))"
   ]
  },
  {
   "cell_type": "markdown",
   "id": "a5f18818",
   "metadata": {
    "id": "34eeddd6"
   },
   "source": [
    "### Test with Neural Network"
   ]
  },
  {
   "cell_type": "code",
   "execution_count": 65,
   "id": "65ead555",
   "metadata": {
    "id": "ee6a6f37"
   },
   "outputs": [],
   "source": [
    "import tensorflow as tf\n",
    "from tensorflow import keras\n",
    "from tensorflow.keras import layers"
   ]
  },
  {
   "cell_type": "code",
   "execution_count": 66,
   "id": "272b4aa0",
   "metadata": {
    "id": "zrZj6nzH7EW5"
   },
   "outputs": [],
   "source": [
    "tf.random.set_seed(1234)"
   ]
  },
  {
   "cell_type": "code",
   "execution_count": 68,
   "id": "e615df6e",
   "metadata": {
    "id": "e427674d"
   },
   "outputs": [],
   "source": [
    "# Define Sequential model with 3 layers\n",
    "model = keras.Sequential(\n",
    "    [\n",
    "        layers.Dense(256, activation=\"relu\", name=\"layer0\"),\n",
    "        layers.Dense(256, activation=\"relu\", name=\"layer1\"),\n",
    "        \n",
    "        #layers.Dense(128, activation=\"linear\", name=\"layer4\"),\n",
    "        #layers.Dense(4, activation=\"linear\", name=\"layer5\"),\n",
    "        \n",
    "        layers.Dense(1, activation='sigmoid')\n",
    "    ]\n",
    ")"
   ]
  },
  {
   "cell_type": "code",
   "execution_count": 69,
   "id": "29b4bedc",
   "metadata": {
    "id": "64864350"
   },
   "outputs": [],
   "source": [
    "model.compile(\n",
    "        optimizer=\"adam\",\n",
    "        loss='BinaryCrossentropy',\n",
    "        metrics=[tf.keras.metrics.BinaryAccuracy()],\n",
    "        \n",
    ")"
   ]
  },
  {
   "cell_type": "code",
   "execution_count": 70,
   "id": "05c93daf",
   "metadata": {
    "colab": {
     "base_uri": "https://localhost:8080/"
    },
    "id": "ed589dbb",
    "outputId": "d1c293e6-42bf-48d5-de37-90088aa0e11c"
   },
   "outputs": [
    {
     "name": "stdout",
     "output_type": "stream",
     "text": [
      "Epoch 1/10\n",
      "WARNING:tensorflow:Layer layer0 is casting an input tensor from dtype float64 to the layer's dtype of float32, which is new behavior in TensorFlow 2.  The layer has dtype float32 because its dtype defaults to floatx.\n",
      "\n",
      "If you intended to run this layer in float32, you can safely ignore this warning. If in doubt, this warning is likely only an issue if you are porting a TensorFlow 1.X model to TensorFlow 2.\n",
      "\n",
      "To change all layers to have dtype float64 by default, call `tf.keras.backend.set_floatx('float64')`. To change just this layer, pass dtype='float64' to the layer constructor. If you are the author of this layer, you can disable autocasting by passing autocast=False to the base Layer constructor.\n",
      "\n",
      "406/406 [==============================] - 1s 2ms/step - loss: 0.2823 - binary_accuracy: 0.8783 - val_loss: 0.2116 - val_binary_accuracy: 0.9114\n",
      "Epoch 2/10\n",
      "406/406 [==============================] - 1s 2ms/step - loss: 0.1793 - binary_accuracy: 0.9254 - val_loss: 0.1825 - val_binary_accuracy: 0.9198\n",
      "Epoch 3/10\n",
      "406/406 [==============================] - 1s 2ms/step - loss: 0.1580 - binary_accuracy: 0.9327 - val_loss: 0.1631 - val_binary_accuracy: 0.9281\n",
      "Epoch 4/10\n",
      "406/406 [==============================] - 1s 2ms/step - loss: 0.1461 - binary_accuracy: 0.9378 - val_loss: 0.1416 - val_binary_accuracy: 0.9434\n",
      "Epoch 5/10\n",
      "406/406 [==============================] - 1s 2ms/step - loss: 0.1356 - binary_accuracy: 0.9418 - val_loss: 0.1406 - val_binary_accuracy: 0.9400\n",
      "Epoch 6/10\n",
      "406/406 [==============================] - 1s 2ms/step - loss: 0.1295 - binary_accuracy: 0.9442 - val_loss: 0.1322 - val_binary_accuracy: 0.9419\n",
      "Epoch 7/10\n",
      "406/406 [==============================] - 1s 2ms/step - loss: 0.1260 - binary_accuracy: 0.9459 - val_loss: 0.1285 - val_binary_accuracy: 0.9452\n",
      "Epoch 8/10\n",
      "406/406 [==============================] - 1s 2ms/step - loss: 0.1224 - binary_accuracy: 0.9469 - val_loss: 0.1283 - val_binary_accuracy: 0.9447\n",
      "Epoch 9/10\n",
      "406/406 [==============================] - 1s 2ms/step - loss: 0.1172 - binary_accuracy: 0.9488 - val_loss: 0.1203 - val_binary_accuracy: 0.9469\n",
      "Epoch 10/10\n",
      "406/406 [==============================] - 1s 2ms/step - loss: 0.1142 - binary_accuracy: 0.9502 - val_loss: 0.1195 - val_binary_accuracy: 0.9486\n"
     ]
    }
   ],
   "source": [
    "history = model.fit(\n",
    "    X_train,\n",
    "    y_train,\n",
    "    batch_size=256,\n",
    "    epochs=10,\n",
    "    validation_data=(X_dev, y_dev)\n",
    ")"
   ]
  },
  {
   "cell_type": "code",
   "execution_count": 72,
   "id": "0a616ef7",
   "metadata": {
    "id": "b7bb25ed"
   },
   "outputs": [],
   "source": [
    "predic = model.predict(X_test)"
   ]
  },
  {
   "cell_type": "code",
   "execution_count": 73,
   "id": "d5f82bbc",
   "metadata": {
    "colab": {
     "base_uri": "https://localhost:8080/"
    },
    "id": "UfO5Yg7gu0Qn",
    "outputId": "62ada3c6-7cd8-4f0f-fc02-3b30df1be909"
   },
   "outputs": [
    {
     "name": "stdout",
     "output_type": "stream",
     "text": [
      "              precision    recall  f1-score   support\n",
      "\n",
      "       False       0.96      0.93      0.94      6023\n",
      "        True       0.94      0.97      0.95      6965\n",
      "\n",
      "    accuracy                           0.95     12988\n",
      "   macro avg       0.95      0.95      0.95     12988\n",
      "weighted avg       0.95      0.95      0.95     12988\n",
      "\n"
     ]
    }
   ],
   "source": [
    "print(classification_report(predic > 0.5 , y_test))"
   ]
  },
  {
   "cell_type": "markdown",
   "id": "367261f4",
   "metadata": {
    "id": "TyuTpCyily1Y"
   },
   "source": [
    "### Randomforest"
   ]
  },
  {
   "cell_type": "code",
   "execution_count": 74,
   "id": "88b3c900",
   "metadata": {
    "id": "30e43152"
   },
   "outputs": [],
   "source": [
    "from sklearn.ensemble import RandomForestClassifier"
   ]
  },
  {
   "cell_type": "code",
   "execution_count": 75,
   "id": "ad241046",
   "metadata": {},
   "outputs": [],
   "source": [
    "rd = RandomForestClassifier(verbose= 1 ,  n_jobs= -1, random_state= 101)"
   ]
  },
  {
   "cell_type": "code",
   "execution_count": 89,
   "id": "aa10f4c8",
   "metadata": {
    "id": "1EKgeVfCmCJ8"
   },
   "outputs": [],
   "source": [
    "param_grid = {\n",
    "    'bootstrap': [True],\n",
    "    'max_depth': [30, 50],\n",
    "    'max_features': [5],\n",
    "    'min_samples_leaf': [2],\n",
    "    'min_samples_split': [2],\n",
    "    'n_estimators': [120, 140]\n",
    "}"
   ]
  },
  {
   "cell_type": "code",
   "execution_count": 90,
   "id": "b2ba13a8",
   "metadata": {
    "id": "aohfUhjKmIEJ"
   },
   "outputs": [],
   "source": [
    "grid_search = GridSearchCV(estimator = rd, param_grid = param_grid, \n",
    "                          cv = 3, n_jobs = -1, verbose = 1)"
   ]
  },
  {
   "cell_type": "code",
   "execution_count": 91,
   "id": "ad9a921b",
   "metadata": {
    "colab": {
     "base_uri": "https://localhost:8080/"
    },
    "id": "ff014197",
    "outputId": "95725fa5-8a33-4c85-abff-4ad6e5fb1f19",
    "scrolled": true
   },
   "outputs": [
    {
     "name": "stdout",
     "output_type": "stream",
     "text": [
      "Fitting 3 folds for each of 4 candidates, totalling 12 fits\n"
     ]
    },
    {
     "name": "stderr",
     "output_type": "stream",
     "text": [
      "[Parallel(n_jobs=-1)]: Using backend LokyBackend with 8 concurrent workers.\n",
      "[Parallel(n_jobs=-1)]: Done  10 out of  12 | elapsed:   38.5s remaining:    7.6s\n",
      "[Parallel(n_jobs=-1)]: Done  12 out of  12 | elapsed:   39.0s finished\n",
      "[Parallel(n_jobs=-1)]: Using backend ThreadingBackend with 8 concurrent workers.\n",
      "[Parallel(n_jobs=-1)]: Done  34 tasks      | elapsed:    1.5s\n",
      "[Parallel(n_jobs=-1)]: Done 120 out of 120 | elapsed:    5.0s finished\n"
     ]
    },
    {
     "data": {
      "text/plain": [
       "GridSearchCV(cv=3,\n",
       "             estimator=RandomForestClassifier(n_jobs=-1, random_state=101,\n",
       "                                              verbose=1),\n",
       "             n_jobs=-1,\n",
       "             param_grid={'bootstrap': [True], 'max_depth': [30, 50],\n",
       "                         'max_features': [5], 'min_samples_leaf': [2],\n",
       "                         'min_samples_split': [2], 'n_estimators': [120, 140]},\n",
       "             verbose=1)"
      ]
     },
     "execution_count": 91,
     "metadata": {},
     "output_type": "execute_result"
    }
   ],
   "source": [
    "grid_search.fit(X_train, y_train)"
   ]
  },
  {
   "cell_type": "code",
   "execution_count": 83,
   "id": "7cab6090",
   "metadata": {},
   "outputs": [
    {
     "data": {
      "text/plain": [
       "{'bootstrap': True,\n",
       " 'max_depth': 30,\n",
       " 'max_features': 5,\n",
       " 'min_samples_leaf': 2,\n",
       " 'min_samples_split': 2,\n",
       " 'n_estimators': 120}"
      ]
     },
     "execution_count": 83,
     "metadata": {},
     "output_type": "execute_result"
    }
   ],
   "source": [
    "grid_search.best_params_"
   ]
  },
  {
   "cell_type": "code",
   "execution_count": 92,
   "id": "70cadda6",
   "metadata": {
    "id": "5aaa6bfa"
   },
   "outputs": [
    {
     "name": "stderr",
     "output_type": "stream",
     "text": [
      "[Parallel(n_jobs=8)]: Using backend ThreadingBackend with 8 concurrent workers.\n",
      "[Parallel(n_jobs=8)]: Done  34 tasks      | elapsed:    0.0s\n",
      "[Parallel(n_jobs=8)]: Done 120 out of 120 | elapsed:    0.0s finished\n"
     ]
    }
   ],
   "source": [
    "y_ped3 = grid_search.predict(X_dev)"
   ]
  },
  {
   "cell_type": "code",
   "execution_count": 93,
   "id": "e2d214f3",
   "metadata": {
    "id": "7599d098",
    "scrolled": false
   },
   "outputs": [
    {
     "name": "stdout",
     "output_type": "stream",
     "text": [
      "              precision    recall  f1-score   support\n",
      "\n",
      "           0       0.96      0.94      0.95      5939\n",
      "           1       0.95      0.96      0.96      7049\n",
      "\n",
      "    accuracy                           0.95     12988\n",
      "   macro avg       0.95      0.95      0.95     12988\n",
      "weighted avg       0.95      0.95      0.95     12988\n",
      "\n"
     ]
    }
   ],
   "source": [
    "print(classification_report(y_ped3, y_dev))"
   ]
  },
  {
   "cell_type": "code",
   "execution_count": 94,
   "id": "f24be3a5",
   "metadata": {},
   "outputs": [
    {
     "name": "stderr",
     "output_type": "stream",
     "text": [
      "[Parallel(n_jobs=8)]: Using backend ThreadingBackend with 8 concurrent workers.\n",
      "[Parallel(n_jobs=8)]: Done  34 tasks      | elapsed:    0.0s\n",
      "[Parallel(n_jobs=8)]: Done 120 out of 120 | elapsed:    0.0s finished\n"
     ]
    }
   ],
   "source": [
    "predict_test = grid_search.predict(X_test)"
   ]
  },
  {
   "cell_type": "code",
   "execution_count": 95,
   "id": "f640209c",
   "metadata": {
    "scrolled": true
   },
   "outputs": [
    {
     "name": "stdout",
     "output_type": "stream",
     "text": [
      "              precision    recall  f1-score   support\n",
      "\n",
      "           0       0.96      0.94      0.95      5948\n",
      "           1       0.95      0.97      0.96      7040\n",
      "\n",
      "    accuracy                           0.95     12988\n",
      "   macro avg       0.95      0.95      0.95     12988\n",
      "weighted avg       0.95      0.95      0.95     12988\n",
      "\n"
     ]
    }
   ],
   "source": [
    "print(classification_report(predict_test, y_test))"
   ]
  },
  {
   "cell_type": "code",
   "execution_count": 76,
   "id": "673527c6",
   "metadata": {},
   "outputs": [],
   "source": [
    "rd_final = RandomForestClassifier(verbose= 1 ,  n_jobs= -1, random_state= 101,\n",
    "                                 bootstrap= True, \n",
    "                                 max_features= 5,\n",
    "                                 max_depth= 30,\n",
    "                                 min_samples_split= 2,\n",
    "                                 n_estimators= 120)"
   ]
  },
  {
   "cell_type": "code",
   "execution_count": null,
   "id": "d66684f8",
   "metadata": {},
   "outputs": [],
   "source": []
  },
  {
   "cell_type": "code",
   "execution_count": 77,
   "id": "cd5078ca",
   "metadata": {
    "scrolled": true
   },
   "outputs": [
    {
     "name": "stderr",
     "output_type": "stream",
     "text": [
      "[Parallel(n_jobs=-1)]: Using backend ThreadingBackend with 8 concurrent workers.\n",
      "[Parallel(n_jobs=-1)]: Done  34 tasks      | elapsed:    1.8s\n",
      "[Parallel(n_jobs=-1)]: Done 120 out of 120 | elapsed:    5.7s finished\n"
     ]
    },
    {
     "data": {
      "text/plain": [
       "RandomForestClassifier(max_depth=30, max_features=5, n_estimators=120,\n",
       "                       n_jobs=-1, random_state=101, verbose=1)"
      ]
     },
     "execution_count": 77,
     "metadata": {},
     "output_type": "execute_result"
    }
   ],
   "source": [
    "rd_final.fit(X_train, y_train)"
   ]
  },
  {
   "cell_type": "code",
   "execution_count": 79,
   "id": "f7059987",
   "metadata": {},
   "outputs": [
    {
     "name": "stderr",
     "output_type": "stream",
     "text": [
      "[Parallel(n_jobs=8)]: Using backend ThreadingBackend with 8 concurrent workers.\n",
      "[Parallel(n_jobs=8)]: Done  34 tasks      | elapsed:    0.0s\n",
      "[Parallel(n_jobs=8)]: Done 120 out of 120 | elapsed:    0.0s finished\n"
     ]
    }
   ],
   "source": [
    "y_ped_fin = rd_final.predict(X_dev)"
   ]
  },
  {
   "cell_type": "code",
   "execution_count": 80,
   "id": "a35fdd3d",
   "metadata": {},
   "outputs": [
    {
     "name": "stdout",
     "output_type": "stream",
     "text": [
      "              precision    recall  f1-score   support\n",
      "\n",
      "           0       0.96      0.94      0.95      5975\n",
      "           1       0.95      0.97      0.96      7013\n",
      "\n",
      "    accuracy                           0.96     12988\n",
      "   macro avg       0.96      0.96      0.96     12988\n",
      "weighted avg       0.96      0.96      0.96     12988\n",
      "\n"
     ]
    }
   ],
   "source": [
    "print(classification_report(y_ped_fin, y_dev))"
   ]
  },
  {
   "cell_type": "code",
   "execution_count": 81,
   "id": "0120ac76",
   "metadata": {
    "scrolled": true
   },
   "outputs": [
    {
     "data": {
      "text/plain": [
       "Inflight_entertainment               0.209704\n",
       "Seat_comfort                         0.137525\n",
       "Ease_of_Online_booking               0.082272\n",
       "Online_support                       0.072856\n",
       "Customer_Type                        0.044434\n",
       "Food_and_drink                       0.038650\n",
       "On_board_service                     0.037991\n",
       "Leg_room_service                     0.037199\n",
       "Flight_Distance                      0.032761\n",
       "Class                                0.031802\n",
       "Online_boarding                      0.031566\n",
       "Gender                               0.031019\n",
       "Age                                  0.029048\n",
       "Type_of_Travel                       0.026110\n",
       "Checkin_service                      0.024037\n",
       "Cleanliness                          0.023118\n",
       "Baggage_handling                     0.023063\n",
       "Departure/Arrival_time_convenient    0.022248\n",
       "Gate_location                        0.019841\n",
       "Inflight_wifi_service                0.015724\n",
       "Arrival_Delay_in_Minutes             0.015176\n",
       "Departure_Delay_in_Minutes           0.013856\n",
       "dtype: float64"
      ]
     },
     "execution_count": 81,
     "metadata": {},
     "output_type": "execute_result"
    }
   ],
   "source": [
    "pd.Series(rd_final.feature_importances_, index= X_dev.columns).sort_values(ascending= False)"
   ]
  },
  {
   "cell_type": "code",
   "execution_count": 175,
   "id": "7fb12b52",
   "metadata": {
    "scrolled": true
   },
   "outputs": [
    {
     "data": {
      "text/plain": [
       "<AxesSubplot:>"
      ]
     },
     "execution_count": 175,
     "metadata": {},
     "output_type": "execute_result"
    },
    {
     "data": {
      "image/png": "[encoded data removed]",
      "text/plain": [
       "<Figure size 432x288 with 1 Axes>"
      ]
     },
     "metadata": {
      "needs_background": "light"
     },
     "output_type": "display_data"
    }
   ],
   "source": [
    "df['Inflight_entertainment'].hist()"
   ]
  },
  {
   "cell_type": "code",
   "execution_count": null,
   "id": "6fd6d0fc",
   "metadata": {},
   "outputs": [],
   "source": [
    "plt.figure(figsize= (8,5))\n",
    "sns.countplot   "
   ]
  },
  {
   "cell_type": "markdown",
   "id": "aebc5e1e",
   "metadata": {
    "id": "ad0a82a8"
   },
   "source": [
    "### SVM"
   ]
  },
  {
   "cell_type": "code",
   "execution_count": 105,
   "id": "1e1eaec6",
   "metadata": {
    "id": "7c9642ac"
   },
   "outputs": [],
   "source": [
    "from sklearn.svm import SVC"
   ]
  },
  {
   "cell_type": "code",
   "execution_count": 106,
   "id": "6a37e960",
   "metadata": {
    "id": "e7562081"
   },
   "outputs": [],
   "source": [
    "svc = SVC(C = 5, verbose= 1, kernel= 'poly')"
   ]
  },
  {
   "cell_type": "code",
   "execution_count": 107,
   "id": "720b4384",
   "metadata": {
    "id": "07a496fd"
   },
   "outputs": [
    {
     "name": "stdout",
     "output_type": "stream",
     "text": [
      "[LibSVM]"
     ]
    },
    {
     "data": {
      "text/plain": [
       "SVC(C=5, kernel='poly', verbose=1)"
      ]
     },
     "execution_count": 107,
     "metadata": {},
     "output_type": "execute_result"
    }
   ],
   "source": [
    "svc.fit(X_train, y_train)"
   ]
  },
  {
   "cell_type": "code",
   "execution_count": 108,
   "id": "275de90c",
   "metadata": {
    "id": "c56be9e8"
   },
   "outputs": [],
   "source": [
    "pred_svc = svc.predict(X_dev)"
   ]
  },
  {
   "cell_type": "code",
   "execution_count": 109,
   "id": "9efd6b67",
   "metadata": {
    "id": "742ff7d2"
   },
   "outputs": [
    {
     "name": "stdout",
     "output_type": "stream",
     "text": [
      "              precision    recall  f1-score   support\n",
      "\n",
      "           0       0.93      0.93      0.93      5806\n",
      "           1       0.95      0.94      0.94      7182\n",
      "\n",
      "    accuracy                           0.94     12988\n",
      "   macro avg       0.94      0.94      0.94     12988\n",
      "weighted avg       0.94      0.94      0.94     12988\n",
      "\n"
     ]
    }
   ],
   "source": [
    "print(classification_report(pred_svc, y_dev))"
   ]
  },
  {
   "cell_type": "code",
   "execution_count": null,
   "id": "d04e018c",
   "metadata": {
    "id": "5cbe70fe"
   },
   "outputs": [],
   "source": []
  }
 ],
 "metadata": {
  "accelerator": "TPU",
  "colab": {
   "name": "Copy of Project_Datascience-checkpoint.ipynb",
   "provenance": []
  },
  "gpuClass": "standard",
  "kernelspec": {
   "display_name": "Python 3 (ipykernel)",
   "language": "python",
   "name": "python3"
  },
  "language_info": {
   "codemirror_mode": {
    "name": "ipython",
    "version": 3
   },
   "file_extension": ".py",
   "mimetype": "text/x-python",
   "name": "python",
   "nbconvert_exporter": "python",
   "pygments_lexer": "ipython3",
   "version": "3.7.11"
  }
 },
 "nbformat": 4,
 "nbformat_minor": 5
}
